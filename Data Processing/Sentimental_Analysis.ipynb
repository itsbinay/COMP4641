{
  "nbformat": 4,
  "nbformat_minor": 0,
  "metadata": {
    "colab": {
      "name": "Sentimental Analysis.ipynb",
      "provenance": [],
      "collapsed_sections": []
    },
    "kernelspec": {
      "name": "python3",
      "display_name": "Python 3"
    }
  },
  "cells": [
    {
      "cell_type": "markdown",
      "metadata": {
        "id": "W3omgyAImvxs",
        "colab_type": "text"
      },
      "source": [
        "## Sentimental Analysis\n",
        "\n",
        "> By : Binay Gurung, Kashish Jagtiani, Umakant Datt Bhatt"
      ]
    },
    {
      "cell_type": "code",
      "metadata": {
        "id": "0oR4752CkTJQ",
        "colab_type": "code",
        "outputId": "58824427-b09b-421d-ccb0-99ee6b9515d6",
        "colab": {
          "base_uri": "https://localhost:8080/",
          "height": 122
        }
      },
      "source": [
        "from google.colab import drive\n",
        "drive.mount('/content/drive')"
      ],
      "execution_count": 0,
      "outputs": [
        {
          "output_type": "stream",
          "text": [
            "Go to this URL in a browser: https://accounts.google.com/o/oauth2/auth?client_id=947318989803-6bn6qk8qdgf4n4g3pfee6491hc0brc4i.apps.googleusercontent.com&redirect_uri=urn%3aietf%3awg%3aoauth%3a2.0%3aoob&response_type=code&scope=email%20https%3a%2f%2fwww.googleapis.com%2fauth%2fdocs.test%20https%3a%2f%2fwww.googleapis.com%2fauth%2fdrive%20https%3a%2f%2fwww.googleapis.com%2fauth%2fdrive.photos.readonly%20https%3a%2f%2fwww.googleapis.com%2fauth%2fpeopleapi.readonly\n",
            "\n",
            "Enter your authorization code:\n",
            "··········\n",
            "Mounted at /content/drive\n"
          ],
          "name": "stdout"
        }
      ]
    },
    {
      "cell_type": "code",
      "metadata": {
        "id": "Fuc_xQZkm0xL",
        "colab_type": "code",
        "outputId": "f49b7c81-b058-4d7f-fbf3-5180de5a2f77",
        "colab": {
          "base_uri": "https://localhost:8080/",
          "height": 34
        }
      },
      "source": [
        "%cd drive/My\\ Drive/COMP4641\\ Project/"
      ],
      "execution_count": 0,
      "outputs": [
        {
          "output_type": "stream",
          "text": [
            "/content/drive/My Drive/COMP4641 Project\n"
          ],
          "name": "stdout"
        }
      ]
    },
    {
      "cell_type": "code",
      "metadata": {
        "id": "rthu_EDgyiwp",
        "colab_type": "code",
        "outputId": "5071ff1e-63b0-4875-81e1-a6c4fe6981e9",
        "colab": {
          "base_uri": "https://localhost:8080/",
          "height": 34
        }
      },
      "source": [
        "!pip install vaderSentiment"
      ],
      "execution_count": 0,
      "outputs": [
        {
          "output_type": "stream",
          "text": [
            "Requirement already satisfied: vaderSentiment in /usr/local/lib/python3.6/dist-packages (3.3.1)\n"
          ],
          "name": "stdout"
        }
      ]
    },
    {
      "cell_type": "code",
      "metadata": {
        "id": "3eb-KuOInAvy",
        "colab_type": "code",
        "colab": {}
      },
      "source": [
        "import numpy as np\n",
        "import pandas as pd\n",
        "from vaderSentiment.vaderSentiment import SentimentIntensityAnalyzer\n",
        "from ast import literal_eval"
      ],
      "execution_count": 0,
      "outputs": []
    },
    {
      "cell_type": "code",
      "metadata": {
        "id": "2LTWk60gnHmw",
        "colab_type": "code",
        "colab": {}
      },
      "source": [
        "df = pd.read_csv('data/top5_final_checkin_review_updated_new.csv')"
      ],
      "execution_count": 0,
      "outputs": []
    },
    {
      "cell_type": "code",
      "metadata": {
        "id": "bHg4aEsTnd0I",
        "colab_type": "code",
        "outputId": "f66985fd-0650-4c85-8465-4f66573904b0",
        "colab": {
          "base_uri": "https://localhost:8080/",
          "height": 122
        }
      },
      "source": [
        "review_cols = [\n",
        "  'reviews2013',\n",
        "  'reviews2014',\n",
        "  'reviews2015'\n",
        "]\n",
        "\n",
        "count = 0\n",
        "for review_year in review_cols:\n",
        "  for i,bus in enumerate(df[review_year]):\n",
        "    list_review = literal_eval(bus)\n",
        "    df[review_year][i] = list_review"
      ],
      "execution_count": 0,
      "outputs": [
        {
          "output_type": "stream",
          "text": [
            "/usr/local/lib/python3.6/dist-packages/ipykernel_launcher.py:11: SettingWithCopyWarning: \n",
            "A value is trying to be set on a copy of a slice from a DataFrame\n",
            "\n",
            "See the caveats in the documentation: https://pandas.pydata.org/pandas-docs/stable/user_guide/indexing.html#returning-a-view-versus-a-copy\n",
            "  # This is added back by InteractiveShellApp.init_path()\n"
          ],
          "name": "stderr"
        }
      ]
    },
    {
      "cell_type": "code",
      "metadata": {
        "id": "fbsWW5wYzykH",
        "colab_type": "code",
        "outputId": "a32e2704-fcf5-4b63-84c9-9f5958bbaa18",
        "colab": {
          "base_uri": "https://localhost:8080/",
          "height": 54
        }
      },
      "source": [
        "reviews = df['reviews2013'][0]\n",
        "len(reviews)\n",
        "reviews[1]"
      ],
      "execution_count": 0,
      "outputs": [
        {
          "output_type": "execute_result",
          "data": {
            "text/plain": [
              "'Had to call the police to get a refund for my food we waited 15 minutes the food did not come. I asked for a refund they reefused so I had to call the police when the police got there they gave me my refund I have never had to call the police on any kind of establishment before.NEVER AGAIN WILL I GO HERE!!'"
            ]
          },
          "metadata": {
            "tags": []
          },
          "execution_count": 16
        }
      ]
    },
    {
      "cell_type": "code",
      "metadata": {
        "id": "iUP6EzD806mf",
        "colab_type": "code",
        "colab": {}
      },
      "source": [
        "analyzer = SentimentIntensityAnalyzer()\n",
        "def polarity(review):\n",
        "  vs = analyzer.polarity_scores(review)\n",
        "  return vs"
      ],
      "execution_count": 0,
      "outputs": []
    },
    {
      "cell_type": "code",
      "metadata": {
        "id": "JZPLwzaLro3J",
        "colab_type": "code",
        "colab": {}
      },
      "source": [
        "review_cols = [\n",
        "  'reviews2013',\n",
        "  'reviews2014',\n",
        "  'reviews2015'\n",
        "]\n",
        "\n",
        "sentiment_col = {}\n",
        "\n",
        "for i,review_year in enumerate(review_cols):\n",
        "  col = []\n",
        "  for bus in df[review_year]:\n",
        "    sentiment_scores = []\n",
        "    list_review = bus\n",
        "    for review in list_review:\n",
        "      sentiment_scores.append(polarity(review))\n",
        "    col.append(sentiment_scores)\n",
        "  sentiment_col[review_year+'_sentiment'] = col\n"
      ],
      "execution_count": 0,
      "outputs": []
    },
    {
      "cell_type": "code",
      "metadata": {
        "id": "su1Kpw_izVnI",
        "colab_type": "code",
        "outputId": "111d4b26-a784-4a32-8599-ad4284ac9b28",
        "colab": {
          "base_uri": "https://localhost:8080/",
          "height": 54
        }
      },
      "source": [
        "sentiment_col.keys()"
      ],
      "execution_count": 0,
      "outputs": [
        {
          "output_type": "execute_result",
          "data": {
            "text/plain": [
              "dict_keys(['reviews2013_sentiment', 'reviews2014_sentiment', 'reviews2015_sentiment'])"
            ]
          },
          "metadata": {
            "tags": []
          },
          "execution_count": 60
        }
      ]
    },
    {
      "cell_type": "code",
      "metadata": {
        "id": "dgj2J--14mAE",
        "colab_type": "code",
        "outputId": "207a035f-ea06-46d1-99cb-275c0c3f283b",
        "colab": {
          "base_uri": "https://localhost:8080/",
          "height": 34
        }
      },
      "source": [
        "len(sentiment_col['reviews2013_sentiment'])"
      ],
      "execution_count": 0,
      "outputs": [
        {
          "output_type": "execute_result",
          "data": {
            "text/plain": [
              "7982"
            ]
          },
          "metadata": {
            "tags": []
          },
          "execution_count": 63
        }
      ]
    },
    {
      "cell_type": "code",
      "metadata": {
        "id": "o0ujOYrX7xNl",
        "colab_type": "code",
        "colab": {}
      },
      "source": [
        "for key in sentiment_col.keys():\n",
        "  df[key] = sentiment_col[key]"
      ],
      "execution_count": 0,
      "outputs": []
    },
    {
      "cell_type": "code",
      "metadata": {
        "id": "mqiRu9f48qwy",
        "colab_type": "code",
        "colab": {}
      },
      "source": [
        "df = df.drop(['reviews2013','reviews2014','reviews2015','user_fans','checkin_dates','user_stars'],axis=1)"
      ],
      "execution_count": 0,
      "outputs": []
    },
    {
      "cell_type": "code",
      "metadata": {
        "id": "tSgd74rB9z6b",
        "colab_type": "code",
        "outputId": "f5eb10a7-f300-4ff7-8e23-dfc736da699b",
        "colab": {
          "base_uri": "https://localhost:8080/",
          "height": 349
        }
      },
      "source": [
        "df.head(3)"
      ],
      "execution_count": 0,
      "outputs": [
        {
          "output_type": "execute_result",
          "data": {
            "text/html": [
              "<div>\n",
              "<style scoped>\n",
              "    .dataframe tbody tr th:only-of-type {\n",
              "        vertical-align: middle;\n",
              "    }\n",
              "\n",
              "    .dataframe tbody tr th {\n",
              "        vertical-align: top;\n",
              "    }\n",
              "\n",
              "    .dataframe thead th {\n",
              "        text-align: right;\n",
              "    }\n",
              "</style>\n",
              "<table border=\"1\" class=\"dataframe\">\n",
              "  <thead>\n",
              "    <tr style=\"text-align: right;\">\n",
              "      <th></th>\n",
              "      <th>Unnamed: 0</th>\n",
              "      <th>Unnamed: 0.1</th>\n",
              "      <th>business_id</th>\n",
              "      <th>name</th>\n",
              "      <th>stars</th>\n",
              "      <th>review_count</th>\n",
              "      <th>is_open</th>\n",
              "      <th>categories</th>\n",
              "      <th>processed_city</th>\n",
              "      <th>reviews2013_sentiment</th>\n",
              "      <th>reviews2014_sentiment</th>\n",
              "      <th>reviews2015_sentiment</th>\n",
              "    </tr>\n",
              "  </thead>\n",
              "  <tbody>\n",
              "    <tr>\n",
              "      <th>0</th>\n",
              "      <td>0</td>\n",
              "      <td>0</td>\n",
              "      <td>1Dfx3zM-rW4n-31KeC8sJg</td>\n",
              "      <td>Taco Bell</td>\n",
              "      <td>3.0</td>\n",
              "      <td>18</td>\n",
              "      <td>1</td>\n",
              "      <td>Restaurants, Breakfast &amp; Brunch, Mexican, Taco...</td>\n",
              "      <td>Phoenix</td>\n",
              "      <td>[(0.0, 0.877, 0.123, 0.9019), (0.0, 1.0, 0.0, ...</td>\n",
              "      <td>[(0.045, 0.743, 0.212, 0.9863)]</td>\n",
              "      <td>[]</td>\n",
              "    </tr>\n",
              "    <tr>\n",
              "      <th>1</th>\n",
              "      <td>1</td>\n",
              "      <td>1</td>\n",
              "      <td>q2KtxnPa6rPSpAlMbg9l8g</td>\n",
              "      <td>Nothing Bundt Cakes</td>\n",
              "      <td>4.0</td>\n",
              "      <td>174</td>\n",
              "      <td>1</td>\n",
              "      <td>Desserts, Food, Cupcakes, Bakeries</td>\n",
              "      <td>Scottsdale</td>\n",
              "      <td>[(0.0, 0.71, 0.29, 0.9885), (0.025, 0.79, 0.18...</td>\n",
              "      <td>[(0.0, 0.797, 0.203, 0.9524), (0.0, 0.862, 0.1...</td>\n",
              "      <td>[(0.031, 0.923, 0.045, 0.2716), (0.009, 0.823,...</td>\n",
              "    </tr>\n",
              "    <tr>\n",
              "      <th>2</th>\n",
              "      <td>2</td>\n",
              "      <td>2</td>\n",
              "      <td>44YFU284Z3KDEy25QyVoUw</td>\n",
              "      <td>Nee House Chinese Restaurant</td>\n",
              "      <td>3.5</td>\n",
              "      <td>269</td>\n",
              "      <td>1</td>\n",
              "      <td>Chinese, Restaurants</td>\n",
              "      <td>Phoenix</td>\n",
              "      <td>[(0.018, 0.848, 0.134, 0.9324), (0.01, 0.76, 0...</td>\n",
              "      <td>[(0.0, 0.694, 0.306, 0.9283), (0.145, 0.828, 0...</td>\n",
              "      <td>[(0.084, 0.687, 0.229, 0.902), (0.119, 0.786, ...</td>\n",
              "    </tr>\n",
              "  </tbody>\n",
              "</table>\n",
              "</div>"
            ],
            "text/plain": [
              "   Unnamed: 0  ...                              reviews2015_sentiment\n",
              "0           0  ...                                                 []\n",
              "1           1  ...  [(0.031, 0.923, 0.045, 0.2716), (0.009, 0.823,...\n",
              "2           2  ...  [(0.084, 0.687, 0.229, 0.902), (0.119, 0.786, ...\n",
              "\n",
              "[3 rows x 12 columns]"
            ]
          },
          "metadata": {
            "tags": []
          },
          "execution_count": 76
        }
      ]
    },
    {
      "cell_type": "code",
      "metadata": {
        "id": "x3pLuKDT-EMv",
        "colab_type": "code",
        "outputId": "ffc052f8-b860-4b22-8ce8-13165ac50b63",
        "colab": {
          "base_uri": "https://localhost:8080/",
          "height": 34
        }
      },
      "source": [
        "%cd sentimental\\ analysis"
      ],
      "execution_count": 0,
      "outputs": [
        {
          "output_type": "stream",
          "text": [
            "/content/drive/My Drive/COMP4641 Project/sentimental analysis\n"
          ],
          "name": "stdout"
        }
      ]
    },
    {
      "cell_type": "code",
      "metadata": {
        "id": "X96i0wxp8wLU",
        "colab_type": "code",
        "colab": {}
      },
      "source": [
        "df.to_csv('preliminary_sentiment_score.csv',header=True)"
      ],
      "execution_count": 0,
      "outputs": []
    },
    {
      "cell_type": "markdown",
      "metadata": {
        "id": "qpv3RDFU_iHx",
        "colab_type": "text"
      },
      "source": [
        "## Binary Score Classification"
      ]
    },
    {
      "cell_type": "code",
      "metadata": {
        "id": "8l151TtR_kj3",
        "colab_type": "code",
        "colab": {}
      },
      "source": [
        "newdf = df.copy()"
      ],
      "execution_count": 0,
      "outputs": []
    },
    {
      "cell_type": "code",
      "metadata": {
        "id": "k4aibUJc_nqv",
        "colab_type": "code",
        "outputId": "1e498237-5223-451e-d7e0-343f07b4a099",
        "colab": {
          "base_uri": "https://localhost:8080/",
          "height": 349
        }
      },
      "source": [
        "newdf.head(3)"
      ],
      "execution_count": 0,
      "outputs": [
        {
          "output_type": "execute_result",
          "data": {
            "text/html": [
              "<div>\n",
              "<style scoped>\n",
              "    .dataframe tbody tr th:only-of-type {\n",
              "        vertical-align: middle;\n",
              "    }\n",
              "\n",
              "    .dataframe tbody tr th {\n",
              "        vertical-align: top;\n",
              "    }\n",
              "\n",
              "    .dataframe thead th {\n",
              "        text-align: right;\n",
              "    }\n",
              "</style>\n",
              "<table border=\"1\" class=\"dataframe\">\n",
              "  <thead>\n",
              "    <tr style=\"text-align: right;\">\n",
              "      <th></th>\n",
              "      <th>Unnamed: 0</th>\n",
              "      <th>Unnamed: 0.1</th>\n",
              "      <th>business_id</th>\n",
              "      <th>name</th>\n",
              "      <th>stars</th>\n",
              "      <th>review_count</th>\n",
              "      <th>is_open</th>\n",
              "      <th>categories</th>\n",
              "      <th>processed_city</th>\n",
              "      <th>reviews2013_sentiment</th>\n",
              "      <th>reviews2014_sentiment</th>\n",
              "      <th>reviews2015_sentiment</th>\n",
              "    </tr>\n",
              "  </thead>\n",
              "  <tbody>\n",
              "    <tr>\n",
              "      <th>0</th>\n",
              "      <td>0</td>\n",
              "      <td>0</td>\n",
              "      <td>1Dfx3zM-rW4n-31KeC8sJg</td>\n",
              "      <td>Taco Bell</td>\n",
              "      <td>3.0</td>\n",
              "      <td>18</td>\n",
              "      <td>1</td>\n",
              "      <td>Restaurants, Breakfast &amp; Brunch, Mexican, Taco...</td>\n",
              "      <td>Phoenix</td>\n",
              "      <td>[(0.0, 0.877, 0.123, 0.9019), (0.0, 1.0, 0.0, ...</td>\n",
              "      <td>[(0.045, 0.743, 0.212, 0.9863)]</td>\n",
              "      <td>[]</td>\n",
              "    </tr>\n",
              "    <tr>\n",
              "      <th>1</th>\n",
              "      <td>1</td>\n",
              "      <td>1</td>\n",
              "      <td>q2KtxnPa6rPSpAlMbg9l8g</td>\n",
              "      <td>Nothing Bundt Cakes</td>\n",
              "      <td>4.0</td>\n",
              "      <td>174</td>\n",
              "      <td>1</td>\n",
              "      <td>Desserts, Food, Cupcakes, Bakeries</td>\n",
              "      <td>Scottsdale</td>\n",
              "      <td>[(0.0, 0.71, 0.29, 0.9885), (0.025, 0.79, 0.18...</td>\n",
              "      <td>[(0.0, 0.797, 0.203, 0.9524), (0.0, 0.862, 0.1...</td>\n",
              "      <td>[(0.031, 0.923, 0.045, 0.2716), (0.009, 0.823,...</td>\n",
              "    </tr>\n",
              "    <tr>\n",
              "      <th>2</th>\n",
              "      <td>2</td>\n",
              "      <td>2</td>\n",
              "      <td>44YFU284Z3KDEy25QyVoUw</td>\n",
              "      <td>Nee House Chinese Restaurant</td>\n",
              "      <td>3.5</td>\n",
              "      <td>269</td>\n",
              "      <td>1</td>\n",
              "      <td>Chinese, Restaurants</td>\n",
              "      <td>Phoenix</td>\n",
              "      <td>[(0.018, 0.848, 0.134, 0.9324), (0.01, 0.76, 0...</td>\n",
              "      <td>[(0.0, 0.694, 0.306, 0.9283), (0.145, 0.828, 0...</td>\n",
              "      <td>[(0.084, 0.687, 0.229, 0.902), (0.119, 0.786, ...</td>\n",
              "    </tr>\n",
              "  </tbody>\n",
              "</table>\n",
              "</div>"
            ],
            "text/plain": [
              "   Unnamed: 0  ...                              reviews2015_sentiment\n",
              "0           0  ...                                                 []\n",
              "1           1  ...  [(0.031, 0.923, 0.045, 0.2716), (0.009, 0.823,...\n",
              "2           2  ...  [(0.084, 0.687, 0.229, 0.902), (0.119, 0.786, ...\n",
              "\n",
              "[3 rows x 12 columns]"
            ]
          },
          "metadata": {
            "tags": []
          },
          "execution_count": 82
        }
      ]
    },
    {
      "cell_type": "code",
      "metadata": {
        "id": "tGsoVu5f_o-d",
        "colab_type": "code",
        "colab": {}
      },
      "source": [
        "review_sentiment_cols = [\n",
        "  'reviews2013_sentiment',\n",
        "  'reviews2014_sentiment',\n",
        "  'reviews2015_sentiment'\n",
        "]\n",
        "bin_sentiment_col = {}\n",
        "for review_col in review_sentiment_cols:\n",
        "  cols = []\n",
        "  for bus in df[review_col]:\n",
        "    bus_sentiments = []\n",
        "    for review in bus:\n",
        "      bus_sentiments.append(eval_score_to_bin(review))\n",
        "\n",
        "    cols.append(bus_sentiments)\n",
        "  \n",
        "  bin_sentiment_col[review_col+'_bin_score'] = cols\n",
        "  \n"
      ],
      "execution_count": 0,
      "outputs": []
    },
    {
      "cell_type": "code",
      "metadata": {
        "id": "s6VDIYdwAJDX",
        "colab_type": "code",
        "colab": {}
      },
      "source": [
        "def eval_score_to_bin(scores):\n",
        "  neg,neu,pos,compound = scores\n",
        "  if(compound>0.05): # positive sentiment\n",
        "    return 1\n",
        "  elif compound<-0.05: # negative sentiment\n",
        "    return -1\n",
        "  else:     # neutral sentiment\n",
        "    return 0\n",
        "  "
      ],
      "execution_count": 0,
      "outputs": []
    },
    {
      "cell_type": "code",
      "metadata": {
        "id": "m-SC8dDiAr4f",
        "colab_type": "code",
        "colab": {}
      },
      "source": [
        "for col in review_sentiment_cols:\n",
        "  newdf[col+'_bin_score'] = bin_sentiment_col[col+'_bin_score']"
      ],
      "execution_count": 0,
      "outputs": []
    },
    {
      "cell_type": "code",
      "metadata": {
        "id": "gcWwLaYhCOCn",
        "colab_type": "code",
        "colab": {}
      },
      "source": [
        "newdf = newdf.drop(['reviews2015_sentiment','reviews2014_sentiment','reviews2013_sentiment'],axis=1)"
      ],
      "execution_count": 0,
      "outputs": []
    },
    {
      "cell_type": "code",
      "metadata": {
        "id": "LALVffquCiQc",
        "colab_type": "code",
        "outputId": "b779f21f-a3af-46a7-8de6-76e683d36d01",
        "colab": {
          "base_uri": "https://localhost:8080/",
          "height": 349
        }
      },
      "source": [
        "newdf.head(3)"
      ],
      "execution_count": 0,
      "outputs": [
        {
          "output_type": "execute_result",
          "data": {
            "text/html": [
              "<div>\n",
              "<style scoped>\n",
              "    .dataframe tbody tr th:only-of-type {\n",
              "        vertical-align: middle;\n",
              "    }\n",
              "\n",
              "    .dataframe tbody tr th {\n",
              "        vertical-align: top;\n",
              "    }\n",
              "\n",
              "    .dataframe thead th {\n",
              "        text-align: right;\n",
              "    }\n",
              "</style>\n",
              "<table border=\"1\" class=\"dataframe\">\n",
              "  <thead>\n",
              "    <tr style=\"text-align: right;\">\n",
              "      <th></th>\n",
              "      <th>Unnamed: 0</th>\n",
              "      <th>Unnamed: 0.1</th>\n",
              "      <th>business_id</th>\n",
              "      <th>name</th>\n",
              "      <th>stars</th>\n",
              "      <th>review_count</th>\n",
              "      <th>is_open</th>\n",
              "      <th>categories</th>\n",
              "      <th>processed_city</th>\n",
              "      <th>reviews2013_sentiment_bin_score</th>\n",
              "      <th>reviews2014_sentiment_bin_score</th>\n",
              "      <th>reviews2015_sentiment_bin_score</th>\n",
              "    </tr>\n",
              "  </thead>\n",
              "  <tbody>\n",
              "    <tr>\n",
              "      <th>0</th>\n",
              "      <td>0</td>\n",
              "      <td>0</td>\n",
              "      <td>1Dfx3zM-rW4n-31KeC8sJg</td>\n",
              "      <td>Taco Bell</td>\n",
              "      <td>3.0</td>\n",
              "      <td>18</td>\n",
              "      <td>1</td>\n",
              "      <td>Restaurants, Breakfast &amp; Brunch, Mexican, Taco...</td>\n",
              "      <td>Phoenix</td>\n",
              "      <td>[1, 0]</td>\n",
              "      <td>[1]</td>\n",
              "      <td>[]</td>\n",
              "    </tr>\n",
              "    <tr>\n",
              "      <th>1</th>\n",
              "      <td>1</td>\n",
              "      <td>1</td>\n",
              "      <td>q2KtxnPa6rPSpAlMbg9l8g</td>\n",
              "      <td>Nothing Bundt Cakes</td>\n",
              "      <td>4.0</td>\n",
              "      <td>174</td>\n",
              "      <td>1</td>\n",
              "      <td>Desserts, Food, Cupcakes, Bakeries</td>\n",
              "      <td>Scottsdale</td>\n",
              "      <td>[1, 1, 1, 1, 1, -1, 1, 1, 1, 1, 1, 1]</td>\n",
              "      <td>[1, 1, 1, 1, 1, 1, 1, 1, 1, 1, 1, 1, 1, 1, 1, ...</td>\n",
              "      <td>[1, 1, 1, 1, 1, 1, 1, 1, 1, 1, 1, 1, 1, 1, 1, ...</td>\n",
              "    </tr>\n",
              "    <tr>\n",
              "      <th>2</th>\n",
              "      <td>2</td>\n",
              "      <td>2</td>\n",
              "      <td>44YFU284Z3KDEy25QyVoUw</td>\n",
              "      <td>Nee House Chinese Restaurant</td>\n",
              "      <td>3.5</td>\n",
              "      <td>269</td>\n",
              "      <td>1</td>\n",
              "      <td>Chinese, Restaurants</td>\n",
              "      <td>Phoenix</td>\n",
              "      <td>[1, 1, -1, 1, 0, 1, 1, 1, 1, -1, 1, 1, 1, 1, 1...</td>\n",
              "      <td>[1, -1, 1, 1, -1, 1, 1, 1, 1, 1, 1, 1, 1, 1, 1...</td>\n",
              "      <td>[1, -1, 1, 1, 1, -1, 1, 1, 1, 1, 1, 0, 1, 1, 1...</td>\n",
              "    </tr>\n",
              "  </tbody>\n",
              "</table>\n",
              "</div>"
            ],
            "text/plain": [
              "   Unnamed: 0  ...                    reviews2015_sentiment_bin_score\n",
              "0           0  ...                                                 []\n",
              "1           1  ...  [1, 1, 1, 1, 1, 1, 1, 1, 1, 1, 1, 1, 1, 1, 1, ...\n",
              "2           2  ...  [1, -1, 1, 1, 1, -1, 1, 1, 1, 1, 1, 0, 1, 1, 1...\n",
              "\n",
              "[3 rows x 12 columns]"
            ]
          },
          "metadata": {
            "tags": []
          },
          "execution_count": 101
        }
      ]
    },
    {
      "cell_type": "code",
      "metadata": {
        "id": "ErG06uiAConI",
        "colab_type": "code",
        "outputId": "6b839e84-a83d-42d0-9df2-2218099515be",
        "colab": {
          "base_uri": "https://localhost:8080/",
          "height": 34
        }
      },
      "source": [
        "%cd .."
      ],
      "execution_count": 0,
      "outputs": [
        {
          "output_type": "stream",
          "text": [
            "/content/drive/My Drive/COMP4641 Project\n"
          ],
          "name": "stdout"
        }
      ]
    },
    {
      "cell_type": "code",
      "metadata": {
        "id": "kg0fXGz_Crlv",
        "colab_type": "code",
        "outputId": "0e749789-7425-454d-835a-f4b20c6353d0",
        "colab": {
          "base_uri": "https://localhost:8080/",
          "height": 34
        }
      },
      "source": [
        "%ls final/"
      ],
      "execution_count": 0,
      "outputs": [
        {
          "output_type": "stream",
          "text": [
            "rate_of_checkin_per_6_months.csv\n"
          ],
          "name": "stdout"
        }
      ]
    },
    {
      "cell_type": "code",
      "metadata": {
        "id": "X-JAKIEUCsfn",
        "colab_type": "code",
        "colab": {}
      },
      "source": [
        "rate_check_df = pd.read_csv('final/rate_of_checkin_per_6_months.csv')"
      ],
      "execution_count": 0,
      "outputs": []
    },
    {
      "cell_type": "code",
      "metadata": {
        "id": "redYJKhCC4y4",
        "colab_type": "code",
        "colab": {}
      },
      "source": [
        "for col in review_sentiment_cols:\n",
        "  rate_check_df[col+'_bin_score'] = bin_sentiment_col[col+'_bin_score']"
      ],
      "execution_count": 0,
      "outputs": []
    },
    {
      "cell_type": "code",
      "metadata": {
        "id": "lD_6sKoHDGqx",
        "colab_type": "code",
        "colab": {}
      },
      "source": [
        "rate_check_df = rate_check_df.drop(['Unnamed: 0','Unnamed: 0.1','Unnamed: 0.1.1'],axis=1)"
      ],
      "execution_count": 0,
      "outputs": []
    },
    {
      "cell_type": "code",
      "metadata": {
        "id": "Pg6TA58gDltF",
        "colab_type": "code",
        "outputId": "c7b980a5-6f5f-421e-8aa3-30378862bb0f",
        "colab": {
          "base_uri": "https://localhost:8080/",
          "height": 513
        }
      },
      "source": [
        "rate_check_df.head(5)"
      ],
      "execution_count": 0,
      "outputs": [
        {
          "output_type": "execute_result",
          "data": {
            "text/html": [
              "<div>\n",
              "<style scoped>\n",
              "    .dataframe tbody tr th:only-of-type {\n",
              "        vertical-align: middle;\n",
              "    }\n",
              "\n",
              "    .dataframe tbody tr th {\n",
              "        vertical-align: top;\n",
              "    }\n",
              "\n",
              "    .dataframe thead th {\n",
              "        text-align: right;\n",
              "    }\n",
              "</style>\n",
              "<table border=\"1\" class=\"dataframe\">\n",
              "  <thead>\n",
              "    <tr style=\"text-align: right;\">\n",
              "      <th></th>\n",
              "      <th>business_id</th>\n",
              "      <th>name</th>\n",
              "      <th>stars</th>\n",
              "      <th>review_count</th>\n",
              "      <th>is_open</th>\n",
              "      <th>categories</th>\n",
              "      <th>processed_city</th>\n",
              "      <th>user_stars</th>\n",
              "      <th>user_fans</th>\n",
              "      <th>checkin_dates</th>\n",
              "      <th>reviews2013</th>\n",
              "      <th>reviews2014</th>\n",
              "      <th>reviews2015</th>\n",
              "      <th>rate_mid_2013</th>\n",
              "      <th>rate_start_2014</th>\n",
              "      <th>rate_mid_2014</th>\n",
              "      <th>rate_start_2015</th>\n",
              "      <th>rate_mid_2015</th>\n",
              "      <th>reviews2013_sentiment_bin_score</th>\n",
              "      <th>reviews2014_sentiment_bin_score</th>\n",
              "      <th>reviews2015_sentiment_bin_score</th>\n",
              "    </tr>\n",
              "  </thead>\n",
              "  <tbody>\n",
              "    <tr>\n",
              "      <th>0</th>\n",
              "      <td>1Dfx3zM-rW4n-31KeC8sJg</td>\n",
              "      <td>Taco Bell</td>\n",
              "      <td>3.0</td>\n",
              "      <td>18</td>\n",
              "      <td>1</td>\n",
              "      <td>Restaurants, Breakfast &amp; Brunch, Mexican, Taco...</td>\n",
              "      <td>Phoenix</td>\n",
              "      <td>[3.76, 2.55, 3.68, 3.17, 3.68, 3.68, 2.31, 3.6...</td>\n",
              "      <td>[0, 5, 29, 0, 2, 0, 0, 92, 26, 0, 3, 0, 17, 17...</td>\n",
              "      <td>['2013-01-01 08:38:32', '2013-01-07 01:26:01',...</td>\n",
              "      <td>['Taco Bell has really improved over the years...</td>\n",
              "      <td>[\"Roses are Red\\nViolets are Blue,\\nI'd be tru...</td>\n",
              "      <td>[]</td>\n",
              "      <td>-5</td>\n",
              "      <td>-3</td>\n",
              "      <td>0</td>\n",
              "      <td>-1</td>\n",
              "      <td>-4</td>\n",
              "      <td>[1, 0]</td>\n",
              "      <td>[1]</td>\n",
              "      <td>[]</td>\n",
              "    </tr>\n",
              "    <tr>\n",
              "      <th>1</th>\n",
              "      <td>q2KtxnPa6rPSpAlMbg9l8g</td>\n",
              "      <td>Nothing Bundt Cakes</td>\n",
              "      <td>4.0</td>\n",
              "      <td>174</td>\n",
              "      <td>1</td>\n",
              "      <td>Desserts, Food, Cupcakes, Bakeries</td>\n",
              "      <td>Scottsdale</td>\n",
              "      <td>[3.82, 3.55, 4.13, 5.0, 3.63, 5.0, 4.11, 4.75,...</td>\n",
              "      <td>[4, 1, 18, 0, 0, 0, 35, 0, 1, 43, 0, 10, 2, 7,...</td>\n",
              "      <td>['2013-01-11 21:29:14', '2013-01-22 22:08:56',...</td>\n",
              "      <td>['Thank you Nothing Bundt Cakes for donating m...</td>\n",
              "      <td>[\"I called ten other bakers and this is the on...</td>\n",
              "      <td>['I placed an on-line order for an 8\" chocolat...</td>\n",
              "      <td>-5</td>\n",
              "      <td>7</td>\n",
              "      <td>-6</td>\n",
              "      <td>-2</td>\n",
              "      <td>6</td>\n",
              "      <td>[1, 1, 1, 1, 1, -1, 1, 1, 1, 1, 1, 1]</td>\n",
              "      <td>[1, 1, 1, 1, 1, 1, 1, 1, 1, 1, 1, 1, 1, 1, 1, ...</td>\n",
              "      <td>[1, 1, 1, 1, 1, 1, 1, 1, 1, 1, 1, 1, 1, 1, 1, ...</td>\n",
              "    </tr>\n",
              "    <tr>\n",
              "      <th>2</th>\n",
              "      <td>44YFU284Z3KDEy25QyVoUw</td>\n",
              "      <td>Nee House Chinese Restaurant</td>\n",
              "      <td>3.5</td>\n",
              "      <td>269</td>\n",
              "      <td>1</td>\n",
              "      <td>Chinese, Restaurants</td>\n",
              "      <td>Phoenix</td>\n",
              "      <td>[4.7, 4.25, 3.93, 4.07, 3.57, 3.33, 4.13, 3.5,...</td>\n",
              "      <td>[0, 0, 111, 10, 4, 5, 0, 0, 11, 5, 3, 1, 1, 1,...</td>\n",
              "      <td>['2013-01-13 01:30:16', '2013-01-17 01:16:37',...</td>\n",
              "      <td>[\"We eat here on a regular basis.  It's like t...</td>\n",
              "      <td>['My mom loves this restaurant ! Good food ! B...</td>\n",
              "      <td>[\"3.5 *s.  Had west lake beef soup (pretty goo...</td>\n",
              "      <td>10</td>\n",
              "      <td>4</td>\n",
              "      <td>-6</td>\n",
              "      <td>-2</td>\n",
              "      <td>0</td>\n",
              "      <td>[1, 1, -1, 1, 0, 1, 1, 1, 1, -1, 1, 1, 1, 1, 1...</td>\n",
              "      <td>[1, -1, 1, 1, -1, 1, 1, 1, 1, 1, 1, 1, 1, 1, 1...</td>\n",
              "      <td>[1, -1, 1, 1, 1, -1, 1, 1, 1, 1, 1, 0, 1, 1, 1...</td>\n",
              "    </tr>\n",
              "    <tr>\n",
              "      <th>3</th>\n",
              "      <td>ysfeDcLAYk_MVzfBmyiSTg</td>\n",
              "      <td>Vals Getaway DES Cafeteria</td>\n",
              "      <td>3.0</td>\n",
              "      <td>14</td>\n",
              "      <td>1</td>\n",
              "      <td>Restaurants, Food, Cafes</td>\n",
              "      <td>Phoenix</td>\n",
              "      <td>[3.25, 2.75, 2.63, 4.18, 4.15, 4.41, 3.82, 4.5...</td>\n",
              "      <td>[0, 2, 9, 0, 0, 2, 0, 0, 9, 9, 0, 5, 2, 0]</td>\n",
              "      <td>['2013-06-21 19:33:23', '2014-03-12 22:42:46',...</td>\n",
              "      <td>[]</td>\n",
              "      <td>['The employees are nice and accommodating and...</td>\n",
              "      <td>[]</td>\n",
              "      <td>-1</td>\n",
              "      <td>3</td>\n",
              "      <td>1</td>\n",
              "      <td>-3</td>\n",
              "      <td>-1</td>\n",
              "      <td>[]</td>\n",
              "      <td>[1, 1, 1, 1, 1]</td>\n",
              "      <td>[]</td>\n",
              "    </tr>\n",
              "    <tr>\n",
              "      <th>4</th>\n",
              "      <td>nsNONDHbV7Vudqh21uicqw</td>\n",
              "      <td>Salt Cellar</td>\n",
              "      <td>3.5</td>\n",
              "      <td>526</td>\n",
              "      <td>1</td>\n",
              "      <td>Seafood, Restaurants</td>\n",
              "      <td>Scottsdale</td>\n",
              "      <td>[1.5, 3.7, 1.0, 2.17, 3.76, 3.33, 4.0, 3.37, 4...</td>\n",
              "      <td>[0, 4, 0, 0, 1, 0, 1, 0, 3, 30, 0, 0, 2, 0, 0,...</td>\n",
              "      <td>['2013-01-06 00:15:01', '2013-01-09 01:25:09',...</td>\n",
              "      <td>[\"As a lover of seafood I have been wanting to...</td>\n",
              "      <td>['Came back to this famous place after years o...</td>\n",
              "      <td>['Poor service, had to sit there and ask my wi...</td>\n",
              "      <td>-5</td>\n",
              "      <td>-12</td>\n",
              "      <td>14</td>\n",
              "      <td>10</td>\n",
              "      <td>-16</td>\n",
              "      <td>[1, -1, -1, 1, 1, 1, 1, 1, 1, -1, 1, 1, 1, 1, ...</td>\n",
              "      <td>[1, 1, 1, 1, 1, 1, 1, -1, 1, 1, 1, 1, 1, 1, -1...</td>\n",
              "      <td>[1, -1, 1, 1, 1, 1, 1, 1, 1, 1, 1, -1, 1, 1, 1...</td>\n",
              "    </tr>\n",
              "  </tbody>\n",
              "</table>\n",
              "</div>"
            ],
            "text/plain": [
              "              business_id  ...                    reviews2015_sentiment_bin_score\n",
              "0  1Dfx3zM-rW4n-31KeC8sJg  ...                                                 []\n",
              "1  q2KtxnPa6rPSpAlMbg9l8g  ...  [1, 1, 1, 1, 1, 1, 1, 1, 1, 1, 1, 1, 1, 1, 1, ...\n",
              "2  44YFU284Z3KDEy25QyVoUw  ...  [1, -1, 1, 1, 1, -1, 1, 1, 1, 1, 1, 0, 1, 1, 1...\n",
              "3  ysfeDcLAYk_MVzfBmyiSTg  ...                                                 []\n",
              "4  nsNONDHbV7Vudqh21uicqw  ...  [1, -1, 1, 1, 1, 1, 1, 1, 1, 1, 1, -1, 1, 1, 1...\n",
              "\n",
              "[5 rows x 21 columns]"
            ]
          },
          "metadata": {
            "tags": []
          },
          "execution_count": 110
        }
      ]
    },
    {
      "cell_type": "code",
      "metadata": {
        "id": "4SKNK8EeDIQ-",
        "colab_type": "code",
        "colab": {}
      },
      "source": [
        "rate_check_df.to_csv('final/rate_sentiment_final.csv',header=True)"
      ],
      "execution_count": 0,
      "outputs": []
    }
  ]
}