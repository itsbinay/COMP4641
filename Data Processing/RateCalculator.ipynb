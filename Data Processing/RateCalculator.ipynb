{
  "nbformat": 4,
  "nbformat_minor": 0,
  "metadata": {
    "colab": {
      "name": "RateCalculator.ipynb",
      "provenance": [],
      "collapsed_sections": []
    },
    "kernelspec": {
      "name": "python3",
      "display_name": "Python 3"
    }
  },
  "cells": [
    {
      "cell_type": "code",
      "metadata": {
        "id": "FhRQ4Dwtje8A",
        "colab_type": "code",
        "outputId": "12b57fb5-2a85-47d2-9887-c43cf58ed40d",
        "colab": {
          "base_uri": "https://localhost:8080/",
          "height": 122
        }
      },
      "source": [
        "from google.colab import drive\n",
        "drive.mount('/content/drive')"
      ],
      "execution_count": 0,
      "outputs": [
        {
          "output_type": "stream",
          "text": [
            "Go to this URL in a browser: https://accounts.google.com/o/oauth2/auth?client_id=947318989803-6bn6qk8qdgf4n4g3pfee6491hc0brc4i.apps.googleusercontent.com&redirect_uri=urn%3aietf%3awg%3aoauth%3a2.0%3aoob&response_type=code&scope=email%20https%3a%2f%2fwww.googleapis.com%2fauth%2fdocs.test%20https%3a%2f%2fwww.googleapis.com%2fauth%2fdrive%20https%3a%2f%2fwww.googleapis.com%2fauth%2fdrive.photos.readonly%20https%3a%2f%2fwww.googleapis.com%2fauth%2fpeopleapi.readonly\n",
            "\n",
            "Enter your authorization code:\n",
            "··········\n",
            "Mounted at /content/drive\n"
          ],
          "name": "stdout"
        }
      ]
    },
    {
      "cell_type": "code",
      "metadata": {
        "id": "5hTPqXBojj9i",
        "colab_type": "code",
        "outputId": "64184629-02b7-46d9-a738-87612388720c",
        "colab": {
          "base_uri": "https://localhost:8080/",
          "height": 34
        }
      },
      "source": [
        "%cd /content/drive/My\\ Drive/COMP4641\\ Project/"
      ],
      "execution_count": 0,
      "outputs": [
        {
          "output_type": "stream",
          "text": [
            "/content/drive/My Drive/COMP4641 Project\n"
          ],
          "name": "stdout"
        }
      ]
    },
    {
      "cell_type": "code",
      "metadata": {
        "id": "V5s7A99Ojvi2",
        "colab_type": "code",
        "colab": {}
      },
      "source": [
        "import numpy as np\n",
        "import pandas as pd"
      ],
      "execution_count": 0,
      "outputs": []
    },
    {
      "cell_type": "code",
      "metadata": {
        "id": "OFCSIPLJj66v",
        "colab_type": "code",
        "colab": {}
      },
      "source": [
        "df = pd.read_csv(\"./data/top5_final_checkin_review_updated_new.csv\")"
      ],
      "execution_count": 0,
      "outputs": []
    },
    {
      "cell_type": "code",
      "metadata": {
        "id": "IWEM9QCLkpIS",
        "colab_type": "code",
        "outputId": "a962c834-69c8-4c5b-d28b-686fba2afa33",
        "colab": {
          "base_uri": "https://localhost:8080/",
          "height": 102
        }
      },
      "source": [
        "df.columns"
      ],
      "execution_count": 0,
      "outputs": [
        {
          "output_type": "execute_result",
          "data": {
            "text/plain": [
              "Index(['Unnamed: 0', 'Unnamed: 0.1', 'business_id', 'name', 'stars',\n",
              "       'review_count', 'is_open', 'categories', 'processed_city', 'user_stars',\n",
              "       'user_fans', 'checkin_dates', 'reviews2013', 'reviews2014',\n",
              "       'reviews2015'],\n",
              "      dtype='object')"
            ]
          },
          "metadata": {
            "tags": []
          },
          "execution_count": 8
        }
      ]
    },
    {
      "cell_type": "code",
      "metadata": {
        "id": "BfPf7P-5kU2D",
        "colab_type": "code",
        "colab": {}
      },
      "source": [
        "from ast import literal_eval\n",
        "count_per_business = []\n",
        "#mid_2013_per_business = []\n",
        "#start_2014_per_business = []\n",
        "#mid_2014_per_business = []\n",
        "#start_2015_per_business = []\n",
        "#mid_2015_per_business = []\n",
        "for list_date in df['checkin_dates']:\n",
        "  start_2013 = 0\n",
        "  mid_2013 = 0\n",
        "  start_2014 = 0\n",
        "  mid_2014 = 0\n",
        "  start_2015 = 0\n",
        "  mid_2015 = 0\n",
        "  listdate = literal_eval(list_date)\n",
        "  for dates in listdate:\n",
        "    if dates[:4] == \"2013\":\n",
        "      if int(dates[5:7]) <= 6:\n",
        "        start_2013 += 1\n",
        "      else:\n",
        "        mid_2013 += 1\n",
        "    elif dates[:4] == \"2014\":\n",
        "      if int(dates[5:7]) <= 6:\n",
        "        start_2014 += 1\n",
        "      else:\n",
        "        mid_2014 += 1\n",
        "    elif dates[:4] == \"2015\":\n",
        "      if int(dates[5:7]) <= 6:\n",
        "        start_2015 += 1\n",
        "      else:\n",
        "        mid_2015 += 1  \n",
        "  count_per_business.append([start_2013, mid_2013, start_2014, mid_2014, start_2015, mid_2015])\n",
        "  # mid_2013_per_business.append(mid_2013)\n",
        "  # start_2014_per_business.append(start_2014)\n",
        "  # mid_2014_per_business.append(mid_2014)\n",
        "  # start_2015_per_business.append(start_2015)\n",
        "  # mid_2015_per_business.append(mid_2015)"
      ],
      "execution_count": 0,
      "outputs": []
    },
    {
      "cell_type": "code",
      "metadata": {
        "id": "PuOI59TNkWoo",
        "colab_type": "code",
        "outputId": "379dcd06-52f9-4fb5-b7f5-8e8f164ce574",
        "colab": {
          "base_uri": "https://localhost:8080/",
          "height": 34
        }
      },
      "source": [
        "len(count_per_business)"
      ],
      "execution_count": 0,
      "outputs": [
        {
          "output_type": "execute_result",
          "data": {
            "text/plain": [
              "7982"
            ]
          },
          "metadata": {
            "tags": []
          },
          "execution_count": 23
        }
      ]
    },
    {
      "cell_type": "code",
      "metadata": {
        "id": "RKCExUBfo4i0",
        "colab_type": "code",
        "colab": {}
      },
      "source": [
        "rate_per_business = []\n",
        "for business in count_per_business:\n",
        "  rates =[]\n",
        "  for i in range(1, len(business)):\n",
        "    rates.append(business[i] - business[i-1])\n",
        "  rate_per_business.append(rates)\n"
      ],
      "execution_count": 0,
      "outputs": []
    },
    {
      "cell_type": "code",
      "metadata": {
        "id": "wlqZxpOXtFCx",
        "colab_type": "code",
        "outputId": "261b0715-43d2-469c-906f-4735d61c7e7c",
        "colab": {
          "base_uri": "https://localhost:8080/",
          "height": 462
        }
      },
      "source": [
        "df['rate_mid_2013'] = 0\n",
        "df['rate_start_2014'] = 0\n",
        "df['rate_mid_2014'] = 0\n",
        "df['rate_start_2015'] = 0\n",
        "df['rate_mid_2015'] = 0\n",
        "\n",
        "for i in range(len(df['name'])):\n",
        "  df['rate_mid_2013'][i] = rate_per_business[i][0]\n",
        "  df['rate_start_2014'][i] = rate_per_business[i][1]\n",
        "  df['rate_mid_2014'][i] = rate_per_business[i][2]\n",
        "  df['rate_start_2015'][i] = rate_per_business[i][3]\n",
        "  df['rate_mid_2015'][i] = rate_per_business[i][4]"
      ],
      "execution_count": 0,
      "outputs": [
        {
          "output_type": "stream",
          "text": [
            "/usr/local/lib/python3.6/dist-packages/ipykernel_launcher.py:8: SettingWithCopyWarning: \n",
            "A value is trying to be set on a copy of a slice from a DataFrame\n",
            "\n",
            "See the caveats in the documentation: https://pandas.pydata.org/pandas-docs/stable/user_guide/indexing.html#returning-a-view-versus-a-copy\n",
            "  \n",
            "/usr/local/lib/python3.6/dist-packages/ipykernel_launcher.py:9: SettingWithCopyWarning: \n",
            "A value is trying to be set on a copy of a slice from a DataFrame\n",
            "\n",
            "See the caveats in the documentation: https://pandas.pydata.org/pandas-docs/stable/user_guide/indexing.html#returning-a-view-versus-a-copy\n",
            "  if __name__ == '__main__':\n",
            "/usr/local/lib/python3.6/dist-packages/ipykernel_launcher.py:10: SettingWithCopyWarning: \n",
            "A value is trying to be set on a copy of a slice from a DataFrame\n",
            "\n",
            "See the caveats in the documentation: https://pandas.pydata.org/pandas-docs/stable/user_guide/indexing.html#returning-a-view-versus-a-copy\n",
            "  # Remove the CWD from sys.path while we load stuff.\n",
            "/usr/local/lib/python3.6/dist-packages/ipykernel_launcher.py:11: SettingWithCopyWarning: \n",
            "A value is trying to be set on a copy of a slice from a DataFrame\n",
            "\n",
            "See the caveats in the documentation: https://pandas.pydata.org/pandas-docs/stable/user_guide/indexing.html#returning-a-view-versus-a-copy\n",
            "  # This is added back by InteractiveShellApp.init_path()\n",
            "/usr/local/lib/python3.6/dist-packages/ipykernel_launcher.py:12: SettingWithCopyWarning: \n",
            "A value is trying to be set on a copy of a slice from a DataFrame\n",
            "\n",
            "See the caveats in the documentation: https://pandas.pydata.org/pandas-docs/stable/user_guide/indexing.html#returning-a-view-versus-a-copy\n",
            "  if sys.path[0] == '':\n"
          ],
          "name": "stderr"
        }
      ]
    },
    {
      "cell_type": "code",
      "metadata": {
        "id": "NMw0-XHJth2m",
        "colab_type": "code",
        "outputId": "fb80e3bb-9e00-4fe1-df46-5ee33ab2d65c",
        "colab": {
          "base_uri": "https://localhost:8080/",
          "height": 119
        }
      },
      "source": [
        "df.columns"
      ],
      "execution_count": 0,
      "outputs": [
        {
          "output_type": "execute_result",
          "data": {
            "text/plain": [
              "Index(['Unnamed: 0', 'Unnamed: 0.1', 'business_id', 'name', 'stars',\n",
              "       'review_count', 'is_open', 'categories', 'processed_city', 'user_stars',\n",
              "       'user_fans', 'checkin_dates', 'reviews2013', 'reviews2014',\n",
              "       'reviews2015', 'rate_mid_2013', 'rate_start_2014', 'rate_mid_2014',\n",
              "       'rate_start_2015', 'rate_mid_2015'],\n",
              "      dtype='object')"
            ]
          },
          "metadata": {
            "tags": []
          },
          "execution_count": 34
        }
      ]
    },
    {
      "cell_type": "code",
      "metadata": {
        "id": "ESzjgQCYwXDD",
        "colab_type": "code",
        "colab": {}
      },
      "source": [
        "df.drop(['Unnamed: 0', 'Unnamed: 0.1'], axis=1).to_csv('final/rate_of_checkin_per_6_months.csv',header = True)"
      ],
      "execution_count": 0,
      "outputs": []
    }
  ]
}