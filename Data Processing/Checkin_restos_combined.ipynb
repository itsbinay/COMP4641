{
  "nbformat": 4,
  "nbformat_minor": 0,
  "metadata": {
    "kernelspec": {
      "display_name": "Python 3",
      "language": "python",
      "name": "python3"
    },
    "language_info": {
      "codemirror_mode": {
        "name": "ipython",
        "version": 3
      },
      "file_extension": ".py",
      "mimetype": "text/x-python",
      "name": "python",
      "nbconvert_exporter": "python",
      "pygments_lexer": "ipython3",
      "version": "3.7.4"
    },
    "colab": {
      "name": "Scraper.ipynb",
      "provenance": [],
      "collapsed_sections": [],
      "toc_visible": true
    }
  },
  "cells": [
    {
      "cell_type": "code",
      "metadata": {
        "id": "9ajckjaETqOw",
        "colab_type": "code",
        "outputId": "cbfc1609-cb56-45f1-e1dc-b56cd9b7013e",
        "colab": {
          "base_uri": "https://localhost:8080/",
          "height": 122
        }
      },
      "source": [
        "from google.colab import drive\n",
        "drive.mount('/content/drive')"
      ],
      "execution_count": 0,
      "outputs": [
        {
          "output_type": "stream",
          "text": [
            "Go to this URL in a browser: https://accounts.google.com/o/oauth2/auth?client_id=947318989803-6bn6qk8qdgf4n4g3pfee6491hc0brc4i.apps.googleusercontent.com&redirect_uri=urn%3aietf%3awg%3aoauth%3a2.0%3aoob&response_type=code&scope=email%20https%3a%2f%2fwww.googleapis.com%2fauth%2fdocs.test%20https%3a%2f%2fwww.googleapis.com%2fauth%2fdrive%20https%3a%2f%2fwww.googleapis.com%2fauth%2fdrive.photos.readonly%20https%3a%2f%2fwww.googleapis.com%2fauth%2fpeopleapi.readonly\n",
            "\n",
            "Enter your authorization code:\n",
            "··········\n",
            "Mounted at /content/drive\n"
          ],
          "name": "stdout"
        }
      ]
    },
    {
      "cell_type": "code",
      "metadata": {
        "id": "jKmSCXnlT0r8",
        "colab_type": "code",
        "outputId": "dc7f6ec0-fe65-4b9c-bf01-482ff4b52ba7",
        "colab": {
          "base_uri": "https://localhost:8080/",
          "height": 34
        }
      },
      "source": [
        "%cd /content/drive/My\\ Drive/COMP4641\\ Project/data"
      ],
      "execution_count": 0,
      "outputs": [
        {
          "output_type": "stream",
          "text": [
            "/content/drive/My Drive/COMP4641 Project/data\n"
          ],
          "name": "stdout"
        }
      ]
    },
    {
      "cell_type": "code",
      "metadata": {
        "id": "OeLI6lkMfrHL",
        "colab_type": "code",
        "colab": {}
      },
      "source": [
        "import pandas as pd\n",
        "import json\n",
        "import numpy as np"
      ],
      "execution_count": 0,
      "outputs": []
    },
    {
      "cell_type": "code",
      "metadata": {
        "id": "Ru4n3K9XfrHR",
        "colab_type": "code",
        "colab": {}
      },
      "source": [
        "business = pd.read_json('../business.json', lines=True)"
      ],
      "execution_count": 0,
      "outputs": []
    },
    {
      "cell_type": "code",
      "metadata": {
        "id": "peT3tslwfrHU",
        "colab_type": "code",
        "colab": {}
      },
      "source": [
        "states = business.state.unique()"
      ],
      "execution_count": 0,
      "outputs": []
    },
    {
      "cell_type": "code",
      "metadata": {
        "id": "p78y8fnIfrHX",
        "colab_type": "code",
        "outputId": "25de60a5-b342-44c4-9aa4-45895020e948",
        "colab": {
          "base_uri": "https://localhost:8080/",
          "height": 629
        }
      },
      "source": [
        "state_dict = {}\n",
        "for state in states:\n",
        "    business_state = business[business['state'].str.contains(str(state))]\n",
        "    print('State ',state,':',business_state.shape[0])\n",
        "    state_dict[state] = business_state.shape[0]\n",
        "    "
      ],
      "execution_count": 0,
      "outputs": [
        {
          "output_type": "stream",
          "text": [
            "State  AZ : 56686\n",
            "State  ON : 33413\n",
            "State  NC : 14720\n",
            "State  AB : 8012\n",
            "State  NV : 36312\n",
            "State  OH : 14697\n",
            "State  PA : 11216\n",
            "State  QC : 9219\n",
            "State  WI : 5154\n",
            "State  IL : 1932\n",
            "State  NY : 22\n",
            "State  SC : 1162\n",
            "State  TX : 6\n",
            "State  UT : 1\n",
            "State  NM : 1\n",
            "State  FL : 4\n",
            "State  CA : 19\n",
            "State  VA : 2\n",
            "State  BAS : 1\n",
            "State  NE : 2\n",
            "State  AK : 2\n",
            "State  XGM : 4\n",
            "State  WA : 3\n",
            "State  XWY : 2\n",
            "State  CON : 1\n",
            "State  BC : 1\n",
            "State  GA : 2\n",
            "State  VT : 2\n",
            "State  CT : 3\n",
            "State  AL : 3\n",
            "State  DUR : 1\n",
            "State  TN : 1\n",
            "State  NJ : 1\n",
            "State  AR : 1\n",
            "State  XGL : 1\n",
            "State  DOW : 1\n"
          ],
          "name": "stdout"
        }
      ]
    },
    {
      "cell_type": "code",
      "metadata": {
        "id": "U9r0swAfTN0x",
        "colab_type": "code",
        "outputId": "efd9e801-8cf6-4b6c-d073-d996214a9a2d",
        "colab": {
          "base_uri": "https://localhost:8080/",
          "height": 295
        }
      },
      "source": [
        "import matplotlib.pyplot as plt \n",
        "import seaborn as sns\n",
        "\n",
        "state_dict_keys =  list(state_dict.keys())\n",
        "state_dict_values =  list(state_dict.values())\n",
        "\n",
        "words_df = pd.DataFrame({'word':state_dict_keys, 'count':state_dict_values})\n",
        "\n",
        "d = words_df.nlargest(columns=\"count\", n = 12) \n",
        "  \n",
        "# visualize words and frequencies\n",
        "plt.figure(figsize=(12,4)) \n",
        "ax = sns.barplot(data=d, x= \"count\", y = \"word\") \n",
        "ax.set(ylabel = 'States', xlabel='No. of Businesses') \n",
        "plt.title(\"Top 12 Business Population by State\")\n",
        "for i, v in enumerate(d['count']):\n",
        "    ax.text(v + 3, i + .25, str(v), color='black')\n",
        "plt.show()"
      ],
      "execution_count": 0,
      "outputs": [
        {
          "output_type": "display_data",
          "data": {
            "image/png": "[encoded data removed]",
            "text/plain": [
              "<Figure size 864x288 with 1 Axes>"
            ]
          },
          "metadata": {
            "tags": [],
            "needs_background": "light"
          }
        }
      ]
    },
    {
      "cell_type": "code",
      "metadata": {
        "id": "BF8OCyuEfrHa",
        "colab_type": "code",
        "outputId": "1f44b32d-a73f-4078-f549-f848cca69071",
        "colab": {}
      },
      "source": [
        "business_arizo = business[business['state'].str.contains('AZ')]\n",
        "\n",
        "business_arizo"
      ],
      "execution_count": 0,
      "outputs": [
        {
          "output_type": "execute_result",
          "data": {
            "text/html": [
              "<div>\n",
              "<style scoped>\n",
              "    .dataframe tbody tr th:only-of-type {\n",
              "        vertical-align: middle;\n",
              "    }\n",
              "\n",
              "    .dataframe tbody tr th {\n",
              "        vertical-align: top;\n",
              "    }\n",
              "\n",
              "    .dataframe thead th {\n",
              "        text-align: right;\n",
              "    }\n",
              "</style>\n",
              "<table border=\"1\" class=\"dataframe\">\n",
              "  <thead>\n",
              "    <tr style=\"text-align: right;\">\n",
              "      <th></th>\n",
              "      <th>business_id</th>\n",
              "      <th>name</th>\n",
              "      <th>address</th>\n",
              "      <th>city</th>\n",
              "      <th>state</th>\n",
              "      <th>postal_code</th>\n",
              "      <th>latitude</th>\n",
              "      <th>longitude</th>\n",
              "      <th>stars</th>\n",
              "      <th>review_count</th>\n",
              "      <th>is_open</th>\n",
              "      <th>attributes</th>\n",
              "      <th>categories</th>\n",
              "      <th>hours</th>\n",
              "    </tr>\n",
              "  </thead>\n",
              "  <tbody>\n",
              "    <tr>\n",
              "      <th>0</th>\n",
              "      <td>1SWheh84yJXfytovILXOAQ</td>\n",
              "      <td>Arizona Biltmore Golf Club</td>\n",
              "      <td>2818 E Camino Acequia Drive</td>\n",
              "      <td>Phoenix</td>\n",
              "      <td>AZ</td>\n",
              "      <td>85016</td>\n",
              "      <td>33.522143</td>\n",
              "      <td>-112.018481</td>\n",
              "      <td>3.0</td>\n",
              "      <td>5</td>\n",
              "      <td>0</td>\n",
              "      <td>{'GoodForKids': 'False'}</td>\n",
              "      <td>Golf, Active Life</td>\n",
              "      <td>None</td>\n",
              "    </tr>\n",
              "    <tr>\n",
              "      <th>3</th>\n",
              "      <td>xvX2CttrVhyG2z1dFg_0xw</td>\n",
              "      <td>Farmers Insurance - Paul Lorenz</td>\n",
              "      <td>15655 W Roosevelt St, Ste 237</td>\n",
              "      <td>Goodyear</td>\n",
              "      <td>AZ</td>\n",
              "      <td>85338</td>\n",
              "      <td>33.455613</td>\n",
              "      <td>-112.395596</td>\n",
              "      <td>5.0</td>\n",
              "      <td>3</td>\n",
              "      <td>1</td>\n",
              "      <td>None</td>\n",
              "      <td>Insurance, Financial Services</td>\n",
              "      <td>{'Monday': '8:0-17:0', 'Tuesday': '8:0-17:0', ...</td>\n",
              "    </tr>\n",
              "    <tr>\n",
              "      <th>8</th>\n",
              "      <td>Y6iyemLX_oylRpnr38vgMA</td>\n",
              "      <td>Vita Bella Fine Day Spa</td>\n",
              "      <td>5940 W Union Hills Dr</td>\n",
              "      <td>Glendale</td>\n",
              "      <td>AZ</td>\n",
              "      <td>85308</td>\n",
              "      <td>33.654815</td>\n",
              "      <td>-112.188568</td>\n",
              "      <td>5.0</td>\n",
              "      <td>8</td>\n",
              "      <td>0</td>\n",
              "      <td>{'RestaurantsPriceRange2': '2', 'ByAppointment...</td>\n",
              "      <td>Nail Salons, Beauty &amp; Spas, Day Spas</td>\n",
              "      <td>{'Tuesday': '12:0-18:0', 'Wednesday': '10:0-18...</td>\n",
              "    </tr>\n",
              "    <tr>\n",
              "      <th>11</th>\n",
              "      <td>1Dfx3zM-rW4n-31KeC8sJg</td>\n",
              "      <td>Taco Bell</td>\n",
              "      <td>2450 E Indian School Rd</td>\n",
              "      <td>Phoenix</td>\n",
              "      <td>AZ</td>\n",
              "      <td>85016</td>\n",
              "      <td>33.495194</td>\n",
              "      <td>-112.028588</td>\n",
              "      <td>3.0</td>\n",
              "      <td>18</td>\n",
              "      <td>1</td>\n",
              "      <td>{'RestaurantsTakeOut': 'True', 'BusinessParkin...</td>\n",
              "      <td>Restaurants, Breakfast &amp; Brunch, Mexican, Taco...</td>\n",
              "      <td>{'Monday': '7:0-0:0', 'Tuesday': '7:0-0:0', 'W...</td>\n",
              "    </tr>\n",
              "    <tr>\n",
              "      <th>16</th>\n",
              "      <td>giC3pVVFxCRR89rApqklyw</td>\n",
              "      <td>Knot Salon</td>\n",
              "      <td>4848 E Cactus Rd, Ste 100</td>\n",
              "      <td>Scottsdale</td>\n",
              "      <td>AZ</td>\n",
              "      <td>85254</td>\n",
              "      <td>33.600071</td>\n",
              "      <td>-111.977371</td>\n",
              "      <td>5.0</td>\n",
              "      <td>5</td>\n",
              "      <td>1</td>\n",
              "      <td>{'BusinessAcceptsCreditCards': 'True', 'Busine...</td>\n",
              "      <td>Hair Stylists, Beauty &amp; Spas, Hair Salons, Men...</td>\n",
              "      <td>{'Monday': '0:0-0:0', 'Tuesday': '9:0-19:0', '...</td>\n",
              "    </tr>\n",
              "    <tr>\n",
              "      <th>...</th>\n",
              "      <td>...</td>\n",
              "      <td>...</td>\n",
              "      <td>...</td>\n",
              "      <td>...</td>\n",
              "      <td>...</td>\n",
              "      <td>...</td>\n",
              "      <td>...</td>\n",
              "      <td>...</td>\n",
              "      <td>...</td>\n",
              "      <td>...</td>\n",
              "      <td>...</td>\n",
              "      <td>...</td>\n",
              "      <td>...</td>\n",
              "      <td>...</td>\n",
              "    </tr>\n",
              "    <tr>\n",
              "      <th>192599</th>\n",
              "      <td>ABjONdA5Fw8XBOM65tmW4w</td>\n",
              "      <td>Phend Plumbing &amp; Rooter</td>\n",
              "      <td>343 N Gilbert Rd</td>\n",
              "      <td>Gilbert</td>\n",
              "      <td>AZ</td>\n",
              "      <td>85234</td>\n",
              "      <td>33.356540</td>\n",
              "      <td>-111.789367</td>\n",
              "      <td>5.0</td>\n",
              "      <td>47</td>\n",
              "      <td>1</td>\n",
              "      <td>{'BusinessAcceptsCreditCards': 'True', 'ByAppo...</td>\n",
              "      <td>Plumbing, Water Heater Installation/Repair, Pr...</td>\n",
              "      <td>{'Monday': '7:0-17:0', 'Tuesday': '7:0-17:30',...</td>\n",
              "    </tr>\n",
              "    <tr>\n",
              "      <th>192600</th>\n",
              "      <td>ZidLd2a1uJCMfIhLylX5ww</td>\n",
              "      <td>Team Canine</td>\n",
              "      <td></td>\n",
              "      <td>Phoenix</td>\n",
              "      <td>AZ</td>\n",
              "      <td>85076</td>\n",
              "      <td>33.347160</td>\n",
              "      <td>-111.975380</td>\n",
              "      <td>4.5</td>\n",
              "      <td>19</td>\n",
              "      <td>1</td>\n",
              "      <td>None</td>\n",
              "      <td>Pet Training, Professional Services, Pet Servi...</td>\n",
              "      <td>{'Monday': '8:0-19:30', 'Tuesday': '8:0-19:30'...</td>\n",
              "    </tr>\n",
              "    <tr>\n",
              "      <th>192601</th>\n",
              "      <td>jJoPLIhCjkGXy59I4Jl6zw</td>\n",
              "      <td>JW Marriott Phoenix Desert Ridge Resort &amp; Spa</td>\n",
              "      <td>5350 E Marriott Dr</td>\n",
              "      <td>Phoenix</td>\n",
              "      <td>AZ</td>\n",
              "      <td>85054</td>\n",
              "      <td>33.683910</td>\n",
              "      <td>-111.966235</td>\n",
              "      <td>4.0</td>\n",
              "      <td>441</td>\n",
              "      <td>1</td>\n",
              "      <td>{'BusinessAcceptsBitcoin': 'False', 'GoodForKi...</td>\n",
              "      <td>Golf, Hotels, Day Spas, Hotels &amp; Travel, Event...</td>\n",
              "      <td>{'Monday': '0:0-0:0', 'Tuesday': '0:0-0:0', 'W...</td>\n",
              "    </tr>\n",
              "    <tr>\n",
              "      <th>192606</th>\n",
              "      <td>MiEyUDKTjeci5TMfxVZPpg</td>\n",
              "      <td>Phoenix Pavers</td>\n",
              "      <td>21230 N 22nd St</td>\n",
              "      <td>Phoenix</td>\n",
              "      <td>AZ</td>\n",
              "      <td>85024</td>\n",
              "      <td>33.679992</td>\n",
              "      <td>-112.035569</td>\n",
              "      <td>4.5</td>\n",
              "      <td>14</td>\n",
              "      <td>1</td>\n",
              "      <td>{'BusinessAcceptsCreditCards': 'True', 'ByAppo...</td>\n",
              "      <td>Home Services, Contractors, Landscaping, Mason...</td>\n",
              "      <td>{'Monday': '7:0-15:0', 'Tuesday': '7:0-15:0', ...</td>\n",
              "    </tr>\n",
              "    <tr>\n",
              "      <th>192607</th>\n",
              "      <td>zNMupayB2jEHVDOji8sxoQ</td>\n",
              "      <td>Beasley's Barber Shop</td>\n",
              "      <td>4406 E Main St</td>\n",
              "      <td>Mesa</td>\n",
              "      <td>AZ</td>\n",
              "      <td>85205</td>\n",
              "      <td>33.416137</td>\n",
              "      <td>-111.735743</td>\n",
              "      <td>4.5</td>\n",
              "      <td>15</td>\n",
              "      <td>1</td>\n",
              "      <td>{'RestaurantsPriceRange2': '1', 'BusinessAccep...</td>\n",
              "      <td>Beauty &amp; Spas, Barbers</td>\n",
              "      <td>{'Tuesday': '8:30-17:30', 'Wednesday': '8:30-1...</td>\n",
              "    </tr>\n",
              "  </tbody>\n",
              "</table>\n",
              "<p>56686 rows × 14 columns</p>\n",
              "</div>"
            ],
            "text/plain": [
              "                   business_id                                           name  \\\n",
              "0       1SWheh84yJXfytovILXOAQ                     Arizona Biltmore Golf Club   \n",
              "3       xvX2CttrVhyG2z1dFg_0xw                Farmers Insurance - Paul Lorenz   \n",
              "8       Y6iyemLX_oylRpnr38vgMA                        Vita Bella Fine Day Spa   \n",
              "11      1Dfx3zM-rW4n-31KeC8sJg                                      Taco Bell   \n",
              "16      giC3pVVFxCRR89rApqklyw                                     Knot Salon   \n",
              "...                        ...                                            ...   \n",
              "192599  ABjONdA5Fw8XBOM65tmW4w                        Phend Plumbing & Rooter   \n",
              "192600  ZidLd2a1uJCMfIhLylX5ww                                    Team Canine   \n",
              "192601  jJoPLIhCjkGXy59I4Jl6zw  JW Marriott Phoenix Desert Ridge Resort & Spa   \n",
              "192606  MiEyUDKTjeci5TMfxVZPpg                                 Phoenix Pavers   \n",
              "192607  zNMupayB2jEHVDOji8sxoQ                          Beasley's Barber Shop   \n",
              "\n",
              "                              address        city state postal_code  \\\n",
              "0         2818 E Camino Acequia Drive     Phoenix    AZ       85016   \n",
              "3       15655 W Roosevelt St, Ste 237    Goodyear    AZ       85338   \n",
              "8               5940 W Union Hills Dr    Glendale    AZ       85308   \n",
              "11            2450 E Indian School Rd     Phoenix    AZ       85016   \n",
              "16          4848 E Cactus Rd, Ste 100  Scottsdale    AZ       85254   \n",
              "...                               ...         ...   ...         ...   \n",
              "192599               343 N Gilbert Rd     Gilbert    AZ       85234   \n",
              "192600                                    Phoenix    AZ       85076   \n",
              "192601             5350 E Marriott Dr     Phoenix    AZ       85054   \n",
              "192606                21230 N 22nd St     Phoenix    AZ       85024   \n",
              "192607                 4406 E Main St        Mesa    AZ       85205   \n",
              "\n",
              "         latitude   longitude  stars  review_count  is_open  \\\n",
              "0       33.522143 -112.018481    3.0             5        0   \n",
              "3       33.455613 -112.395596    5.0             3        1   \n",
              "8       33.654815 -112.188568    5.0             8        0   \n",
              "11      33.495194 -112.028588    3.0            18        1   \n",
              "16      33.600071 -111.977371    5.0             5        1   \n",
              "...           ...         ...    ...           ...      ...   \n",
              "192599  33.356540 -111.789367    5.0            47        1   \n",
              "192600  33.347160 -111.975380    4.5            19        1   \n",
              "192601  33.683910 -111.966235    4.0           441        1   \n",
              "192606  33.679992 -112.035569    4.5            14        1   \n",
              "192607  33.416137 -111.735743    4.5            15        1   \n",
              "\n",
              "                                               attributes  \\\n",
              "0                                {'GoodForKids': 'False'}   \n",
              "3                                                    None   \n",
              "8       {'RestaurantsPriceRange2': '2', 'ByAppointment...   \n",
              "11      {'RestaurantsTakeOut': 'True', 'BusinessParkin...   \n",
              "16      {'BusinessAcceptsCreditCards': 'True', 'Busine...   \n",
              "...                                                   ...   \n",
              "192599  {'BusinessAcceptsCreditCards': 'True', 'ByAppo...   \n",
              "192600                                               None   \n",
              "192601  {'BusinessAcceptsBitcoin': 'False', 'GoodForKi...   \n",
              "192606  {'BusinessAcceptsCreditCards': 'True', 'ByAppo...   \n",
              "192607  {'RestaurantsPriceRange2': '1', 'BusinessAccep...   \n",
              "\n",
              "                                               categories  \\\n",
              "0                                       Golf, Active Life   \n",
              "3                           Insurance, Financial Services   \n",
              "8                    Nail Salons, Beauty & Spas, Day Spas   \n",
              "11      Restaurants, Breakfast & Brunch, Mexican, Taco...   \n",
              "16      Hair Stylists, Beauty & Spas, Hair Salons, Men...   \n",
              "...                                                   ...   \n",
              "192599  Plumbing, Water Heater Installation/Repair, Pr...   \n",
              "192600  Pet Training, Professional Services, Pet Servi...   \n",
              "192601  Golf, Hotels, Day Spas, Hotels & Travel, Event...   \n",
              "192606  Home Services, Contractors, Landscaping, Mason...   \n",
              "192607                             Beauty & Spas, Barbers   \n",
              "\n",
              "                                                    hours  \n",
              "0                                                    None  \n",
              "3       {'Monday': '8:0-17:0', 'Tuesday': '8:0-17:0', ...  \n",
              "8       {'Tuesday': '12:0-18:0', 'Wednesday': '10:0-18...  \n",
              "11      {'Monday': '7:0-0:0', 'Tuesday': '7:0-0:0', 'W...  \n",
              "16      {'Monday': '0:0-0:0', 'Tuesday': '9:0-19:0', '...  \n",
              "...                                                   ...  \n",
              "192599  {'Monday': '7:0-17:0', 'Tuesday': '7:0-17:30',...  \n",
              "192600  {'Monday': '8:0-19:30', 'Tuesday': '8:0-19:30'...  \n",
              "192601  {'Monday': '0:0-0:0', 'Tuesday': '0:0-0:0', 'W...  \n",
              "192606  {'Monday': '7:0-15:0', 'Tuesday': '7:0-15:0', ...  \n",
              "192607  {'Tuesday': '8:30-17:30', 'Wednesday': '8:30-1...  \n",
              "\n",
              "[56686 rows x 14 columns]"
            ]
          },
          "metadata": {
            "tags": []
          },
          "execution_count": 20
        }
      ]
    },
    {
      "cell_type": "code",
      "metadata": {
        "id": "D6McuhjFfrHd",
        "colab_type": "code",
        "outputId": "3b73ea57-c540-47fc-d9c8-389782ae81f1",
        "colab": {}
      },
      "source": [
        "business_arizo.categories.unique()"
      ],
      "execution_count": 0,
      "outputs": [
        {
          "output_type": "execute_result",
          "data": {
            "text/plain": [
              "array(['Golf, Active Life', 'Insurance, Financial Services',\n",
              "       'Nail Salons, Beauty & Spas, Day Spas', ...,\n",
              "       'Pet Training, Professional Services, Pet Services, Pets',\n",
              "       'Golf, Hotels, Day Spas, Hotels & Travel, Event Planning & Services, Beauty & Spas, Active Life, Venues & Event Spaces, Resorts',\n",
              "       'Home Services, Contractors, Landscaping, Masonry/Concrete, Landscape Architects'],\n",
              "      dtype=object)"
            ]
          },
          "metadata": {
            "tags": []
          },
          "execution_count": 24
        }
      ]
    },
    {
      "cell_type": "code",
      "metadata": {
        "id": "yrPK4682frHg",
        "colab_type": "code",
        "outputId": "366ebd47-78aa-4b9b-c1e4-8f182a0735cc",
        "colab": {}
      },
      "source": [
        "resto_keywords = ['Restaurants','Food','Delis','Cafes',\n",
        "                  'Breakfast','Lunch','Dinner','Barbeque',\n",
        "                  'Breakfast & Brunch','Buffets','Burgers',\n",
        "                 'Cafeteria','Diners']\n",
        "\n",
        "\n",
        "# new_df = pd.DataFrame(columns = business_columns)\n",
        "# for row in business_arizo.iterrows():\n",
        "#     row_categories = row['categories']\n",
        "#     print(row_categories)\n",
        "# business_arizo_resto = business_arizo.categories.str.contains('|'.join(resto_keywords))\n",
        "newData = business_arizo.copy()\n",
        "newData = newData[newData['categories'].notna()]\n",
        "newData = newData.reset_index()\n",
        "newData = newData.drop(['index'],axis='columns')\n",
        "\n",
        "#print(type(newData))\n",
        "\n",
        "\n",
        "\n",
        "#print(type(newData))\n",
        "# for i in range(len(newData[\"categories\"])):\n",
        "newData1 = newData.copy()\n",
        "\n",
        "for i in range(len(newData1)):\n",
        "    hasValue = False\n",
        "    for j in range(len(resto_keywords)):\n",
        "        if (newData1[\"categories\"])[i].find(resto_keywords[j]) != -1:\n",
        "            hasValue = True\n",
        "            break\n",
        "    if i%100==0:\n",
        "        print(\"Umakant,\",i)\n",
        "    if hasValue == False:\n",
        "        newData1 = newData1.drop(i, axis ='rows')\n",
        "#newData"
      ],
      "execution_count": 0,
      "outputs": [
        {
          "output_type": "stream",
          "text": [
            "Umakant, 0\n",
            "Umakant, 1000\n",
            "Umakant, 2000\n",
            "Umakant, 3000\n",
            "Umakant, 4000\n",
            "Umakant, 5000\n",
            "Umakant, 6000\n",
            "Umakant, 7000\n",
            "Umakant, 8000\n",
            "Umakant, 9000\n",
            "Umakant, 10000\n",
            "Umakant, 11000\n",
            "Umakant, 12000\n",
            "Umakant, 13000\n",
            "Umakant, 14000\n",
            "Umakant, 15000\n",
            "Umakant, 16000\n",
            "Umakant, 17000\n",
            "Umakant, 18000\n",
            "Umakant, 19000\n",
            "Umakant, 20000\n",
            "Umakant, 21000\n",
            "Umakant, 22000\n",
            "Umakant, 23000\n",
            "Umakant, 24000\n",
            "Umakant, 25000\n",
            "Umakant, 26000\n",
            "Umakant, 27000\n",
            "Umakant, 28000\n",
            "Umakant, 29000\n",
            "Umakant, 30000\n",
            "Umakant, 31000\n",
            "Umakant, 32000\n",
            "Umakant, 33000\n",
            "Umakant, 34000\n",
            "Umakant, 35000\n",
            "Umakant, 36000\n",
            "Umakant, 37000\n",
            "Umakant, 38000\n",
            "Umakant, 39000\n",
            "Umakant, 40000\n",
            "Umakant, 41000\n",
            "Umakant, 42000\n",
            "Umakant, 43000\n",
            "Umakant, 44000\n",
            "Umakant, 45000\n",
            "Umakant, 46000\n",
            "Umakant, 47000\n",
            "Umakant, 48000\n",
            "Umakant, 49000\n",
            "Umakant, 50000\n",
            "Umakant, 51000\n",
            "Umakant, 52000\n",
            "Umakant, 53000\n",
            "Umakant, 54000\n",
            "Umakant, 55000\n",
            "Umakant, 56000\n"
          ],
          "name": "stdout"
        }
      ]
    },
    {
      "cell_type": "code",
      "metadata": {
        "id": "IqKHm6SXfrHk",
        "colab_type": "code",
        "outputId": "36f81dd3-e82b-45a2-b398-04454996f1b5",
        "colab": {}
      },
      "source": [
        "newData1.shape\n",
        " "
      ],
      "execution_count": 0,
      "outputs": [
        {
          "output_type": "execute_result",
          "data": {
            "text/plain": [
              "(14801, 14)"
            ]
          },
          "metadata": {
            "tags": []
          },
          "execution_count": 160
        }
      ]
    },
    {
      "cell_type": "code",
      "metadata": {
        "id": "m0GWMylZfrHn",
        "colab_type": "code",
        "colab": {}
      },
      "source": [
        "newData1.to_csv('./arizona_restaurants2.csv',index=True, header=True)"
      ],
      "execution_count": 0,
      "outputs": []
    },
    {
      "cell_type": "markdown",
      "metadata": {
        "id": "6Qnr5ezgfrHq",
        "colab_type": "text"
      },
      "source": [
        "### Joining Restaurants to CheckIns"
      ]
    },
    {
      "cell_type": "code",
      "metadata": {
        "id": "5GMdtnEBfrHq",
        "colab_type": "code",
        "colab": {}
      },
      "source": [
        "checkin = pd.read_json('yelp_dataset/checkin.json',lines = True)"
      ],
      "execution_count": 0,
      "outputs": []
    },
    {
      "cell_type": "code",
      "metadata": {
        "id": "gmWEdRj5frHs",
        "colab_type": "code",
        "colab": {}
      },
      "source": [
        "joined_df = newData1.copy()"
      ],
      "execution_count": 0,
      "outputs": []
    },
    {
      "cell_type": "code",
      "metadata": {
        "id": "H_XBPrOYfrHv",
        "colab_type": "code",
        "colab": {}
      },
      "source": [
        "joined_df = joined_df.join(checkin.set_index('business_id'),'business_id')"
      ],
      "execution_count": 0,
      "outputs": []
    },
    {
      "cell_type": "code",
      "metadata": {
        "id": "f0BvkOEsfrHy",
        "colab_type": "code",
        "colab": {}
      },
      "source": [
        "joined_df.to_csv('./arizona_restaurant_withcheckin.csv',index=True, header=True)"
      ],
      "execution_count": 0,
      "outputs": []
    },
    {
      "cell_type": "code",
      "metadata": {
        "id": "vmGI8q2VfrH0",
        "colab_type": "code",
        "outputId": "638efb1c-456b-4be4-9331-e0262042f762",
        "colab": {}
      },
      "source": [
        "joined_df.city.unique()"
      ],
      "execution_count": 0,
      "outputs": [
        {
          "output_type": "execute_result",
          "data": {
            "text/plain": [
              "array(['Phoenix', 'Gilbert', 'Scottsdale', 'Peoria', 'Chandler', 'Mesa',\n",
              "       'Tempe', 'Glendale', 'Cave Creek', 'Surprise', 'Goodyear',\n",
              "       'Sun City', 'Avondale', 'Litchfield Park', 'Paradise Valley',\n",
              "       'Fountain Hills', 'Tolleson', 'Sun Lakes', 'Fort Mcdowell',\n",
              "       'Laveen', 'Buckeye', 'Sun City West', 'Fort McDowell',\n",
              "       'Queen Creek', 'Somerton', 'El Mirage', 'Carefree', 'Waddell',\n",
              "       'Ahwatukee', 'Youngtown', 'PHOENIX', 'Anthem', 'Glendale Az',\n",
              "       'Apache Junction', 'SCOTTSDALE', 'Gelndale', 'Guadalupe',\n",
              "       'Laveen Village', 'scottsdale', 'CAREFREE', 'Sedona',\n",
              "       'Schottsdale', 'Mesa AZ', 'cave creek', 'mesa', 'Higley', 'MESA',\n",
              "       'Scottdale', 'Queen creek', 'Phx', 'Pheonix', 'Maricopa',\n",
              "       'GILBERT', 'Central City', 'Central City Village', 'TEMPE',\n",
              "       'Metro Phoenix', 'Pheonix AZ', 'Rio Verde', 'GOODYEAR',\n",
              "       'Surprise Crossing', 'Phoenix Valley', 'Central'], dtype=object)"
            ]
          },
          "metadata": {
            "tags": []
          },
          "execution_count": 174
        }
      ]
    },
    {
      "cell_type": "code",
      "metadata": {
        "id": "nY1bO9OmfrH2",
        "colab_type": "code",
        "colab": {}
      },
      "source": [
        ""
      ],
      "execution_count": 0,
      "outputs": []
    }
  ]
}