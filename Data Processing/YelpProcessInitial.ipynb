{
  "nbformat": 4,
  "nbformat_minor": 0,
  "metadata": {
    "colab": {
      "name": "YelpProcessFinish.ipynb",
      "provenance": [],
      "collapsed_sections": [],
      "toc_visible": true,
      "machine_shape": "hm"
    },
    "kernelspec": {
      "name": "python3",
      "display_name": "Python 3"
    }
  },
  "cells": [
    {
      "cell_type": "markdown",
      "metadata": {
        "id": "cgfrfzCtukjj",
        "colab_type": "text"
      },
      "source": [
        "# Yelp Process Finish"
      ]
    },
    {
      "cell_type": "code",
      "metadata": {
        "id": "bNz3G6ySutJ-",
        "colab_type": "code",
        "outputId": "55942a3b-104c-45cb-8ca7-a293357389d1",
        "colab": {
          "base_uri": "https://localhost:8080/",
          "height": 122
        }
      },
      "source": [
        "from google.colab import drive\n",
        "drive.mount('/content/drive')"
      ],
      "execution_count": 0,
      "outputs": [
        {
          "output_type": "stream",
          "text": [
            "Go to this URL in a browser: https://accounts.google.com/o/oauth2/auth?client_id=947318989803-6bn6qk8qdgf4n4g3pfee6491hc0brc4i.apps.googleusercontent.com&redirect_uri=urn%3aietf%3awg%3aoauth%3a2.0%3aoob&response_type=code&scope=email%20https%3a%2f%2fwww.googleapis.com%2fauth%2fdocs.test%20https%3a%2f%2fwww.googleapis.com%2fauth%2fdrive%20https%3a%2f%2fwww.googleapis.com%2fauth%2fdrive.photos.readonly%20https%3a%2f%2fwww.googleapis.com%2fauth%2fpeopleapi.readonly\n",
            "\n",
            "Enter your authorization code:\n",
            "··········\n",
            "Mounted at /content/drive\n"
          ],
          "name": "stdout"
        }
      ]
    },
    {
      "cell_type": "code",
      "metadata": {
        "id": "nD6CfbYwu7eT",
        "colab_type": "code",
        "outputId": "4b4979d8-26a3-4c3e-fc69-2bd84b2bcff4",
        "colab": {
          "base_uri": "https://localhost:8080/",
          "height": 34
        }
      },
      "source": [
        "%cd /content/drive/My\\ Drive/COMP4641\\ Project/data"
      ],
      "execution_count": 0,
      "outputs": [
        {
          "output_type": "stream",
          "text": [
            "/content/drive/My Drive/COMP4641 Project/data\n"
          ],
          "name": "stdout"
        }
      ]
    },
    {
      "cell_type": "code",
      "metadata": {
        "id": "MsD3H6ZDvPJq",
        "colab_type": "code",
        "outputId": "9c5e4335-9492-4985-c90d-a12eedeee1a7",
        "colab": {
          "base_uri": "https://localhost:8080/",
          "height": 374
        }
      },
      "source": [
        "%ls"
      ],
      "execution_count": 0,
      "outputs": [
        {
          "output_type": "stream",
          "text": [
            "allcities_business_mappedto_review.csv\n",
            "all_cities_with_review_and_users.csv\n",
            "all_cities_with_review_and_users.xlsx\n",
            "arizona_restaurant_alllocation.csv\n",
            "arizona_restaurant_combinedwithlocation.csv\n",
            "arizona_restaurant_corTime.csv\n",
            "arizona_restaurant_location1.csv\n",
            "arizona_restaurant_location2.csv\n",
            "arizona_restaurant_location3.csv\n",
            "arizona_restaurant_location4.csv\n",
            "arizona_restaurant_location5.csv\n",
            "arizona_restaurants2.csv\n",
            "arizona_restaurants.csv\n",
            "arizona_restaurant_top5cities.csv\n",
            "arizona_restaurant_withcheckin.csv\n",
            "Location.ipynb\n",
            "Scraper.py.ipynb\n",
            "top5cities_restaurants_with_review.csv\n",
            "top5_final_checkin.csv\n",
            "top5_final_checkin_review_updated.csv\n",
            "umango.csv\n"
          ],
          "name": "stdout"
        }
      ]
    },
    {
      "cell_type": "code",
      "metadata": {
        "id": "AstkSXc2vVoJ",
        "colab_type": "code",
        "colab": {}
      },
      "source": [
        "import pandas as pd\n",
        "import numpy as np\n",
        "import json"
      ],
      "execution_count": 0,
      "outputs": []
    },
    {
      "cell_type": "code",
      "metadata": {
        "id": "i6GN561vlL5o",
        "colab_type": "code",
        "outputId": "85bff7b4-19ce-420a-a17d-337bdccd3b43",
        "colab": {
          "base_uri": "https://localhost:8080/",
          "height": 238
        }
      },
      "source": [
        "# Top 5 City Cleaner\n",
        "removedf = pd.read_csv('arizona_restaurant_combinedwithlocation.csv')\n",
        "removedf\n",
        "cleandf = removedf.copy()\n",
        "cleandf = cleandf.drop(['address','Unnamed: 0', 'Unnamed: 0.1', 'Unnamed: 0.1.1','city', 'state', 'postal_code', 'latitude', 'longitude',],axis=1)\n",
        "\n",
        "top5 = cleandf.processed_city.value_counts()[0:5] # top 5 cities\n",
        "topn = cleandf.processed_city.value_counts()      # list of restaurants per neighbourhood\n",
        "topn"
      ],
      "execution_count": 0,
      "outputs": [
        {
          "output_type": "execute_result",
          "data": {
            "text/plain": [
              "Phoenix            3710\n",
              "Scottsdale         1193\n",
              "Maricopa County    1127\n",
              "Mesa               1056\n",
              "Tempe               896\n",
              "Chandler            750\n",
              "Gilbert             482\n",
              "Peoria              333\n",
              "Glendale            218\n",
              "Surprise            198\n",
              "Avondale             30\n",
              "Buckeye              10\n",
              "Name: processed_city, dtype: int64"
            ]
          },
          "metadata": {
            "tags": []
          },
          "execution_count": 6
        }
      ]
    },
    {
      "cell_type": "code",
      "metadata": {
        "id": "JKUERbQ2D8c6",
        "colab_type": "code",
        "outputId": "5b467e91-ce9f-44c9-9061-2a5904d6f742",
        "colab": {
          "base_uri": "https://localhost:8080/",
          "height": 279
        }
      },
      "source": [
        "import matplotlib.pyplot as plt \n",
        "import seaborn as sns\n",
        "\n",
        "topn_keys =  list(topn.keys())\n",
        "topn_values =  list(topn.values)\n",
        "\n",
        "words_df = pd.DataFrame({'word':topn_keys, 'count':topn_values})\n",
        "\n",
        "d = words_df.nlargest(columns=\"count\", n = 12) \n",
        "  \n",
        "# visualize words and frequencies\n",
        "plt.figure(figsize=(6,4)) \n",
        "ax = sns.barplot(data=d, x= \"count\", y = \"word\") \n",
        "ax.set(ylabel = 'Cities', xlabel='No. of Restaurants') \n",
        "plt.show()"
      ],
      "execution_count": 0,
      "outputs": [
        {
          "output_type": "display_data",
          "data": {
            "image/png": "[encoded data removed]",
            "text/plain": [
              "<Figure size 432x288 with 1 Axes>"
            ]
          },
          "metadata": {
            "tags": [],
            "needs_background": "light"
          }
        }
      ]
    },
    {
      "cell_type": "code",
      "metadata": {
        "id": "IBPqWK88IZ4e",
        "colab_type": "code",
        "outputId": "79e90c4e-4dfd-4aa2-f2e6-2a25bb60b540",
        "colab": {
          "base_uri": "https://localhost:8080/",
          "height": 248
        }
      },
      "source": [
        "top5_keys =  list(top5.keys())\n",
        "top5_values =  list(top5.values)\n",
        "\n",
        "total = 0\n",
        "for i in range(5):\n",
        "  total += top5_values[i]\n",
        "\n",
        "names=str(top5_keys[0])+ \" (\" + str(\"{0:.1f}\".format(top5_values[0] * 100 / total)) + \"%)\", str(top5_keys[1])+ \" (\" + str(\"{0:.1f}\".format(top5_values[1] * 100 / total)) + \"%)\",str(top5_keys[2])+ \" (\" + str(\"{0:.1f}\".format(top5_values[2] * 100 / total)) + \"%)\",str(top5_keys[3])+ \" (\" + str(\"{0:.1f}\".format(top5_values[3] * 100 / total)) + \"%)\",str(top5_keys[4])+ \" (\" + str(\"{0:.1f}\".format(top5_values[4] * 100 / total)) + \"%)\"\n",
        "size=[top5_values[0], top5_values[1],top5_values[2],top5_values[3],top5_values[4]]\n",
        "\n",
        "\n",
        "# Create a circle for the center of the plot\n",
        "my_circle=plt.Circle( (0,0), 0.7, color='white')\n",
        "\n",
        "from palettable.colorbrewer.qualitative import Pastel1_7\n",
        "plt.pie(size, labels=names, colors=Pastel1_7.hex_colors)\n",
        "p=plt.gcf()\n",
        "p.gca().add_artist(my_circle)\n",
        "plt.show()\n"
      ],
      "execution_count": 0,
      "outputs": [
        {
          "output_type": "display_data",
          "data": {
            "image/png": "[encoded data removed]",
            "text/plain": [
              "<Figure size 432x288 with 1 Axes>"
            ]
          },
          "metadata": {
            "tags": []
          }
        }
      ]
    },
    {
      "cell_type": "code",
      "metadata": {
        "id": "LBKO8oQGwdb9",
        "colab_type": "code",
        "outputId": "d0149465-e75a-4c81-c0c7-9a54723227ab",
        "colab": {
          "base_uri": "https://localhost:8080/",
          "height": 51
        }
      },
      "source": [
        "top5_city = list(top5.keys())\n",
        "print(np.sum(list(top5.values)))\n",
        "top5_city"
      ],
      "execution_count": 0,
      "outputs": [
        {
          "output_type": "stream",
          "text": [
            "7982\n"
          ],
          "name": "stdout"
        },
        {
          "output_type": "execute_result",
          "data": {
            "text/plain": [
              "['Phoenix', 'Scottsdale', 'Maricopa County', 'Mesa', 'Tempe']"
            ]
          },
          "metadata": {
            "tags": []
          },
          "execution_count": 50
        }
      ]
    },
    {
      "cell_type": "code",
      "metadata": {
        "id": "Ree1nP3Jw7eT",
        "colab_type": "code",
        "colab": {}
      },
      "source": [
        "top5df = cleandf.copy()\n",
        "top5df = top5df[(top5df['processed_city']).isin(top5_city)]"
      ],
      "execution_count": 0,
      "outputs": []
    },
    {
      "cell_type": "code",
      "metadata": {
        "id": "GXDuUY2iyWIe",
        "colab_type": "code",
        "colab": {}
      },
      "source": [
        "top5df = top5df.reset_index()"
      ],
      "execution_count": 0,
      "outputs": []
    },
    {
      "cell_type": "code",
      "metadata": {
        "id": "RPIt-ZWuynK3",
        "colab_type": "code",
        "colab": {}
      },
      "source": [
        "top5df = top5df.drop(['index'],axis=1)"
      ],
      "execution_count": 0,
      "outputs": []
    },
    {
      "cell_type": "code",
      "metadata": {
        "id": "8Z3t-V42l_P1",
        "colab_type": "code",
        "outputId": "1ce1ad1b-5ca4-44e3-d273-49fb7d000000",
        "colab": {
          "base_uri": "https://localhost:8080/",
          "height": 34
        }
      },
      "source": [
        "len(top5df)"
      ],
      "execution_count": 0,
      "outputs": [
        {
          "output_type": "execute_result",
          "data": {
            "text/plain": [
              "7982"
            ]
          },
          "metadata": {
            "tags": []
          },
          "execution_count": 52
        }
      ]
    },
    {
      "cell_type": "code",
      "metadata": {
        "id": "EXM4fYIry3Wf",
        "colab_type": "code",
        "colab": {}
      },
      "source": [
        "#top5df.to_csv('arizona_restaurant_top5cities.csv',index=True,header=True)"
      ],
      "execution_count": 0,
      "outputs": []
    },
    {
      "cell_type": "markdown",
      "metadata": {
        "id": "24MK-DQHzyr0",
        "colab_type": "text"
      },
      "source": [
        "# Separate dataframe by City"
      ]
    },
    {
      "cell_type": "code",
      "metadata": {
        "id": "fymeAIgMz1Yy",
        "colab_type": "code",
        "outputId": "b5d5ed3d-11bd-4582-9e83-f4951d6b0bb1",
        "colab": {
          "base_uri": "https://localhost:8080/",
          "height": 34
        }
      },
      "source": [
        "top5_city"
      ],
      "execution_count": 0,
      "outputs": [
        {
          "output_type": "execute_result",
          "data": {
            "text/plain": [
              "['Phoenix', 'Scottsdale', 'Maricopa County', 'Mesa', 'Tempe']"
            ]
          },
          "metadata": {
            "tags": []
          },
          "execution_count": 14
        }
      ]
    },
    {
      "cell_type": "code",
      "metadata": {
        "id": "XBClXSF6z_kO",
        "colab_type": "code",
        "colab": {}
      },
      "source": [
        "phoenixdf = top5df[(top5df['processed_city']).isin(['Phoenix'])]\n",
        "scottsdaledf = top5df[(top5df['processed_city']).isin(['Scottsdale'])]\n",
        "maricopacountydf = top5df[(top5df['processed_city']).isin(['Maricopa County'])]\n",
        "mesadf = top5df[(top5df['processed_city']).isin(['Mesa'])]\n",
        "tempedf = top5df[(top5df['processed_city']).isin(['Tempe'])]"
      ],
      "execution_count": 0,
      "outputs": []
    },
    {
      "cell_type": "code",
      "metadata": {
        "id": "dUkbPYWT0KgU",
        "colab_type": "code",
        "colab": {}
      },
      "source": [
        "phoenixdf = phoenixdf.reset_index()\n",
        "phoenixdf = phoenixdf.drop(['index'],axis=1)\n",
        "\n",
        "scottsdaledf = scottsdaledf.reset_index()\n",
        "scottsdaledf = scottsdaledf.drop(['index'],axis=1)\n",
        "\n",
        "maricopacountydf = maricopacountydf.reset_index()\n",
        "maricopacountydf = maricopacountydf.drop(['index'],axis=1)\n",
        "\n",
        "mesadf = mesadf.reset_index()\n",
        "mesadf = mesadf.drop(['index'],axis=1)\n",
        "\n",
        "tempedf = tempedf.reset_index()\n",
        "tempedf = tempedf.drop(['index'],axis=1)"
      ],
      "execution_count": 0,
      "outputs": []
    },
    {
      "cell_type": "code",
      "metadata": {
        "id": "5cTThMRK0gw9",
        "colab_type": "code",
        "colab": {}
      },
      "source": [
        "# phoenixdf.to_csv('phoenix_restaurants.csv',index=True,header=True)\n",
        "# scottsdaledf.to_csv('scottsdale_restaurants.csv',index=True,header=True)\n",
        "# maricopacountydf.to_csv('maricopacounty_restaurants.csv',index=True,header=True)\n",
        "# mesadf.to_csv('mesa_restaurants.csv',index=True,header=True)\n",
        "# tempedf.to_csv('tempe_restaurants.csv',index=True,header=True)"
      ],
      "execution_count": 0,
      "outputs": []
    },
    {
      "cell_type": "markdown",
      "metadata": {
        "id": "wTzac7x7DdxR",
        "colab_type": "text"
      },
      "source": [
        "## ======= Do NOT Run the following Code ======="
      ]
    },
    {
      "cell_type": "code",
      "metadata": {
        "id": "Jbtu0m8M53Gs",
        "colab_type": "code",
        "colab": {}
      },
      "source": [
        "with open('../review.json') as json_file:      \n",
        "    data = json_file.readlines()\n",
        "    data = list(map(json.loads, data)) \n",
        "\n",
        "reviewdf = pd.DataFrame(data)"
      ],
      "execution_count": 0,
      "outputs": []
    },
    {
      "cell_type": "markdown",
      "metadata": {
        "id": "lzO3oKS7DktQ",
        "colab_type": "text"
      },
      "source": [
        "## ======= Do NOT run the above Code ======="
      ]
    },
    {
      "cell_type": "code",
      "metadata": {
        "id": "LnNRAoFYCqRn",
        "colab_type": "code",
        "colab": {}
      },
      "source": [
        "reviewdfcopy = reviewdf.copy()"
      ],
      "execution_count": 0,
      "outputs": []
    },
    {
      "cell_type": "code",
      "metadata": {
        "id": "YU2H_jB4EQmq",
        "colab_type": "code",
        "outputId": "fdcfcc1b-d6de-4148-bf55-503e43a92703",
        "colab": {
          "base_uri": "https://localhost:8080/",
          "height": 419
        }
      },
      "source": [
        "business_to_review = pd.DataFrame()\n",
        "business_to_review['business_id'] = top5df['business_id']\n",
        "business_to_review"
      ],
      "execution_count": 0,
      "outputs": [
        {
          "output_type": "execute_result",
          "data": {
            "text/html": [
              "<div>\n",
              "<style scoped>\n",
              "    .dataframe tbody tr th:only-of-type {\n",
              "        vertical-align: middle;\n",
              "    }\n",
              "\n",
              "    .dataframe tbody tr th {\n",
              "        vertical-align: top;\n",
              "    }\n",
              "\n",
              "    .dataframe thead th {\n",
              "        text-align: right;\n",
              "    }\n",
              "</style>\n",
              "<table border=\"1\" class=\"dataframe\">\n",
              "  <thead>\n",
              "    <tr style=\"text-align: right;\">\n",
              "      <th></th>\n",
              "      <th>business_id</th>\n",
              "    </tr>\n",
              "  </thead>\n",
              "  <tbody>\n",
              "    <tr>\n",
              "      <th>0</th>\n",
              "      <td>1Dfx3zM-rW4n-31KeC8sJg</td>\n",
              "    </tr>\n",
              "    <tr>\n",
              "      <th>1</th>\n",
              "      <td>q2KtxnPa6rPSpAlMbg9l8g</td>\n",
              "    </tr>\n",
              "    <tr>\n",
              "      <th>2</th>\n",
              "      <td>44YFU284Z3KDEy25QyVoUw</td>\n",
              "    </tr>\n",
              "    <tr>\n",
              "      <th>3</th>\n",
              "      <td>ysfeDcLAYk_MVzfBmyiSTg</td>\n",
              "    </tr>\n",
              "    <tr>\n",
              "      <th>4</th>\n",
              "      <td>nsNONDHbV7Vudqh21uicqw</td>\n",
              "    </tr>\n",
              "    <tr>\n",
              "      <th>...</th>\n",
              "      <td>...</td>\n",
              "    </tr>\n",
              "    <tr>\n",
              "      <th>7977</th>\n",
              "      <td>3xI0ToitrAJkrUSH4gbmCA</td>\n",
              "    </tr>\n",
              "    <tr>\n",
              "      <th>7978</th>\n",
              "      <td>cILk7PnJBxNsMmGhQU2cyA</td>\n",
              "    </tr>\n",
              "    <tr>\n",
              "      <th>7979</th>\n",
              "      <td>mk_OXeS7_zcfYlaEEFYWvA</td>\n",
              "    </tr>\n",
              "    <tr>\n",
              "      <th>7980</th>\n",
              "      <td>I3dQmMkfqMsThMAuqIkooA</td>\n",
              "    </tr>\n",
              "    <tr>\n",
              "      <th>7981</th>\n",
              "      <td>7KlpgRjjAmVabPzxcExs0g</td>\n",
              "    </tr>\n",
              "  </tbody>\n",
              "</table>\n",
              "<p>7982 rows × 1 columns</p>\n",
              "</div>"
            ],
            "text/plain": [
              "                 business_id\n",
              "0     1Dfx3zM-rW4n-31KeC8sJg\n",
              "1     q2KtxnPa6rPSpAlMbg9l8g\n",
              "2     44YFU284Z3KDEy25QyVoUw\n",
              "3     ysfeDcLAYk_MVzfBmyiSTg\n",
              "4     nsNONDHbV7Vudqh21uicqw\n",
              "...                      ...\n",
              "7977  3xI0ToitrAJkrUSH4gbmCA\n",
              "7978  cILk7PnJBxNsMmGhQU2cyA\n",
              "7979  mk_OXeS7_zcfYlaEEFYWvA\n",
              "7980  I3dQmMkfqMsThMAuqIkooA\n",
              "7981  7KlpgRjjAmVabPzxcExs0g\n",
              "\n",
              "[7982 rows x 1 columns]"
            ]
          },
          "metadata": {
            "tags": []
          },
          "execution_count": 21
        }
      ]
    },
    {
      "cell_type": "code",
      "metadata": {
        "id": "SFHD6I4QEkO7",
        "colab_type": "code",
        "outputId": "15fbd2ee-cd1f-492c-9037-8ccb2bc32a51",
        "colab": {
          "base_uri": "https://localhost:8080/",
          "height": 54
        }
      },
      "source": [
        "myDict = {}\n",
        "for i in range(len(business_to_review)):\n",
        "  myDict[business_to_review['business_id'][i]] = []\n",
        "print(myDict)\n",
        "\n"
      ],
      "execution_count": 0,
      "outputs": [
        {
          "output_type": "stream",
          "text": [
            "{'1Dfx3zM-rW4n-31KeC8sJg': [], 'q2KtxnPa6rPSpAlMbg9l8g': [], '44YFU284Z3KDEy25QyVoUw': [], 'ysfeDcLAYk_MVzfBmyiSTg': [], 'nsNONDHbV7Vudqh21uicqw': [], 'MhnihE0alud0ereVInSt8Q': [], 'Sd75ucXKoZUM2BEfBHFUOg': [], 'dUffgo9Lh_Vk9TLuFR5ywg': [], 'c7JoAt6a3Ufkpn3TrGU23A': [], 'vg4ynLZ0yJ89pT4s_CEMzQ': [], 'e-9f6vasnWh3z0uOq287Aw': [], '8TBt9XAVZIZR2Y0EqBHskg': [], 'trMrmg0EKcxEYAkqLBbRMA': [], '6XImdD5qH_LFZhHeLjLaGQ': [], 'tylsscXmLq03-DzGI36bIA': [], 'zfOum9_rEhaLAqoAV3nYaQ': [], '3-aEgS7X2jrbxA7sA1nARw': [], 'd7iFE8GCz3S8eZGWEQoP6Q': [], 'QS3QxI7u5PRdtbGgI0-UsA': [], 'AMN3Sgns9tB2x-b3eWk0qQ': [], 'yGMCl0vYigshkXiZFIDTNw': [], 'rwscnQMpddjkVNaJQhNuHw': [], 'idF2DJg-WBk4eo2yY_7sHA': [], '221yaXPE1zmJqDvBVM__tw': [], '-bd4BQcl1ekgo7avaFngIw': [], 'ol2r325YnfuHcq7yeO3vdg': [], 'giCq1MmW-_S2tvNOAHvJcQ': [], 'QSGerT1enEKlvJnYkwthHQ': [], 'GvEjbCm5sNdLZ4fzJ9hvUQ': [], 'WZe-1SFcErsOT7gZY_x6wQ': [], 'qOuyItOatd-TF5kzhUlA9g': [], 'ncXQtqJT5Gk1QztwTrBrgw': [], 'aXsmmtepl0JZNcl3pkXqww': [], 'ZRdHKIjiIa0k5-ufCLyIaQ': [], 'aRNjAsmXv1pJTUWTtI7xlw': [], 'P-na-PyTJTL-uZ15vEg6zA': [], '0WAL6O1YvcJbeDRYeRm34w': [], 'HxUD_4GpOInD-mXIppZiZA': [], 'cs1qJvnWUg_f8g020z_3PQ': [], '9E1q2uEMd881wnruicNTUA': [], 'qjuxlHtv_woIw9zPVWri5A': [], 'YrVoo51-y4jMxpZh-kPRfw': [], '3tbnc34HwiePxvhK-KECUQ': [], 'DEBqmgxv2yhJ93LqGpKltg': [], 'ecSkjwRS0Fn5NMkp-XwFuA': [], 'rubckw-nGtSDdhUiz7gOXQ': [], '59ctJjdmere6Yh9pk-gX8w': [], 'QIJxtz1zrakTZDgyTNm5hw': [], 'TVKr8ljkppquzOK35Pz6NA': [], 'j43ruZbchY5sEm6h2TiwIw': [], 'n-m449doCYEPAb5ux3dmVg': [], '6nKR80xEGHYf2UxAe_Cu_g': [], 'JS9kiCf8YuHWbCnHQDSkrA': [], 'SSx8KlC8ydFohTMvjZPsxw': [], 'FiG8PzWKRYehtPPcPtOStw': [], '4PqqRa7o_eNydKdGWYdIog': [], 'KOA3EA_eFxiRz5P2lAmM_Q': [], '5DLxa3EQQykWFdIJ-KU5jg': [], 'yb7ZtgMWSZboG_sSUx9g2A': [], 'CDpoJiqgM04wqQTZ6QkTqQ': [], 'JBZzE2ZJe7l0iEwQLjCJzw': [], '6WQQF4j_ISvLbU07nxX4_g': [], 'iE71iwcSljg3xm2GB2Y9aA': [], 'SE6VY8EWjEuAOzl19IQiCw': [], '-X61Cipa9OOtY7ZnDw_f4A': [], '0yHY4FHCTOIshPiPc9EYBQ': [], 'bY8K4r_RGOm_1cspCOKdPQ': [], 'dQxowi8M1a0F6QFLzp8T7Q': [], 'uVjpi3zpcrEb7Z34_B253g': [], 'VbqtbvvtNOe-YKA61-fSNA': [], '0sE5o_dunOdUMvXVsaJSsA': [], 'XuLXX5B5W1P-iNpgXmqmjQ': [], 'QJMRAjCIuqrHGmeAZeYzOQ': [], 'SYKIUCvN9JdSkVampgccfA': [], 'gWY94C5EgNClUOwqJXrBGg': [], 'UXd3218Enn8Lt5csBxwC8g': [], 'M007_bAIM34x1yd138zhSQ': [], 'x_bhc4U_e6lv7Dat2WV04w': [], '7mMRxAxiPvhyLvbmhnGFsQ': [], 'R_6ZdYGyq7W1EE2fXML30w': [], 'qaPSbg690KaX5av6xsSV4Q': [], 'mURFkV4ZFTxNCLApbUox8Q': [], 'Er2XAYN8l1BadlYFwiPb9g': [], 'M0yfSpeDaYTPEnLjw_0g_g': [], 'O4TYqnhpXpyrgJBkucaeaw': [], 'Ouh38adC9WbCRSSyYGtL3Q': [], 'TntBPq9eZXFtstCXKx4YWA': [], '1FvN1961ct3_iv9SvdBGQA': [], 'bLSuFAdnPOyWt9s0rCjv_A': [], 'jAO8qYbiYZNbmhK8Knr9Mg': [], 'f0X3jm4H4pfBT_eZeneqoQ': [], 'scoJNOqcw2peNlO31UYTaA': [], 'c2C6TcNwnudSVEZ6w-jNHg': [], 'G_1M9_yX5ThAROn1zKKpQg': [], '3HmrkEZQWaemS2aPoe-xJA': [], 'cF7d9AUDa7nlBxoOQgPQAQ': [], 'Xw2o0GKWxDRMFPR0a4IOoQ': [], 'nJPEadWQ0ijyPhACS1PyVQ': [], '18Kq9h53nYbmXAIoMtj6HA': [], '4ldf-T1Mjw6soOXVWSBOoA': [], 'l_Ncq1XfTmd9q_zvGQiW0g': [], 'pVCF9rIPF4y697QeRMpweA': [], 'uMQaaUvdHGhTFiyOhGa93w': [], 'Ktia9NJfvxVxTLVcEnw9zQ': [], 'F2F6rJ_SPo-lUhJ_AmufLA': [], 'LGsEyv0sCuY1xFzik-tYLw': [], 'VV13zmVP7OJf7DcqhKwxvA': [], 'U4owMppiAVOMAAhGys8pfQ': [], 'gMWqOTN7MlPce2MyPwYeZg': [], '8n4YzZ_A3zyvb4PpY_yhTg': [], 'fyJAqmweGm8VXnpU4CWGNw': [], '0W_6DPifCQwGU5N_LaiE9g': [], 'zLHOG9ty0OcXSQ6iy2BwwA': [], 'P-K4bpdgkRhVAUdhkG1Ovw': [], 'A501H7iyCmHFovaZ8L3Pkg': [], 'QCnT5MdeWrbZ2SjvDY4_cQ': [], '3c6FN1VrCAV4s60PsWTCLA': [], 'fnaDx7UD4MiodQlgYHDwsQ': [], 'CVgkAFbaqMblKcZq5GIitg': [], 'RtHMwoP4P2d3trkpK-n6yw': [], 'yHBhLawYmIthUPLbUXK5kw': [], 'yt1C94WXeUokPsjyqWWaiQ': [], 'dyz3FkEaTDnJi7F2szIm3g': [], 'k-NEUIXaPnXtrzCo1MeO7g': [], 'b-bHa-ziECvPpp9AsTBlRw': [], '5XIIUcmBADuz1h8W0QztVQ': [], '50NTSGbZ3pN5643_K1IReA': [], 'IyVdd_IqwUtzQDTxw2W9qw': [], '7_YOEQXlrbGpF9t9TPG_nQ': [], 'GLVahCssTKPBY_06LzUGQA': [], 'Q0EZmATxDphzRMszNV2LVg': [], 'NPincL15kJtyVOmUCCQKVQ': [], '0n2us6pzfJ4UK9qy1NWYOg': [], 'PWW_jT4tHP_r1S18ePJyTQ': [], 'bhosqo-Q1xp67iLqrd1Rbw': [], 'QMI6A2H1N3SwKU69SiASJA': [], 'kUdC_ELKTqxJFtNvNBJ7XQ': [], '-JwSuDqyFILFJmVpjrVbwA': [], 'D2DCpj35nBAJEXguPLaHyw': [], '_S3w4vjlFUkgx56Ji34Jpw': [], 'HNy2_rt86gfZMCM4qsVvFw': [], 't61eGISz7qMOxEe7o3vwEw': [], '-oOKqZbYDt08zaWWyLZNIw': [], '2FfZUyA82YhQCjWNiqDCzQ': [], 'D2y7jMJiU5abpRicNpoCww': [], 'moREnBp0othblOmz0kkj_Q': [], 'BSQgdjMm5pYSWuGyr-8pIA': [], 'dSEcQPPUlATxZf5pvN_t5Q': [], 'pDdKciP18NOjFI1DiOvEgw': [], 'wopyolJM2hOAt3dPRmahNA': [], 'x6qH9HXhzuKM03jcZmg-ZQ': [], 'VdlPZg2NAu8t8GkdbPLecg': [], 'EooU-ZAesW8Sl4-6obZjRg': [], 'iHp2K7dml2CHfhOzdo7wHw': [], 'ZLRI8ZjrzEm5fRW-ahGz_g': [], 'JkijYogaYiDbNbtPyVA3mA': [], 'Zd7A5Iba4VVRXGEF2Mc3vQ': [], '8-s_XedWKdaycyRMkKQ4hg': [], 'cJTziG8b7bW-FSvgFeLi_Q': [], 'EzNdXFIaUqU1SC75dJJKRw': [], 'qQCsLGMncJp1xWUGnOKCQA': [], '4DBboC1xv7Lr8KYVAw9LRA': [], 'dddUz7IweLuFYelc3ZIyNA': [], '6EYmMjaQU0UHjA8PbQKI7Q': [], 'MbdUXJ-I0dKIrqgfqm1SWQ': [], 'seYvTmOZGJ2IAMdfQa8pkg': [], '02eESJZNF3qigrJ3GNRgIQ': [], 'q0fX5CAXSURUOM_YDjHP3Q': [], 'kkbaE4ezP4SUqWi4rLSBIg': [], 'CfQCMOnVIarQCBDBor0mfA': [], 'ecThgc0csNnzXDw9kMojcQ': [], 'rxjHvIvV_BlzKa8ftRUpGA': [], 'wQ4-LKNd-HX6GsbmekTbbQ': [], 'eN8mkjt_q686hGKi-A9ceg': [], 'KKpTHYMs5-9zMOl4HA3p5w': [], 'B7lWxgPmJPJJ7Mz2OL6aAg': [], 'hI_WID6sP7EOgPeFFJPPwQ': [], 'Vxv2scHFtClsWGuA7jQG-g': [], '4FFhq0e4bxAG4uXqgT14jQ': [], 'N6TlJ00AYkwb5P4sOiR3Xw': [], 'R_M4P9XetEM-aLE7eHdthw': [], '4yIOZXIYJiQlkqW_MUtVgQ': [], 'dQQ8Qb0K5U97qkcLCZkkWQ': [], '-HO8ejDGgvj_Guw3R6lH1g': [], 'SieL_rcBX-azp4bDLMfO9w': [], 'JZdWWOfy2rq5PuIXyqYbTQ': [], '46hnat0aLao-qYWZkN9aBg': [], 'qbZ0Hjp-lUMtkGS_R1UnpQ': [], 'WYSbLkW_lipyYAsK4BVUkA': [], '8hdRT9J9-RnV83KZDpCF2w': [], 'oFHvr1cAktvU-bQgrl4aPw': [], 'gf1r00kQICeeFX-7WCuXIQ': [], 'N8LtpFtGxvJ3oB7sP8z2sA': [], '1teFm9hpEt8lKV6OY7P9bg': [], 'kQbo5EmBXphXfLFddMqsug': [], 'usRJtfQdy0NtjWb7Ayvmsw': [], 'En6qaWnBQsQwTxNIp8SwsA': [], 'P5VtqamycWfDkS2_v-qU_Q': [], '1buqH6E5R2jPOrTQDF6sFQ': [], 'wdtTVOhK3iqVqlJunhxc2Q': [], 'tWJWgm6o-FwwcxXa6G7l4Q': [], 'gx57sjNkxx4pom58gniAew': [], 'G7Ull-QUaNXyPwtEErHZ8g': [], 'N06GSdupPPte-hP0YRFtdA': [], 'eurb6L87Fz4icVdbMdQnkA': [], 'UqhVZYUeoBGroYpZB-9jlQ': [], 'oD-C0IhodDOtWWOiNm2txA': [], '7MTQYugLbY01UO4Kq8NpPw': [], 'x5vSE0-NO_YSZtOnitLWuQ': [], '6MKdilxYLP3W02wnu3UFmQ': [], 'yDIpp2a3J9b0sgUNsTgAhA': [], 'xJxfGReFZqZ1DDppESxMVA': [], 'jr0_Am71muHJipUqI8dQWQ': [], 'vezSmTPXG1Tz6DPckHtsCw': [], '9kFhX8JgZp3xhtjwit2ZEA': [], 'eDw3UUcM_T20WrsKldracw': [], 'fC367v5P1BRSo0DgnpQmJQ': [], 'JXhi6GuB6wqBfw2Tc7ohvw': [], 'ia1Q47ANt6OZDMpQPzkqJQ': [], 'zM7W3BSklPuDtUD9t7fdDQ': [], 'EyE2NntpQyVPaLX7gSC9dA': [], 'xY5uR_HCwkdAX3ZLkyjZZQ': [], 'JJh7q69jbfACuVBr93p8EQ': [], 'Z-rDFHQUuh5gIbfadNRxsg': [], 'HKt_BDQJmQTc6WhU-3hyaA': [], 'iXTl2p0w4Fnv8wZNeOEbhw': [], 'm5sGdODCWYVu-bjvqG_OOA': [], 'fkpOrQ34x8AFfszr-gce0A': [], 'SUV2tu5mfQz7Xa9C2pb6Pg': [], '9HdEvvISPbzbL1u0wGJHrg': [], 'ys5qyjxJ4p0IjhYrjOatVg': [], 'b1s8c1CTlHmLIlNGI9q-mQ': [], 'sWwCwjsd27k0Y8m1RIWZEg': [], '82j2FxOIY7gud1IRglm1aw': [], 'O4YxrrQ8Rg1Kc4Mel3cAyg': [], 'Nf1ZtgHwg0Mu5lOaJYgDGQ': [], 'AlninJFRoy8h3jwxddJeZQ': [], 's99QcHNImIap981GtNeU-g': [], 'F6Xyqyoi_RCTc3mf00ip2Q': [], 'pCaKM-GAKrhhh3YdvM9NvQ': [], 'orLVHbm7Ri027Q9IBHmeLg': [], 'o15GPMmuGp4qwoqmBOUgNw': [], 'Tf_VSzdWojiJNwNUQ3j4ZA': [], 'RutjZZAMrGldOI2GSpAT1A': [], 'pJnN5PxqFPGZW2pJWkQtzA': [], 'F5v0OQNCwCni8jIi60x2DA': [], 'b65Ugu0VDKDNbLq7sW9RDQ': [], '9opBpj_d1TCv_J41dAUhBw': [], 'Ja4stXdNYr39u5CZHMNtjw': [], 'YQGnEP2TysOi7WEfAH39cg': [], '9mIm1ef-NVDQHFE39Faxxg': [], 'LFfYe-hh1NKFtUKV3LUgfg': [], 'kvyHTYU1Qlhobr-p7C_pgQ': [], '4gwh0q7JsdzHIm_pdYUlZg': [], 'Vp9TrF9P4ifIRAMcte-ycw': [], 'k57YAz2gkeXgAYij7JIxjw': [], 'w2sb3HuTzO_BuOJ5AinbNg': [], 'cC4_BKJARFbGu0I25K_Sww': [], 'eEfDS8JjpUOoslhJDIbltA': [], 'vhIJ91MDgUuk4Cr9Kpj1Nw': [], 'cTgTtdw_O-C7VO3oNzGRvg': [], 'WQAaGMguMmnxQdgMeEFY9g': [], 'PmkXtqIcjQGpNShB8yTSrA': [], '5LJ6wKhh7zuJn4XNei9rQA': [], 'S-oLPRdhlyL5HAknBKTUcQ': [], 'NPiLy71qqXzb45k9eQOgCQ': [], 'jG1jcAeDw0pZTHCNC5kw_w': [], 'tvpWoW2jMU5K-BrJTJnIpg': [], 'HqoiR_hVgNPR7L4XVZHyRw': [], 'u5U7iPk2D6SPprqlT7yTGQ': [], 'cMoAyO10kXgzNEGSnUUjCA': [], 'NtfAbj7MSj5IOhAsGM0-5w': [], 'ygKRVzf8aOwqh78pbuRBgg': [], '9WtEKbNGOU-wo2Gic1hUpA': [], 'hFK8uBuuwZgyCMYAis60MA': [], 'uCHdWwomBaXwBkUww5kYGQ': [], 'fDPI6UBxSFX2MC3MmfM-CA': [], 'PELJ87HToX0WjQiPR9HpGw': [], 'da_QOspls2XoU5AZ6QNcww': [], 'Dl49Zc2Mp1MTb_pLLQ0RtQ': [], '5ykOWYZ44sUvu9qxD8rPeg': [], 'TectsyEvH5vmlgtYQ7Sjsw': [], 'KuDmCggBq6zwxc8CSJxLdQ': [], 'rIhu4bA2CmSicOSJmTpGug': [], '75i9St7QE12NX5JM-Zt90g': [], 'wEWvo1-lnj5ZcItvLp2sDg': [], 'Y3awsAE8mFdCG8nwEXWF8w': [], 'vUJhUVmRMn9T4gsmz-L_Yg': [], 'ZKJcKRG6fQitU7q_Eq04hg': [], 'rUmJ5moQLQaWA2s99P2MEA': [], '6Tl9I18Y54AhJMQ_jn7Hzw': [], 'v5IUggBPzXEF1MCB7QMRsQ': [], 'HbzO-ZpnoR1hkOaygZPKYA': [], 'O9gFYCf_BU56KhLByawYWg': [], 'qDbVUkKMLtRqSDcKgLTx1A': [], 'yvJqxVTO_qwRGLMtUrqzQw': [], 'E-DyJWXjao8lyTw3xvXY-Q': [], '8GHn7-g8u1Zi9rJcDF5fZw': [], 'IeYEMn2c3tlhtol18n_Log': [], 'CMCAZVvZlP0ztWo6fhwnGg': [], 't53w4JlkxTau-G-TzhSWog': [], 'FKyDrTFQSvbn4KGsRFZYYQ': [], 'G_n_dp2QXmbj-hiVY1W6BA': [], 'P0k48-YlKuxskB7ys2Ir0A': [], 'iEWsXBlLPpek6c8VyBwTxg': [], 'wHq1efQVz17338k_aUOX3w': [], '9q8phddM1YWNKZVepKi6iQ': [], 'URa75T-A1QvjMUFNIPyukQ': [], 'frhhyWjSCYJFAy-waxWdPw': [], 'YmOWkved7K8q3eXgf4NNnA': [], '9wkjBgOlawKzhY8DqZXU9Q': [], 'jb7pFtM4J5Hu9tCaoGxnRQ': [], 'Vw4m_3DyDQgMPU8ouj86ZQ': [], '83cVpTJNyzv9lJ20vzBgdg': [], '5Xzjb7ATQHCozQGedQTiyA': [], 'M95OX2nED7rjPxOURJtOCg': [], 'zFtIvrp0Pm2pOex-4g4xPg': [], 'MVg8_dWzoCtGjBvWCatjjQ': [], 'JDIbJyTbvmUqCDRHjGcGIQ': [], 'YYztMMdcudL4xuSF29yelQ': [], 'YR202Rbw0E4aiUJNeAJjOg': [], '426RL7G7oTyu-f8jFxVRJQ': [], 'oVdcOfPFUHae6vRnAEzFFg': [], 'PQWE8a6Opjiuzt7DaX2R6Q': [], 'b31CVkPRlnYVjK0RgTAPWA': [], '0PMKMyfX1j7Nc4esk1RaMg': [], 'N3zUhzJGATxCFuHPcW4Oeg': [], 'XngwPRynytzSPJoVlawnjQ': [], 'dQu9z1oQ3Ha9H1UB4ks_xg': [], '__H_61gpm7eViPMbWxPZSg': [], 'dODimuyIJGIxER5uzX5WuQ': [], 'r9274utz94-FsCFEUPNWag': [], 'NZAxQxXH0YkSzPOKd_Nv-w': [], 'aVkVDJ01OgvNwhlCUz_bng': [], 'k10rQp_ZRcXW63Fxxkojcw': [], 'gp9ZESRRNLqWfgJtEzPThA': [], 'U_x3Ryer88VwUlqa71Np-g': [], 'XvBZBafJRvDi1HWbLggoKQ': [], 'LTzyf22IWvaZOsx0FGISRw': [], '86AlQmjMfkxZgH5UquSOPg': [], 'AGHtVGdsaeUxUIXCMLhDVA': [], '7Q6pUSru5DYRwYo5U3Xjxw': [], '4Qr01ALyMyV-ZwHrP2purg': [], 'UU1Zfl25ChVRoGlY39y_eg': [], '3Z2H8TFW5OTubRrwkRejpw': [], 'TBnB4iIU0pVKkAzN4T8xNg': [], 'cUFf5LSP0xN3JRTS91QC2Q': [], 'izMVaoWC6BLx_yKMiy8Tpw': [], 'q-9wprAg0B4_5o2ZWeR20g': [], '6MqcSKTUvvKfoMio0VkAqQ': [], 'doW7nAJX6PeH0Ig_mhJsGg': [], 'kPR47uxGqmQNIQkIZr2_Tg': [], '37n2MtSu1Xe8j1ci8jd-0g': [], 'Wav1ieLUA29htdXWdGmmoQ': [], 'ZMp18tQQTjloj0pKSdENBw': [], 'jqAdZf9PJo8lsRskc6T1Sw': [], 'djAjld22dIUTI_R21gbzqw': [], 'Yf1Op02UNSKeXx5Fu15DAg': [], '_6mvQX9x66oz046eS5ii8w': [], 'n8RVrpWpcd3HprzEnJ3RxA': [], 'gVjq9ymV9o2y8ArYkC5DyQ': [], 'URwrgfuyfpVqgnKwkawlHw': [], 'GmSe5lKf4Qozo_Ro8Yd0jQ': [], 'Oe6cb42EkFvIWwEIooY-OQ': [], 'yeTKcKUlTq-W7EJ5hPkqbw': [], 'o7QpLwjQQs4qDX6TCd50Ig': [], 'oVAySgyWYzzmvJpTJ8PO5Q': [], 'zunMkZ4U2eVojempQtLngg': [], 'Q9is4jcGh5FT_1sAKilu6g': [], 'fuQpzuHPLt8pnJ49j74qCQ': [], 'YmIYjZGnuZzqVPkFBF4Omw': [], 'VLcKamUwc65ETV_FIsfr9Q': [], 'OFacUbdk0t-GJ83GQ83LOw': [], 'HMPJHFMJ_9Qv0Cz3Ch7XDQ': [], '_frPvgHn_x8Df92QlAdMOA': [], 'K52BCdYKBzXyDKmpuJ7hSA': [], 'rhKzcgMm8CDhu7RZz_XxqQ': [], 'BT3FODHtRnTn_WI4RQbVdw': [], 'Rl6-T4ys2Vq7t_bfyORiRw': [], 'yNPh5SO-7wr8HPpVCDPbXQ': [], 'Kzo1z1hW6224lNd3al2SbQ': [], 'oqEFEEKsESYuCjhDzrCuEg': [], 'ZIdR-IopAtU5PH_mGtUAbw': [], 'QX9_WcbCLE9IG_Aig-1Rwg': [], 'YyY4DFr-OFtpN2ThrLHTAQ': [], '8EIZAb0knT2u_z2gIxllXw': [], 'Co4cQNWyAYv7Hw8jKcEKJg': [], 'd6LR3wI6Wntv2Dtn0l5xjA': [], 'cbbidA4huw2XQQWlmbUQgw': [], 'HZuzY6nCEnz39nyloDCV8A': [], '_c3ixq9jYKxhLUB0czi0ug': [], 'ibOX3CypYVz0nJhCN5Wmcw': [], 'QosqxBQrGR0o6Gx9mlcMmg': [], 'PKuUfy9BUk9LsMgzDIRr8A': [], '88yIboxl9p7sPy9ifh_s4A': [], 'aXgF2q1ciYIwUS2ULNNCgQ': [], 'WNQzkEZT1vEg5hS81e_gYQ': [], '9cflYye_S2xNeb3C0mG3ng': [], 'VoXUt6TIJWyIf_lihbN5xQ': [], 'UO_62NNq1pKY61teaoN2bQ': [], 'sLNZEJbUBn1WULXewLrRFA': [], 'aXAp5q8b__mZu7w_ewjLFw': [], 'ihheHS4noJayWgECQpeJ_A': [], '1qwkbN3wu3AGDxMTXVz2gA': [], 'FUfhU3aUnzTycLjRvImZBg': [], 'pJdPcHkqtaLF47pS0LxdYQ': [], 'p4sTuiOt3AT2i9qU-4hjOQ': [], 'GJL5JTkkJA8NiF5XK5O1Cg': [], '4670Yw1xIefONEViw5NDFQ': [], '1Q_VjzXaq8Ad4rvSVOWpcg': [], 'EwqExeH9wkG3NaUHV-OtBQ': [], 'GRs6OxKZREAwA_Nmp2GmVw': [], 'KGqvUQQA4c9GJpi5-znsew': [], 'WvJNkHE_hcg8Hu8Ffz_Klw': [], 'cZxjPy4OrqJKscmCypDFoQ': [], 'tHaySMUc5u2a_71vfZG-0A': [], 'pBartPeLXbTAxoOOqp7HZg': [], 'TS_ohuVIkK_4mKrOyMsbOw': [], '0h5yI6np7weAVH0jsjHqPw': [], 'XRtelzecxvhGtG4h7Xdxsw': [], 'LR_99E7tVUfxqemvcGkDzw': [], '686oeWNsbc-aczplCFa_0g': [], 'rPY4bukI1QdfJc-1OCAwLg': [], 'iqL35L6AdFMMkRrAcK1uLQ': [], 'negmHffTWsRXc6oSf_upsA': [], 'Ls1NqcogI-szYoQ7tLh4Og': [], 'feu6_wWLD5l_2Ha3In_ENA': [], '_DiGwfdiH913E4LURwb2qg': [], 'vY4MVT7UoQzlDHwhB8QlPA': [], 'de1OhE-0BHuoI9pzXBKxkQ': [], 'IpLk18jwKGXYJ9Qre8ZkDg': [], 'j9bWpCRwpDVfwVT_V85qeA': [], 'V5BS6D63Py-13yxBxNZ63A': [], 'hY8Ls0vCFiIwNd49x0FZGQ': [], '11SBmWaUtDMCqIvncSEnYQ': [], 'O3UDRFNGWaddyt9O1Mh88w': [], 'xdRqjJ7mzwqUb7_toCXXgQ': [], '2PkCvqcVZUmPndaqsyWqdw': [], 'k34J0L6xAnknbv40WGvpcg': [], 'Hq-I1CmsR6X77aOYfXGYMA': [], 'YBIhTjmEH3IEZW4Dr5ReRA': [], '_CF9vpN1F9KcAkXbOIkL8w': [], 'JzNkCTqm4ukh4djWRNd2rg': [], 'JwXNyXdJmk_YnXokLhpI8w': [], '7lNFXLUNzbRKKJR01G1Hdg': [], 'f1KTr8efZfDUZcxG32kKIw': [], 'yhbW0ihw76QVAoyM8nnmEw': [], 'pKiSzUlBBRNEdTML24piXA': [], 'SbbxTzYuMdW4dGgXBnT40Q': [], '2DUdvdQE8FOxCHHp59HHzw': [], '2c9Vptks_vowLgVUMnCgjw': [], 'QpSUvreiuTGDjZ8dMKYDTg': [], 'BgthHqiXot2s4Sd_xcI6DQ': [], 'ibf4xvHWD4t1DOOZhidHBg': [], '7eQoxWr9RzyCB9IFvqHUPA': [], 'iNbAht5CVY4KH_cympbHMA': [], 'y_Paq1wErnU7kEUdgtyKMw': [], 'Wrd9LAbc8IOoAS5H6uw9sw': [], 'tU99Fl1_3HQV2Ww6-XxWkQ': [], 'snIAyWu0r0FBO063SEmi1w': [], 'UZ34XAw1GJ3chCOuKL69Mg': [], 'af4CYXhh5Bz6eDxit7gAcA': [], 'CeuTRtwsq6w5rztGOyNMPg': [], '30goBr-YkM8KxJjbeB8jtQ': [], 'vU8-ATy2-MASm-bQXdhRaw': [], 'Qt1fMdOQfphttwRVRQGXKA': [], 'tbmYBmGY9C_-A52rXyHloQ': [], '9p0jhBSwTPXyUbaZe_1bTA': [], 'EX_daRmTI61Eq0kiXBuDsw': [], 'ffLK5rktOFlH26-vZU5xqQ': [], 'kO1-ZswCgQak2beKUMaYRw': [], 'dnBQZpWTyJzTe0QJf7YK5w': [], 'HcfEk4K01Owy5pzdPWMVkA': [], 'sZf_KrF9ZLC7z4jiLGgVOw': [], 'JE1Jiu6jmfMVbDdiLMm65A': [], 'hRFKKf8jBnn4paxnNUK1hA': [], '-Oj_rs84KRFOTtbeQXPB7Q': [], '6yB3tPEdlIcfXT8k_I2UFw': [], 'qxDe7yciDZxImUZCKLkYIw': [], 'mWmGtC5J9nxXo7wPCipZ6g': [], 'YkyiURdNl438Uy21OL-8Bw': [], 'lDUMAAO00YSmMO6h_9YLCg': [], 'Cml4Yt5cTx64cOManHe-Gw': [], 'ohYgabP6PqkNsF0vnZUxeg': [], 'rdQojhbnoe6lX4hCyZ1hyA': [], 'O2Krwncc-1B6Lfzx2tJzLg': [], 'sXoIcZlAQdQS08IqRBL0dg': [], 'Z9PGYQ4tEDR9rfEnmwt73w': [], 'Sxx0E2KvnNCSqlIhbD0l_g': [], '8AH0BbxfwLEPR8WE8PBr6g': [], 'p_xIP8gXFhAVCjftc3l9dA': [], 'TtaXPsMrTGyPsAlO5LFQ6w': [], 'mss-LiOfL1vtoNo3WoEoJw': [], 'ZQ-7uFQk21NHoOzJfhEjBw': [], 'bh3ZHwscFbITrnN_KL0puQ': [], '-Iu6EwsbZQZY8HTBN853Iw': [], 'hIRIT-8wEnaeO6BW_y-00Q': [], 'yAXWKWRTs4wNy-zrJgoeXQ': [], 'IiTLzksQAv9U8CW3s0bmlg': [], 'aZ__2-Tm1urpbxF0eQ_gWg': [], 'j5-MsggZKYVxpa7hrg7AOQ': [], 'F7odEhS7_jo1CmOHnZaHRQ': [], 'fc4Kr69aeUQ3ItOlbewfCg': [], 'baIT89GubjGJV1mpn82Eeg': [], 'Kz4WS00PcqOJgxfZawk4dQ': [], 'ypcnpQxy-Cj6wPtcaR15eg': [], 'yQ8BbqjcdNmmcWMJTOYmvQ': [], 'SBNucLXc9dQP6VBj__XOmQ': [], 'cHzbYbyOokI86dpjN7gyDg': [], 'W7hCuNdn2gzehta6eSHzgQ': [], 'VguLzEEk7NOT9ec90NTcSQ': [], 'l_kdNOxfF-KQyCSaAi8TSw': [], 'pV0eHAVd-guPjogXLnJ_Sg': [], 'ONyDFp4eO9T_igeM2wdiMQ': [], 'ArQs--vHJtN7_m6hGH9EmQ': [], 'YPvoQ-DYNvshlBIJh_Xq9g': [], '1VKjDpPJdVoiRc8I9f7U9g': [], 'SX5NA-yKCGR234vV1eaxZA': [], 'hmV6gxzR9zwcTUbUd3srrw': [], '1N0NhvtN1JmPlozjuY_QfQ': [], 'b5J-EUKzmzj8U29Q6miV6Q': [], 'wH4Q0y8C-lkq21yf4WWedw': [], 'YIpwSFLkb1geFIXyqh62rQ': [], 'hb96ToDVKWQkAj5h-UB5Ow': [], 'TBTVE-YzujCHrTqoAxL05A': [], 'FyfltLZgG67QS6i2jv2JoA': [], 'uJ6gauLh5_L3Oi_GNgWPCA': [], 'H-3l48X4ANDJeok4OxS2Vw': [], 'YgDPoTM4ll7MhnyDSdq0fw': [], 'Cd3InBI7yCeXjf6xKv4jbA': [], 'PJerxJc0SN9h6hXlqSQc5w': [], 'uKKNw68mZZaa1jcyszEbyA': [], 'z88X8PXPfi_wyDRNrMjL8g': [], 'B7Jdkws1iJ6P-G56MeLTHg': [], 'EIaUR1pUniXUnLUpx4kn0Q': [], 'kNysv0XgMNUG2BTo7zlB5g': [], 'Pz0zekE_FPW7CH5TA1ytaw': [], 'agynml6vC-4RxT736DqqtA': [], 'FJrI8DmhZX55GLS2eWasZA': [], 'Q-omXDU8qadIqEvftzu-tA': [], 'wJY74R0zAgjxvBf-d4gm9g': [], 'WRlcASYWlNYmMr9lHOYw1Q': [], 'rxvKy4umkp_TfJGs9rOgyA': [], 'jxl1GXU0MI6DJSbh9907sg': [], '-4TMQnQJW1yd6NqGRDvAeA': [], 'nXdXNesi_z1rzl6uOa1FSw': [], 'YhdWKWt3sx6YgMIILfh_Xw': [], 'Qu9erGSYgH4ljIbJLzvzuA': [], 'HAvlj15w6j1noGeY0kleDQ': [], 'ZSONEY8fvrMHyK7vzK4yPA': [], 'vL9rvPWFWd7FsdJL330b7Q': [], 'Ys01mko-0bCrywm16WkXpg': [], 'o0fwMTRq6idC6l9Qgg8Z7Q': [], 'fYDzrVfx9uSbX7xmBVx-Hg': [], '-Du1WSRseqUXbCt_K-D-ww': [], 'a8cpW0oQhnJxvBN2IT-znQ': [], 'ezrNxiPJUYLJpDtTQyj9eA': [], 'Pm6LSrQySKyLS5b_a6CGSA': [], 'UJb1PrUWDFfuzwUPc1pP4Q': [], '_8URoVfDFkJtuAM53sNyLQ': [], 'P0IY-8h2q--Uiw6vKIJ3QQ': [], 'dFArFtgDj1rIahUDHU8L7Q': [], 'zdW81Pk8Q3jA5sMj9AHOrA': [], 'jgTjppAwWr7rpd0FCquChQ': [], 'thlAnPN1ApoNxSnok_fcvA': [], 'w6frk94BwGwxenre_zeXUg': [], 'n5fp_q7OvqVCnV_IhAyaAQ': [], 'zidkKI_N1OPxsiddTOQH_Q': [], 'p4YvOzp42g3JzlXJny8F0g': [], '5PlbORAcmUAJ0QCMJRSmDw': [], 'Rut5I04WZ2Hm2GEyDwk8YA': [], 'EFdfBcpAkBIvDW4RolgEiw': [], 'z9oJeVmNEc3F0ToZ0x4WuQ': [], '5ZzmZjt5-5fsX03BL70DgA': [], '5KgZD0CDNpUjbdV7OjUuXA': [], 'VAXp38_w_6L8iHxYIcuGAQ': [], 'qpBfYbkPmXIFWVQ7pLkQ_w': [], 'NhGkSF9UB3hiDKUY9roHBg': [], 'gDxEPY5YjM8i0gEU7kp22A': [], 'MgHWbwuxxb_txhI3lK_bKg': [], 'Vl72sVAt67tQ5TT-6wBpkg': [], 'fMSEHQ-9gY437ysZ3Ockbg': [], 'QprcsinZiEmrE3fNtzpyDg': [], '0a2fKfP6_PIx0djDrcln6w': [], 'kNTOkEtBVW14RpFEUREzEw': [], 'KgcKoYiZdwFJ158Gx3UJyQ': [], '0fq5tnKGWSCn7T5WOlbchQ': [], '-1VaIJza42Hjev6ukacCNg': [], 'QiWwJiV27YFscyJAkAyrtw': [], 'Ak08F6RqjHYmVCzweBbTrQ': [], '4xfYFf__ushFQKncEdSZ0g': [], 'P00x4L4vTRNsKL-UA4EtCw': [], 'HWn6UEjunBhWtuUrZFkYKA': [], 'wUKzaS1MHg94RGM6z8u9mw': [], 'DkaPGavPjjw9DWUmrZ19IQ': [], 'odrygFzmLuVKonG9-fpj1w': [], 'dnB7SD38_lwiC9E-BJxq-Q': [], 'oSDyex506Y8H7YegcRb_9g': [], 'iEEiRQjRct417O--f6QqZg': [], '0NhylBPrcpXUXZmqZL4T7w': [], 'AVsZE_gMkuBmRLRiqmPqJQ': [], 'thLX_k20SPJ0KyusGTBIHw': [], 'r5PLDU-4mSbde5XekTXSCA': [], 'pt7p4klGicvPZe04mhhVGQ': [], 'DPryhdiXtG_IFpdJwDBxHw': [], 'dGNthRKR8IIOkn8FGq6Ceg': [], 'fquV3OV8sR27kifYolHn_w': [], 'VT9VcNegXrl-BLDCjWH3fQ': [], '6MpRsUKPpGUXklU2bYHUDg': [], 'pCWg4B0R5gauQR4SJ9VDmw': [], 'zUDVw-7GkqjE6qhT-92XRA': [], '9u0bZOv8a91ASs-WldDhIA': [], 'Q1itFc-ptu1hGIAMWU0qBw': [], 'Vm9peAR_f1aHRdnZz4G2XA': [], '_9SDJqTh8z0t3WZmVvbnYA': [], 'UY1BHeeb1oE0-uk0EKqaGg': [], 'W6Do-RqSULOil1LtZ6XwxA': [], 'oj8qk3W7O9oq15VIs-vYJQ': [], '6ccBGT9OiY4BWWgKSzMG-w': [], 'l6rxaCNZRx9JkOkLkb8VPw': [], '5FIOXmUE3qMviX9GafGH-Q': [], 'gS95Lei8i0mXANdCz7Nhbg': [], 'EAs61Wm1O6tLjCs8t2eP-Q': [], '9nHpqlu7be1466wdo_t5kQ': [], 'cHdJXLlKNWixBXpDwEGb_A': [], 'b-LG8093i7Xc6Qchgka9zg': [], 'S5MYcMCSgqGJRLO8N5Uk3Q': [], 'rt8yYbavl6IAUjwh66YeNQ': [], 'RrXlDMjW30v2KatCxOobdQ': [], 'uJgxCC03SWlwAkttc4exJQ': [], '9LdvD5AzftSghCUKVkKirQ': [], 'RI7jH14rISeIa2Idvuyh8A': [], 'z8Em-bhZI3Mmspml7tj6tg': [], 'gpivFNirREOyEAwxVebR5g': [], 'p-8AMN9Q0qwym-3Pdle20Q': [], 'PNTyiqS7R-0c1ofxOfDijQ': [], 'aF5-dQk2Xyto_5j2oBwbLg': [], 'HTaA1mo9cB1dXMwfJC6yKg': [], 'UXqm21CiFIojOZdALb-AaA': [], '4EcKw-nLolAnCyy_ntQkaA': [], '7FLmfV1Ena0xE0Ew82C2Xg': [], 'ApGoh8IzayBp0bnNZ3WDQQ': [], 'R946c_s5x9TY_SWplIBZjg': [], 'JNKb9LgYVwWGW3-Mm6o31g': [], 'W39H8GlLXXj6X8E6fgrQ-A': [], 'zWLosp9soUtbEAe6oldrqQ': [], 'nlwomMElt7sDwF_njfEEIw': [], 'SLY4dDpyYJW003VCTnEReA': [], 'cNKz8nAMpOGl-i0hH-h1JA': [], 'bZj_Yd8gKYhZDHmppHsF4A': [], 'BpugveMre-_-CnNdo7UeUA': [], 'Hpi9raHlFm6prTSzFHTurg': [], '3JxKzWquEbPC3yPIfoCiLw': [], 'TL-D_z9E1eKJQqSioemFfw': [], '-pfWtzvY8iNTFjDPXU1Kcw': [], '5nWfU-qheLL-JzwYgHe_cQ': [], 'sYDc1TENwCKLHvprBa5rLw': [], 'ygZSfAsnlztdeWZOlJA2Ug': [], 'eriW9d0AXkQyLrX5W3p_Pw': [], 'LP6qd2sUvDcL2LoQjULk3g': [], '2gI7dlktBQXPZiuOW-HWvw': [], 'xwuy99IMTRu9nNeY5KXqMQ': [], 'WZAENeqQHGRIjSD7VTAmyQ': [], 'NtvCX9UEWFvHSxQj06XQ0g': [], 'kZxFQvjgaMnAxFDkK1bfxA': [], 'g-I48SaHtdIGR5ZEoVeNFw': [], 'IjRMUEf19Y1MmIVjqGyS4g': [], 'mNpaGTdKjqGV6xnytlr_Nw': [], 'Wv_qGcUKptXkapn8e3j6Kg': [], 'Hh4qRAOswrmBNWt3wPn8rw': [], 'ybFJWUEbDTE2SaYoCVVvSg': [], 'vyDW7_CHhDUJshMqaSjj0g': [], 'ePt0qmZgU-fjqMoM1M2U3Q': [], 'pdy6EAcJvZks1hKogxOj6Q': [], 'ygTI0aVpnWq7SrmR3pqgOQ': [], 'ImAEpu22OOSLcsBnXgNhKw': [], 'p8H_WsH1SltPmo0-c67gFQ': [], '_RYkQNjV_D6xOzRp3RwVOQ': [], 'fbQaKW0Lte0JQ_opbnjdKg': [], '1QJFpZxLbHbXSKohWp9uIA': [], 'ijYzvkUe6w7RKnzqgE-B_Q': [], 'xRHbsV3S884mE95p4-nOmQ': [], 'OxVp28KMrUC9DRimFVdacQ': [], '3saG51hM2M14G5f-QwhGhg': [], 'U30HnYk0SVtXHf4MrKuuiw': [], 'OgpFnMfx1R_Aw4rZfLRuKQ': [], '3b-jZX9Ms0U9B2Oy_ZmNMA': [], 'CCkHpLugN5g4_Ikfn5X1Sw': [], '_YerZzosnwAs6R6p1FNkUQ': [], 'EgwGTDZ705TwudPJwAY0yQ': [], '9O-L6F0cMfNmE5i07pN_xQ': [], 'IohmLyQ-spRYgGldapMSyg': [], '_MVSmAYSl4RkgXBg5e8JaQ': [], 'UHrr3z6DEPvJbLX9uQXVtg': [], 'EC6xUsmzvVqRD2sdcE1kNQ': [], 'LyuDnoxI8yiPPmwcF62bfw': [], 'UCTWQZEMPpXY8Nocv-C0Kg': [], 'b0Xy5VEwRNWqglfxy5Anlg': [], 'XoaJzZr2LsMKbBR2Gyf5vQ': [], 'PNzir9TtJAD7U41GwR98-w': [], 'HkbNItNrnXlNo59M0YyoMg': [], 'jI0B7zaALNKge6eFma3M2Q': [], 'hFypKT13Ne8ehARziKkgPg': [], 'hc78bF7jF1BY42F5yQjDDQ': [], 'vGDhK2Lc4Np5iZYZ7FG0QA': [], 'XTqovJIERskUcTnUNxhp_Q': [], 'rbnu5j2ngn2EeKoqLtnB2g': [], 'HUJ8GgKw4IeWQlfo4rTc2g': [], 'UL0FoeGT0marq0RG70G-YQ': [], 'lfZYPCoGQ-1a7Kr_hgYSxQ': [], 'EllcHdTOyvsfjPs5Md078Q': [], 'rWmZAJMZ8NBw-_FbOYPnfA': [], 'sWZbbpCt1a-bcKozfgkOQg': [], 'q1g2AKrd6fTKeylQ1yZwIw': [], '28hruDLwF_5s0QtDWH4rpg': [], 'Xg5qEQiB-7L6kGJ5F4K3bQ': [], 'vT5mKKEcAxhSPj452HHspw': [], '8Zqh2jwtncA3N4fWEMTvZQ': [], 'sKhLvavlHwQqpwomMzAeAA': [], 'D6wPh8EcJqiL3Tbc4iP1ug': [], 'mcXRNuN1MsgXYt8B2MWz2Q': [], 'GdV24nwlR29MPqNXFglZnQ': [], 'BmAhw0dGq0K1-TyIqM8SFg': [], '6QRY4tMQdHFOe2-_CUHMdA': [], '6TvKgqXFcwdBLoNh6ft89w': [], 'v2JjdQ4NQNIxqSMnqkTGMA': [], 'Bkkwt8E9MHvgCHn4lUFtow': [], '2Ne7F6TMuUdRUGhyjj7abg': [], 'qjM9CxBUHeuC0Paj_qnNEA': [], 'x57_qCiL58xcFOzvwqbWpQ': [], 'gA9hCYY7MYl9oZ3aym5dvw': [], 'nsEO3MRzYLKfgtID7gvArw': [], 'IU31IE28AnAduEqJ5Gzvkg': [], 'fAPVvgRW0BjDtZCtNj4eaA': [], 'HOqtos5lUqV9x0MJbqwR1Q': [], 'BJW6rCMoWcn8fDFhbMVyEQ': [], 't6SfYTEvg0o_cfJddsqEcg': [], 'XxXmyN3tlroRQ1SOoSXHAA': [], 'SiKTElhCaJGhAdySd7JSHA': [], 'YjlCXwWr9xx6TnHmTFCKGQ': [], '7ADhjoO3bly9VoQ6OqXQLw': [], '4Yqjn0n5e3qX5UGQv-hbFw': [], '5MxHxh4O5BgpQuuPBElvWg': [], '_rXRnGcU3RFtsehmdL0ucw': [], 'cGZf3x00f3eH-EOJdAhSKw': [], 'PHUcMHrbDKAmKxsqT2cewg': [], 'DkIEhR8behaIoSexekWV0Q': [], 'kbLJlPVRdh8_6Aq0kzTX1g': [], 'IWF6pgOPF7gNBOJqL8AaXQ': [], 'utoTa3Ngv_oSfB5TIMgN_Q': [], '2XTHIR2Fza2XiC54NWiNZg': [], '_8I19IRzDXmMSRES9cEGlw': [], 'bKxKPGmkwH-Q-GSbt7chNA': [], 'wu5nk3pY1e_ou_Le_U52Sw': [], '7jOuytjEa6Q9F_Sy9UR5Hw': [], 'bI4emjU96ZvGQRTwxItd2w': [], 'S4cbb8-re2t9GF8GloVXnQ': [], '0ukCpm8fabI2xNJ8KSSXww': [], 'rOKEgdzmhzT99Ob_OmPE0Q': [], '__zA29wBG0LleSxMzNHpwQ': [], 'xMHZNwmo22Eq_XsCLJgjQQ': [], 'g_x5lM7itVvWA9n34QVlFA': [], 'OeW7ulF-qyrj6uLLUsuSLg': [], 'uNA3OAcroBXuxZuGDlqLhA': [], '5WtKBzHv1mL2-w1wcz3kpw': [], 'PqZsc7vmJ55vBf46uqQ41g': [], 'BDDIpeEK8gVdhiglbjEyrw': [], 'RA1Jchnz3uQDg4YVHckKXQ': [], 'gqEW_dPfTzMCP8DdLupl-A': [], 'gASpyE_hP-kzeJ87vZZ74Q': [], 'nVGPxMooxSiaSH_wHvcRbw': [], 'Gl01qPpjC9DKN_Py3IEnpA': [], 'Tgc2dTcE1xOey2OUt_PvXA': [], 'C6MG3vrloHF8h9PPvZNiJA': [], 'XmbfbCSm-NmAvflusZJlIg': [], 'lgNcn7lMojgx97neeK3JLQ': [], 'htNNxttBjRmRnP4d0XFl-w': [], '25PtpM0IfG_2IIQWCj-n5Q': [], 'n6AxJR-ey2_DgAJPZfEvfQ': [], '-zhywnaBiGRNcr6kbDagBQ': [], 'MG0Ek3-yxtprwzY5ruGxRA': [], 'jaJ6AzqC7xmbrHvD3L8xHw': [], 'Euu79b2o5k5RZReIuThBWg': [], 'qnql60YyttH_nMfufiHHtw': [], 'IdyHd4T3rZ1pyPaU5DKWMg': [], 'OtrFPRoyvGLdn_HS_tukfQ': [], '825nC-s-cQG6Hsul5Gm2cA': [], 'lUcSe9mjppbAa8510xj0Tg': [], 'M9aTtOeOIG-EOLeHNgkKfQ': [], 'CJxRsR81ETN4QXQyB3YjQQ': [], 'XTmqUnO9FFbdbE4xL7Vhlw': [], 'IghwtXL8ZgK2dEL62Pzhrw': [], '8bdOZFl-Bm9vTDqTrc2zPA': [], 'pNp1FK8JqW8ZMA26YJGXYA': [], 'MVLZqbw6vOkCjFApRBlSfQ': [], 'MatGnwADyILP8utonlTWDg': [], 'S76vqhSrUZSU8rhgXKV34A': [], '9njwmO6YzhaQB3-htNMFYQ': [], 'hxUxeY8DG9lhyjCVo_s-pw': [], 'aaDEAJhjE3ZPxO2gXgCh9Q': [], 'pYMVEUmjK4tkKr1wn0ne3A': [], '9T2PtiwZPt360MhaM37VvA': [], 'sKHDoLqDj99UuAP8ljSaTw': [], 'zwNLJ2VglfEvGu7DDZjJ4g': [], 'Crz3YPKbXdRzftigOr62_w': [], 'V0GHF8CkhOovDeQKCn7YQg': [], 'z5KWNSDvgv-4I62P8l8Ynw': [], 'wCqwIB2I7Tf046pbuSw0EA': [], '7k7WW7S43uuvuygExIJ5-Q': [], 'Fl7YZ2gbBgV5aHkcl90lOQ': [], '8EaMzwGJUe7iDF6ZknRfdQ': [], '_LL6zdQBWKIAbNKeg3uBFA': [], 'gek4ySiFtQX53g_AqdONDQ': [], 'V8wXGxlzngQRASEw1M-LJg': [], 'cUmYDqGhBLjH2IbZ0GK07Q': [], '8M-fofsvdyflfUSooIK3vg': [], 'STtrEGylaYOXoXQFLP5OAQ': [], 'OX6OzRz8l2LBA4WqPsBmgA': [], 'G7Lr3ML_16qrZja631R3Tg': [], 'iR36j1b8owv2aZTi3mR0bg': [], 'ncIFLVPKpozvUyZBAheyzw': [], 'Q0fW4psOyHqGbkbF13ucqw': [], 'KQBbM_4sAkzWrmaK_Pnksw': [], 'yjX5l0UGoFdR4t5q3i2MTQ': [], 'E5GZqX0DufUass4fMblN7A': [], 'LnmLxydUEdLOuPTIUhurzQ': [], '6lCFq6RQxctSW37yNYZ5wg': [], 'DQO_c9osfJDgbJ0_WdygLg': [], 'ST2k0R57fs1Eo4ao8skMPg': [], 'YM-nYIHd99qUt9n62AxIAg': [], 'ghp2PZEqav5y3iildRxGWA': [], 'AdB7a8eo7uK_Fq-aX6_l8g': [], 'owtAH-xAVf_hS2rFNGAXsQ': [], 'Sh-XzCG2pZ59g85kjROciw': [], 'I7HGSg1OfAbO9X-mbDYdxg': [], 'Dxx9L6_wyfjiZieJJurptw': [], '91H2OMyaoyTLuQjVDmJsag': [], 'TkEMlu88OZn9TKZyeY9CJg': [], 'UESdOMLsXn_7WcwOZt7I3A': [], 'SaTA8vxwlX-IYKRRRQbxFw': [], 'SkdJFYlITwDsk5FYH-s7OA': [], 'Net_BZG7t8JRLjXxNtvyNg': [], 'MJlq5AuCkRjz31sKspxp1g': [], 'Sg36zmOvyPAmuz6vME56Vw': [], 'dHmLezNmX-VW8_Hfryv5tA': [], '7dtcBJH9qxtxx1PWnzT10A': [], 'R5WkKWo9ae2gN2feWtB_4g': [], 'p6FPcgLymnpk_gAyQuW_Mw': [], 'KPfwWn0wcf482l_T9G6Q3g': [], '45WnyeDKrAVO02eV8mMz_Q': [], 'jom1Jo6Uufn64Rz6payYSg': [], 'Np1L_H8IJ88khYyEZJUdNg': [], 'XcOy_IMkPO9jGBox6mHT8w': [], 'AD5r187-LD836JW6ERa9Cg': [], 'lEV5bK-i6w_727MSgKksKQ': [], 'atoPCF5WwKgujB4UeldURw': [], 'wrcfLni9nmJK46Wb4XMkaQ': [], 'wAXYLmHuysYTz8i4VPKmaQ': [], 'h0ac6veyDcX5OsiQd5Y1Rw': [], 'Q5CFijcygcSLxALuRl4tyg': [], '9NaZIhfRPkxRJn1eA9zrTA': [], 'q_IcpNBbM9zZswlIS-hEGg': [], '7CQsM9nN53hOWRzBPSesJw': [], 'YqQagw5jdCYeBhFTsIFWcQ': [], 'bJWujT6cMgdUP-aXy6AitQ': [], 'Xgk-d2x59qhPxOsuCKeShw': [], 'iOUcvayK5jkO7hAE6qOzlg': [], 's7QogEr22M2VclZ3jO789g': [], 'YPavuOh2XsnRbLfl0DH2lQ': [], '-jKhfsXol4FxbRjK8aUsLA': [], 'fI9ErCUGY8rXRPBbatcxMA': [], 'AEZjTrJg8r72aYNjniqSNw': [], 'iX6t9oXOXbdyLUDcWLM9nQ': [], 'nrJHoyHClxK4zJp99VOshA': [], 'R2fjCEHav7HqIhfBRDWQ9Q': [], '2hO-2tBcwZOhsbf64LcfWw': [], 'IkLAUX7lZIWqE9_YC66SRw': [], 'drYgdLcfKwFvB-EMiAVV5w': [], 'HjXI6lKGPVNQ8dYJPtaOCg': [], '8_BPq3eJlhOLMPuutk6zQg': [], 'AMM3qOH9DUQzJHm9Q3vHag': [], 'bVqNtwcwIz2gAacHWYF2lw': [], 'BC3WccxEMzN77SCSmmTvcw': [], 'wKgbqx6FsFiDQyoICGfawg': [], '5-l_zaYVEG-ft0cwyhWpyA': [], 'C-Qkudv7u8465nLasGR31A': [], 'QuybD_bJcAB2CHcpTfREYg': [], 'XpX9CjHYlZkQRKKxOeNE_Q': [], 'wkzWdo1mBqbzR2KPoXtWZw': [], 'Lqp3uwGJU6CHyys-eerMmQ': [], 'aaganQgquH_n5CWe80haXQ': [], 'VJVEDDJKccmrW1fhJCWmsQ': [], 'o7WABjZct-u2gpBR8LXckQ': [], 'smx4rjWRtbkE656F7fE7rA': [], 'XnElAzk6ILbiHEDMGQmRZA': [], 'f7QuhldHTdj9TG1iLPk58w': [], 'g4VsFPvLu17iPmARzlEdXQ': [], '52sY8-9al5LJi475nNJkyQ': [], 'Bny78w8kQKHof_Xvqmj3wg': [], 'ju1jDr9nF0YCeTNKMYXPVA': [], 'qDOmZGSjF22RaaUYnePZWg': [], 'ztOM7xebpPl7OUgOELEqKg': [], '7cK9uEV09iPmsTqOqmY3kQ': [], 'QaRXXPfmcLmrPmLB2DKO3A': [], 'viB8KE-lqVzuaeyh6M4Xhw': [], 'd1_Ko1DQ4QyB9BjnCFjVLw': [], 'zDbRhfmrhXdXy1o8uKTrAg': [], 'x96irbXzYddvlwNWd0lf-w': [], 'ctzH0uqGz6q_o2nuCrAUvA': [], '8o2035AiV8egxfQIxR7dPA': [], 'wHn5ekrhv_DsH2p3fjAung': [], 'nc7YTLSXEWPG4Q0WlI5iPQ': [], '30xoqX9VRA_hH5x1QgONEA': [], 'EUg6vHQRLHRw39bmompHcw': [], 'ZNxpTA08v6qBmY3FbxH29w': [], 'QdXe9IRVrISeqEAulHYBTQ': [], 'gMN6VKmu4E1EmlMYzz9A3w': [], 'pgpnvPd3mWxI0O9WYUeLnA': [], 'GlgwAS4tDzB36Q7JlBr7fw': [], 'mvsnt4q3A5TzcbPFolpsZQ': [], 'bxLmrsMdjAyz8QEqWml1CA': [], 'qfr7bHu1-VXUTQWXoSMf9g': [], 'W19GKChSpyRoaBlmNFTiWg': [], 'MhwAKgF54Rwmm4vkdIb0Lw': [], 'WtkzllWKYCEmN85E7fMBUw': [], 'DDAGwRR0SypD47XD7-ytjA': [], 'd10IxZPirVJlOSpdRZJczA': [], 'iOWviig09i0U9YRDMwp1fg': [], '0zr7FB0nnZXJmwb94yTbJQ': [], 'n6GEL5PDQ3ZvZ5HtxIhGFA': [], 'fLHb5Oio11tUZB83zGP9NQ': [], '6CZGwCpnuLTqqR8SURdw5A': [], 'Pnyr5mb8bVk8QKEt3hCZ4g': [], 's-H3bQMKP-DOkd2HMe-SgQ': [], '06PiQOUehVOYtDcZRWrA5A': [], '3tTGJD-snCZs37FFM1jdkQ': [], 'h_hg33vb0OsWsE6T1SHAgw': [], 'VcGyezSNtkNBr2HidcaM1A': [], '-2isRNVb6PDuBagELL5EBw': [], 'mX2hIE2e1AAzPUcmOF7MBQ': [], 'jsuUmIEefPjV__ads62Z5w': [], 'QOmojzu24dTI2coPjOtu2Q': [], 'RGo6DQ-o4MbIqzGUq7OaMA': [], 'VzQYGDQ5YF5USc_2EeqVtw': [], 'tL35ZW613PCPqGLbBuIlEQ': [], 'RnxOmwWVsJC87ztJPrHsig': [], 'kzKoDFhpHeExqGHH5wlA7g': [], 'KBP7x08WfD__BUoE4kY0lg': [], 'tkSk6jdenjbYEcqSchFR7g': [], 'A2eA3LRbptrexCGw8fu67Q': [], 'jbZwqCDm7iq4no9zu7sd5A': [], 'GB6bZTCMmqZncRSxurNblA': [], 'Y590rdOrmBf-jW9Vmn9Uyg': [], '4IhXhL1_bwBcBUW3Fot8xg': [], 'oDzfxyhB0XIIcMQWl9S3HQ': [], '1JF9TbJ2d5hH8xsQvvklHg': [], 'xlb4QVFWB9CSPT7qNRn5xA': [], 'cXy1NKi1cdsidlaT6dDFKw': [], 'OYAx_cY8v-elkMDgADM-jQ': [], 'K8rtht6Yqu4EbZfXKnExfw': [], 'JRXY0dNIxMGdaI4_S7zMfw': [], 'w-q9UTLqk6njQWOJEWelwA': [], 'Ss37i4feOgX1N3Z_h5wy9A': [], 'XEhy2JYa4FEJXpCHD3n0uw': [], 'EFHpf_-SPzShCYiS-nMPWw': [], '-hMdEBaeky47g4D8-0Xl3Q': [], '3rX4WqckBD2e4Hdeic9wUQ': [], 'PGJLirDJJy3txBB7JVgs7Q': [], 'RZFryvOkznd4jtpj8PbSzg': [], 'v2tjswIV3e0c8o7_7MwYmg': [], 'xsdRrNJuNumvrwoQ2Tt8tQ': [], 'zE_IhbAE02ScKIYTNzTEDA': [], 'pBFewLcdLnf1XwPTE4jtyQ': [], 'KITRU3IAH3xPWP_vcVuYcw': [], 'qNDqXNl38BYYn2JWcXw4OQ': [], 'u-dkj1MrVHwVxFSzd_z-4g': [], 'mjeolbU52n--a9Lg4ygg6w': [], 'bIV_3C8_deLgAxulAH0RhA': [], 'ofNYY19AzCZvw2xNkoaEUQ': [], 'CgCp4FAVXFnEuDavxicrfQ': [], 'bs07-hLuz0dq06gIUwR5mw': [], '4cuvlrnhnLA9r2TOmwSvfw': [], 'MOXetwOaB2Qp3aA73Pbyuw': [], '3deqbrFWWyHdlvAbmqWqMQ': [], 'f8BfK4xFQ4ZbibijJt9NBg': [], 'b9kQOV8VK_ecGYVoIQiHrg': [], '0OxEVzBKDmTP7GdSmhi3ow': [], '8s-kkY82WuATczo1YPiRqA': [], 'JhEtJbGjAqKDHCZ11i3qoQ': [], 'fW9T6P-OWM9iIMlrWK1AbQ': [], 'ZuIKt9FNqd-DuKLsW0BO-A': [], 'MiScfzRrYOSuN4Hxr5M9oQ': [], 'PTXX6CQK3FYlR4jv1x8thg': [], '3p4M5be6uc1S78TO62gmOg': [], 'LIWc7LI1w2GbuEsTLwjWLg': [], 'Ps4tmjscZNPHKF2rCS8tnA': [], 'fE9SP84G6TZrv36FLbCy7w': [], 'LUqIA9m-UFaeL-huWwalPQ': [], 'fVJszMsossyPFYEgw1dQ0Q': [], '9eoigne3SpoDbMpkVcHPog': [], 'najluTSbgZEpCdLIbpvnxQ': [], 'R-Me-p4Rbb0q-2pjSzyDbw': [], 'MBY8OO1ccxgB0Co6vQ35Ig': [], '6zincCvQTb9BsuK-GHZ4cw': [], 'Am8Z5HlNXLO7dVmCNSeMKg': [], 'xxMOCyfbpeEcH7A7t1RwwQ': [], '3h-mTVH5zmyLQMUGkZwJfA': [], 'TxjyFAzygkda5n_tB9y1kA': [], 'bgXSXMz4OaZyWBaicSJbyg': [], 'E2iZCFnfu9Np8lABZKqMLA': [], 'KFrJTt-NTXUrsdr7BGx5dg': [], '3HU3V2AYuVUxdd_Q5Nv5Vw': [], 'ZiTaYmacCUOzaYQ4DSygiw': [], 'ef1tPKe8MjIuoiscXef-CQ': [], '_nB8HNT2IDRhlAoY9TPYew': [], 'MMh9G9Mg9iLEeUzmg7Lyqw': [], 'R9i4v1iPBCFeqzMkQEcfjQ': [], 'lrAUseySfmFeZkWOGfsKnQ': [], 'U3NMWWabyoMw7z-PB4rH_g': [], 'aP2ZadiZMZvIXyikcNfQPA': [], 'a8HUj1osAWzyYFNzTHIm8g': [], 'RMtnJYAAiXmUFrMngttEoQ': [], 'mkjIZdBL8IDcBx804P4uZA': [], 'xpd4W43hUtoBYc6dzo-xBQ': [], 'el-3IdlW3bTCSnquLvH-3w': [], 'UNNTdaSmf_4vpSE5Bux_Mg': [], '2skQeu3C36VCiB653MIfrw': [], 'Zrf03_j-sjkqp0fuqFBZxg': [], 'YoaUq0X4KlAmT7kQXhfgfw': [], 'yNF9FqGJIJGqKmQfYALr_Q': [], 'Cv47JcsyTqTxxxowtIlSVw': [], 'wrRxFrnUucvR4dlG6Q9fKA': [], 'ljD9NsZzpLAsX9yva7lqJw': [], 'RztX0zV7ObHZD08SDUhI0Q': [], 'nSrLMVCShkos5msyVaQAFg': [], 'fS9a8AGrcwWPf_9vfn5wPQ': [], 'MfM1RlnTRFY4k0IDlKTMwA': [], '-MuatiMmslPOvk9kOMyjkA': [], 'pjU3gFUGaeNvEM_Q__NjtQ': [], 'jRaFTzmmZjYOky0XygFNCA': [], 'pODquGPiGwP4-RoY7f4xtA': [], 'OWw5_o8eLkWs5pJLCfjWeQ': [], 'vQ58sP3oipv3n5eGQHcnGg': [], 'Gy1GUXnTedXGU8tQAKWqeg': [], 'JTl1nXrukJTScI0Uz0x2Fg': [], 'AoKRsxts46M2bCIqBukirg': [], 'yoh_h9I63HdT0XG-2zkQcQ': [], 'toCCsYcijQQf2JcOazPDiQ': [], 'pImcSPg5tEkuvqHF7JnpoQ': [], 'DYO9Uf1oLvZBX22WFZeu3g': [], 'iMW1yiWfUnDUo1ZFnJQh2w': [], '2fY8CEOjXUkIBz3cgXZJQQ': [], 'qo4dzAKiwdN44wjexJWH4g': [], 'mCF0DIZSndctgTwJCfIvuQ': [], 'tgub8uhOq8qjVrkI5IabkQ': [], '9PGhcb_ozHN_qa4ZIFK-_Q': [], '-RnMaFFeP9nnK7QV6WJNGw': [], 'lXpYSMyEujoky4djEJlBSg': [], 'G9m4TMsKGnWbDavqlg6NXg': [], 'nIcI-IJdMFoA16_dW0ZMuA': [], 'bxRFIGAcYREvDBT3Nw3Vaw': [], '2p346MdyPISpZ2k-h0GSqg': [], 'JJbuI-4R8yzllBIwjKafjg': [], 'yRvmDKX-Ocgd8zq_iMgujA': [], 'KXfhB9wkyycKBi3BZ7On5A': [], 'TtbCOwOpNNzE7fW5CFwyng': [], 'sWGQAAoSzLo9y7AfBiLksA': [], 'snP8QGxG-YRNBL_uq1kiAQ': [], 'WXPLWqJuOwPwtJa2HQ-2fA': [], 'Ayt0hEO4siFH8h4lsCa4VQ': [], 'OA5D9SMnku0QAq5hFLytng': [], 'RnppmcoSs8xOmEuQxHaZCQ': [], 'td4s08UNrPK4OfynAF1VSw': [], 'kEt6gsDrXAo8s8O4LDBhvw': [], 'P6c0lV9DeJ6ofntpTWyqhA': [], 'tMkLVD60GqCgQ392GWPHIA': [], 'Pfi812k1E6TMnC1NRzH3Pg': [], 'dMnaB67cC4AIWtQvnbYjTQ': [], '9_HgBRUXUg_vKjTT-GSulA': [], 'ii_OxGUbtwd3S0RUW9OTvA': [], 'tWiFat101ID5w_wgAPMXhA': [], '5OZS7Sz7oX6XBL7KZE0G1Q': [], '3xMIe_qz6wKBrbThXdMiMA': [], 'T6ihfy4SYiF4PvuE6Y0VPA': [], '5OmuCo0kdvWQZXidGuxrsw': [], 'fyFmamI9xY0_OOgH6tO3pg': [], 'bU8LfqCBOgSgGrpXTYAVfA': [], 'B2FQX40vJowx0jdLDgjYmg': [], 'L5rBXuGwIn4cbPZ7Qwb_ww': [], 'ijT2-xvUp2tYBVP65QowfQ': [], 'a6SqJZTFMpSOR6Qb0STyFA': [], 'is8V5FkB6mn6nT1V5repmA': [], 'iUHz8jIWjkbx6pXsTUNIaw': [], 'zo4bIWOI9dDwHK5utgRF-A': [], '3Cct2X22fpUSK2ggyK1LYg': [], 'Qw39dZRMZC0_XniRfskJGA': [], 'XgFm1Q3GLohmXMpeQUmgpA': [], 't7DTwNtttwkHnKjRBpcCYw': [], 'HNQzTcyaW3PwJ2oC8vKWHw': [], 'NXN_rVXsvJJVgm47k99Gtw': [], 'FxEJjLZj6UdsOCGcgEufeA': [], 'rLTa-PztQLafDf70aKrNOA': [], 'PK_yJS579FjaNiCkGGa6iA': [], '7ra_3K_ZebXNjMpaC6yVow': [], 'WqL96qA0l3ewibg8j1U-0A': [], 'b6hN-WP8_3Jv_cq88QUwCQ': [], 'LBAkHJJfCoDj9aa5sc0Mxw': [], 'FvBFb_Z5Fm_bbKPdUzPM_g': [], 'zq2ErX9lOpENLFYKlrSioQ': [], '6k3hqoE3dDmLz72xmfAmwg': [], 'EV1jAj7NFNmNIqOnwZ4Acw': [], 'fvCiBVBsoY8ixMJ7Esk33w': [], 'bDh9QsR-6vYCSF8fza_xHA': [], '_vTXSMispis4Q5wCJykJkQ': [], 'VRC7J-ahI4em9ddhihxq5w': [], 'FMh50zOwvQiyL_h0210njw': [], 'eZ90hODzk5We3EcXw0b4Fg': [], 'LxNoSrtJYB7HvP5I-8p-Ow': [], 's6KtKeubYAa-sY9OC3i58Q': [], '2GtIC6u4hVneccWfTlOxHQ': [], 'B943S8XGbuKWopCAoDxJZw': [], 'qmhPfNvckSiJg3FTCl75Ag': [], 'GlIE5vye0vk2-EYwiKjWkQ': [], 'aLaIaJM9LsETSRPV1pllhg': [], 'F_7fCrSLZXb9Tas7DIhOIg': [], 'BvgivLttXXLO2g4nBbrMvA': [], 'R8d_LNHUt7GTZtQSeM-uAg': [], '5DDumAHRKumv3gZiPKW6iw': [], 'IxKZoMCA9VJTl0gaodlcBw': [], 'GcENnY0dLeUouAs-uDMY0A': [], 'GiLsPCxl7k-PAUS6svOQVQ': [], 'w-zZEx0WWguQApPmFN7PYQ': [], 'I3STZd5iAvUL9MNLF_DUug': [], 'szAqhzF7-JehXMHiy74O_Q': [], 'djZua1IbMN9KBEWJXKW1MA': [], 'uxKGdN6hKQniEKV7J6_DsQ': [], '8w_PzYVk6cR37lpR-SWMog': [], 'PuH3yrAjl8OhMdIL792eEA': [], 'oXBe3xObDQ0HLr8Ie2F6WQ': [], 'suNSq8Bs2vsN1nHlOULNog': [], 'GMcit-31kUNFVulQGwSEwA': [], 'fOnpoMXToa5Qiyg95E6ENg': [], 'Mi5uhdFB9OJteXPd0_IKfw': [], 'H_4kafVAg0LolSzJXooGIQ': [], 'fef0DIGxNDY0vKM027sgCg': [], 'G2x-IPEd1HvqjSnt908qhg': [], '9mfxZME8RhJCqZi5EgKjbg': [], '7JQ5SNrrlCfkghYFzhOVUw': [], 'u180O1Nm-X2atO7G2YvteA': [], 'W3okXUwaGiJXUBwtoEQfMA': [], 'ltQ-ilKwrlBtub7b_7gKww': [], 'lrkP6ywHm3lJx5j1grR3-g': [], 'bIqpLN-_q1XSKdgbi5GKRw': [], 't1Qr_GJxH9LU_niJZj9z7A': [], 'c5x6HWB8MTZvlTgabihaSw': [], 'gZcph0QQElMcXR47W6N13g': [], 'oyJp7RYNKqJq3aQVIvIxPA': [], '5fM69_oyGPAtrvR7bSGVOg': [], 'r92uT4YkFgkPGVHgn9QCug': [], '1pytOeO_PhT4EVpk2MXQBA': [], 'U2ZwdiUSZlK4PAhcQugLgA': [], 'YtzPLzD6lUROpOK4vI8Z-Q': [], '_3zIKo5WoLAd3dl7RcioTQ': [], '8kMq3UEGOTlOI-lmClK1Qw': [], 'ITRBrOOVQJEgc5dbxV1Bbw': [], 'sArY4vj_AtHLZoKHscD4ew': [], 'NXWWlAJi2kDltKRiSzAk2w': [], 'R7-3MCD6_RL_VxN65yCh2Q': [], '500mXn_L5a4MI9GrOXvTeQ': [], '0gXYLVPNWz0WT8wXQVpS0g': [], 'AaKiOmXVX07mFYX-1ZWNqw': [], 'flE7Sn2JGs0n3SAtaep6Zw': [], 'pXgcW8ZfvH9LBw5HkUo1Dg': [], 'SYmlrGAfgHaKhHMn21y7Gw': [], 'c0a32R5DaEmErZV9AkBb3g': [], 'W426q26LEq_25qjHjZJKtw': [], '9zclqTtkncm_ayNJ58iJbg': [], '2VwwQup4Ko6tyDQeSYjC5Q': [], '_ZwDLtBopUHb6F2mIPFUJg': [], 'uCO6aHdTqWwcPAU7bYih3Q': [], 'y4jOgvovJ8JX3yRSzu7yUg': [], '6kZ5oQALI1NsP-y6H3cKWQ': [], 'CUZu35ngL2-NyXIUuXEX0w': [], 'ptaEu7aKv1ThePlTk6fyAA': [], 'iBZcbvdM1vp_xiuxJVqkNw': [], 'DE37j9FjAfysF5q7jQ507Q': [], 'qH-EsuOC3k8ZZVBDuybEYQ': [], '0j7GKjEdMdpaxP-nkRlLvg': [], 'KY4Mg8wSgDg4UpHRB_7JFg': [], 'AueEbb9kao4lt6CYt06hqw': [], 'TynJUYwpHgIjJqi4Xl8TyQ': [], 'rhZUTxUCepuN_0R-poG-lw': [], 'v0bL0-frMFrvHz-5OgUczw': [], 'H58PLS04PXaNdBxyE4yDWw': [], 'rveEvR8f93w-zonrzCIgBw': [], '1e6Xtmd4BetTnsoRCK3J5g': [], '-CNXJkqeJmLDvmTxGmOVww': [], 'DN0b4Un8--Uf6SEWLeh0UA': [], 'QZFIdWmIWzL_3QNE6Qq10A': [], 'XcBJJ7ZG8iHFrZw0ox0o8Q': [], 'tLpZp3HKgXD-gG3RNqObYw': [], 'WHrSxyaYLs1nI9lK9wwhzA': [], 'atSfDP-SLY4GrvBlBPB31Q': [], 'k775kVhtbiiXyOtUwYruUA': [], 'Nps5D8EOtJON-wmyQd4TMw': [], 'CQdX7UXvOC_ld0bdr17EvQ': [], 'GRR61NwIkgpzPjQVjx5LAA': [], 'L2p0vO3fsS2LC6hhQo3CzA': [], 'oM_iooopkwnS7XnVS5kqlQ': [], '48IAxa7b8mdl9FqHE8jlbA': [], '13KW8P5n1jAxxHB7Bl_obg': [], 'PB3Y13jd4gFUBxkAg-XwMg': [], 'RHO331ipxuIYqvmn__Sxwg': [], 'ASvQjxsHVd8J8o_kHJUQiQ': [], '8tKd_PdemW5A-6dCbZw9PA': [], 'kHsxuM7B2ZS8dtJIaTnUSQ': [], 'FxmRCMHAa3VeUXmHkk9RJA': [], '2c3N10T40XI9W6EgoXNOYA': [], '3l54GTr8-E3XPbIxnF_sAA': [], 'YZeUH6zYS0dq5QHLYZhUnQ': [], 'OYxzmfSSN6Vv2-qomtDPNw': [], 'TAoN9nsibXOxsOnnG7Kd_g': [], '007FFjmDHkT9cLE6O4Cqxg': [], 'GibwaDiqJJ_62x0h3oCyxA': [], 'F4tueLYscgR4lZJd-e-2-A': [], 'CRht4ujXUsr95xfGoZVmQw': [], 'PgzUKqJW8IkgGESl_J9vbw': [], 'Z0eueztkZv7qYzqBe47dnw': [], 'Y1-nbySEHec051ix7beSGw': [], 'CVrySTnC86omXXAm0GJMyA': [], '49a8mRB-MB-9JBEVjzK2BQ': [], 'RCHU_owG4GYL5h0Vs8_6SQ': [], 'Q9zcPQit3OMWoNRLLK7MQg': [], 'BMbIIewtxETan7Out6ROKg': [], '5zmbQdDzvSOMKmYywNj7xQ': [], 'noP3RgE4FWvP4Kk7Py1W7Q': [], '7ALNJcSA_GRpznrDOtaOtg': [], 'dCX6CvWGn8oiPSD_yxrm0Q': [], '6Iu4YDjAPrDRRrPCt_E2zA': [], 'SCNlX_q7vVRkoR1OgNpyPg': [], '9enpsB9cGGzX0Log6Y8OrQ': [], 'lyTIuSgPdyRMx3l7xPzl3A': [], 'fCSd9Hm3d7TztGlogVKZYA': [], 'Zd1Z8Q8uKdmQyjPEzSjS7Q': [], 'qcDMMcAYuGRT5iyic1pIbw': [], 'te5yQQTQYcHHtztdQJTmNw': [], 'j5kUniYLixwp0WROjN1a1A': [], 'fGrE4Om-cTh_JgQC42qx9A': [], 'U8rHQ_Sg8A2m291Y7WEfIg': [], 'wYfTZelP5Kv3Kls4J9bnDQ': [], 'Ou86-U4_LyA7Hni0yJQfzA': [], '4HEF6BuO_BBsTmvcMCbhhg': [], 'KMxOoHyRKP74PgosuRkkdg': [], '8syeNR6GsIBp1r99vUuHhQ': [], '_MFOesFi37QwBKtTspCarw': [], 'eZhrK4eAn47tNEDXwFr8OA': [], 'PT0H9XD1-CX5i_kRYvN7yQ': [], 'U3D3yO7bGVqIOOPnqHhuWA': [], 'bFFqpUl8Ix7CYPem9CxpFg': [], 'Bf0IFT8NjGEd-wstjfoY8A': [], 'EREUtvvFDIOOxD_mqpKEBQ': [], 'mejgnnOjXEACHZW_ovji_g': [], 'diAJlvbE8UrRQ9RN2nZ5Tw': [], 'J--MCCcCmgJ5xLCzX6ev_g': [], '024QUHVU7nlyW5y2BeeGLg': [], 'wOw-YvucvqNHDhwltGsNpQ': [], 'FDpHB2ran-gABhOmMCOEvw': [], 'F_AEoKMMpLDZo-8OnaaD3w': [], 'LUX6XrNdxVgpw-IR-sr6ug': [], 'BxKxFHXG4B2h1MXK8ebHZQ': [], 'e52VGc2dIOoBiDf_gU-kqA': [], 'sym2kFcEcJ_tBDt85YoeGg': [], 'cSsIlYt7XtfVhwtDwDYJQw': [], 'aMRicUmC4IYxfEVHitG-4A': [], 'eodi6JzCwKn9lgjZjsOAGw': [], 'LEYZb8jiD36RQTElxy0YrQ': [], 'cVkCERGYfelZ9YOZTFl-qg': [], 'Sv1XtPN-utoenqdIn9ZMyQ': [], 'm0yA_-AOt69sna770mWPGw': [], 'yfHYCkQaupRzWU8FIgxUPg': [], 'bSja2oCB8VunhYpHaMj9cw': [], 'dWffjh0V6htC26wfPr8_Ug': [], 'htgL0zTIAekQpaWVBQcCWA': [], 'RvMdC1gcJyVoj3RXPPdAyQ': [], 'MSmKD4q_kCmvGiy_wt-bUQ': [], 'yUkOP3Tmdp1pWA7p3zHboQ': [], 'qpARa33W5bzzn-M7xBbotA': [], 'aD-YA02i2xAqLBDon1tzIQ': [], 'b3CdjZSS6e-niF7lj6vJZA': [], 'ogrEVWqKvhlScu4yozX5Dw': [], '2GmGT-7QjowR1ihup3FbVA': [], 'BBTkC1Z3ZnEE916SkCONIg': [], 'HEmSK3apoP4xwVs0YkpNLQ': [], '0s0Xthk1JWrBUu74M81Xyg': [], '_mqUzNXs_sJ1EJYgYZYszg': [], 'J7rkQISD48jXgdM6UxNAbw': [], 'yT-ASP05C0yQ0hJBaYCYcg': [], 'yqYtY3-Po4OVPafA9Z-Xyw': [], 'p8qk36_xEXhICe91tfUpPA': [], 'gyd70g-KwWuo0ogdatiabA': [], 'nJoohOsIiZMgtPV0ttvPxA': [], '_jz7C0ak_fRhEynaukOF-A': [], 'qOd7QUh-sIB7zN7RbP1-qw': [], 'bZj4UqBD4chWAvytPKGALA': [], 'aODHarYXSvEkpCYsq_kfVA': [], 'GLObol9ZkKPQOQ1LMsqkew': [], 'Pj9DDbTmjBEKXezLb0qmTw': [], '3qgEB0R-5n5A1hOH83FzhA': [], 'zTqG5kphUBoFEApnPqeGjA': [], 'A5BiIK444PBb6FMOIxeEVg': [], 'TY7V8x6wm7pwghJtO_31kA': [], 'mNf5QltZ73A72bBvZ_OG4g': [], 'SEH79jbg5Q8cCozCnhqMHA': [], 'Ysd8pj0sZpfPq0xNQd8fXA': [], 'YgvqmFE2HhnG6r7ewYN7zA': [], 'Oa36vjcNukdm7xXcLZ6IPQ': [], '8reRvd7xjNMNizvbMsPvMg': [], 'okX1jSK4-4uPdglVFNYhSw': [], 'ml6ywXGUjw0fVyqq7UEaYg': [], '9DLz5BEC1ifj-yHHi6Xcsw': [], '5KWJZHhG88echvquDBu4iw': [], 'uFMOQUE4TsxEt7ifnblBpg': [], 'OjpZ3piwJ-ARzHeUVlngTQ': [], 'TPYcddUHyEF3zo5LJPM8vQ': [], '05SEa-U2s2EBjfCEuI290Q': [], 'bWq5fLpzPAf_97E4_LuXJA': [], 'OfLdWSqZ4HM_-B5khUtS8w': [], 'peH054eonSBTLLC5aFOQ0g': [], '8QGtzJEEmCmp8X6UAL8MVQ': [], 'HKWTDRzQam5Mmf7oBenomQ': [], 'QHQtTHZ1K1yPhjYJ1PMhxA': [], 'huMKC8Yns_l9kuyjjhx-dA': [], '6-nEqEheFPDowGl_UXz71Q': [], 'Urlg0kok4QuBYiFUnbTbDA': [], 'TPDZz-QugH0Tj9H4Ds95oQ': [], '8RE491O4ty5oFn4VmGBp1A': [], '8h5C4aF_MIwlLBc9JtaD7Q': [], 'GyhXMf5LsM2b-OYH13aqkQ': [], 'sCGN3Wfhhrzika8FadZ3QA': [], 'hqJMHaqpyL63NhRUqv9eyQ': [], 'y-eclyvMD0SZVrWdGdT6Aw': [], 'ckx5L7CAaZHEtg5_w_22vw': [], 'wu9cORtxQWyVNrr0q7pLgw': [], 'QSCDR9RBTVyTw7p_Nbq1Xg': [], 'dSnQTUJC0tCHadU1AGzvrw': [], '6KqLBLkHw78t33qObWJxpQ': [], 'KlLCJN_KUP9xFQBJYrhgVg': [], '50mg2goBcG5rKhWIRTo8ow': [], 'WFT5DHjlGXX5skcpM9NVlg': [], '65f0pXB1bSwHH1Pi7kkryw': [], 'taXKuFldSoerm9SXrckh_w': [], 'Pydv8bKHerfw8EYQf134Sw': [], '0rjU_WK5HxoH1fIuEpTpcg': [], 'V7J2KXLaTX6d3oKnWxRYqw': [], 'DR0iJomEwOItwYmuUTCdLw': [], 'xvcGZGoLwWpmDMMY1VN-OA': [], 'oZcbn7ENit23xbCsyu9xbA': [], 'xmAakatNKpvIJ-Fmq5swCw': [], 'tQm5R5UsWBzxsOGLPjfLJQ': [], 'MTOirXmaG0JOc32HsnQwag': [], 'PzItDWhnWrViLmAXQuMASQ': [], 'U7fZfH9C4hj5BFRYaPOo2w': [], '9HG09ZNqzrEUz-ipSTRkKA': [], 'pAZg8P87w88ZrwkoivUXGQ': [], 'CHiHL8CZJ3AFAIAjHOQt_A': [], 'pD9P35iYuBA0e3pSD5imWw': [], 'fYjSmncFNMdDdBK3uJpKEQ': [], 'MxHow1YklEAsmtlq2BRNmQ': [], 'tduDcM1hWHPeyQ9SRPTQmQ': [], 'p7r2ZiCBrZ3S7mKpNoixUg': [], '125MmR3F3zOd6DAHkIjlog': [], 'Cp-clhAJs3NJRwXpXk_saw': [], 'mDsVUsWPNqMX6GKpXE1lxQ': [], 'Tp07u-0AOFRfQhtNpAXaQA': [], 'j-SSlq3__BQr3H7lAyVvkw': [], 'zeGPTceiphUVUFwK_Ftwjg': [], 'HO5cfgdnn13z-7sDSgrWkg': [], 'R4qncNuw79jQy9id5Q3frw': [], '_4UK9z9ycMPd9AWxJBD1Gw': [], 'w2JE_M1ZUHya98S35AIEpw': [], 'HCsceGqc3Y3SiUxcpzNuDA': [], 'mUhHdFHZ5X01unji5nlPIw': [], 'fBmyj1okdO1p-GUzfQQohg': [], 'SYDIRt3PSVl1flkWutLcqA': [], '3u4AsqA8glBmGuxtNx5mdQ': [], 'plWuv4gda7m0KlqCNhrb4w': [], 'pxuklyPyDzYNxDndthhVew': [], 'Q5tBXo-ol_bHjkOCepIsvA': [], '7-DOaIot_ncSkhdmFx1mBw': [], 'oDkdAandDAIQsA2mjlTB4Q': [], 'NUhHkT1wfXsTLxt_tWwVXw': [], 'hH8002bWtOFYtLgarFZBsg': [], 'VBVqHnViRLSYAqP7v8iNNQ': [], 'ZCe93zAkxr2KOBU1NT0lmg': [], 'JJhnw7WJDuMHtK5i30EpGQ': [], 'vJvEKFtQ8Am95tWEkiwOGA': [], 'cbjb-iJaZ7XydkCrFmuSjQ': [], 'MgbjD3OrQpFRIop1jQ9NvA': [], 'WNXO0rPugvgE5ljccYL7MQ': [], 'VBJwRxOAtvjy7taLXEjmfg': [], '5Qv-WjKI-AqF4rLosnWwLA': [], 'O6obMXRKCnLMygvm2fSp0w': [], 'X3NMHQqicl2ARwIjwNFERQ': [], '-TVXOYL6kvKP1uW6ND9PIg': [], 'y1Bf_dA_FUggDqYoFSdGfQ': [], 'oYfzCy8kUkALFa28og_OsQ': [], 'rYk9IqQ9uRc22Fg2sxWnIg': [], 'T2XdzAcj0M_kBD9_BHfZlw': [], 'A3hwreijrD8HcjDI7PIAgg': [], 'xzlJ6hhfDSEF0d6ebSKRAg': [], 'RPYJXaRYEk4Mto7kPhmVnQ': [], 'RKX755uAGPMerCWueEpevQ': [], 'gBEWJ4b2OvUmN4Oh7ju3hw': [], 'ngIcoAQTtsDIWuBQcjdHOQ': [], 'AUFFJBCh6spwBFJI6SnITg': [], 'fnPefa87H-3CJnDungeetQ': [], 'iN3SrF5NO0xSf6umeUws-Q': [], 'nBwOIq5KI-zmxp061dTmgw': [], 'keChsvTIWsPUc4KX-ayRVw': [], 'V_6gs6mUnUwrTQFVvWKW1A': [], 'VIVdyOc5dWBMWdtzM-Hw2A': [], 'LKOo9nZKMI6WPzSa7wMvOg': [], 'GKK0iaO5Ua3yeT_KFh0ICQ': [], 'b207RNqIAhTd4JsRsnXB1Q': [], 'E_f5hWSBXkxvyckUpU31kQ': [], 'O_2VEWa6ExYX5HpF3GW5yg': [], 'u--jf3lS_04kmQNO4liAsQ': [], 'JicUTkFJFuMLmVxGRMzA5A': [], '-sv9cqcY4ke7kWy5MayYBg': [], 'ChuhMeZRItbRlXco3_2wcQ': [], 'p_uGLv1QXHBrwya6meztxw': [], 'WNQbi94089WL3UcOj5OQ8w': [], 'DJXR4X3noRvvQQ5vKAgsvA': [], 'FscCtUIsAL8cBL-S-A4FEQ': [], '_B3jnaQVtDXqydea1y92fQ': [], 'B6X_5OjCNEFSA5-dfAgPJA': [], 'w6dNSvbLNdYkwp1xwYj6Pg': [], 'y8zlR75tcmvkg49dqdLGDg': [], 'jZ8ogksrNzUmREJggc1YOQ': [], 'qxVcSWGKyH3HkkHV8NinDA': [], 'MPTdfNA9ZyoEYw2vgbJWLw': [], 'ZeMckilUP-UX9jPodukQmQ': [], 'BLb5VAI2yfI1B8YAf6A3dQ': [], 'fskIA-YRflPnwHWL7Q8bLg': [], 'ZGtWgDcgU6bYq4opGMH9cA': [], '4c-O3t8I-JxfUGJDUwvj6Q': [], 'gGKMRiecrOSYF3NBDY-5Vw': [], '7dG046T45h4eRwKsI26-vQ': [], 'Z7nGSKvjmHNRkXtoMxA3Jw': [], 'dimv16yFu0JXR1n1SAqedQ': [], 'CDzGMIy1BVmqlAlhSIWJUg': [], 'gnVN5lzHX4n0Nd9ogoHQNA': [], 'JVQL4U_5nETnOQ3S-zOPbA': [], 'C1zlvNlxlGZB8g0162QslQ': [], 'r8hVqm9DeasZ0Bf2KMhbeg': [], 'FFGoEGNDGdYc9ZHqfkcB3Q': [], '6vDqrEPF_ensJqnyzLPCwQ': [], 'nEIWxj6m1gGWe1gi596Zvg': [], 'x1GM1mzeDx4ARUGKV8n98Q': [], 'eEJo-37wnSEXk9vvac7nOQ': [], 'sfYHVPv4ZBJdu4hImx2wjg': [], 'D6xj8xnc-R7Y2y18isc0-A': [], 'gQg_z_bqR9Lp9oLuv659YA': [], 'MZwBo-3MTbxTln2YmyqOHQ': [], '9t9n0QsonQDYrT4vJuugXg': [], 'N_cCvYUP0dQeLKflgoUrXQ': [], 'SDNa5bY5c3j4OsBdxeAwPA': [], '19MwK_ZD66ocL-zHEmWgUA': [], 'XVhI4DbI7mbpySm_jTS18A': [], '8Cer-x0kzmYl19A2KtptRw': [], 'medCzwjjGeReqxOt-iPVTg': [], 'NAigH4SqnuuQip8lekq7GQ': [], 'CbpQD3NxSEoN4v7VDXYHAA': [], 'Nm-5ylHYI20vvK9u6-SKXw': [], 'wFEZPY0JjUIJ8tNWx62vmg': [], 'BUVgOVIeyipLxHdoDtBIoA': [], 'oDuilCKr--xMW7RTIHk-cQ': [], 'bilj5I2GPCE-bIid9P2XdA': [], '1WBkAuQg81kokZIPMpn9Zg': [], 'c0F2t2j9MJ2gUBUPky-dqw': [], 'RZWx7pIsINH6nVqW7ys9cg': [], 'FFy_b5ylhCYUrAjbJSEvOw': [], '38NdQw6TOZvsZfkh2rvdSg': [], '8nP8ghEpT6WFcM6tfqAaGA': [], 'zthJCbZFnrI23Q7n6QeN7w': [], 'zID_FRxdKX8rCSM3QOpThA': [], 'DuI8BlpnRRwsmmVMt7Yiww': [], '_uudqocL6XhyDWbrdK1BMg': [], 'JMN0bso1aqqOEE-0VNLvVw': [], '4cPRznhtVzBMq0ePOD2Zvw': [], 'ieMz5kx4JFm0g0bmPzCC-A': [], 'r0XYcXQ_uaF6fTY1m_73gQ': [], '6qikZARLSIbNioBlY7OuVQ': [], 'RZyWQxmY_WUsjBKK90WNwg': [], 'iZlHm83yg-gw-y1zuV-ocg': [], '5Jf-9U16kMW-o2k8OUvTLg': [], '9OX_55wAPyuKKI6Zdp7qag': [], 'GIMviyRh15eJ4vvs9Euoew': [], 'ZW-2-SYs2bk0dl-y-kPULQ': [], 'm3tNor-GTl-aAST5AmEqYA': [], 'RzXSaz2BjPBHeJzEIUKoQw': [], 'MBsIf01fcA8Vy7vCMMKf2A': [], 'Jzz-ZLXsd2ClSn6UyFcbpw': [], 'HCCg-rVnHQ2FI6lHs_LvUQ': [], '8XNpKETQcSLUPAROULyrOg': [], 'rkSUOnANSaB3E9qMHhfpcA': [], '8bkL1u-OcHd-U6ZHBjRXlw': [], 'x9HvTsA83c5r-muemxw_9A': [], 'yJLxYFLB0W94yvDsVL2sbg': [], 'qSjdn2hHYRoqllE5HkWRYg': [], 'AWOZ5PCaxW8KWQl0KJhTMA': [], 'lgdde-A-rnzOw9ybmL82pQ': [], 'TdjydrOFUSMUsTKdlXW6aQ': [], 'hEcn9k6ONd5n2mq0lB2aew': [], 'o-cqIwS2nWJGWA6nNPQ2_w': [], 'wmwZ9qDtunmMiHn0y5Fcbw': [], 'raciFGOzIYTVUwt54iZH9g': [], '2DmTw0k3bcXuHdAyxO_bkw': [], '5STBZqgz2yp26NPsQ2wbug': [], 'IOgARa8yaXx12MXkvmc5og': [], 'GYYi8zeccDoKYRYkCDzN0A': [], 'T1tvWywCdTv8YiK-r_roLw': [], 'S-Hksc_Hh_dMEbiTWDnblQ': [], 'N_ML37GOTOLtGKWqRnbJRA': [], 'c_4bq884OT1uDy9bH6pVXw': [], 'wPxfla_k8v7ofL7g-QcP8Q': [], 'DEeGnshpgUOIOjhq_dd5Ug': [], 'KrYDbrvfZVTlmC6M89zd9g': [], 'RTegy5CUBpMK65pr8UeDgA': [], 'bUO7a2oTcynlEwaulDI8_A': [], 'O3PiNOj1vv5dCCywdw3_og': [], 'AVaebpEiqcB0FxxjeZxDVw': [], '4tckq6rjAryEKG2XXJ1YVA': [], '-GUi0xyzwT9KJPS0v96dRA': [], 'AwqxDqqodPn57LqnoKtwxA': [], 'siU-75wyt-esKFKoSv9z5Q': [], '3ZIQgE3msz0DwlB7qXhNjQ': [], 'Ar3xZEZJxs4YHjg7xmtDzg': [], 'm-dhoSt3TrHh2N5yPzYnsg': [], 'j-6MgWWlotFZAQ23LZrTPQ': [], 'Rq6WYcNMX8VZohD89LGWaQ': [], 'UsB0yTvd0AM08_fSdyGnhA': [], 'lKIDHvxHpyhruR_J9P42wg': [], 'NRAwvyYffhIG0xxfAL-l2g': [], 'CwIi9O0snlyV0DmyFlq1Kw': [], 'AwcBjh66yGOnao4SUHCW9g': [], 'tbMAjldMYhvDUS2gG5Fdxw': [], 'pM1XQqVX-oudcm4nnvvQfA': [], 'jE9ZJ_TDWr_GeR7e27RkVg': [], 'NeliCHhyXIHYVTnDyl7J1Q': [], 'x0y6TU_03x7ZOjzKCiekkQ': [], 'P7j_K9baGxWPlInbjn0OOg': [], 'fHzQNceJdG0H4HNddY8MVg': [], 'JZwfJArd9KSaLPPDLoWp-A': [], '4NfjvMzUG5rbkxtPg-8pkw': [], 'xUvgrDdKhcmaP6Zv0ssb6A': [], 'pu7maVMRHbIUv2x3B_xMHQ': [], 'yH83tf58E9jrME5U4HGAMg': [], 'RpSo3IF05gZJdZcvrVntJA': [], 'Ns20WGWn6s6niKAGIQB4UQ': [], 'sAN_1jFisdABjadmlDV_zA': [], 'M8TWKIB5mgGTveZlXXDMCA': [], 'c8DO25hR5lNWOwQmz1hhpQ': [], 'Y_n3ujz7sWZdIVJULZcZEw': [], 'BWVMaAZS6DMVk_wU9jVc7w': [], 'sq_N-Ml5toHVKOYXs3nuFw': [], 'UydVmlfxab6O-CSnjeGZRw': [], 'nykN6bAZBjmy_4CvshkRKQ': [], 'yzgiakgxJnZKa7gn6bo7dw': [], '_yrUAlBaAKIj8qv1_RUicg': [], 'U5P2sECeftfwaHos6h-2kQ': [], 'xR1gLCH5resvtq1eV1nebg': [], '1Tj0HSSnPgHOj1alfcoXlQ': [], '6SN1K-dWH5LoGHz4-SA1HQ': [], 'GJVF0797Y2fVkMZFQFM8Rg': [], 'VX2ceab1YVMMIxAt0aZEeg': [], 'JtjXRSvLtZhWeCcZ5aJeZA': [], 'CIb1HTCKrOJ-BDWQDrkoOw': [], 'R1oI13c1oNxE91wkjYDeow': [], 'pjpUOlJLlkIxBZ5BquA2PA': [], '-fSW_9x8c_wTm1zS4dz3rw': [], 'nrBnY5Ii7hS2npGSuEwETA': [], '_GKMtL4zFOlNc0U3gljT0w': [], 'uLUl_dMl6a9m774LGReDVA': [], 'zq68Tu0QywNU7Si_SQMi7w': [], 'HVDh5T4Nb11pNsV48dfzxg': [], '-RYIKWBSTaJ21B2UMyzI-Q': [], 'gCAwoIHyrqVVyzbYdMIlYg': [], 'AqvZ-zcrE-EvcC5o-QOmjg': [], '6-gL3PfW1L_hAbH56LXqJQ': [], 'u6biYZCSOwyQ-WmXqQbbQA': [], 'rz--nAbc7Jx91uQMPRZp8g': [], '-kHQWsdlHfASvHCj59dzGA': [], 'EWfR5lG8YnVObAhC9Ve0mA': [], 'IvNJq4Q9DXc2VsJrSl28TQ': [], 'gsUmOBq16wksQqLvPB2QMQ': [], 'BHAIidO5o16UpCNY3qTICw': [], '8OeHn9KCbICuRBs_XiDDUA': [], 'DjlSMGIeQNq3huXiBpFhUA': [], 'EX3wTLh4gOVF7RQ0ulGYPw': [], 'hQ_PRFaJGotxFzNjiy3hXA': [], 'IiwgHkUbBt9Ha25H4dUtkw': [], 'Pwl45nZjCvDCBVIsI-iG1g': [], 'U2W3kugm4UV0zsDPsSqQmQ': [], 'JiqAGjbwVLo9CzlcGGN1Rg': [], 'J968Wrg9WcGGneRVwDBGMA': [], '3ZH8Wt4UqlNTMdRMmqtbMg': [], '1phJezq7O9-rQRd9HJCqFg': [], 'wn42xn0SUdKfbdjUJabL-A': [], 'PMI_22D7bl8MMI6mCqN2qQ': [], '9FMpe-oGeN5Q3zYT2jtZCw': [], 'pxpLVCInGwLClbnwJwxInw': [], 'wqqpciqva5yN-c72SmvaOw': [], 'jHIJ0hfy5USIWvcdynzrFQ': [], 'aVrEj5JmOM2Hm_HH5DsXNg': [], '7mGZrCzGGjS95SdRtEaGcQ': [], 'UQiUVCtG-rJxoriuEv1RRQ': [], 'vQbRA1rqSFz7R5JNyaNILg': [], 'aiX_WP7NKPTdF9CfI-M-wg': [], 'AZ-Pre4QypySrpnNvgrmmw': [], '-8QlV3b_9H4BAh6LgMIr1g': [], 'Dk2oQ6iurbZsSxPIrk6KVw': [], 'sav06dz4_9fJA0YaSI2V3Q': [], '04k-7J5AcsdXk1FY5ld5Ug': [], 'JpTxP4V0JqTqb5ke-5Zoow': [], '1F5eqFSvmTQoVQSdbi2hVA': [], 'C32voxd_NaYq2Iz9U2eoPA': [], '1GWJWh9WGytmkXKdkXx6Hw': [], '3_A59jPniLD5ViVuKMYpJw': [], 'nfhSzru_fPiB2ZW5kiVxBw': [], 'MvE4kWvm2n2JtO85c53IGQ': [], 'xGOobc7VS-IgUfc-ZI0KpA': [], 'FWkRdwpOV8gW3Z84q8HvBw': [], '7cIsnVpbiIpVkXZCMJyAtg': [], 'cGGdnQ5IzkvUWYCdlrNCNw': [], 'FfQ_5hilPx25mj71N_cZYQ': [], 'bhlI39W_47VV6VlxDGhrxQ': [], 'ALonfg58V5r4BOwxiGZcfg': [], 'imB4DVyS7LV4iEZkUD3j1w': [], 'oaOT2G5mIE8yOPZ55RM4cA': [], 'e0CehK0lUWqd530L4-ni3A': [], 'v1MUXaVR_dSsqlsCmy8N9w': [], 'ILNBsoEzM2ej8Wc3QcFibw': [], 'ApDQuqBm37kISQ0mulaQoQ': [], 'osJfovV0FGBDo4n7eD4-AQ': [], 'YTv3Joda9CEeIyLMz6jdUQ': [], 'IbG15_zkcvWlg5ySEFAQ2A': [], 'npoCLZID4WNKV5RtJijAKg': [], 'Xv3d5FLutLgrlNfcQ7gR-A': [], 'avKtXuzalCP_cVfrk-fLeQ': [], 'd_q4avZYM1sOlQP7noJKVg': [], '4x8W4quFhhuTZlsoUHzVeA': [], 'CXAC3Pfo7jaEciXZ2Bjgow': [], '7fq6fN58ogXAzXzxywFX1Q': [], 'gaKc6bLlXqE9GqWeNoDbjw': [], 'RQTatUj2f9Nz9JViTH4aAQ': [], 'IHadZayuynmzIcQy9egKWg': [], 'QYiz7yfBCSy0cIHElDYnkw': [], 'YBCqEinoJIbR8vzzPcW0eg': [], 'xmARZ_MuSfrQCXP4e8RQjg': [], 'jIn4HPCS6fKywg2curShWQ': [], '53BSdnhzcCBfBH_6TgX63Q': [], 'Ut4nk4AzlMX62Hy2_rqIew': [], 'sI98JfbpqeInsKgKnnZWUg': [], 'LsgE9TBlyvGFF2n7esSd2w': [], 'SVmLmDmLBj3FoArpXjB8wA': [], '01cFftHZc98jNJfJrLEJ5g': [], 'U3O8l_wmzdeckbhHpuRWCg': [], '9YmkEQzfqWizimIWwASD0w': [], 'VO8ZLZ4NPvwcvdCAp89e0w': [], 'Z-JiX_tof8AwhPEWDk9N5A': [], 'JZ2l2OceU2PDlIzSKQiWLg': [], 'pn6Vfbs55uFQ5QYOXwUzow': [], '4zHwXpQswfB9_j7X-zw7rA': [], '_4Gpn_NIM94D9OFucgfaJQ': [], 'vUUNM7RISc-51Tqx8JzRRQ': [], 'AcnQS_mpbOLFS_bDXRCebA': [], 'LVKaVJMW2VGu3OoFXU7Xng': [], 'oqu4cC00QmoQiyGaDKK7EQ': [], '9aPWpQvBIgq4CnNb_3u8Gw': [], 'eAuPhflD_h9Xux-LlIWu9A': [], 'bOXdrGIcwIE_hJjejrSPdA': [], '-BrMNg4MbpftOUTjOMVp9g': [], 'ahGtKEHYxY3igWrTHh7FVQ': [], 'Wa2X66syShuMSVUYAj1C-Q': [], 'La0B2R_R3lBIXA0GxrJmSA': [], '8PaMGALpL7FwwdUy7eK4ZA': [], 'odJzhCY4-FqEvB82sNjNsg': [], 'Id8519Mcx35iKSKyu1RRXg': [], 'nhcAbo6FT9VRDZ4V9AGxnQ': [], 'E6tGAYZ2J1EIwCDHtVI1yg': [], 'tSJaZL5X81j2k-GqtpBM_w': [], 'QiZzPQZP50tpInRV97dImg': [], 'x8_NelKV1JY5S5bN7mWJuQ': [], 'tlitHqwilzRDEcmwm5t9Fw': [], 'vRGVXE0CuPq6qA0k_3nVoA': [], 'AO2ZY9we2ceRQI74cmLUYA': [], '1sv3rfOPMlTzqd8J0Ay4MA': [], 'n2HkJt3y4Uvwex5AT5IeRA': [], 'sgmQki4RpkR9qJUOPaph3A': [], 'CLwwfGV6SJ50fl3ZCK6C3g': [], 'Hw-yFY8Fz8HOvY6I5l7Ljg': [], 'IUMyUYOIR9UQ7XGIEQKOuA': [], '1ePxLE7eU4kRoags_ytAAg': [], 'MTQS7-tsj7bjNyhP6_Exyg': [], 'b5epWgPoVcXoMJdCCzFMUw': [], '_MeGxn_23d51eOyk-0XuHg': [], 'e2DH7QQssuGqwLltAI5pEg': [], 'zfCz3z8Tu9TDcTBwJ9L94g': [], 'aGAeYVf2sBygo2OJJBbuIg': [], 'bJeVUZ8vCVLGYGIaVbY4Xw': [], 'PbTh7aX0_yyaXFOXAlhI4A': [], '8R_oemw4rNjJL6sd40O_oQ': [], 'cI7k9zqs_pl3byUDE4cpdA': [], 'vz8HFGsITt6aj-nyXkAEFg': [], 'RLz9j9QASwaPXFM0i3kSHQ': [], 'RpNe_HejlRBTzkASbGgHMQ': [], '_E6j0AVb3lkLBLzvPHInXA': [], 'mrK_BUjCiUWRtl5Nk8Z1Ng': [], 'UXAThTkqHV7xFbdPIZcHWA': [], 'ZZegUx6pEhjglihlOgyGiA': [], '9KSux4Z2reAQCY9r_7jtmg': [], 'PmwKGY3HLpcnC_-g0NCIvQ': [], 'kILTBrbTtEwXce4hNMb2Sw': [], 'umBsUDjSPzF28LOw-U_NfA': [], 'nYkbkUkhJA3oa71HkrjObg': [], 'k37Q9SambL1HADilIUl6xg': [], 'we9jAQc-SPmFKbdNssj5-A': [], 'BDZGYuwUamAk2pE_PbBO-w': [], 'vsFFbN71ehRCp46KeR5RdQ': [], 'TM3UY0fCq0CQbuskoq0OWQ': [], 'THsmhy9NXI6WOEhVnrv01A': [], 'wZm86tTEhbWv3hek3iprZw': [], 'kWkW6vVePpBox_fKfGgPjQ': [], 'E4JyAzB5_2quptwtemyhYA': [], 'W9NUdpRX7gLXHLM2-NeKeA': [], 'HJFKqzhV4n4ZWepneOzFhQ': [], 'ObV7olsEsNYjuMGNJ75jNw': [], 'rE7H1U_5JNUzAIOXqTKqzg': [], 'sS26L-jcRZoYYWVQJd_KjQ': [], 'yA8S-hu3p6ihuymhtjNZHA': [], '4WdOHSK1c3KeRG2nX85R1A': [], 'LdFkSl9OGzSi6LaIoYlVwQ': [], 'sNQ5ZaDneM31V6Qe_19d9g': [], '0qVdS4t-hOxN_qcOpofUOw': [], 'RsREl3LkFGiwbt3kGIX4Eg': [], 'OHUMIiAKJT_tjVQP9fAEDw': [], 'do6yub0lpn-vRF08Yhi3aQ': [], 'ROuiI7sWhEMLodSylU2Qpg': [], 'Bn9zxgvHIq-_f3gwMx52pw': [], '_INFdJRnEGeBD8zlg6egqQ': [], 'TAAhxi9Tml-8wHZWbZc2UA': [], '-r-PA7uWXbpRPeuIZzO3bw': [], '5pObrGpv1Is5WLDeOFSDIQ': [], 'zDQZZZhb8VOk8EaoN3HeTA': [], 'NAPuzJcanOp91dE4GXPOow': [], 'pDewiJY6KCcZgLxxgxg13Q': [], 'gJLuoT_KOOTNPUlG7q9nyA': [], '1p76_EWPbPcTprNrEVw3-g': [], 'ZVe2Nhq3J6bWuxceiC_2FA': [], 'NWlNMG_eBIvDjCcHK46eDQ': [], 'qnyTJ39UXke3aAS0gdWsww': [], 'pTZ4u-sEQr-yHq2Cl4EMEw': [], 'e8_Xt-ldpDgWHn92s3rBaQ': [], 'GarQqqVFnqe5DjKK0JL9sQ': [], 'QV2echCErxFY4VbH-z6eOg': [], 'JtqR1wd20z0E7W9Ix76uWg': [], 'BGGQOJQTQerEQu0kHbT_UQ': [], '77FYW55qBiRAMZRxdIKApA': [], 'eGLflouvGRveD4A9oc-AIw': [], 'e4qQlNEop42LoFBwv71dVw': [], 'Eivpa20tcnuw4QyqfLo2NA': [], 'HTlsBAd9j1wlWDHxnYczBw': [], 'MJyKhCf7lu0XPhCbo-TnbQ': [], 'KjxOqxEDK0woF1l1kZ_nSA': [], 'YauBkH-HEx148jC0pv4Hcg': [], 'TZf1MciRrWEYirvx046GXA': [], 'HqDRvA64BpGtjnzf9beE4Q': [], '4GjBeipeu2cXxQzzUxS4Iw': [], 'FAPncLWkZYxWVY_TSwQCjw': [], 'XVseYWpl0pFWgFybZEpKug': [], 'oTtXeDbTdd9frpZp5zjwyg': [], 'Q1axbtqtLvVrFMpdMl8q-A': [], 'r6cTbsmg4MhdHJnKWwefVw': [], 'tIauOelAC3BZk_xhMoDBUg': [], '8p7OJYXoDJXZr6-mpFc9ng': [], 'oSxApRzEpA9lvue52ZSecQ': [], 'XvYtp_rwIWdd382zbQ6XjA': [], 'C3hovX-UcG8vfGN90eMnKw': [], 'epoEBSCz3Mh4X-vVvcioNA': [], '1NWilE6_WLy5jgsr6cZG1Q': [], 'rv9T1qGHbh9eXqFpKEPy_A': [], 'RN69eCpdltAJD9q3SF8Kfw': [], 'oVmk03sRsExksDLkhIezHw': [], 'vBypXwimLKYqHPNvsEShsQ': [], 'WOz66UuVsfc2K9GxzfDnGg': [], 'YKy08OxfF3I4x5WQy7lwZg': [], '_cRDDAasE-4584eXN_5Ecw': [], 'U1g7IHZcnRmOc2m3mvWNig': [], 'TggkxsvAxWs5HOfW1N9osw': [], 'o2UpKOPWQIOdvHGfQy2gyA': [], 'FTA3Qoa7C4aTx_KE75nJ4Q': [], 'rL-hprXkcvfYSL9kWBFglQ': [], 'zc1sur_MxkKkD6P8gYXQbg': [], '4nLqlBBt6jcvphkIQxz0gQ': [], 'fiG6ltwNYf8k-mGurUybbg': [], 'U58ps0CjXxXDCX15Vh1X9g': [], 'rk1qMV30IgioAzoLL8_kKw': [], 'OtVNeY6IfUh3CIOCzmfg3A': [], 'MNUo65N5N6sgtuNeI-ZO0g': [], 'L7rjzj2g2EEbHfee9V-X2Q': [], 'GLgRZ8dQC-NViPsgy_2SPQ': [], 'MJIZthCsaL5COrwepEYCdA': [], 'Cz8J779gdOi3OARVwOUXRA': [], 'UBQRhqRMW4Sk7kSZvZ1iAQ': [], 'lCd20nDS9rFHW_2KViqWUA': [], 'Ks9nrEuLdjmrLH9uXz_G8A': [], 'KrG_CXYZDqYirhA6QbQN8Q': [], 'gwM0ykDKKpKgKzwtU5djqg': [], 'rMgD4N9Nd-KOTwCX1TJwVQ': [], 'eMCxf71sTckRZw4GVGwtrw': [], 'nm2unrhXLlQLaLXtJ6S0-g': [], 'bwZqlLj8oYaML3ndlybeDg': [], 'SPDEoJHYJ80vihu0UhGKfQ': [], 'HihKsEdnsCmtMzCmago89g': [], 'RPeYHfnWqbcZgIxt84TcSA': [], 's8IQvo_9kR2E0X7rUaIuHA': [], 'eugCeDZbUZRoLAlcRFKVNw': [], 'YYZGRUCevWS41VZFxp4rrA': [], 'dj0-3EcVVJEO8QJCwKrZyw': [], 'daLsASi-J8zee8cpZSnqjQ': [], 'hS9OfXz1MQSv9cZizKRRPg': [], '9JTkh1D7u9fRBohglQRL0w': [], 'GM5rSSrYzw8qpbWD-nM0lA': [], 'pViNpt8Apt4MO1Qt2HhGqg': [], '6SfNZP1oqiQV1AYLK9A8WA': [], 'lD_r_Db3E_WTNQUtJE6U7w': [], 'pVVeN1naE-2cWCfWSbgi7Q': [], '1I555FApTVfQA9QR9GyIMg': [], '6QIzCTSZfXL3r2mIWn58bQ': [], 'kc8X_4tPF99QK9dAyNKrww': [], '--g-a85VwrdZJNf0R95GcQ': [], '_IsmLuyEvcKzcBmbMHCCfg': [], 'Rvj6ryvV1Wf-27UT75soMA': [], 'dQrDogW_V4fB83vTTAP5eA': [], 'nPNWTZRRZx9nBNivg_JlOg': [], 'yfMK1YGTDsiD-fE5JJtzWg': [], 'whsMhIVqxKyp__-joJx1gA': [], 'V3erF_OvXVcp1HgQiRLQ1g': [], 'H2liqW-sX-p8N0DZudMPOg': [], 'uO7KbFyiMhhgFJNEDX_new': [], 'SzTK3GPoFIkb6k322f1Mmw': [], 'mHIMBcS1rS77yTW47-77zA': [], 'FIsikYUtIBJ0BKT_Ig-GhQ': [], 'G3C2obU7HFBZr5y39-MB8Q': [], 'NhNc7KQVm-eXc5tXCZKdFA': [], 'RpOOtC0PM8w-1gAJI9k6mg': [], 'BaPKO2rV_uaOtRliKtaFcQ': [], 'UdoRqx5AYhhGBH9GGtUZ7w': [], '_bpNAXZqG28e8XplS1wbpw': [], '0VGD6b_oSS_k9n4jVIudaA': [], 'O1TNBB10DqZ2-7_VkYruog': [], 'SzHP4_x-ECuBDVK6npb-Ow': [], 'AkpuhGyLAxhD_sLMQv3kOg': [], 'W607in_una2pkB3lsy6umw': [], 'mtnw_pENYzcdAPhepby25g': [], 'OtGSQQzV7uF8XPAsNIh7Bw': [], 'JtpKPEAJ3Ob-bz-Xak4EGA': [], 'SdGgFPQrIzFlsrcWQ8MKMA': [], '9R4cc0f_sM4V1eT3qBGyUw': [], 'HR143JcKersbylkxUEa_Hw': [], 'GWDqmVT1_gBEz3B3kgaCdA': [], 'RTuNuv5AzVRQwtVMexzjHg': [], 'Qb5g9CKl56KLOOvCzPzSmQ': [], 'vVOoL5H8Fr-qlQv-_DdoMA': [], 'AyNI6G0w3o51zp0tucE12A': [], 'FtLibezRe7HsT13BLpR-Dg': [], 'HEOhtDZgK0CFhwR9shDU_g': [], '-Ma5JqzuI_3xIAtpNJfQ2g': [], '1F4T9e6bRFwL11wnNxW4Ng': [], 'vx1gUYqYQE2O5rfOrUi-Cw': [], 'VrIskBdLuRxS0HsSimJOhA': [], 's9KxZY47jt2FiDpNm9qI4A': [], 'bRZSm_1UQdmU6QWZfO9h6w': [], 'prdA1r8XP03oD-PYvZJ5AA': [], '1JmSxEQZQn1AitoNHxvHBQ': [], 'iSmQkgaSE36nzctelDq-cg': [], 'ccWEjDEgIO70iiGSN-rRUg': [], 'BAbRAGFnht4BM0QG_OM1Og': [], 'IPdJS6sF45RE5T93y9nQ4w': [], 'yujobFgjCAtqsIjBn8w-Ew': [], '8nmY2GC0HkwNKh84ytbxWg': [], 'Z54cYVtBf1ojSRsgBg-GHg': [], 'xzepzXckoEc_QwYqlcfDqQ': [], 'iYmKd0Ity55WShli0rZSaA': [], 'zHqydarL53YWMjuC0UglSA': [], 'LJM2jAOEnCIV2RqtC23ApA': [], 'f_xOPuRWACe2m96NrXosJQ': [], 'TdKJjgiXMPXDamGK-IwFZg': [], 'BSmqxPbQglQwP2R56OqOag': [], 'YCEPvpKFN5rDtWJua8d-vQ': [], 'Eypm-MmwirNTiQCOJPtVBw': [], '8Y5p2IQMLX6QjGPzxanexg': [], '3tDo3XYrpx71kFcxSJI4GA': [], 'ALn_0f-Usn3n0a9WBcjhhg': [], 'kUz5-7Nm-gzQAmvgvegbLg': [], '77zfuhjOI525iXYFZzosrQ': [], '3ENOCklTvW26cONNkScJ5Q': [], 'h30GZNXgB1GktpScLThGPg': [], 'rMtphJbzFYA3eLx-AT62vA': [], '3Alq2Er28QVsdxGJlQgVkg': [], 'KqSWho4bavZzNH0qQ5GnQA': [], 'xhVxf5HSlCAqpyG8OuNptg': [], '6Z3lZEEIKv6opbyavmnGbA': [], 'a98_-_s6HGtbtBvBXaeudQ': [], 'iS1AKJO8Vwx23pcbm_fv8g': [], '4bfKtdnkkhq8qA21sjVXlg': [], 'JY08jagKBR2Y6rfl_X7Cuw': [], 'TcULtaVLDsbKunf3iW7RCQ': [], 'CE_j157x1tDRxMwnM_7qlg': [], 'l255B9SDSJ4g62qkvOiVUQ': [], 'L3tXWlME6KzqcgkChTm0Kw': [], 'TT2bNjvnVNFOanDNYnAffQ': [], 'uqDJHY5UAMZgClJLbYBagg': [], 'VM7Q3xWH5XiwbaIeSyJ-vw': [], 'd9dn77nVYwztL1qoRp4Ltg': [], 'QO11sjFi4HlqtOVZZ5abyQ': [], 'A77k7_xUSDW0QKmahHKLag': [], 'bwG5hcJbLIk_VLoWde5iQA': [], 'TdZVFrNpFzKSKD6bXydByw': [], 'S4XNQfT5dyruuDNE8-_I1A': [], 'oe70Wgf1Fx_PcyS_Wb86PA': [], '_e3rChyednoh47n2cjGv2w': [], 'Q9Au4xfQNdWeVuYYJonY3Q': [], 'pxRy9F0HwN7zJ7J89AwUpQ': [], 'tkT52OjZyb-TNbT20QDXtg': [], 'dcn63lRC9QWO9cXZyiFBqQ': [], 'WMxbuJxHBOn0FMjJp4SDzQ': [], 'RUjqcyk4gieSbL94YMMThw': [], 'tsSJtuCbAGIYo01rUoygtw': [], '2jx_SaBzvIdIwul4JoY9IA': [], 'j0h8OH6ktQsnTmIaJsN5Hw': [], '-YGePLsJ2pYccR3oaeCSAw': [], 'V1hH7vAq5wNDo2P3z8zJLg': [], 'fmOS-wxEf3xM349xR1oRgw': [], 'gIno_cXhvn6Om14D0I2vHg': [], '_65lj8cJnxg6tJ0tSCoIAQ': [], 'fa1G6WoSdvAO8dzM4FYbUA': [], 'E8ugJa02FVCgfnjqV817iw': [], 'bftuYnG58kywe6FSmqMrZw': [], '7CPGGNwHibzQtnERq7u2Hw': [], 'x4xJ3okM1z39VWkKkqXm_A': [], 'BTf8sELl1TjovRc0f-tgJg': [], '4I-DntICTD2ykxPN4NOJ4g': [], 'uW0ceue2V_7JJfsA3l_O1w': [], 'e69v6hfCkr25M5DaLSS8CQ': [], '-fOJoTmq7O_3RmHDoVbXDQ': [], 'HBRft613TiIfgBpwI9iZsQ': [], 'oaNml4cV5D_MHMOVjNS-Bg': [], 'fSBhe0A6Dfa8JCYccfpMog': [], 'ZrgcJkIauWsxpByTW21iqw': [], 'qqWWOH3DfSdi9Os4TeByMA': [], 'DMyoxEaTGTakZxWgh1D5bw': [], 'CuHYFYUFT5PrVqGj0a4_8Q': [], 'zLAabkHHwPQ0VGbbaJRgXw': [], 'rC-1jxQaOmg2lJh5A__Xpw': [], 'e9SyVTA-4cePHuc-pOdwQw': [], 'PWifWVSyaaQpSgRimHviWQ': [], '4balGoT43o5N1zc8Q6dekg': [], 'zwmps5SXn30g-f5wqg_r9A': [], 'E87O1z46cEPyfdrvfOMMjw': [], 'YiMhAA1vPCZVEud62WN5xw': [], 'xZeMt4Vg-P9PTyLgCe5phg': [], 'cdH_SqxlEbz4xjtPHlUSPg': [], '9WAo6J2-9mxMo8UQrA_G8A': [], '7yIHC8KsR5OaE_7MgEBVhw': [], 'bf4futLpZiXohBLUE7Yfhw': [], 'es3Fq9KNp6Ry994x4T4ZYg': [], 'Yiz7HJDqLeUfXNfZ_OCq0g': [], 'p_c0xtfn5KuSGG6fs-QwYA': [], 'lXZvgVmIz-ko1OiCG-VDTw': [], '2lnHyGbn1Nvbf7iRNDr6wg': [], 'm4yD7dvz998cXM51GbRL_Q': [], 'D268cSH_SyE17-i2yP9pag': [], '-YVwkl4DBH1gnxxsJtxELg': [], 'uM6RcG83zH3u18EI4LpL2A': [], 'ZvtELJTUOh0yRrPxyyiakQ': [], 'Gs9b601A4f5i-FqrZ_mKBQ': [], 'y9hgPwF68tpWEp6onX-3TQ': [], 'aeLrzEo18Udz3YxC5GE08w': [], 'Gr-2oBg4XyduSKbvnE-i9g': [], 'IW7V_sua2ZcguKIUZRCaQg': [], 'N1NPOqsKXd-HW7iG-nridA': [], 'naX46MT7k6aDVB-j1jhBEg': [], 'tVVZcFFt3ZlWVE7nptN3EQ': [], '3hXDRfZR-Hwx3QKaEqa-Lg': [], 'nKOSWfC8Pg-WCksCTVWVsg': [], 'FNspObQCzYbGsokfies6YA': [], 'LjTK9yifZBHgj2HZn8Znww': [], 'qKS7YV76te6olKnA_aMPTg': [], '1_NbrMglGWGdy48atfi9cQ': [], 'OwqpuBgDpnnoFEGzG4amWg': [], 'I9nziYEw4YIFjr3ZDBpFog': [], '-kIscN8I29eXMPkvyyxmRQ': [], 'IbsRfrHGK4g5OQd_KFtdkQ': [], 'MnEYCGn7_2mwGoWcy4axzw': [], 'h2hJyBYCIXU2_om6LYHWHA': [], 'zfeD4tImUPT8CznDrsn-mQ': [], 'Wnq5to0-jXyh0-_jRZ6VOQ': [], 'aKvVbg35NUzudmS5ntQriA': [], 'HSC24ihS6bZHbwFBPWVaSA': [], '2G8YLx7J8du260jFNjIjZQ': [], 'Tt4SLmht8LORplkdhpcwhw': [], 'g6B5hVt6oZRVO2wR4f0sNw': [], 'LyjQ6scQ5Q3o3dtPobnOnA': [], 'Dp-i-Ai8Ue8hjyVRmYrprw': [], '73AQI-b7Eimtx1n9exicag': [], '-qbYIpY84C9xBWc9g5rl5g': [], '2E4-roWTD-0LR63xjokYRQ': [], '8rlTOw0IA1TENURMBJpaXw': [], 'MGbZXur_FkGFBT15O9SFLQ': [], '-zVrFYgs09w8lIUSuAvp2Q': [], 'PS2s35zZsbdW3r_JjudFOA': [], '1M0Mo_ctYMTH0CTKgv4RpQ': [], 'UtWd3LMEktL51UJyUwYwjA': [], 'f1aiuS43bRV1sqGTMlLRWQ': [], 'nzbQXU2x7O8oucKGthUT3g': [], 'j9cVHTAIkliYQp4XoVcsnQ': [], 'X8sgCwr1xIkmTItsxYrsyw': [], 'tamr4J75GguGhF1hm1wEaA': [], 'DuS8fop8yN6Fa_hIFZJVLw': [], 'DQDeGKxYVOwwaqN6Jh2HZw': [], 'sl5ak_xmGQmk7pYEIw5cEA': [], 'JN1hr0mtzva6eMU9qeAWsQ': [], 'QFwpMYCPE9YUfM1uiaM1vA': [], 'U8aXUY8fufZUT0jYUgV0EQ': [], 'lOW5kH6nHVOYfmoAfpWvHw': [], 'japzjLMfmqsGszf2CG1org': [], 'JJkJnLYqLbNiC6ZPU4GmjA': [], 'itNoMqRVItV-1gR8zS-uaQ': [], 'U6IrfKFT88TV-cWkZb3ZDQ': [], '_xxwKeiIYty0O4odYQNyhw': [], '1s28O8UuTAmJb5IDz3MY3w': [], 'qjjYP_3McovO_bsg9nOl6w': [], 'SIVi2UQp1UT0lMIoqHP0QA': [], 'VYuMUCoN6LWTxM80_itq1Q': [], 'Kykw3ho8wHtLV6gr9qbWTg': [], 'hl_Iatne0Aehb9whpdH3cw': [], '3ALmsWbXnVylkwkLGbc5uA': [], 'FW78hMpZoaJcZfUkBkgnLA': [], 'oWsin1_mfmidGnnTV7NNTw': [], 'puQ2WGO0L2KvKqNQCJYZRw': [], 'ZuAxqdMHXJ1FIO9Oi4P2Jg': [], '3gHvqo_7ujCC0OAbhJPLWA': [], 'K6aka0ybxG03lYWTG4MRIg': [], 'fJGxqmzaOy_Vyakt6kXXxQ': [], 'leDMYX5D-ziaYMgIWo73pQ': [], 'd2JjI5tu_fD9YEP4QhBOww': [], '7IEQBmoEe7ne20rp5Aup-w': [], '85o8XAZDoPmRqHFhdJLAGg': [], 'ortVZ6ZUTK7CR41B7AwtXQ': [], 'F2L2f-ITjnHlqKRFQVFsVg': [], 'z0z1KF6wyAALOtMBOp00qg': [], '4TBSJvehKXHqlC9dOCDwyA': [], 'LdSIXJeWpK5u8tq-nKxQ1w': [], 'TvRNDo_SfRSmTO2q6j_rFw': [], '0U0odWV4aGw2k-bIUKhO2w': [], 'XGLGvB8S6-Anmt7gZkPLkQ': [], 'sITdlNr1sfBAAwaQfB6mgg': [], '7jl9EJQCGBiTyXTDXMsRIw': [], 'kQAUenIV0_kJmQ8wEsGMeQ': [], 'A6upLxml9nNaVT_V3oIUkg': [], 'OdpeVoydIt-jG7-ltQPimA': [], 'zf2Eq6rSU-ueZUFxz6PSZg': [], 'mjSbZsEFRKzUX25pqkimdQ': [], 'ZiSuIh9jKUrORm2YQnB9TQ': [], 'ViFDeMpfxe0EdIgOhX48Kw': [], 'St9cJ47L0WidZTXRuCFhOA': [], '9vXJXydGeJHLdhRohfd59w': [], '7hq38lF-G_u6-QJ8nBV5tQ': [], 'Fy48HyITu3HxF7_VYhEnLw': [], 'koeALuQceWSzj453h23nsQ': [], 'B611UQ8utColarHTW29vDQ': [], 'mFGUvyJSdSRjIaN94QW_IQ': [], 'HWyXgSBj8WL-SbnSi5mlNg': [], 'UY13CTgUqriT-fMxT2APLw': [], 'NUT7tou1Uvjh0GB4I41Qig': [], 'RJrI3jFL7Kr8NmSSjn_kxg': [], 'LbZ6Kl0G8DI6VGed8kzphA': [], 'EKzsvcIcSHyPIp_1zezBag': [], 'LkH__EQPBEUkFfi2D-GPKQ': [], 'kr2asgB3RwY6zG1UiKemcA': [], 'WPUf-Eo6PHxDNqPygahiUA': [], 'j1fBzCH7FT8na8v6S3a3xg': [], 'vK8_0DjWQ4WXUxCgsn7yBg': [], 'qU4wrOVqDfddr9PP_ssmUA': [], '8jHLEXfoy3Q9TdvJYvtWvg': [], 'iObLvZHRZ0RLTQOu-swDgA': [], 'Ozf92eEJSwwb3LbO50cvag': [], 'd1jiudj-VAUxf_-Lkrn2_A': [], 'n2unS6CwXs2WeGbT7Cyv9w': [], 'USbeHpw9-zMtGct92LtJYg': [], 'dCa2dBDtuVVnyitJzQmXtg': [], 'JwyH48vqADWY6HieOMDxgQ': [], 'iJBnqweAPDTCfyMcRrG90w': [], 'trsKoo2b9-nMcXCKn8dlfQ': [], 'smdGDx5PS2Nt67FXYAQSUA': [], 'IALVdIEdp8n6aJed1hBGhg': [], 'OMf69ePEdHXvaqAlCCI01A': [], '-YUq9cyBDncEIDf5aUEGhw': [], '0VePa04qw5aKs7n9Nn-5Wg': [], 'Wag4bnx38zJ4ihDn8-7--A': [], 's45jB1X0W0dFEaTyb2q7kg': [], '5eNMMKB66grSjG3VBj0G-Q': [], 'LiBnff-ZuzW16zIvZgFOfQ': [], 'q-3Q3t3RS4qiW51fDIEvyQ': [], '6u2FMvcrTa-EKYxjj3DrdA': [], 'HBZd08iiOuIdZHyt4mRSSQ': [], 'in1dUkV0SE76X_U-nMEl4g': [], '01xXe2m_z048W5gcBFpoJA': [], 'DL7V1_chkWkZtyG4_xNYfw': [], 'pdWnWH3SnjTTkRZx0y2wSw': [], 'Xfc-B8XUPkvvYoy5eVFO4w': [], 'lTKr5J4nqepyOpOw8auErA': [], 'tLCZdAt83gvD6Me_Vshu1w': [], 'J3iWlSa27BmyvX2XwJt3Yw': [], 'dIA4aUlrRHthZDH5oqwuvg': [], 'h-Oq86DZfZad9kKXe8m7Lg': [], 'eTmy0-h4tTEpfbDVAue0MA': [], 'F-PmkzyN80fVcNMN8Z2aiw': [], '-yQHIYKXH3HAdhh1W52OMQ': [], 'v2O04EnpcSvWc5hkiWrZZw': [], '7XTGtaKjANmZqp2QtN_iPA': [], 'XpzJ4BX0ZgGBxCua7hHy1A': [], 'rBBAD_fHaYnqWC_APHO2SQ': [], 'AcGRSWCpb7YB95MTsHlGEw': [], '0nyM_mub7LxN6Dx7tYpMaA': [], 'f5iC98vNAziOiAuWGP6Jww': [], 'qRqd8bXyAhjYAxisl5e8UQ': [], 'u4ihxqmtr1X230QA9ElJgg': [], 'rrEdMe05VYoLju96bA_jzA': [], 'ZyIlYBpGnRsLeoEfXo-mxg': [], 'DuYEoOEQFioJl4tiiKIdxQ': [], 'GKtVASxg9ZafsNEQnFsipQ': [], 'CxtzsoASybpq3afGYu4LYg': [], 'VKVDDHKtsdrnigeIf9S8RA': [], 'L6ajo52m_Oyh_dovLkfjng': [], 'VYk6kkWfV-Kh2TKqcxieZw': [], 'AbnpKkW0mpv34jtRps4C0A': [], 'mbV5FSZjiUViAdwcYRY0Rw': [], 's6oqSa91yXeKXe5yMpV7dQ': [], 'MM8n7SPaIuMlDGbUM5SZhA': [], '6tR7FLJkwlDspVxsfrMulQ': [], '4VQwUiSTPnBQlHSdai2-Pw': [], 'pCaQATG8E0Fw8RGHLU33Uw': [], 'SZyrTU-tuZt6d9L6nDxyEQ': [], 'PP9ZfC_JUufbrPRPHD7FJQ': [], 'DhRJJ5aUUuBp3XR1JbLeuw': [], 'lQ3G1NHzzqfyDVCdbBf_Gg': [], 'kxzS-zh5nUNvBzYz2Q47pg': [], 'cxVqsH6a5ro5PaWssb38kw': [], '_qVIGIliNZFKcEbbmoLkkA': [], 'eVZJvkjZDPYyQPntRjwiLA': [], '4BteGRw4rpOPFeyf2hEoRA': [], 'jDHDb20vTRKdJou7XE1DjA': [], 'GJTQ0dgQ2BTkbRw2jLE0Fw': [], '3n86SpBQ0COOW_2sDRStoQ': [], 'drIFrAyZnyismS1ArZlmAg': [], 'SVAfZ1_2XmGj6Fwhpx9RJw': [], 'fv2cCHRmH2snwJz_TPGcow': [], 'w96oa6oQk2kolYfy8Ja2Mw': [], 'd-wvSnFt6JAZBzqMiGpvyQ': [], 'l_ph7O9NYyEjMwpSc_TLTw': [], '2FmYS2Z0BVmXvMix-AY6XA': [], '6F1wUwVpP2Doz4wBgcu32A': [], 'IvovJ3sfYrjHKH_hS5XrNA': [], 'kb3JZimGXs3niUVaEuq5mQ': [], '5RRfUPmRboHNydASWEnANw': [], '_dfqxi1krqXmVHoGkfPnXg': [], 'ckbxCijGN-zUK_QmCPoGcQ': [], 'YbOhR475lR0xsNJjoAmMXQ': [], 'XyaOCULIHZjssQoM-FJLpA': [], 'v2p2jQ-FAse_FQI0LSh1pg': [], 'lHIm23T2nkmctKPL7lWdKg': [], 'vzoAKt7ND2YPLYfnVRi_Cg': [], 'E9IPxXY6pS2gTW2FBkAJmg': [], 'r-1gEc8Xvojo770CaS2gUw': [], 'detKamgvQHyvHYqbvQu6vA': [], 'dRb2Xq8jorJV6tDCgmaQUg': [], 'oH5LF3TLtaMgrg35ah0NrA': [], 'W8xG9Bzk3TPPkBR5jx1pgg': [], 'vn5Ebwy-IdtJ6PQE6y7vaA': [], 'l_4c__U60fVeTe4IYZBR3w': [], 'fXUJ9d5R6kNXrnAouByB6g': [], 'OwOMoh48nxjIgPkGU9RxGQ': [], 'xePudDnTVh8CART_p0nlxQ': [], 'aFJUDxHbALU-a7bfejpF2Q': [], 'cXmnZReg-S7kAxg2kGMlUQ': [], 'c31YqsnR1aTaSzawqa3L7w': [], 'YX052vvZ0V0s-b_AHNBoNg': [], 'ZXBrJx0Yd8lmvxZM5ZOIFw': [], '7GWjnYP2JaJKHIg_AoyJOA': [], 'TubbskG3TSU9TpgFFH2How': [], '21aN-c-5CjugDRiSdjrH3g': [], 'V9Yta_aOk2-bQm5PiYhOsQ': [], 'tV4di6DmjOPAcmdfIIKHXQ': [], 'ZpthE2Fz7IEO6ruTnon0Ng': [], 'mI5UYpuYxjiumMLgANoa9A': [], '333W59XcrXZsJlnBAAx5mQ': [], 'oDbxu1KBY4WD0VKsJZGU9Q': [], 'UlGwSAqsPzi-al84UNONdA': [], '1C7mPT-9mFihyZq8-qLxgw': [], '-0aIra_B6iALlfqAriBSYA': [], 'wO_mCbiatcDhjWzsF19GvA': [], 'JAEGnGjqphWGoyuCN-hNQQ': [], '48FexP3dPCIKi144-kYHGQ': [], '_wmdi3TLw5cGBV33hd0VLw': [], 'pC1hkqLcrXBxrs7YgfkJ3A': [], 'nMKs_LMNzAzkEB1FwthtOA': [], 'FMOtcUcyMj4gaLiI6CdjVw': [], 'rkf-2DNMGOLPSOk6Tqps8g': [], 'FOAAgwfA_1sLoSBB1RcJrw': [], 'hLrrgQwn-K-IPI8g2etAoQ': [], 'Y8rgiVhjpdbtcn83UVaVcg': [], '3jV44-5HVwykooxEp4Fssg': [], 'RazsWLhKl34XusnHwz7X2Q': [], 'DEtOIjhV0MWZ8fD8-YZCww': [], 'Py3Tin9kA-3BCO2WAfca_A': [], 'lWc6CdEyEpThhnKc-2Nbtg': [], 'P2GBKrx7dJg3xeGtuU2K-A': [], '4hwe5w3opbrwFzezR6i7ig': [], 'DlYiFJgFIVwaaySuNn5eYw': [], 'KP-f7in9RSapddzIVRBE1Q': [], '_QkQMs5ZsM0jS5er75yrCg': [], 'e3B8xTCLvPR1jZWkoCjuUA': [], 'HYAI_4AZ88t1lXadrCsZgg': [], 'JRECtpPqAKiwDp9zl-3u6A': [], 'bShvndep-EC8qToFXM5ouw': [], 'RwxLMhe-uw9Swr_hSlgtkA': [], 'ET1BNVgP_3LtKKscrj1KWg': [], 'GFwQAJLPFJPuDIoS8Gy2uw': [], 'laH5gNcV5N-3zHuQu-GEBg': [], 'Qb1amWCBTeBQQzQyrkyNAg': [], 'OkqWYzkPYcBrsvjiCJQjWw': [], 'y2e1DgIUBlERep7hrKz2-w': [], 'lEtpTFWetCf6xnzeImLiHg': [], '19jV_YngqOH0h40IxItUKA': [], 'p3lATlh-DKgGMZyzMfp-Ng': [], 'E3H1L1bWvmOWKc8vBnSvNw': [], 'hBq4_EWvoJJilE7rJgJkHQ': [], 'wZRQxolIU7jNGoz2c-BkrA': [], 'iJAyuYftyiRxl1ywWG4LNw': [], 'QVHKpXJ3fRNMvin0Yvb4Yw': [], 'GrwvBAEALujIOPQeOfN1vA': [], 'urgviU4CGLGVLKTahwuzVg': [], 'Sl42oSRXpwbjWd4V-Fxhaw': [], 'GLcnmJ4bwN9C1Jv9xwn8EQ': [], 'uPq3klr7pwlvjHgQzRU9-Q': [], 'XeUm1QS078kgjwONhul0ng': [], 'IsCbJlfTsZQv6fFSEbzHVQ': [], '7wgNlcLTfQq8CHBob7AGHg': [], '5BKP0DY4K79h9sd7THpeBw': [], 'AZQKMMvX9m1-uTdLPMzK3g': [], '8WKA2k3_tWMT1W1jYMOyqA': [], 'FGaaHr_krwaPGlD0mHPe4Q': [], '0pMsVlUu_MbFqmvbA8F79Q': [], 'Q1dRbSP425_w1B7KGqj5sw': [], 'IvbVnHO2Y5w4b61rJ5xHaQ': [], 'pIeCFuUn7NWay1Ti0JzHtw': [], 'OwZM33ZI8LZVknaLICWIhw': [], 'oMtdUzMdo5W5qrldiOGROg': [], 'GBEra1Y2v-3RzMYgt2FYNg': [], 'Fs9ObcPIZ8YeOUI3RPi0TQ': [], 'PndkxtLCDv69LBE5Ay8Mwg': [], 'MpvvsMZOjMME6aMDCnMjQw': [], 'FI-8LPGkc8D_hwx0l0zyyg': [], 'jDWCs4E5xKHx34tjZRcBOA': [], 'ekdXu37aegXyIE2OhP2fQw': [], '3lRXNifVJDgqylwaQEHvGw': [], 'uYDScUhTHjtnnxmzy4fgPQ': [], '3akSOcI-uzHOwGQeZD3NHg': [], 'BVYvfJiVcQTl9B311z518w': [], 'hgc-YJELr_899ExB92z6jw': [], 'kblFxfo_xnMUZF0U0aGXQw': [], 'gU7xFSbbu9KX4OSBhG9ElA': [], 'f_E7mOwfpujpndlnX8-O8A': [], 'ikyJC-gPhSuApuq7efJfoA': [], 'jOJaJatp88cqnkVo8D8RJg': [], 'Q08j1Ywri0YUHo-qLKi80g': [], '8JvuhiQWoMJVDVuTtvOnPA': [], 'V1CvqpVdyc1XkbQRPJqLCA': [], '-jKBFjNTbiafSdunQy6dlQ': [], 'fGw9HRq8fdP9fMtZclTt8g': [], 'Z5-DaN5V-wToUnjPJ3i0xQ': [], '6-6s-ZBtAt-c64EQ8il0Zw': [], 'G3qjKFza3XCwW7tFRjim8w': [], 'azu7ayb7kuQAhpNXjS4M2A': [], 'jcw_vtqfZSTLP15DJmvfIA': [], 'rCJ6qFo_liwGPzbupkLhhQ': [], 'VNiSxEj9hcJ7t29X_N_XXw': [], 'LZxBOVUNcoDviXeyBkVIdA': [], '8hDnvOEgCkD6kizhPVz8iw': [], 'Ae5S7cr7TlRUMLOa6E6f0A': [], 'JfJLTEp_yv5lxFzNt6JalA': [], 'KOQw4e1rwCY5e0RnmB5rgQ': [], '4RV97YE8VEw05tu0WO425g': [], 'GQaOgUdJOVoEzMaKODD8Hg': [], 'bW2XvWw_ROV5MV-LRUMbiw': [], '5L4XcFz1YKeurNGeMR-fsQ': [], 'qYNl7Qh-YetWdMQTzX-jZA': [], 'HGvNE87fvK5PwKMZBDkTbA': [], 'h3T3cdooQ88xPCK3PfSBaQ': [], 'J2ku91BDtusOf0LxzoaIGg': [], '6CPdIWgbsyd0yX_QSInURw': [], '-RxkfrFaOLpE6Be3zGfsVg': [], '7JkPRXmtRmspIX_k3zMNvg': [], 'x_9vVfNq3hPAsaa3FdEBhg': [], '2SHu52w_w4Z4ACq-vx3a-Q': [], 'lgWB0yGXpZvupYREWxtV7g': [], 'e9QjTA0wa0s6UvLPTnu4cw': [], 'xBwE7uIx-yN-n4OpNeAaDQ': [], 'rChZSzCmTIzlLSq0MpqFtA': [], 'F5iUtmlMqPva4aUDz6xK6g': [], 'IZDGxg1vdlK0-TFQ018-Sg': [], 'u5xy3VHIry2LZ9q9Co-KLA': [], 'iB9By3dVS6BydSUiDHxLyw': [], 'tgiQx58FRyy6w-pEjoxjSA': [], 'oHrhz4_OBHIr5uPzER8DVA': [], 'MVSACvnnpDiEDp4FTn1c5A': [], 'QvEoE_oGwHPXvw5IylllNg': [], 'x4RtR4O2lfRqUFLO0zifAw': [], 'RRtjC-KUE9vSbD09r6is2A': [], 'YhKcOW9-lmdKrQcyt8elCw': [], 'QDJBn7I1EdtP9w4nYT24Pw': [], 'yg4_5xhNEl-zlcPrEkfogA': [], 'LQUjMgVrpAhMwkwbsxGeBw': [], '82mWTnfbGDE1jJ2NDMxfNw': [], 'nk7cnhTthMPN_cjFMILXcA': [], 'ZiOWBZAgaiVJG-u7nX8IgQ': [], '5-s0ESpKQeI50QIgcz8GGQ': [], 'FTA0Gt1BQbuA0OPEfV1R6w': [], 'G4uCm2GyxZrOYlOhuhCuug': [], 'OogWf7ikES5VofPrC7epRw': [], 'dPFGRDC3Hsi1mDKxvKz_9Q': [], 'w3JBz9gLbZ0CKWQM07nONw': [], 'TM5RSrqaKlr4t0aDg_mBvQ': [], 'NlO-h5Dz1P9A8v1bxorbjw': [], 'BJLhJdmhUxV95BHAxZluzA': [], 'KFAJsmQ6GnHxyfmv16s9VA': [], 'vEX-H92z50_krgEUQzrYfQ': [], 'x726rS4t2doGBFIT-AGwwA': [], 'eD6nEqCGjuA9GwEqKwnj0g': [], 'tQlJQgywdHuJKEn5KGBATg': [], 'XfUoM-27iPHkbewPXepmFQ': [], 'd47eKkCx3y3N2Eqtzmuc8A': [], 'sktYwQ-votTQ43po3t6AMg': [], 'qwiMCWOEbCV3GrqXb9h_2A': [], 'hbwmFNEosiv1evr6AwlnCA': [], 'atAjzQ7CUw_wM-GNh8piSA': [], 'aqMfCbFNeWn1a4Evds83fg': [], 'woP-omtF0PobX4JxXpZa7Q': [], 'q6xbgvr921AQswzVQ3QA-w': [], '3ysQ1LOk408LmRM4D1oUAQ': [], 'J5ebC7fKqrSF8KuS8d6hgw': [], 'h1MxTLZ1b2FkU6ituL1yHA': [], 'WR18M4vP4g1jXfNsd9lYjQ': [], 'ZfYFo-CZoZAB4sGNOyhoIQ': [], 'vcVsK2qq743JzJ67abICDg': [], 'i7ip9OtxN8J9lUSjbS2Dlg': [], 'aYlZVqlqf8QRd9EW0iRC4w': [], 'en-qw089uyISqOTUJb3dhw': [], 'IMb5BpDLlSbr7yn19HhltA': [], 'NsbcCa8_i0RQjXLhpeLixw': [], 'ku9ak9cQnIGBCXBtRd61tQ': [], 'Z5jtjK4LGIkaARQrLKS-Lg': [], 'cnfYugAYBFKgwDCTAVdViA': [], 'aqbY6f-ZqJ7wnUSll3BxLA': [], 'Qv0OEziLJwyAqcgtrTsA4w': [], '_rxm3RZlb0reZDzCkKltow': [], 'MntLc1eDxfjGzTCMjDJDJg': [], 'Cl5PHhHfOzimUTCWjC5yNA': [], 'JvvSsZOHG4uNH_a97ACtoA': [], 'Wxuym8s_AXGkLtnS7HGbCA': [], 'g28b-5cvHgB-p8j59f370g': [], 'luI3vBj9ciPBWT2bQ7dXXg': [], '4c1IWqXjJxcdV9Y91xsJNQ': [], '3-6biVwm7VwPZ-k67jml-Q': [], 'zUgDrRtGvK5ZTFlHCsTHwA': [], 'G81PxmvajV-M-fZWopK4kg': [], 'UirO9lSdO2cELZ3fOg5rOw': [], 'VYRxbF0fq_fdC5WCqCYCwA': [], '5-rXgJ47dUzSUwqqjbGihw': [], 'mygLP5-SCnQwIev6LU9gWg': [], 'K1qs4e30yoln6scnm-tmyg': [], 'gybshArDi9gYcQ8sk6IHpg': [], '01kMch4zwxzzj_dpTNdoOQ': [], 'ukCTLs6T8LY1eUBXiAlmCg': [], '94J5iU3DZzcvBG9DlJubvg': [], 'RyJIi1IP0UQ5qGbwazgsIA': [], 'csy-xJWM68SXabizUIhucA': [], 'kBE7iBecnJNK6XxvHC_32g': [], 'LLWOrt8Vo5kyA9qeo-Y76g': [], 'SGGdAohW2bDJI2hY0ndj2w': [], 'l3bmBkr8_Pw3G-QkX0tPrw': [], '6VePv7drDpoG20ytyBFh7w': [], '0ihQJhd_-nUP1p01NBDjLQ': [], 'z83ABHR6E2N6eGLrm8OiEQ': [], 'lENkF6Cgd9WzUDBcuZcAPA': [], '3yNjFbYSNxlRtTCDCXVcnA': [], 'mJ0CA86roChYwaDkDxFGwg': [], '7ReFxabYRuDBmx9Bdx7VMA': [], 'N3u7ZIW2b53vKDoWCfazWQ': [], 'SVK2r1D_q7DZwijpM0q7cw': [], 'x_yrwPrJACZSiyLrOdODYA': [], 'E53aHXNhaz-6lFOZwr_u_g': [], 'ZeEPwPmN7SP27xiE6kQnoQ': [], 'Jk2XwkySutg0glHVcv1_Pw': [], 'SgFJaawsw9ATzuUmS7ho_w': [], 'miySsDV_1YKS3EqqGwblQQ': [], 'hzp5DqdhH_7exdX4FWaz_w': [], 'jCY_nUGmElQsERJsovVEDQ': [], '8Syk4yZRivDlVUdXxIPutQ': [], 'euKKa7ae0vKnpLmqTUgsQg': [], 'OVb3wbv59wTcd0pQrXBZXw': [], '1a9YViZDThy3VqBnGOatmQ': [], 'fasduK6l1bu2ngRSLDNkIw': [], '3IY-JtcZHBOSzFD53SSXLA': [], '6Uf3RcK16NZeTxYTHXAD-Q': [], 'n0SMxITaU-6XrB0lOwi-0g': [], 'JuPngDeQHVgBLH-VIET_ag': [], '9BPRNsRlrMzCrV0M_ywXqg': [], '6BjIGgxIkCks3NTpkj3fAw': [], 'Ifumzmg8D7mWqKabloNClw': [], '9hCaQF1r5glI6Kzxo3jj1A': [], 'NujffVKeHWLWLOFGbPVR6Q': [], 'ypo9QPXXTkpxzx8jGsxriA': [], 'eJab5373h0eZiOYnMPG4dg': [], 'bKyjGqmnP4goQRYYp4ARhg': [], 'stELNI9yN8wsgWWt0Im_kw': [], 'r64n5_4dwTJ-qHZJgJGz1w': [], 'atLCqV8RGezSxgLzcM9HaQ': [], '-6h3K1hj0d4DRcZNUtHDuw': [], '0aTaA3owkCEp18IZMUnyKA': [], 'uGgpid8mxYGkYLxpqRnQZg': [], 'QT4Ub4DlaDX52vdnKutD0A': [], 'sKWZ_tAOVMZoC4Qk8_Bd4A': [], 'Mp50uBWoZAXqSjaIZB7iow': [], 'p5BiVlgXg8ZQVkHswOG4Bw': [], 'm2XTPegLMLCS0wVW6Hpk2g': [], 'ypJIC2wrCCbEQsSPWyY6dg': [], 'b3wgQ6CccBO8fgvlbS0M1Q': [], 'jCu2owbx8mxCrl2c37xoFg': [], 'KAmYlUNaGwEpEOLa1KJ33Q': [], 'DHl1cUYjLJqpqYiHdXbnqg': [], 'Elc99pp5iVFvFdP3taAjkw': [], 'B9E9X8mm_k2Ry-lHx9wEDw': [], 'xRUQHWCscNqWQzzfO9qN3A': [], 'JJBHGaZl9U9lFGBIoKExgQ': [], 'Blfn30Y8tvYq903oLiIf3g': [], 'NL95JTNTh_gebXKSz2ElNg': [], 'ACb637NG7EnswRs8U_BX_w': [], 'VeRHiEbUe_vHprYn8mnezA': [], 'H3Gastz2T6iiSRGmlbtoXQ': [], 'lcbvgL5Sgx8ibQEhtbAEdg': [], 'zPQesAWNB_FuL2Be1pPPlA': [], 'XJ2dT7pwmutxM4ceQnTVUg': [], 'E6Cb9EwRyXQrIpJqoT4nSg': [], 'u0_EMrcXuQW3zu39peNQzw': [], '88cKxCOOHIonIa44yVPDmQ': [], 'uoZwJJaplLsktVrRw0JiQw': [], 'sFMzUZPzwrOrH25FgVlWHA': [], 'qeQjp9pa9PkyXDv9P5l4Ow': [], 'i066yR2IDP4FWt6p-k9aFg': [], 'msPPUPKgPTlGXh2YrBAt-Q': [], '0x2qB4R790SX3W4W8FQuWA': [], 'v68-_x0b4YUWRFRu8x193g': [], 'gRsMPQ8T44cEg2jnvS3omg': [], 'mgeLg8MBRnfvtGZanl7mUw': [], 'cpkBJhBujpBFZ0rOItE-4g': [], 'yyeBHUVfmqhEpF3BlXdJ0w': [], 'GhrZxpoetry_48cvS34Nlw': [], 'I2ZtsGibZL0FX4qha0Ptjw': [], 'DT35ycaAVzbq83vVGRCoIQ': [], '4FufE1hgaseeq2PY0BdwSA': [], '18lW9mK4Thek9_rwNvg5Lg': [], '_mg5bYknpZgaWSfjQVmrJQ': [], 'UotZUkpcI0p2J8RUAD36Ng': [], '2S3WsczyCAUp9KCcVmJfRA': [], 'J8hSZ_LEdHHSk7yHe8LRzQ': [], 'i2YFMkIMqstA9GxUkcigYw': [], 'SvVtcl-T6vKK1-a2NL6VBA': [], 'Kx-FVuIdlnvPBXpJvcn5qw': [], 'hiFFgsW_Lu9nQ--Wa2Okhg': [], 'L0Ec-nx5Mh6lc7CZ9v2olQ': [], 'pshiKbFYbE2P5dkXa0FVgg': [], 'PfF1y2H7J5QxeQkwr_91xA': [], 'DW5TmdNGhepqrB0JGHnJ_A': [], '6i4Sxo2dDvHU6lIiis0OUQ': [], 'dpywCoS-f8HcBiSTNcMJrw': [], 'wUPoQpzy_LKWMO_pgBgkBg': [], 'gc5bZeAOoSvlK-gcJJHahA': [], 'svU7GceMV2PsJe6MLSJWIA': [], 'wJiC71DNRiUBQAede-qVEw': [], 'kJf1FCI1pR6ZnNknjFmpmw': [], 'SdO1UHwE8Rjz3Pz2lBUa5w': [], 'BeXgrPiiRUjvZSn7TYTOxA': [], 'ESinwiCgoJNG-tMWxVQhqQ': [], 'GwBwNmjdR8uElNPrNWO4PQ': [], 'Ryy16NcZtVB66ggWmKwPjA': [], 's1w7weo4AffZXrz6oRcVww': [], 'fKxdy5SiWcSvYrLdxtYdmA': [], 'LgroNa-JH5W-wpJACXuz5A': [], 'xGzKRIUAuqDrT9eYthGqKw': [], 'DKusRJUxgsye1cdrlGgQOg': [], 'zNm3C496tg-jcrvG5khRUg': [], 'NBvckW2yMQQDNfWOzCdCJA': [], 'j8OUTcN1RG-UCzFUW8oogg': [], 'x8Sp-h-oR5WdzoG5WEsHnQ': [], 'ueoRWPGrSoZizl1ngBghqg': [], 'M5gj8a6Qtjy06lh3L5zUqA': [], '6oyUUtgIqBEnMnB9B7-O7A': [], 'Kb1x5axfTQYrndJDZzj0bw': [], 'K_ngcfNoxGFIG1bnqQdMWw': [], 'fgm7DKVy1wuod6FTPvZqRw': [], 'sx2NuwV_ztA62nv2c5ZcNQ': [], 'XOOF9Ks5OL1RpFvduKYk1g': [], 'mr5hwhIb_qfpTg9mbWHgsQ': [], 'aVKBmuvdDmEOgOfqaSF_xA': [], 'gxEkxkqQrrK62DJnXxXDLg': [], '313pOZvjvoi6QI5oXgtRHA': [], '0Mp_0j2dfMXE6l-3Raqorg': [], 'PQTtKaBK_WdvLm-zp4fQ1g': [], '0AJF-USLN6K5T4caooDdjw': [], 'BLISNIoF179UUfCBTxNUOA': [], 'SPuWRtKZVQMBdDR6b4skFg': [], 'ibjoU0b7R3cxGV2Lh4TiFw': [], 'PtEjNgkWfLk5GTGa4hQfxQ': [], 'AfuYockOIOH9WsDJHRvVlA': [], 'AxluhyBhbxz0Ndfmi0GjwA': [], 'VxgjMl8tQrT4idJW_z8daA': [], 'BG0qvww_IeSDp9ZqOgZCRw': [], '17K0u4eyrm5rZBo5FybQtA': [], '3yMmo1sERpks50quoaA8PQ': [], 'I6__xsL6K_aGeEJbN4sMJg': [], 'apdb7MGnmnx6nGWBJ0ch_g': [], 'ioJpupDt2Wm-DHw9H8Q9Mw': [], 'U-PDsMlQf1JXVyZb5iwTpQ': [], 'Dwj3s0jTQM7-r8joZSe2sw': [], '5g5iV8w6SK9KHtcbhwGirg': [], 'J8hNZEebgXK8-LWBXHVInA': [], 'b4dtR83mPAcvmM2a7mqpGw': [], 'TqAXKLF1P5XAIG9Uq2eUmQ': [], 'ajtE6Dvg2nGvuMvtEdDl3w': [], 'DCsS3SgVFO56F6wRO_ewgA': [], 'oi6mahpAmEuikfihFVDmCw': [], '5z-kd3h50BnaE1Ee8GV5bg': [], 'nsY7J0cdi6usTTswuy8hSA': [], 'E1eUQ9vJCMO3h9NJZfbhrg': [], '-4g68Hwm892_KPUuW5g1_Q': [], 'GaYRUatPQi6PmJIE2wF-Uw': [], '1nno5CjwR2JwUHMGZp2AzA': [], 'cCV0q8VV5RZIfcvolWXlBQ': [], 'dF11zSNDXbq6DBchUvqgZQ': [], 'heShcmma09uAfwU6yStMjg': [], '8B1TIuaqhaZ7QMEhDUu-Gg': [], '8-NRKkPY1UiFXW20WXKiXg': [], '9f5tDxk3zGc43vjFk-lDng': [], '3EQBKQaY2VC8alIzPPUfNw': [], 'Se63tFm5tLlO5wuUlyww8Q': [], 'dOp6hSjcp0o3bPYpKiRXlg': [], 'qq1ux1zmCEmFfUOq538j8g': [], 'RwlumSqNBunw1a1LXccN8A': [], '40B7HIv74ZqU9tBxbuol-A': [], 'yMBCem_MQYWdK1Hdratz4w': [], 'pkEYhukWbbnvfhcx5B_qmg': [], 'KkXSMj3XWTAHPoGu6l5RyQ': [], 'TzU6wCbEze2UiTAQNi-T_Q': [], 'Yc-QA8PfuY0Semey7BCp9A': [], 'E4POatW_bg-T0MzD4DuLeg': [], 'WMcNyg68PVCwWQH_pOl6WA': [], '5QvoJJhiTuOp4uQ6xphVCw': [], 'GGF7Ov16JXcfGXna6BWSPg': [], 'qGqMAC1r7fStx1qJkFsyOQ': [], 'fpq8H7tPv8gK3me02NASfg': [], 'hHx3Z8O9_R_ymK4mbvK7AQ': [], 'jAXikV2ByOxHLRstTE8ltg': [], '3Uu92zZVhtV4GVIMS74-7g': [], 'Rtaca3VZIioxy6N006NKaQ': [], 'iJ4asegD61MbFZ16CYI5mw': [], 'mHb5PqEb2qETQEPQXVVR-Q': [], '7BhhApVhGkADy-SlwAikQw': [], 'U6P56MjLrraN0JBNvOjxaA': [], '21-o20t8YPSXrryoNBIq6Q': [], '4E0sK671C98JW8nakFbUnQ': [], 'Me_pYtoAeA2IkO8jOBi4HA': [], 'wN2zNgEK-QizEA_NKAHj6Q': [], 'oO6J78pMW4s8OzSUm75SpQ': [], 't_9dmtogyjAocFsNW1igag': [], '-Ht7HiGBox8lS1Y8IPjO8g': [], '0nki-StQkYNVHi5EQl-Ayw': [], 'JDwUNHYA_-FvxEMRvHniig': [], 'xAVj_vQj9eTHorWMxY4CPQ': [], 'oxHmTO6MwNPs524_-J-FRQ': [], 'A-tuGeY27KN2OGE9D-tkbw': [], 'xIt44aGP88RI3u6c6OYyxg': [], 'XLTMxaQa6DU94yTFME_vnw': [], 'G9r4WJwmrNbt75kF3Fnxtw': [], 'BT5CAwvOSYMsfBN8KCZaNQ': [], 'a48i_DFln5e1oaJKNM6BUg': [], 'cTZmf7B-4yciMc1WKiCVOA': [], 'JWqc2Nost9wDFrbBhnCUAw': [], 'Msp69CY6JdXTY9guRx-qkQ': [], 'EBZchJ_gzo1SIg-w5mx6iQ': [], 'O3swSW2vRXaPrfe0G00ngw': [], 'pk8WK6rThM5mDmcILGRh9g': [], 'AyZePvrWz73d3B0hafFCKA': [], 'Wl33gUSRNpWth-Z5li4JwQ': [], '-0tgMGl7D9B10YjSN2ujLA': [], 'm8vlPOwvw__LsX1KfD56IA': [], '-exE739XC1NqZTJKjs83bg': [], 'jlugn4wOjRZOLSuO1fyL9g': [], 'ZGl4go6QV0_Vlo89VC4Tbw': [], 'MJjTgjRZJLnU0VHF1TeMGQ': [], 'whAwdYVty-jSNRhrYT2zHA': [], '5X7TQsA3iDbBc8yy2YkCnA': [], '3hp9aQXwomWH-TYbO_IWVg': [], 'LcmTZeZAE4cb8wFel8JGZg': [], 'mvbQX1jHHHGlOWfMWJJ-bw': [], 'iPtSfoSBj7r72pxDlM3pcg': [], 'UE_4vdEGfH_1UMzAq69Cag': [], 'u_2klPoXddN0hUi-fzHM8A': [], 'DhBK-qM6WXBfcC8Aw7hYYg': [], 'nqPuAhbXJWknRzUXSg8K2g': [], 'LyunOKCJ30PVfAis--hs4A': [], 'W7Dt3b6H_pMIHfxn49Pkzg': [], 'WZM3TE_WiWbBl7GInsNYvA': [], 'cHa74FO5t8hNYGwq2IQW7w': [], 'nrwKiDMr4odCkjx78e5IfQ': [], 'KUZc2Y9wOkrTp3ABSPEBKQ': [], 'Svsud1uD0I_KcZpSATmgkA': [], 'GdCIMZ9BTT4ywETWcByfJA': [], '_WvEXsx2eZ53lTWHlIx9kg': [], 'kKSRP5M_62fssd0kVJvBcQ': [], '4IXTkqYmAO4XH4nXnwc67w': [], '5KheTjYPu1HcQzQFtm4_vw': [], '0vJmCY2P5rc37jSMz7Nz3Q': [], '755TvTVJq5Qr38ny9fN7uQ': [], 'oWCcm4JIVb0lzfjmJvla3g': [], '6PwKC0dqP9uI85FEP86iPQ': [], 'UUAYbiuxucRdKvkKX7KhmQ': [], 'aRis16GBg7iOeNGpLcVcjw': [], 'W2CzAePJakvARgoQuohbOA': [], '4hp_MkR3ZmxnJatmBH0E1Q': [], 'l-Cu_WkJt5R1v71ecYeqsA': [], 'L6Jnx7zUHDxBZ5e-OYSqLQ': [], 'D1DqdTfH5KzW1fiatArgig': [], 'Gg-t3XhTl9MYsdULc1bUmw': [], '4SwG1ugTObHNStiahy9ZUA': [], 'Ld2hhA3q3cdkptwS1fsYEg': [], '1GoI8TV5ngDEqoTmDK6Iow': [], 'vCMq6wnWyjWfdCFAKSgH_Q': [], '71VGQ--nxzv7AgncgOX2Ig': [], 'GQEPgb0jZ-RSndjFSK6Q4A': [], 'ehFs30U5kajhlli9rIJJ3g': [], '_iKCtDTYEUasLkzmhCgv3w': [], 'QprhQn2o-KbsfG1yKRmEmQ': [], 'VZ8iwm4wllHfkoN-cqi4bw': [], 'M3tCYlgvLLbQfU0ybHiing': [], 'Q85C-Y6nMrKekLa-kCN8tw': [], 'hNLgrdd0QC3qLbD4tOHHVQ': [], 'wBzDqG5KTZt390PObwZm4g': [], 'JivnTufhK1Jr5ycYvdiDTA': [], 'V09mimWe6zc-GKhPnLWbdA': [], 'nlU0Gp7KCN2hjIzcTdWy0w': [], 'RpPMvFvEEDJBZPADcoB6PQ': [], 'eQSa4QK-7XnXT1_KYW0Xfg': [], 'tuDy8K7GhjME3b7-euTVxw': [], 'FtkPH-ftY-xRH6TjTmbmVg': [], '_18eAwEHvc6RSa6MeynXag': [], 'X1twjafYxMCpKt2MqvY5Tw': [], '12RdSdc6jxQFa9JY1Et6dw': [], 'mVDw_LylYwBDC9erXlGcrg': [], 'Zw9wEAk9L6oTZi63f4zVvA': [], 'Dz5NDfPpXcID1qJbEfre4g': [], '4M07K6U7e37w7gZZpIgu1g': [], 'Ysnm8ZT1pPJKmRoQ7Kij0g': [], '9GLdEM0xdf6T-i3uH6Himg': [], 'M5jKFdL0vLcBzdPh-mLnAQ': [], '5J1SoLkAM2zAOKqrRB7rCQ': [], 'Hv3iuAYsoF2FjH0ND9rIKg': [], '-NbpQXcwYSshVbO7-M9m_w': [], 'waT5bKkbYJceDpyhzSVPlg': [], 'XAt9Km4EIM6EE7LXwfB2Vg': [], 'NlymcSxDnjtCLyGvmMoyFg': [], 'BrzMb6fe_GxILIJvnh8weA': [], 'ovAZ98BAEuTcVoCD7ipHFw': [], 'oWM1ZEsqgJYMgvLbWUwuaw': [], 'LHVfdNRDiQfRpDyHyzvI5A': [], 'kNmG9cUYH-kdBj-tP76k0w': [], 'yHHVKa9joZAKiBDUp2SkKw': [], '3oTVApC-eUzpGjrOVxIr5g': [], 'SgPfkKWoG-23WMWQCT8ymg': [], 'vYzcDDVv4MqPOt46rl2kYg': [], 'u9R0_pvEkl7QGPJYH3j1sg': [], 'N38Sv1e4DF1nsHdZfbcv6w': [], 'NUh5L9ZX-YrM5uAKhKQXoQ': [], 'RilKIWnWGUT8XNkck52Aww': [], 'hia-4btswHjr2fiZlUBZLA': [], '_BCwZIK6GYht9cM-HGLduQ': [], 'j2bx_ctb_ED3zbfSaqhQmQ': [], 'bI9_dtXS9qN0Gmi7YbRm5g': [], 'RdK6dhy4lOb2taNp-WrHjQ': [], '2uJoVAx6SZBPTu925vy_bQ': [], 'ZrFqa9sUaF_X8wbNz29Qbw': [], 'HshPHJ-OJ0rpVR-okV55Rg': [], 'EB-LdZ3r41Obdswn52PA_Q': [], 'AcjO26DmOhqWlfo2s5DUow': [], 'zfmLt7AK03Q5QrzUFKCuaA': [], 'SC4J9kQJ5-bYjXCTVxHXzA': [], 'qL1YWy7auU6K7H68WQxNqw': [], 'LQ_gYNs5E10IGFE0NOyD7A': [], 'n5iwkQQH9nipqi_8cEyNiQ': [], 'VZa00hKCxOczpJyfFj8AOQ': [], 'Ee3bI8VXPU2PGE_vJg3Pqg': [], 'hoiMOXY9hF3KKxVpF5dRsA': [], 'ATpYld8anPooG-j2_EU-5Q': [], 'vn6L2cywiesnogJF_3o7PA': [], 'LgMCHBadv9Z8Ge94zNpDFA': [], 'B56AYe5GNuavMDtwFsXqzA': [], 'SQUfO3XMRsN1_j5M6864fA': [], 'k1c_bC3DK6mKg797vH1T8w': [], 'FpXCZJXKzHtDpfQVNqjWuA': [], 'oubCbnF9Ugh1vIGjRxQaVg': [], 'rZrhB-arwsFOLFVXzKvB6A': [], 'ZmLYXTXXrrIA9qMx8rVsTA': [], 'tavsPtJlmPp0s5CDEtBCkw': [], 'fWSUHUeG8J71enIor8zj9Q': [], 'T_s4IcIJf5ZHyy8zC28UGw': [], 'lZ5rd3YxWTcCPJi45hvw7w': [], 'n1S7XnZfCCDIWlMZ8yUvEw': [], '2GryItAj3e0uOQ5m42-wDg': [], 'OJAGq2tKzlwNuWmUX00I5g': [], 'YbweWBgYj9T3VqMFJcQlOw': [], 'Q6LaPROCzSjCx5IWzlefew': [], 'K-vBVV_RZX-BeyqOBWjsDg': [], 'AfrPdFZTyQAjnrM0nx9H2w': [], '6_kSCuQP5U4W8SfD8VVNZA': [], 'hvhLBjGv6WW7xeZW8mp9rg': [], 'YNTHs8rCdorWWDa8NGQRgg': [], 'LV9Stq-s3H4dqaTE1Z7rwA': [], '5cXym2kMtJgKeaxdF2SrJA': [], 'kSsT8NSjROsGBuSRa0oRFQ': [], 'nFz-JHkh9EiMAh9YN10r7g': [], 'QbtJvTQfTFbPqBhjkI59BA': [], 'hPfszfTC6xu9Ysd3sIHm8Q': [], 'aZshH0IfszzZyXkoVLPVuw': [], '2TGWnj3LGYd1BBS3twO-oQ': [], '4dCOilGYflzGzizOPKyvow': [], '2DVB6Xwuq8omtJdMvOrqpw': [], '3nudXkhgKYY92Wc8rQxxSg': [], 'GmVfpKA5b0pA-cC7Zm-mgQ': [], 'wOk2b8zUHWylJOd6FtNsRw': [], 'L6hkMaZ1tAPF4sW1WmdQLQ': [], 'JlMYSLiLnpWiihmzZkQS-w': [], 'SbDCw4JBxkGxVbhF6vvw7A': [], 'UOtoOybZ5vAB4aXBLc57vA': [], 'pYZnKIv0z-UxrpgBjp_z1w': [], 'Gy_XiWqkJM8JMaKk_sgXOw': [], 'E7KK8pYREY0qoKcAEO2XCA': [], 'bBxctA7YVbZgpExmsVK7tg': [], 'pa-C-Vsk9ntuXBGjTr0tBQ': [], 'ZwkKYbwAwp9oc97FhrpQPg': [], 'S8otGvfzrVBCy4nAZfwLgA': [], 'KtULkdHAEOeaON2cFfh4mQ': [], 'wFJFBZDMcV0hBMYOx88IYQ': [], 'pTW_ftmlevgZzUpWztP0Cg': [], '5euk5_UKqnAWcrbOPNYt0g': [], 'qEP4pUOMWr3rMTP38QSX2g': [], '2dYa8vZ4_QXZ7OgkB6g_fA': [], '1hkksm102yQY1DyfTPSzmA': [], 'IFBmiZwU4fyzosE4KG4jXg': [], 'WKpCl0GBUph7Rb5LKKh71Q': [], '-yeIdDaCHwXnWfjoGQNYoQ': [], 'bzoIlWnc3-E3jZCn_VfkhA': [], 'yJkYsl0hOlG2-ITBe16ZIA': [], '2NiBvT5zL272IRcxru_x9A': [], 'ljkkLrW1j-tZtrJq9SFjVQ': [], 'FirWX-Ep5203TsdiGgShKg': [], 'ZVG4n6LANMW_ahaJH8dlTQ': [], 'GAyHbuUTtKAdpHiFGJuezQ': [], 'dqSHsdKjsLXP8lqloBDPXg': [], '_ikylomPLdTgVtE0xWR_1Q': [], '6aDfalYZOkWzwtVRA2wYaA': [], 'CQDJ2y9sLxc0HfwNO5R3Ew': [], 'HQVzGJRnXnKnbC-7tfx-xg': [], 'F53MSa5SYzO9BG8c_JhskQ': [], 'apLlEc3GoFUI-yn1R-_nFQ': [], 'TF9hBlNNJYWrPntt5g1lFg': [], '46yg8fJ8fVA1QSaaL7XfOw': [], 'NbQHD6DVge3n-UvfYYNE_g': [], 'x10GdGZDOzImzE3sF0020g': [], 'e9UsRb-fmza5ukU8Ftduew': [], 'Y-hmtitiRfg7vmc3N-lTww': [], 'joCTjsILsL_gz4JP1xqT8g': [], '2PnRXLAN3KFEu4g0OUL2iw': [], 'DGaW-qWZc2aHYinHdAT7lQ': [], 'aLIJSHJfLQuFu3CamjOS2Q': [], 'yyUSGaDGC_IIIDhXIKpoMA': [], 'H069fdb1NOIhFaIuLzAf1g': [], 'VtQxGoCzAFSzCb1JSFV2bQ': [], '3G_wGIblXDNRYg4xIe9VZA': [], 'gpiRpdG-8ccLlmPet0Vp0g': [], '98-glq_UhUwYwx9SBVi2_A': [], 'Hprj_60Rl4_62o2IyHUb5g': [], 'znNyiHZs5TAX64WonjJ4dg': [], '0vYwOmTitx-Qas-jjW3nYg': [], '870wJgRZMQLt9jNN8-RgQg': [], '36psxeiUa-zB0XiOoFXubA': [], 'WSpFjl-7g3HpyVb2mqYrVg': [], '6eUJ3BbrP7tsEKwYhMI4_Q': [], '6UUBVPqLLHpwLnDSL0jMuw': [], '1SL4o9YkOxfJMXIx2jic7w': [], '2CTHVcbajrh24zM-a6aKBg': [], 'OgtRp5Vc9o0g16x5DCPiJQ': [], '9h2FCxdB5uk4bjX3P47L9g': [], 'tY_Hmm0rT4sRDL-geEYQmg': [], 'HAN3oWiJthngBAdalP4ggQ': [], 'rK0Sz8xlX-ni_u_K9CQq-g': [], 'pDwpui_M8LZ5I6DaXUDVmg': [], 'Mkz16U3y232nbwoB94myTw': [], 'A3QOTEpt6hRd4Ta5qFpwqg': [], '-voRkfS42YKYsrJ9DV0FxQ': [], '1BC2i4OKDMoeEJ37NqA0Uw': [], '5YGsvJlB453Bu3MkkI5yIQ': [], '39irKvcTTf6sj8WimdRXxQ': [], 'V-jICfSJcUC794xewtRI5A': [], 'qTpQ75ewNY8jADWMuGkX-A': [], 'vC23Fq8lMkNiZ4F8yh3ukQ': [], 'OH3baEaklANPe1farAKgRg': [], 'pxqP6-_odivOQCVFnuAEyQ': [], 'IJx1rrQPU5vNxCgV3f4MYA': [], 'W36vefYka0IZAPWygxJtqg': [], 'RcxVK_OEXv3MccIo0nYMZg': [], '8a4ScB2OYz8uVtp1PWP5jg': [], 'WHz8BX4y0q4liGG3wfBRfQ': [], 'h8fkA6hpT3SyJqgvBZfl3w': [], 'S75Lf-Q3bCCckQ3w7mSN2g': [], 'xdphjWZymq-3dqOWmA_wwA': [], 'jq9gzjKbVWgeMYzA0aFzxw': [], '9fwbxvLXrkkGANMkqE3LUw': [], 'uKihD16CylVhVB3-50qFhA': [], 'DXEFudrUtZxSgZHkzdBU1g': [], 'WsUMsUCntiBej8wV4KsFwg': [], 'HpQGK9qazX51JhlWlH76cw': [], 'V4T4LOB1X_rl29VzS5-iNA': [], 'AMoUk8w55XWrTMS_f0n2Fw': [], 'dYmm5468BdWxWgksXpy2TQ': [], 'xedxfb3rfEmXDE0BczcCBA': [], 'yBHNlSLfAd7uXFqlyr01Vg': [], 'szlxlViCHJhC73hBAU38YQ': [], 'YstdDnNa6h_ms3Ys7Pz4uQ': [], 'OjZOslwG6DjZ6tKzve_t9Q': [], 'Noz9c7zcgJPKyi49DoXNRA': [], '2RuvkPdXF_PZI9UT0YfM1w': [], 'B8ym13fwCHn4UdrHe-MUPw': [], 'ymtJtXwsJUClLNDepV1piQ': [], 'l7_pJgcg2onEj5QHWzVFvA': [], 'K-VnzifnBPqWjR_yRHSUdg': [], 'lW9A4aqJOj74Fwu_CHMWaw': [], 'NHfsHKYyFLR9mrlm5uGmCg': [], 'iPyhXWQ2LVSgBlQA4vqKJw': [], 'Ixu0ou1_5mpEZbBtYXW_LA': [], 'N9qLVYXE0HzYRE3C0TnzlQ': [], 'BXXWkpev5ONu0HpeLVC8Jw': [], 'wrQG6xvECjz0CbBft8oS9Q': [], 'h-psPOmlY0mCOflb3S3rdQ': [], 'WxTh-14M41ybEcHbv3VKcw': [], 't9iaCcI2rcDVITt4qc3EjQ': [], 'Mv6ripiINornDXI07VPaLA': [], '-ouvCdkuZJgHixwyAhB8Nw': [], 'vQtlv7CEiOjpUqh8Kb7iDQ': [], 'PTlGjXvNNsuMnWMW07ruMA': [], 'vre_Ga2KJCypcP6XMn8Y7g': [], 'FG-0gu-R0XFkQNZ_ldJ5jg': [], 'DkNJFy9cEM606nsgfs494g': [], 'YIBZ1pU6kOCvp3dSHQcnIg': [], 'n2-OPwbWXMN2io5i92qvTg': [], 'dgX1n9SuzAGuHEVCW5QoPA': [], '-OuTv9a9_MabQjyiZx2Stw': [], 'Athxc1MbotCHRpKOPNnBuw': [], 'uBZjhmmqzIwxdTeIKopCEg': [], 'YWDVu3yeD04OCpVqA6H9IQ': [], 'sI2RL3sn1cb5xKcYpTDRig': [], 'yQXnr78QZh4KUhgFw_cevQ': [], 'ZXC9HaHWeHnKKtbqX74Q_A': [], 'PUjM8V3lXLxpM9gjwbjX4Q': [], 'JCZEK7wiazoM6xiq8YeZyw': [], 'IdNMRM2U4GK7zbsD7R2BWA': [], 'NihPkBRdA1AixuE_98tIrg': [], 'DhbtTQMTkkmCSt0nBTGCMw': [], 'Gv2EsnNrnS5cfx3SaEgP_A': [], '0NxNTtgpfjBIOdLW5IJhCQ': [], '8XoDXN2DKmQGJHZhkQbJ9A': [], 'lLnrNbOV75zwPSUefQb52A': [], 'hZgxNlArGoN0mWZvfCQWvA': [], 'B5E_Qp3R1q0oRlzbYaWIkQ': [], 'mVomtOMgBxbGvdPSaF2HjQ': [], 'pPOENKpvVc_3zSjEhfqCWw': [], 'vQq_sX0kSAUdT3yLW06q5A': [], '3hfDrgklIwVk6Ad9F_Sksw': [], 'lLindjep86GA3PeKMl55Og': [], 'P9gvPxi3C3B1ealGJwJSTQ': [], 'PpreEj90GJUDm7LHI6kPOA': [], 'vpzm5PzM68FYreooYUoAeg': [], 'TXjg3qtm6gjlbP8Iwsm4lQ': [], 'NphZ_TJp1YF-ykEyp5dOFw': [], 'NYTe202AJmEynCj4STfRow': [], '9mAMjgAoXrBwsNKaug-cmQ': [], 'r6apfvgfl9lCFEjpnXnnxg': [], 'XitA4suMHebdFAqlGZlghQ': [], 'seo3KB3eilzczTAerBf4Fw': [], 'hE_U-gUwu-3-7CVKXU9vAQ': [], 'Eq-dC6A9tOyI5914ef_mAA': [], 'a82r2o9ZVC4bIVjvCaT5Jw': [], 'oq3_SSdu6ivLRjlZ4utOVg': [], 'QkG3KUXwqZBW18A9k1xqCA': [], 'YImizhxjsbfeCM2prpTejg': [], '5ZY9r_t-wWEiSDmNH38ndA': [], 't_oa6AQg3ydpKHqz8wrkfg': [], '4LDWGXPXAALawRn8Q2KkCg': [], 'zLcarNPsB3Z2olCEjwbLuQ': [], 'aM4n0rxb0omPJZj-_q3pbA': [], '_Z3XGVbiDn1VbgETp1pwLQ': [], '-DcE_4T0_iRKGLARmjsjUw': [], 'RhUrhcgYF8c63SrS-byauQ': [], 'IPvzhUfrOukhT0i7oBeHkQ': [], 'UoLOE3b3iL_J-D1b8C-QfQ': [], 'bgBCvYf7wM2HdbzLad897A': [], 'IY8vqMRhDrQLGh_9XV7KPQ': [], 'QARy4UUOQogMjDp9jP-YVg': [], 'ITjzNOlmNSyS9FbsOZ3IUA': [], 'BAtK_WOxicYU3w42wPJYXw': [], 'lrfbOC8cbxc4NsguFeSjmw': [], 'roz-ed8kvBF6fwKBPeJ49Q': [], 'onoZsIFPJXumpV_ndxcGTQ': [], '0SdBUBJ7uBGj9bEJQgeXBA': [], 'YR3wQodRZuBK24kLLAtaRA': [], 'p8jGfrkKwqRGcaj5SeMMrg': [], 'UkFztgWFkut6fCmfNMuivQ': [], '46LhKfz6MPaLYoS0jegsdw': [], 'FwSiazvHT_BuGYGz5dMt0w': [], 'q0hyzge6l3CML1GNAlaFCw': [], '-1UMR00eXtwaeh59pEiDjA': [], 'rk55_OuXryzQTexDlvsa0g': [], '0VOh4VIq13oFburRU9gddw': [], '_ZKsdEkQ5K_CUSBtahjFAA': [], 'zpvwzjNkBe5pmt8GzJcuqA': [], 'BZhmsHFyyj_mKkBdPvIgAw': [], '6sKaAF8WhWyyCjfZr2Rfsg': [], 'ec9mv9cUMObXqyh3yjgIbA': [], '-mjUxlW8Lyyq0t3GWvD3EA': [], 'p5B42Bpj6araSP8zjMZV-A': [], 'oSBehYlARytl0M1s3_mcLA': [], '9oAPccHCF0Ke1MTDNfAfbA': [], 'UMumS5Dy3wVgZ13pgSKOuw': [], '_YHMJ_bFgSoZbiZ6MDf2kw': [], 'ptUbbnxWgfgO9-0dFDnWmA': [], 'za9qr9ZZWLTfEgTfogRbUw': [], 'CE0dABv9sfrXjDIJugpU8A': [], 'UwZUPI7VAQAZZ0Gv0LV8nw': [], 'twJ3I6X_KFpMT7mVjtknsw': [], 'jAsvKe4-SteA-ZgyfVPoTQ': [], 'fMbHYElmKq7NG9AkUk9KBg': [], 'DsZD9KbYGo6CMTwF0PygUw': [], 'iD-D6tIN7o17HIb8bbxuXQ': [], 'kUtfprUGDbfEaUlc1bk2Jg': [], 'up-RKqEfV9iIrtc6iyCDfw': [], 'ml916FaOdF870Jrk0ZQETA': [], '-BxWyEIQ6wypT-37MzZizQ': [], 'wrWdywCI7uLbDb6v07KpKg': [], 'FeNb6ITe5qVAZWz7SsTsXQ': [], '4x55GDKIP4oHh7H2TKaaHg': [], 'Bb-Y-gKgZJak83zfzQoj1g': [], '1aVqiz43klXaFJUUx0H5fw': [], 'sYX_x8GPm92pBRwbq_gTHQ': [], 'F-dyoTtY6kIPPAJ28Ahuow': [], 'aBmuthrQ7yP8cnbgkxU5Ug': [], '0-CXwwVL-u0tc0FOuSExWQ': [], '-R0MilKeK1xcUlXpXfceYA': [], 'r9x6Pvgh7SH7TInybHtl0A': [], 'dg1AUjfuy9VWbfGT12qBmw': [], 'PEulzjDwcSL_ujv5mRbc4w': [], 'hi9gZbVSbgqjVaP0MFru9g': [], 'YWaiNzAOM7XePbUT0cdcaA': [], 'fCq3AVUzWDarScN020AcjQ': [], 'MO8vR9uw--ELG5J8CbdZCA': [], '5h_QLSG1lESs5DdkI6M0vw': [], 'irYAkavSVtIEyGOsHK-yPw': [], 'dDZqtA1me453GrMtpcpYOQ': [], 'Xb7jOAa17xtT_uA4sCCAsg': [], '98zrbyncBdGRXQngWmSjOA': [], 'fJOtZILwb801Gf0bayCzhA': [], 'fHFYGzYN_ccWTGHAWHmtyA': [], 'cpuLjGxFQqJceW4zzJdvaw': [], 'bb6-QOjO_3XWXwgKqRK3oQ': [], 'oVx4FarZkIYo87b8bh5QKQ': [], 'qTlgr9L8Qse5l7Hn4csQgQ': [], '7L63tCPzfUf6r1GN0xujqg': [], 'IO0r61EIoVjzqkUrJMegRA': [], 'PfrOaNyz9XmZnls6MpeKwA': [], 'hRK876bEBdPYAJKbg6pCEw': [], 'b2-K2sJtXv7dynBDFqusBQ': [], '9NrRvbS29aAav-BuOShRZA': [], '_uJcMpvybyltfWAKJBtTtQ': [], 'oFBbCtYE_BvuCMsH-yGNJQ': [], 'QLNmU_lPRztv27tgpnB5SA': [], '_0kkH9QsIkc3zwgC5_NO0A': [], 'rIv4K_LvVbPwC9tPO_fwYw': [], 'DrzQxEw97BT0W_ca_IUazg': [], 'rJdEbOWNfAELa0YETWf9Lg': [], 'H49HnyOQZHJSCV6FtIcM8w': [], '7Q2cYSl5NBYytJzgjX0oKw': [], 'jUqCRsuGqwePkDKQ1fM6TA': [], 'lLutFdM2ZOyVs10S3mhnnw': [], '_QmUKLiLynDktbtwV_vQXw': [], 'xNaHuLosx2ZasQRyFEuy3Q': [], 'SkdDestSlipSj43lYgskxg': [], 'Z8emBxgaDgUf3BV2q0onDQ': [], 'Bb5b2PPa9xQuRKYd2TU_pQ': [], '1ofuWPYnHDp01c11BQog9w': [], 'sR9hPrIaG-J-GLcl4yaiLw': [], 'zNGYsFeG_7XEBodbtfux5Q': [], 'xvStsfsplifhLCroymaNCw': [], '_3o05Wdjfc8jOvGZ_q177Q': [], 'wPcj-wgz8UsDiG_I__wybw': [], 'zsNEni7cr4lRnjd4AcO4kA': [], 'CPICyyY9SZxIG4mWt3GIyA': [], 'TIMCeRsXpIPAy4qPWjuzqA': [], 'zHmLmqgXgwSKI5_-m_IY7g': [], 'tp-kxTZx1ogZm4oNu6d-gQ': [], 'E25-2ssHwsajyGtsllMXaA': [], 'Ks13abA-KZWAA6FMQagQmg': [], 'yFUvKpW66cNsYXD6inDsog': [], 'X-ZKjDFvlcBrSfukL39C9g': [], 'fJaMLu7ApaguE8tLmGR-jw': [], 'Uj5BQ1x4ZEi-otME_5bh8w': [], '69X_1K-QxjEIwr1VDYnh0Q': [], 'GbLdYTOMHqaCLDTSlgC1lw': [], 'uLL2uKqYnPAFwBw11LzDUQ': [], '1LM9PRDlmBpIgBKdAAWIZA': [], 'K6h0y_nilh7kTeXmG_Q0pw': [], 'fjvBTHjluJ_mo9BeHcHoBw': [], 'kn1moWlLuMgmnHIVyz2PQA': [], 'YvCIHmADAMDP_JV7vSBAHQ': [], 'pTCyou_1EKkm1MUeejFLag': [], 'C8D_GU9cDDjbOJfCaGXxDQ': [], 'QZ1IL3X3VignNApT8SCCTg': [], '7ufd1g9VCUwpOhh4LSw1bA': [], 'MOi64A9mDpK9zUB8546L8Q': [], 'kxZAnsPao8c3JDqiR0v2ew': [], '6UjC8B-WvhsuiTrIeVqHnA': [], 'Gra55w4glYeli9KmK_Id8w': [], 'vHbbjyYsk2e_hOM9ytlzfg': [], 'bROfsCS_9L7PaDn84scvhA': [], 'azy4-i93S7S7uN3pYGMddw': [], 'xx9hljOh-M5NYojRltqpBw': [], 'sVv9E7PrAMPD9zjSHj21XA': [], '7MeMGh0SUlF-GuTyruwtcw': [], 'BjzVSvTuRlna5AjtpwoZyA': [], 'Y41j3CfQ35nvEFCV3YPRTQ': [], 'iI4E-fxWdYumETqUvet4Eg': [], '6C_8Mh4lmLc_QEs3hHleBg': [], '5P7zzVhWvO8nXGPdy7xqhw': [], 'pRWTB7aBItn67TxqwnF01A': [], 'Tl2nqtPXlLbAG3qkUYVM2g': [], 'zvsJSNdg9UXEIL6FKiGa3Q': [], 'nwHd2MbIGz0SNG8GpFjekw': [], 'IRnQNbsjgVjW28YYiZcJJA': [], '-ZBfr1BHvArFp1d6XH8jOQ': [], 'k2CRIi6rNumRg6XsUrAyJA': [], 'JGvyv9jO8kfEnf4WtnpzfQ': [], 'x6KliZhKHW1sD-0fDnp_cQ': [], '5AajNPuScRYr_pM6QJYb6w': [], 'wxzG81ZyWpBje_mU4aFLaw': [], 'F1PMcEIg-FHZvwhiUoFEgw': [], 'kq69Uy8he-mnuCCSgGEcuw': [], 'dEh3Su-0GWDSQZYRltA6mQ': [], '45F5VaVlvrrtFikPa2v-tQ': [], 'iFAn7IqHaJsC08GHOKej6A': [], '0WI53UcYIJLPagGNSxnqJg': [], 'DvcYHDk4TaRAqic3BncAwg': [], 'iGvnkEz2efD9q-Z7ZcasWQ': [], '1dQqNZOjsXRx-UgJD0dpRg': [], 'a9strREjmyUp961wdhhA5w': [], 'v1vcs-uSAQcjTFsHxS1dug': [], 'PFjw4FudvsC5PgbmBx3PFg': [], 'I-VD-o4JDGSG5GHQ2EbrVA': [], 'WAb6ox5RrBtF7m5Cb6p56Q': [], 'POzMNUmUWFNDinWrspiBEA': [], 'hgJs2Fhby9hLNFZLjrUh9g': [], '5wFIiyjn7-UDd62mPSNOcw': [], '6o50aaRNo7X559y-SAtnXQ': [], 'oU2cHZU5Nm_kD7ro_kg4AA': [], 'myw0csRck6XG4w5Z-EFyqg': [], 'jFYHO9aHgoCLtl-ufFiXjw': [], 'AoO2nQHz2UmB_Y5-RQ4CTA': [], 'Oum8ZRK1ch6jZlf0R09HcA': [], 'flKREzH4wdibg0IAIuZe_g': [], 'Dzm3_K2lnLLcGPVLZBZtog': [], 'DJcvnN7BCiqOUAra35xYuA': [], 'K8ZeT5Y5L0SDh18wO0ZOAQ': [], 'fKRKE4XQzOCgddSSQAESTQ': [], '9H4acPp5b-ePJ98VvsjsiA': [], 'LzF235KwLnVPDfSqdeZi-A': [], 'JNO9WvAl_oeHtB-Cjnri6w': [], '3BYLel7hPVEXzzVSHHEwHA': [], 'EQG4csNQlVxNL3t3rK8wRA': [], 'NkezWNdhaHqD7ZMGPQuXxw': [], 'f-v1fvtnbdw_QQRsCnwH-g': [], 'q6igRYs2UTO-4nTwlttrAQ': [], 'wha9cBvuyfLZRyCSJER1EQ': [], 'sLKpRaFns5Uqw1IEzK6obA': [], '-ICQMI130-eTmQb5TaYH8A': [], 'GPZqpi6mMm0u7zvzbBy5_w': [], 'HGuHk935tyokX6kveEviJw': [], 'hINfDEJ2sAp19-Ebp8NoQQ': [], 'qiR7S83_7Du_XQyj_U0zWw': [], '5Ktv5ZmJI0CN4L0KxDWJvw': [], 'My2gfKUwiCGKg8flMw9yBw': [], '7dln44D2PZWe0lzAJmDZMg': [], 'fi-cvgNbAWUwyeJwM7fwgA': [], 'd9Uqa_eakdm6sU717oqGPw': [], 'Ao5E4Ppw0m5CNlRjg3mnjQ': [], 'z6-reuC5BYf_Rth9gMBfgQ': [], 'qE59pXeygcYdrHR84c34iw': [], 'm8qJtl3l6QXJMnNxN6LQRQ': [], 'TvxL21jLMnmpuU1RSfmK0g': [], 'Y3aGrZR8QBlj8C2l7oEvDg': [], '5GzRZv5OAZfODFMDpebNqw': [], 'zb7cwfZK3SxWb-4V_QuS6Q': [], 'Fo-Qyaas3tOsA_GE4_lFbQ': [], 'YJlVKAH80iptMCsN6TZevA': [], '5zRZ-h3iEXzjyad8gox39w': [], 'ZBJm85DMnmTCRRHD9x4Ydw': [], 'm5tGh01vfv-XHsf27Np19A': [], '6-ZXctu-Duee3rGY3lC-uQ': [], 'h6neYN7OZVt9_ok2bAx6BA': [], 'wemlXDzXyS28HMJaVaxVhg': [], 'ufA5ebLmVAqCuhMrApaONg': [], '-5brzniWtye3w__aEvCaAA': [], 'FBjIluH4vv-pQ07p8yidGg': [], 'sS__otwzn0INyR_5Dimfdg': [], 'f1fYhg-ccsAjm0FI0QYx3Q': [], 'XvYwUnuWEai7p-95cj8S1w': [], '7T2Dx26gYKPMFmAWwHgnOA': [], 'rqYOFPPrdwMYvSRpI4r3-g': [], 'KMYLwjpx6cjanynnc4mJvw': [], '4phaS0fEhzivVQ-Jyv1Azg': [], 'RanoaoBj5tL9X1TSYwBOEw': [], 'UE3AvVnaPEBPneVahYT2eA': [], 'j5vOCZEmyEvZa9QBvoUUcQ': [], 'UzjCvrNuK4crxi0IS9Jp5A': [], 'LALkDF_lWDMZPjrmIeIVaw': [], 'hr_lJ5EtUy2U-I9cNQegyg': [], 'Y9xXCBRs1HWRBjhR7JYP7A': [], 'Ok5Cicp54qsCsLzZ_uCI1Q': [], 'OD09pm-MzynigAvD5KoGPA': [], 'eHLUQ2W_hXx61NmiL9kSVg': [], 'T30RkAqYAtljfapSghHA1Q': [], 'QSfhaQD4sJ18oVwnwae4Kg': [], 'MqJCtE12yfzQZCg8KGzNTw': [], '1BOxJB1iPx32lYPS0wBS5g': [], 'bEv2oci0MMyb3RKwOiYYhw': [], 'RL5Gy9NOewYetWERtD8T1Q': [], '0NgePUfXd2TG0kWgsQRq0A': [], 'k8PmUlLzZQSTb2lxE1AlzA': [], 'uQFXVZJroLt8Ni4FUJv7Sw': [], 'GX4C0SDgzuywFbO2W_g1ow': [], 'Gcx4rSqPd3eeNbG83VThrg': [], 'b9rKNoB1IPOk2Kjf1tmwSg': [], 'jS3U9iEGnJY7j5oT9iDN7A': [], 'RyE6qt3fYxg9T7mtLhQvEg': [], 'qiKUvyHkDNmmJkzo-BIaIA': [], 'AD2y1pqC1Z3lZTYBcALPxA': [], 'EryvpcMxoaOr_BnQVMqQIg': [], 'V2oe1HVgNK0He9Mf3Q17AA': [], 'f5hKCevF_qoC3tWkQHUS9w': [], 'FrLWavzAYOzUEp5RPMG9Sw': [], 'JZnefBrxlWJnuvVYd79Uxw': [], 'HcGBngbEnBdPKMwaf2iuRg': [], 'V7ATQpOIZ2fkYLx83JvvXg': [], 'PytxYN64H5Mn-PRSEymb4A': [], 'lxsktOIE7NQprkQd-RYExw': [], 'PmROyaqye5gch5av2oSveA': [], 'xphMonhn4PxoflUjgE_RXg': [], '1hK-B5OL7KGemWYiHOCN4g': [], '635metf6fGdTWufpcmccNA': [], 'IJrWkR6jCoPgiNvmaZsfgw': [], 'DU2btqXJkYR1_V3ix_bb2g': [], 'OPDaiIcc_hpD6qVtIjo_6w': [], 'ZSocDN1aEAD6U6N5uZ9p8A': [], 'ubP4xKtsJx2eW2cKAcy9gA': [], '12-0RrF2Sq8gnTNUW4ypLw': [], 'f0n_FsBi7gmKH_a95vaDHA': [], 'IAYb36NazDFBifoq9AKcBg': [], 'abXiu0BtPjdASwREbsW_pA': [], '9U6K2_IImm3nYTna_69fFw': [], 'IMu-TDHot24Y0X7ESLxHyA': [], 'ntdNvA7W_rPoIcdPIZjHTg': [], 'oT82GLKa-ntmiV00sd6PGA': [], 'jUgOZAXqeayxxXK-2Kgasw': [], 'k4jX-Xe9dFu2pmdnlrcwgA': [], 'QlJztL2aGEXgejgi5JM9Xg': [], 'm6XI2DDUqsg9blBD1IAnNA': [], 'iFgvu1sjV4V2veb6HLiAyQ': [], 'uXoaycCmhc3Cg4Iei8kHYA': [], 'tnsYhfPdHo-ekvD6GL6B4Q': [], '7o2BZbRWeBIInSCf5b_SvA': [], 'SVMR0kRmdd-bbSNTTECJBA': [], 'mDiFWhywAziq9SKnj6am_Q': [], 'n3AyCEkjKIPVXdAf_mZ0JA': [], 'HqbwwkRJmm5RpCPRvOltGw': [], 'MohKYQNpUVYFAeTkOwvUrg': [], '9pi5Q5HOsrLP-HMkWl943A': [], 'cXh-oST3tTJ5W9BryNi3fg': [], 'jQcOxC298cwutVTJMCWc4Q': [], 'Kq8v2R5g9cpQF7QRSlQOMw': [], 'QlzrA_Xirb761oEbUZ-0Nw': [], 'wyFV6UN--hH_ifbvdsjSkQ': [], 'AtSEe-B2mFmLFHBf4PLTrw': [], '079CV1EE5WLdQqVEVYFeHQ': [], 'PgeVUSx_NdcAqIH09z1fBg': [], '0859wfd1BQHG46Zpwhc0ZQ': [], 'fochqIbE6xyvYGmzo4m2Yw': [], 'l-xQwYH5tsgjWL2oQEp2vg': [], 'Bwj6xuHNWmI2w88DzBc1vQ': [], 'xImiQIhC2ZBDEy7LhpQ4nQ': [], '6FO2DTcN7zqFfl090zf12g': [], 'JDuZ49MMgGdLovg3X37-gA': [], 'pj-h6Rik3v6m8Cv78aFl2w': [], 'V2nl8PxQmMD_ecLpjD2sUw': [], 'iIFMeiovZ2o7RzJ_1YYVww': [], 'wTjvgkUJMVWrYed9mXdQjg': [], 'ot9iwwY_oSzf9VWkEl4XkA': [], 'LVFcpLkD6iOG8YRlJjLSig': [], 'oyUtPCiEDlYiUE2kSeFq7A': [], 'Xwf022IffmZPq6V25iomDg': [], 'cbm9sq6Wis6T_WmbiFy8Ag': [], 'WqKlziur2nwbU_qbelWJBg': [], 'nmFmOu9UuMcwghDV-IT-og': [], 'Z0PvhaSGgR5NsoXctsUa5A': [], '6G0w6rSvl964Lt8qumF3hA': [], 'VMCqmHkFHpDyShq2Tjf3nA': [], 'iP3E7Nl_cGA3xWCORkoLGw': [], 'ZH2ogtJUdxx4XAabbJMg5g': [], 'xvrkd0c5E7sl9KuY-IMHIA': [], 'LYBimndA7OQQptmaJ-Eipg': [], 'wet6_cWTbT8ZqXzdjK_aEw': [], 'ZysmUvp5RtfkNTGcht1CTw': [], '4AhIu8BVjKvq23R7mJfQ6w': [], 'XJ1i93z5qPUZiGq8MxQBZg': [], 'CV5AxpIjYl49HCdC3KkGyg': [], '3x45Q9c5G6VBicedNKrXxQ': [], 'WxjhsrBME5wnvbbQ4OEU0Q': [], 'AqYLbchnIxVSBdUJuLVdrA': [], 'izzAPeukwVTE8P6ngxhICg': [], '4g3IsMpBLReHDA5JatpPzw': [], '8XFDd4uX-g5B4JJzIahPHg': [], 'Ty3SvEgWPNOEQoKV8XZ0JA': [], '6NTKhWwP-mjR5IHJKzGq2w': [], 'JnotDMU1KOYHm5kHHuPnyg': [], 'L5CF9zPE5G0lCEExKn_qQg': [], 'BS2nj4dQKvC5oi6ikKvX0A': [], 'kcF-en40P3J9L8nLy5lKqQ': [], 'B5dmB_laS8b5FVWaO9jQ6w': [], 'ZCzey5aPhd7jYIoHsUfjmQ': [], 'xhFZir1DWG4mWcEpBQhMUA': [], 'AK9AJe4qZ03QXX3SZk-E3Q': [], 'DO32vGtv3p3u7WBPiNoQHQ': [], 'ZFhToWN998div0sU0vFLyA': [], 'IQxcSBdmB41biZcAl1td-Q': [], 'yTw8lz-ypR9mmDnUdG4z0Q': [], 'ZdGWAv90dY81kpKzMLMvvA': [], 'HKP648250NDSG41MsZHVxg': [], '33yClygMVQZb5y9WgOCHLA': [], 'BqGM1NCltdaweP_WB1Klhg': [], 'Ta_K79yZ7_FLNG4F5Ul1-w': [], 'sYmGrCydqABvGmundtZ6gg': [], 'fCaJNz9ff4x0x46fPA8nXg': [], 'u57NiwOgUMb6CFg-meca-w': [], 'Y_3wdqZUoi8qyW7ZugIQNw': [], 'rMCKv9puuu2NkYISHnwyWg': [], 'oEYyuU67YkYEsBzwP4PGag': [], 'UNtyzcZySio-7DphgQu2cw': [], 'Ap17p-tA4Ipzy1s35DfCfg': [], 'eajXb034hm_9M6OgN47LKA': [], 'yiViN5JIN7l-Gn29BZUwGw': [], 'McsAPsIJPXHrZ1jY2FzmNw': [], 'txWOzC3bkYMkPg187JDEpg': [], 'kEv8pBi1D7YevmC8A5Hbjw': [], 'B-iNy2W5Botk4Cusp5BVyA': [], 'rX-Tlju48xN_apYFhS7_VA': [], '0jDvRJS-z9zdMgOUXgr6rA': [], 'iUbDIvZ0FuATXmnCkk0KeQ': [], 'JvHv4HDT7sU7rMYyDzJuMQ': [], 'xcx14p_JBRqsLGq2NxkuAA': [], 'RCX3zz86OvwqLCr6X290EQ': [], 'Eu9cK1XAQsXEtjn9RHjutA': [], 'p2OOk46G_AOO0nCWl-eVlg': [], 'rswuhMY5vCbvZvF2wBIhqg': [], 'OlAQzhrDcOLd8uGuwjUk8g': [], '9ugldqLxU4IfRO-EG4WrQQ': [], 'dmPcvYgCYW5WYCuIk2DWXw': [], 'xDAjrXQ54-cLj0zYMkT03A': [], 'EgIbDz2YFo28DXQY7ik0lQ': [], '974srqVWmIxiS7ypMeqT2A': [], 'JR2ma-JU1CO_xVD_p5-RPw': [], 'zFUsSyXtDqVkx5hNzN4-gg': [], 'RnWZegos0nAjpPV00PPxBw': [], 'irJto0YhzVc5BDojslyfQg': [], 'hjDCsuzS_yU60FFffqpt-w': [], 'TAyCOYufOJ4OtxyHqfdlfA': [], 'xtJ9ELoKVMbRwZ0ktbVTlA': [], 'MZBoZyvrP5OIY8cNvVHkag': [], '1lAV0CZdveG9tYlZZfWjCA': [], 'lbYpsLbIXxU86KPNj8AOgQ': [], 'yDT8n3GKC4pbdey5ge3Upw': [], 'jN3dFXrN7y-fntO__BBJ2g': [], 'rNKaormrHcdJhA_HDmUe6A': [], 'g5HUA031z0xoNNZqMnGeYw': [], 'NASjUYKkz6l7hQLxMf2lqg': [], 'n62dcL1e8BQA1_kUEYrldQ': [], 'VZYw8bWXNDUkfH0G3BUuAw': [], 'ndN-RqlWALkvdmwWKRuAWA': [], 'is2RonWgyENNKOprcXQK6w': [], '3c9YWzy7ZkAAiaj4v1AGmA': [], 'ChePLVTEVu8y2v4JQcU2jA': [], 'qH-Oqr_qZYPSCSrM6QwMOg': [], 'YPjz8wGG1GhiWfI0sHgb9A': [], '5WZKfWW7N8nXSncyF1mpTw': [], 'ONc1Rtd9sIxoQdTvO_7pew': [], 'IpcYF2G2UV0wl9_xluQohQ': [], 'XEHACBzEICqYouH1EgN1bA': [], 'rYRx_E8ioNTR4WJKHJVkfg': [], 'TFktkD4fR1gCi8zHRmrZPw': [], '-01XupAWZEXbdNbxNg5mEg': [], '3rxYGigm5QIAuTRdVPMb8Q': [], 'ZUz_qc4z8bTOGUoa644eQQ': [], 'mX2L5zlPzXbXtmOggTMpuQ': [], 'HkivRKsvPfSag81YgcLuwg': [], '3Bbx_AY9cN0v78YSunfiMA': [], 'NvwVh11NMH8I7Me5xga3Pw': [], 'a_E-rLe2zcyX-X4FKhWWRg': [], 'HyKtNKSuxy9iCX2I7havKQ': [], 'JCBnKIPSXRrJWldHXoAE2w': [], 'SSRRQm8tGCmXXbt3las2Ww': [], 'vdZOiZH9sTseyll44waMuA': [], 'U4ePUdVasbs-icGNJ0Ojaw': [], 'vehtcjq4WFTBGzs0c7JhPg': [], 'LV63vo4iBHIo7gjiz-Oqgg': [], 'x4aHNNo1osWNCB75q_PijQ': [], 'l2n2Pl4rDW2-wVkJVS2ipg': [], '18NP-qL3VIJEBJGpns7aTw': [], 'Veb_YSP2PL3xGbu9JJVuOA': [], 'uaFhlzoJbiqlnkUgfSjpdA': [], 'TQFSeGjKMukrnjJbTc00aA': [], 'ZOg3fkp1xxPEe4v2nqhydQ': [], 'rGt76zQHjSaOuOrj31EO6Q': [], '5aRyuqJZSGp1fNXHQHMLjg': [], 'g6ezOwLIRXGzWVbyTZL_DA': [], 'ke0VibsrfCMh5FMWOLh1Ag': [], 'ELUUibdDcrZHyvE-e-QsVw': [], 'PhZBbi6479FE_heACm0fNQ': [], 'e4HsCEpfXT3Djcgm8rSvSQ': [], 'tpGr6-jVv_dFSnDGcVL3rw': [], 'DhmueVC8937dzgwl6Q6iDg': [], 'yLMSxHjK56Az-KtMQyG7LQ': [], 'yZrL-0M_ia36JMC2P1cumA': [], '7iGqep3bONVhl8Dfhc32wQ': [], 'ISOtoQ5rUZwb6L7cLcb1Bw': [], '2SedpQ674XBqyw3Wq4kyxQ': [], 'mSNCAnv5-W40MoH8VL_VYQ': [], 'kngIF45nfGkNdoFEbFdZ-A': [], 'lqHGPXeanWk3JvKemH0i_g': [], '0HSY1jGtyFuETZwaJN6rQQ': [], 'JrL1xUcpeCyD_6tSkElQ4w': [], '1n3hAKaOajANcMQZOt1IOg': [], 'LZxSxY98S7l4a7tJiTGufg': [], 'MSs0wl1az48XdhtuBEAp9w': [], '7yTtTjsZLi5Ef1vsr6ZPTw': [], 'rjN0pSDqagyc7h8ihT0dVw': [], 'cgCvvpYzGaanZP5LGHWWhw': [], '5xJ-ibMNdTDWpToGiX8uDA': [], '9SS3ERbWcYDEzxfs9KxRbA': [], 'VoHTd4QkPGWXl6IGI72isQ': [], 'GC3sJ_gyPTUHyOrPQQTwTw': [], 'lN7TT9a9k1th0aTyVwfbVw': [], 'Mh4O9vjA3k0rC2ho3XLdKw': [], '9sx7TFwlFj8Klx9R_c0WVA': [], 'VlDTUr3y-bdVZDKXEILKfQ': [], 'vHJel2jZ5ojlXqIEOETJHw': [], 'fgfv-Fsk_-r8x5d4i9tLOQ': [], '8JtnbHflEazfcLPd9ZjhnA': [], 'J0rx5BsejdRTXU8UB-MJSA': [], 'k1QpHAkzKTrFYfk6u--VgQ': [], '5nkGouCNb9yko-jotOpMDA': [], 'KGiObVBRve0oEyMBfOywcQ': [], '-L7mpRnghi0ZlSsO5wExZA': [], 'DAMQ2VtdwZsVed8BC3Z9rA': [], '1dHf423KOSc4GF3aA4F86g': [], 'L1PvCe7_Se0nZVWgnm0jJQ': [], 'BaVtTt9pBoI8rrN35tsj_g': [], 'N1XwkreWIROD2QKhb9qeHg': [], 'ZVtjS8Hvq2a6SxHxlehPGg': [], 'POO5_d0RwzjJVhIpN-oulg': [], 'RououaUuC334cSLx6RnNSw': [], 'IHNSikGzuGgI42DghQtL9Q': [], '8GJVQ4peIpxmoeEd7XOnJw': [], 'Jol7cXrDmKKmu_V6qp4wMA': [], 'fo0I_-vX1xNsjS2JcnhlMw': [], 'u-SJ5QUwrNquL9VnXwl8cg': [], 'Ue6-WhXvI-_1xUIuapl0zQ': [], 'ye0-f9tgMC2UFyraGcJWLQ': [], 'uJe6qjWPRMgR7QIyZ_zTwQ': [], 'fZM_o3kKZ9mR-1pvBeow8A': [], 'r0rtl4OsZy-F099jeO_DKA': [], 'Vpvn73QQbBpPNIv3uOvtjw': [], 'UUjq1xGkv68EafpXXdphIA': [], 'aIvvMGWW-Yy3zPZlnXL6Uw': [], '2zo1Gg_ERRjn5LzX9hzR5w': [], 'b2E_ahQNhMBu7soQIG2Gow': [], 'WrNuRG-tbOzcn3e8ECA43Q': [], 'UmRe-uEK4z4RbklOckwCmg': [], 'mcepYgJZNdGMboVhtuomXw': [], 'EUxbuNT8BYPs_h0vVMy2pg': [], 'evdJO0v9rvVixieNEnaeJg': [], 'QUSbn8n0FKhp4i1IU3hcAw': [], 'V__sttfPm2hqTWjJVlB8qA': [], 'EkFKidOJKlknZPg9v_uzPw': [], '7AbGkqgXXHhjktaXi_YmrA': [], 'WdujD5A32_9VJJ1PfojM6g': [], 'qYGJCgG24rQlNwWkFFZ3og': [], 'oryS4vX0xkKC4tOekgowDQ': [], 'ceA0KTze09-0bHpOv0runw': [], 'zU63bs3Ofe8y1peOgOFJaA': [], '7MsGQjDiMWsx0MK6u6ukHw': [], 'UAE4XWXwlALJsq8yycmW5w': [], '7ZV8nQj4a6wbVqLObze3DA': [], 'zbrFk-4ejesAJD8EwcdHxg': [], 'PmpIoK_i_-xz8RUsJT1kGQ': [], 'jcKTv6uj4DoQ22othSO2uQ': [], '-wUKgQXAMC4H5hiBOgpT6g': [], 'D3dAx-QW_uuClz4MambeHA': [], 'voC46nRQbLeUG-ANS9vYXQ': [], 'yrnoqYeAl5IT4-4g2v5zpw': [], 'eem6eoAiYL9UcQUE0kMD-g': [], 'Jg0mxuXZbuCKI91TQtKwDA': [], 'bO_VQFG2hMMdgZiwbEY4bA': [], 'zpf-9NlOGSGGIIbJLO27eg': [], 'wXXqG4igJeJwL9o5sjyMXQ': [], 'cABJSn_Pw01tX7LhnvDTDA': [], 'bsauQzwixetBDjA7SqUlVA': [], 'AcFmtQtWdV8NJuAORmBYiQ': [], 'PlTdQdCWu2_hjbSuenB3pg': [], '0lSeS_GwMP6x57_Eu2pkfw': [], '3tLuGLcCiGv5qqqhawO3Tg': [], 'CYWRPE-1IHPBb-zfFO6KRg': [], 'zb6PLyf8zHffr-rj3ez1lg': [], 'kv42obrz682yqpNy0yxrUA': [], 'eFKDQ4HDxQ7z7KJj-FGoxA': [], 'Todrg1F247iuDIm784XHfA': [], 'Qe9LBkscg4oxrNcx-ypdqg': [], 'GAi03qxW5L7jdZ9cMhr0vQ': [], 'DmKeLThDKrqOVdQEXBP2kA': [], '2oQuTgkhY7QlVdfMa8cHgA': [], 'kBGn07IVUIeuq2NQTkoXsQ': [], 'P3ufH0wm0jvulnrinDpaAA': [], '9Xsjz292QEFVff_p03qsZQ': [], 'MhfIrfnXj3jEO8Do77BbzA': [], 'eiywQMru9IZF-Bq_IplyJg': [], 'NzWpIwYwGsjujewhYjPPPg': [], 'M2PjfyxzzfkCtRv7AJjXRg': [], 'IAqyeVG1ZMrv7hiV3FAB6Q': [], 'YtUaJkgKc1pucwdSq_DQeQ': [], 'a3mJdNVP-ve3l3z9LRJXQQ': [], 'Bt27M8L4lZfz3av3ZD6CWA': [], 'rbDAPhcXcTttCPq1VtFGHA': [], '-eoeNEsPZ5-Fookdtr8vBw': [], '0Ryxx6uSpt4TOKYVGBekLQ': [], 'gBsrs7a3w6g1YXJL2uwixw': [], 'S-B-ak8Kq0DrkLfE7k3DGg': [], 'WkkuUaYjhfd8I5ckrrBSMg': [], 'BBbdKmZwbMQSkcL3h1CC2w': [], 'nrqN45BQyxDjXy2q3VdolA': [], 'kctSmjXXK_1laQV7J8-3Cg': [], 'nRsBQYkrsNQ_q78HTefNVQ': [], 'ku7abza_uIGTALD76eeg1Q': [], 'cJzv3fbd7jL2ZHyFosFkOw': [], 'npz72r9_Tqs7d2-ObTtq4w': [], 'C-cvl8Mf2vpxHwUon3sVGg': [], 'w_7VFr4bZiTl65HWEf0SVQ': [], 'vh3ymzbLEkqPHw0-IouMEw': [], 'b-RfZoax9D0zZSCWi28zjg': [], 'z0NImASe6DNDREiIt8NF-Q': [], 'vjaHGc25CcyNPZTbjDa7Ww': [], 'F3m2zWj71qIWg2JtBS2sBg': [], 'f64wkzPLEjXIbTJ9eGS6XA': [], '4H7Olit19_wdu14hJI-tiw': [], 'c3zYwxR1TcpeO2fugLTxEA': [], 'gXxM5e2x5UQkjmKt1mpkEA': [], '3KFWuiz8lla9SospgQn6Yg': [], 'dfIOWP4XtC_jnRdKjWVVdA': [], 'kcpu_H4BaMY0dqHY8khoGQ': [], '0FhNgggfEiChYDruJL8VNQ': [], '2vu5RPLxvAqY0PK5olT7QQ': [], 'DlQoM0KQ9uFFMNr8JLNbnA': [], 'T-KniGykrZ46ZC9plOTspw': [], 'fQclKmk5G2_g98cDNPvj0g': [], 'dk-_xAZ3xENV2nJPx8Vvzg': [], 'VEknvhHwiTTSCR1ALRN0GA': [], 'maGqjGXYPzal3YydKu8wjQ': [], 'zr93wrNyXzc-HW4IcK4iRQ': [], 'a4CCRl5Uo2vXfrVgpU6vmw': [], 'hG3yiV1pPWlvrHHbcgtQ2Q': [], 'ufostEB8B3PC8treZ6FjlQ': [], 'EVbEdWYLE9GDpVG97MGw-w': [], 'HhOgTTbHY1-r37Yghw1www': [], 'nnWIDsp0iBRxwhjnWTYzjQ': [], '9rfabZGgdycpLZgDah8AlQ': [], 'p4W_N0g3Tav7-PliRL3tRQ': [], 'FTUkGtUgd38pOx71SaVovg': [], 'EPUY3bEHwbp25pUy4yKIkQ': [], 'f2z4RM_ungk_zQwcpZcpcQ': [], 'uAyXrnFaXw2FBiYnmncDuw': [], 'ept9mIlqGIsemr6w0RczaA': [], 'LmGBc1nYMHkHPoCddiK4Ug': [], 'Noi53T0PWNEN9mQRS3-Ncg': [], '7JjK3VpccdstvLWBr87lLw': [], 'rLX33sjOL3n4g_VqLpJZWA': [], '6E9tAjAS_sWBvOj7UAnWDQ': [], 'Ap60-avIGeV3xkCMJdsVIA': [], 'cOWXtCz7F9GQhPIks8gm6Q': [], 'Zmm5ksQu39aKkFiBxXNajA': [], 'yBfNLAYCaPE4QlejNCWrDg': [], '9wS_BQBh9VGEb0645XBrhA': [], 'CVYRuO2AmbRk31PyQlnZJw': [], 'OXSVjoMQflcB1xRb6T7eFA': [], 'L8QF9uWDBujU9rNOzdLfjg': [], 'UkqdcwYv6_c-yW1JPCKlUA': [], 'gQnOzzIX94qZBzyYExlM0A': [], 'MJKe6zchLbIfsBTQCIzOVg': [], 'fbLYRHIZAt3q839whhaBUg': [], '35Z23ZztQCsJdASRbU69Vg': [], '5F5cWFAcCbjC3YaJnh13pw': [], 'iJi7yebXoPVXRyGqqL-v8g': [], '9sSprrLURML2aFWqpqiHsQ': [], 'UUEipaG_KEtLc9YqgZxY7Q': [], 'E3qxMkbKxQR6Aca36c53GA': [], '_4nmPgw_CWPS9Qkerkp0tg': [], 'FlDrZAqMcDVtbxJ19M6EQg': [], 'o99gqWaotoeQKe0dXin-mg': [], 'XzgHOo2rZWQN289mM8JYnQ': [], 'OXyPh_Jm159lwMlebtDeeg': [], 'iwzVhM5CirzkNS5wTxwZeA': [], '6RSbdKeccFWbCOIQHKbK7A': [], 'VVmAo9AkH1oZWvQrq3DOFg': [], 'gso5aisp97oTIWWzoRGUiw': [], 'ALouXcCfsrnbpNEpO9-Y3A': [], '9rRLFoKblSs4q_QbjQ4v8g': [], 'C7BTKAsOdk5kNdKXrtQdiA': [], 'XPDzKfrq5uzz4o82eCZI7w': [], 'eCpYibtils6Xg_FzBjqe8A': [], 'fcEz2QzOhJ0OzUZfbqohEw': [], 'n6IWvkVMWB9OIRZBXh5tHw': [], '4qsv4opGYC5of-_4nOy8uw': [], '1sdwgcMd1BNlzw-wz3TXKQ': [], 'a5d_-h81d0OjN24Duxh-Rw': [], 'e755zXCj5hGy6-P-1otnKg': [], 'qdtfcYMROGZVvYcE9F23yg': [], '_reykENmCBh03iczpFAufg': [], '7VmvrOkMuarMX_pbrN9bLA': [], '22ugGAn6S2cXALsfPgxghg': [], 'HZsaNJD3_ICcfKkQfxjqSA': [], 'wMc9OCRrfhEMzONtNgpS9Q': [], 'Wdo0RhkPldcB5ZhF1an_dA': [], 'LQblku8iteGm5YFa60c7xA': [], '5UCUIK-O6m7tSpi02B6F5g': [], 'MtawnRlCFEDlYy8YRoaSsg': [], 'CGgUHkAKU0QBsdGvXxfMuw': [], 'yF9G4dJAm94pfnEWzPtPYQ': [], 'Jy40ercZIQaNcz2qV3qgow': [], '5ab4zTLxouz8v7Nhkd3Png': [], 'k1bwHg1izaXnUz67pSx_zQ': [], 'p0mrAI9F5obInFizyfc_0A': [], 'SvNzj0dE6UMFfp55bIze_A': [], 'm2zASwlOL2vecCKHfmGAnQ': [], '8ci0d-HKFK8MgHrf8kPF8g': [], '-s_U95xEEmJu5GK-srqpUA': [], 'poSV39UqEg-gpESXafS9-g': [], 'nUaLFTfUqVKMFQonsWBnag': [], 'Kq2fw7SAKOLOmiJyVCbeFA': [], '87Kp5zOGDx-lUk5DApZwhQ': [], '-l81X9FkKSpo6sMtDioMQA': [], 'kUTusjnUPVZUgUJc2GuWuA': [], 'gAT3p2Ooou4lUYiF4OKj7g': [], 'pO-OqyJq9Jy1gTXz4pir3A': [], 'e-cxqDjKEHEcISP2iGcZxg': [], 'FwmIoo_S6v2JKYElQnwiZw': [], 'yvNwuGauuPn1U9bIpyVlHQ': [], 'WhsOeL9c27C_To_qr2OZ0A': [], 'sNHseqXVsFUcrn7o9mCUcg': [], 'sNmnwKtC4su9-uA03ZSG7w': [], 'ccMpzq6Bu2Ha4Wbn6TnT7Q': [], 'i3MWkfRgwqPYMKyL9Mk_Pg': [], 'GB5ZqnKpcEPiZ8sYG--LJg': [], 'ZG45Yd69A60EYLCgy-SE1g': [], 'kHpXJ2vciumu2KhNHg0hYA': [], 'MFEhYkbGVtMrU4oJwDEQfw': [], 'KfY3avdRgbKFdRSC1kGBsA': [], 'UDucqwO8PwUOwcmUsJ-gOA': [], 'Hgy5MrIKrwRJDXnwKaCpbA': [], '6QjNLbwVBSsRlPD24hL5Ww': [], 'umrovy4atXODdOu-DEpkbg': [], 'lC2hnEYBN_97HXDQnpGpZA': [], 'NNi2hh7l5-fhjM3sF-ykxA': [], 'SvtGJU29odIWDEQUjjV64g': [], 'MCaSL4S-Y9_SpZI7bMQIEw': [], 'cXdQ3H0GqcIzRgrvBEaBxw': [], 'M1OAa1O1O8okN9KnPhpm9A': [], '4XDWHIN46wzg8MXpo8PvQA': [], '55-DnfWgwI75ozYLnrB5kw': [], 'qj3Mif68dXIZw8u8WPLRBw': [], 'VcYpdJIoDgwBOdIJ_IvadA': [], 'XbkpdDXhunFhAWLNRAiVIw': [], 'nbYLSI9dHj3BlznjapQTFw': [], 'tfERf8uk_WKIyY3Us1BThA': [], 'g8adhQQp3NDCA6GcHJ7szQ': [], 'b8DfOKbnVqw20yWBpHwTnA': [], 'B4ZuEVKHnr2blYg-QiGOkw': [], 'mEFYW1435KepKLSBcpXkjA': [], 'OX0T9dWI8b7meu-ljTo22A': [], 'oR0gq3wNyDrpDu1FQNtB3Q': [], '6YrmJ_pxLSTabcM_FFZhlQ': [], '4pKPiKAX9qm8TU-bOt7Pmw': [], '1M7E6fh47lwQ1roc8kVv9g': [], 'ET0pa8sRP5sVA8kbhN8QIw': [], 'OZwIcrbQy2LLMuXEtPumeQ': [], 'B4fZ811vrsXDG30d3B3v3Q': [], 'D-2t7fHQu6hNLjjfRHSZaA': [], '1jv0R9PAv-u4Fcm5NQkqpQ': [], 'cwWQB8LyFbxxiOzgfZdWCg': [], '-pWlDry9wvP_zs-BDHwBRQ': [], 'J7p54MOpJA-Rkg4z-bPxlA': [], 'vDhPqxZ7IfSlZf16D27P_A': [], 'HJEaoW2OUTeZuQcygYUpqQ': [], 'Ijw0d-2wTcsciDesjCVgsA': [], 'cQMhOnD_92IUwu9QaGIbrQ': [], 'HBWJcqC0NSYs_q1awML8FA': [], 'AAr7VRCjTl_L3Y2YsL_A6g': [], 'hZfOOdU6Iz4PKiPqx_FUdg': [], 'PCiyAPyWO9_6IUWgw7Pwog': [], 'jqv3JbLv6K9Sgukf5fijOw': [], '3H3KLktgOrKr9UzpUUSZwA': [], 'bVl0_l6sCwjADKRLGxsXAw': [], '9jOGMcH1pxDDhgSMLBnb-g': [], 'W2LWXzFwLPMchme_UPoIwQ': [], 'E4T0rQBJa0e4HIliBrI4lA': [], 'eCJDiRPoSuA0bsb7F1gNUA': [], 'dN2j7NLXmYaTsckj384biw': [], 'anNJCzaHEGruOM9txX1SFQ': [], 'ydE2SjvSd9_NMoEBAE2PuA': [], 'U7qvifH4kTy_Ct2dqb3KSg': [], 'wx7fvfCq53tNFieI4FiBWg': [], '93ncJl30FNA5a1sIEffWwA': [], '16fgi4_LNRlPGcpL1ObNww': [], 'OeQUmob9q5sbEixK2-Tozw': [], 'Xk5HlcuuCWv5cQKmI7CjkQ': [], 'bFW8NsKCPjihVfzV53hLyQ': [], '02GctEso08hyhQpkqOftsw': [], 'JFhfVTt_8xNjtwqSD-raIw': [], 'WCq2kAjBHe42PG2OLjSNaQ': [], 'ZHQU79PMUGCX0fEoyCcWlw': [], 'POJJ7wNPskz30XiyzwRZnQ': [], 'vjTVxnsQEZ34XjYNS-XUpA': [], 'KSh2Vr-nvAsbZqtKibtWSQ': [], 'jbwyl98wXrEKDkgFz2PiwQ': [], 'Yb2lzZilR6vnx0fffPSx8w': [], 'dYMaPxIh0ULhJIi3Ck2EGg': [], 'XLeEhsUbkiUMv8yxvageyw': [], 'PpQiDoJ2hexScJE_GgCu4g': [], 'uoEV1AxIm3_XFxiScYWrbA': [], 'UPs9WWUl7PLZrCPKbC8NbA': [], 'BHMqFvtguSDrZLQPtjZSuA': [], 'hq17ShjPKHnGn5DGnHrsXw': [], 'PEB5GVYIbCgy4g91QYQ-tA': [], '1fX9x47Xm6vIr8sHxQHdsw': [], 'atQXPm2My8UzYr-7ZPAZSA': [], 'rnvsL0oFZpzpO61GXqBF6g': [], '5zO90d5wjbKKcgBirC2Pog': [], '2Oz0VGwBgo3Dp5Az5WUoww': [], 'yVBgxJoLTQyspbCNhvUuwA': [], 'WfKMxqFMDmCj1fhtxDd7rA': [], 'YmFkrylzWy4vmNFkWk-I0g': [], 'fTWNUK7Gp0PP7fNRjMFoeg': [], 'kW1BF6G5kAvVGtQR0ljM8g': [], 'XBBGRLsPIVeaERwzW4xzGQ': [], 'ZHNxxsZrowzP-RedJ6cSFA': [], '95Mu6dlxWA-mKltDSt-AVw': [], 'QYIhMNwxXejDoCr-F1BxDg': [], 'PmQqj0wAnraXPuPSZCzEZQ': [], 'a1KXovXPdeDurOrER4ST6A': [], 'g6o7PNj3b91IsvDlP9bX-A': [], 'R4TbOY6sQZl911u_KIOm4g': [], 'bj6Km1RvgD6oyppCe5yDog': [], 'axFXzhJZei9DKUbsrMHVjg': [], 'WxpAlLUqOPZkbU8N7FfW7Q': [], 'wV6Nle04jS8I40tUHPUiiQ': [], '0jyyijQ1EsVMMHB2x_GJyA': [], '9ETbjlbD52Q6PKXjIcTqUA': [], 'jQcf5iffrW1SMJqNpSr2Kg': [], 'AsKb-lUO_3MYFg6df9QTsw': [], '26CIwWC6wBt4mPGb3hDVtQ': [], 'hu3MCC8vAbCmNnFDCE-Ltw': [], 'rnBffgr3QiXUpKef2YFScg': [], 'Z_JkVkaUcN4ITVeuG-4Qtw': [], 'sHiuGPBPjTVz0oMAnraj9Q': [], 'q7T-qCW0WLemnnLt88OuWQ': [], 'PYMGz6InJzZYnnDU5cl_oA': [], 'b71U71qF0a_RiWr2qVrE8g': [], 'LXyAP1vxS0aytLkEnrwpSA': [], 'Sg9R6OwNBq5Zf-kjiVBxuw': [], '_NQxJx-69on26wDXaaEDlQ': [], '5ffLjQh0OrZf8THByUm7IA': [], 'dyQzw3VJxdMJ0YhHu09b4A': [], 'qnn9E-e9orYf_wK37yLTYw': [], 'rNr62QlN3NA3OZy6fr30vg': [], '9MMxOuaRpef7ckyH4WupcQ': [], 'Dsg1yPrT8JxqNOMQf5pt0Q': [], 'R4R7ttLXfKKWM0VEMoaW4w': [], 'KgcYY4NPJIqx-z5VJ1mKRA': [], 'lnwUINj-K7f1ak7Dl1Y6ig': [], 'z01_gDUfmedOuX2UZYF33w': [], 'QDRFdG8gPPKL7r4yic8j7Q': [], 'HgJGwePlWjhzOEL028pSig': [], 'WHIEI9vdwzDKXdi6H6ZyhQ': [], 'euhSHOJzcYrff3B6F-okkw': [], 'sE3SvQbPH-X6cUudeaMc-A': [], 'LEWWOa9E-98t4arAxzA8EA': [], 'g9gAuOEXBbWnLlu2uOftwA': [], 'iuTebi-3egZk_3-T9K6aSA': [], 'QPILCrkwl7rUScMd-VGf1A': [], '6ePIcpdY9q9ghNS0nunGhA': [], 'pF53YGjVeuAB-OtpVGtAgQ': [], 'Q8y1q58GYSU0Lnp1DFJvtw': [], 'JfHXzulF6yIKgA22YYPedw': [], 'HI4tz9XcUzsBu_Rs-Ks6jw': [], '3c8GQB0RiXK5ceRSpo5dow': [], 'DstNnjUe4RpBuKUqLdFzyQ': [], 'umdGWFEra3Bkeo2wbTNz4A': [], 'V6W-UcMeWbUmVX-0wVAxNg': [], 'WGUSvQqJVUaYEPgh60x-xA': [], 'tVThRKf3tqPqgY7fSnVo8g': [], '0cf-w9PK5gLkBkitL3bdqw': [], '8Rh8YTwQjiLQq8ycBrKqkw': [], 'r3jVxgGPdjZd1II19dSbBg': [], 'SdqbbG6kJNfxtOc9tz7rJw': [], 'JdSF_NucmJZcl1eNlNXZ0Q': [], 'ZF6jtYU3t6Srs3GBtabh_A': [], '7s8ripk5sBM4psK_Za5GyQ': [], 'jjPEFKH34zlpS4MaCkFMxA': [], '6EkolSf95HjdCl9jVdTM2g': [], 'zDyv4CoaYvAgQhgr1IK1sg': [], '83nnHcuC-PvkcUregRAr7Q': [], 'P8Vojj3i-8m0q5LJON2bEg': [], 'rBqek2924sBTjW1qE2ci2Q': [], 'pnGXfJQzbGxt6UnHQiXu6g': [], 'VRwe-Hvluv1utcM37DVvQw': [], 'JiNtFt02pLvjXkqxZL737Q': [], 'ZLG7N4VDGzo7V0ViITi93Q': [], '2Umo6re4oAAd_GkP5RFWwQ': [], 'yKMbthhvj0DZzOfM43ftJQ': [], 'Q0HAhn2Pi2afILbtiPvlIQ': [], 'sghUmnrVFGxvldZQT-mtyg': [], '7yY_jzvV75Zv52dfn9PIkQ': [], 'Zp9RMGJKVc9Qkhj4QqyROw': [], '-trCUd86vf5FzUAhkr20Ng': [], 'iZMdwe0xebE3rF0x3LOr4w': [], 'RrZ2WUPuvCBAMIVC-ZYL-A': [], 'J07TDs6qnTIaxm48EL1cKQ': [], 't6w--u6k-SZP2g0QvQIWuw': [], 'oZfNL6ZFdITqfwJzcE-LyA': [], 'krf5clVkTK7ROdvp1PCsSg': [], 'sFZqXGuACgeUys0C1F4GSQ': [], 'zrMGL9riavdJR4olXaACOQ': [], 'thG_l7OrCMFZ_sV98oih-g': [], 'lhWpC9uGAyFus5BQYsyL6g': [], 'MQC_pj0oDtENPFP8nhoh2Q': [], 'r9TZlV61kT3rqq1gIUGuOg': [], 'T1A2zbyPfwGrJgG_8hAirQ': [], 'LWWT__tpo7TzQRDQliApaQ': [], 'NlXAf2NGQyrvRxf_-NZTiQ': [], 'xM1ZfrztpaN87bIQ54iw_Q': [], 'VTBRAB5TGW1kqyNNsZJV1w': [], 'Rd2ydAru-a0hmPAw_-mmeg': [], '4p6Wce7Ed707QS2-yQkvZw': [], 'HOMsxSEmk0vrZQNfJq4mDQ': [], 'p9UMu6H_C2kf3yi3gwyeRg': [], 'uOJ87zqbU1MtShCSHDkiyw': [], 'OQH2cl8SPWp9HR5S_CXFgA': [], 'N9noZs9OIQLF2F9TzI_ukQ': [], 'pw07z5HvcLWDx2OhAeolOA': [], 'SKR7zeX_eTngMmE4FjCZFA': [], '72LhMOYYj5_AvJ454eXTHQ': [], 'dEq4Yj50tWOSzxqXloahsw': [], '_USpC2WmwI8TkYqdgB6Q9A': [], 'pnJ82B1LTa8slSH7Wrkn4w': [], 'JPjckeTpc-Y4dXEPS17JiA': [], '3slaRoID3wWUGcYaSE8EuA': [], '-DnHJe6KzF2hRv8H2IQ78g': [], 'NctDaTc4yweH1Tx7OfVqnQ': [], 'i3agjxn_g8U3Agev8_ys1w': [], 'fEvDP0TeTGAwAh4r36O3xA': [], 'HbWyDMi5BoUXq0SiUkHoXA': [], '-dhuOV5E2-H0K39ez58K9A': [], 'poX-2lODvtmkR6pve8FXFA': [], 'q0WvnIBJnyDz-2MjSpZWlQ': [], 'FKL48E_EweGcnjydK0KKdA': [], 'Z0ojefRCqnvVLdNUjSYA1g': [], 'JT7cr4C-_ZjjxilGXVrpIA': [], '_4n7K_UdRSEMw4vJdsU9jQ': [], 'H94fBucKEuNKsjbSy7WODg': [], '0PFf3RKtDQyHnrdcPo8zMQ': [], 'IFr8JOyjuMjf0xrmAJmsVg': [], '7cLLZOdfsXqg1zqiK0HMIA': [], 'C5fminYwT2pHCs4pn5NJRQ': [], 'BEGB2CBBP2nqPdKDgTcwkw': [], '4GNI7HWuzQkkPmPsgHxOtw': [], '2kZ2WDFA7kpoxpPS_LfCtw': [], 'Ig5IKb6U9uFeEk_K4_QBOA': [], 'f6mQYyU_ga0DVRuRZhkmfQ': [], 'GiUvdPq6S-g7c10IV7cTHA': [], 'pC47tqfFhyPzS9wfG1BsMw': [], 'ukhFY_ftRgxfErPpaCxEbw': [], 'xxo0GsAFxQzUGStmCG6jWw': [], 'ijIgdh2bRkBNJa_puVpBoQ': [], '0oZJ19F7KebXTu8auQvZrA': [], '89N3YfIoe50feyqS0qwMXg': [], '4vkOZ0kW4Hor43XqqNc0Og': [], 'Zju9aNvftYAJULT3LGsZzA': [], 'zttn4Vekrnd5wEPxgqNvug': [], 'QGEolvoyxVoWd_d60DcdRA': [], '9y1uLUHxZ3m_4KzydQj9YQ': [], 'NLNo0mfW7VmQic4tIvPQZA': [], 'bSbAq9ylam6RInhbm2aZKA': [], '9vkVY5puIHRfKMgJB4LBnw': [], 'K2dYG5yOd1i4keB9yMIYuw': [], 'rRUMh9qvfW8wA6NUd5Yf8w': [], 'lXYTzkRVMHPYGcDRc_8JvQ': [], 'ef28eNdWA3g7OMsnf_fbSA': [], 'vKKSF1_1JNnRMaoNPQb5Lw': [], 'WWOCqk1Vh605xP-lcb9lhA': [], 'OyUfEt9E5LuGg66_ciGVwg': [], 'tBQOZv_wWXsdzWql09A74Q': [], '-VSljIWGLlAJoKDqxazDIg': [], 'caBiQN3OwW4P3hfUFm2vQw': [], 'kCEsqLtBaabQN2Z7c6eL6Q': [], 'KzCyiOcmnJR08P7PyJ4knQ': [], 'auufMM0imMP0w7soM52PHQ': [], 'TH34Fsp9fkARGhKa6u3qrQ': [], 'SWDxTrwU_qlEcJp36IYquw': [], 'gVnd11BK1KLJyX2ckTv0ow': [], 'VY3PJtC5Nbz5J3I1A2_Dzg': [], '7siBs9Z5lc8wEzD62EGszw': [], 'jU5TsmWOvQfyx2n4ZFTSKw': [], 'WWdPXSNLduMNK-ybk9HcuA': [], '4U2c--CD_JNgB4MsbmyA_A': [], 'DWx1UgbHLHU-2Ko02klhZg': [], 'E9Br7PAWnMeYq4FYRiW8Og': [], 'K1xl6XvZPCs8BgsbaVWQiA': [], 'cclDCELdBQmJMWUyVWo5fw': [], '1OnZRj4yIo4szhapTFwj5w': [], '-N3qRemt9OsTwWcIeiJUmw': [], '042IHd5KjHiMuBtGtugO_g': [], 'bLhH9B7KbLJb_rvPzPauFw': [], 'tt1ERGD9RSfQIwX2ANyJ1g': [], '27OH0hv4jhwKDk-hKgqw_A': [], 'VFQUTT3EyODbxHUcx_hdjA': [], '9l2hkescfkSWx-GtJQdyFA': [], 'x3-d_7Bgj4sYVks1xiq8kQ': [], 'hGuyBaY7HUHCzeSzZMBPYw': [], 'ytd5Jjrs0iMpIL-r0h5EFQ': [], 'bPrTVTr9q09LxYdHkSEf_A': [], '4NCP_TlvFuLcUULuBbk7cA': [], 'O0KPQu0zouowlJZWsJrSXw': [], '6MhY_9EkUkKCvvN8rzXZzg': [], 'Cg2h2Cn_yEs06NZP-3QQtg': [], 'EYWaN9sLjVYdi7fKIRguVA': [], 'DmAKN7KxGLFXGqAk23EDHg': [], 'j0_DUr3vBXY-JP-b0bf93A': [], 'wPPp6Aj0PWRHv_YubOOrKQ': [], 'G8vA6pq4p8KslaURm-q65Q': [], 'ocBcfqDqY7KMib-lRx2wng': [], 'GQxpWDw3MuCwAMV9BA-62w': [], 'ar-m5JrmtAdSFuV0anz3Jw': [], 'LmjBZpQU7nJTIJZYRVO7Kg': [], 'v4qyBRpTBvOO55M4IAqNNg': [], 'Ug-mbEilmbzDcsb-4Ri23w': [], 'qWJQyI08T4aQJw3I68IAwA': [], '3d25rG7DcTT1-ynbA64zaA': [], 'uZr-a9W04rcdrdFZj7HNQQ': [], 'X4MKwWxoXczOyU7yAQ7GMw': [], 'FysQmYPyBcIv0RSNhuVzAQ': [], 'vEOBXFIO6jd5sWRw4_Y5eQ': [], 'hQVHk7XXF7yYolllQJccLg': [], 'BZ3CyGKx5_u5ns5EvAc6Gg': [], 'jFyITSwBzUq7tePWJuQqhA': [], '7z5Z8O1VRtPTjFlKFF4_jA': [], 'KIrNrwAb15RH_L9xItcA3g': [], 'O-KCkhDi2BKSke4Uvild6g': [], 'vnVo4YrsRhV-Z1uXBMCS1g': [], 'FwDthqY_Iy0Up0cpTP0AKg': [], '60qcZ_mzu-IP82GtANZ6lw': [], 'amoV0p-sv-ImiC9meEAPxQ': [], 'GdPWJo3z4ySEXpF7Wkn3FA': [], 'bbMJNMWjd7n2ztcE79ZwfQ': [], 'z4K95Y4P5nMrtJiDtXWDYA': [], 'wuCyYFZKRIj7Q0m44_o_qQ': [], '1DdkhCSmKDgFmilXS9SZEA': [], 'gugN1sgyheBJ6aKtNcv_gQ': [], '3O3MwZUZOIIub-g94KUvtw': [], '1PaQzgrhq-jy-7MMGeLuGw': [], 'aKpFO1C0-1MlirhCffUt-w': [], 'njaKms2uQcdTtlI0urqPaA': [], 'eS29S_06lvsDW04wVrIVxg': [], '3hmoQIAUaYF9u_QaxfjwwQ': [], 'ZhjU0FkCIaG43F83TwSN8w': [], '8v1nk5EcCyEKK61ohAh5Og': [], 'iq6qT0F94hmx2toFK6Kqlw': [], 'ffY00p1iuNsDPhK0xfYZDg': [], 'JKsYM4eFoRtftDHbEf2j9g': [], 'YWCXai1O0kVNClmSHKFghw': [], '5d8oCuD4TlaDjBGMnDD0HQ': [], 'IuttPjiTqt0orXF_t41Dqw': [], '_XN-GwzZwAyIqLKJsl2htg': [], '2hK5Cvo2JixFv2_neenrMQ': [], 'CXDM1pd9q3pWzZg5E8UMag': [], 'xVoPh8oCb29J5dMURoowBg': [], 'VMCLHzIIGlJaXGxxFhAEvA': [], 'dwh74YaUFiTOBY1X77SA2g': [], 'cz5vz-893D3LNH3TMQYR1w': [], 'ag5bFRg6dGH9S8V59-tarw': [], 'THcAGc-Fb8gqmA1V-KvFkw': [], 'IwLVW7Af1M0Fv1QpXt4Pzw': [], '2_gVD4XlAfq1d1biOs52bw': [], 'XOqoNwn1igQRhb3mCGo7BA': [], 'jZVqBJhpmBwUKsfAEnvjcQ': [], 'lNCNWyZcBw5YzMXi5f5-ww': [], 'oVwbbA0JttNp3nNJbKsmJQ': [], 'pMKyuQD2YP9-DPPoPJysIw': [], 'j2yf3agvS7Y8m1GtBt5Wlg': [], 'XbVsOg5_5zSjWPaxMQgKIg': [], 'sUxThCbPCKhJ7fhfFY2VbQ': [], 'whpZIak085kT8JnauDvUeA': [], 'Vl3v-rr_4o3UpQQMJ_Eu7Q': [], 'a2NSxkmX0_eqvdwJ2rjPVg': [], 'iKu39ukwouxw4uSzYUrScg': [], '-xkEf2T_2bM_n0rMmH-svg': [], 'yJarohbMh2US0R2gJYkexA': [], 'qqshh0dUkkqt-07s5iydjg': [], '65iIzq80WQ1nMqj_rLWNYQ': [], 'a11zyJN_ue0CQ_bjoeke-w': [], 'i57pboNTvHTaIyKOx2p-9Q': [], '9lH0gzlZB_uXJ1dc9UkF5w': [], '9DS9nQCOMVfrFZtVtvspsA': [], 'TvAmV2vB4oTsNwGjjM6y3g': [], 'jgBL42OGQp3AJHNEX8VuoA': [], 'wfxmuA7LbKZKVLV58EiWBw': [], 'Z5CB1ohc5cWdPnWFCBCOHA': [], 'oSI3qAZI_zhd91twB-ivqA': [], 'YPsPMXxSc1LoYHRKmFklKA': [], 'qVZxvjwmp-0Fn_7Mt6uNcQ': [], '-e_UQJVTzIPweX4TcPUYVw': [], 'wknp5VJ8sz0-AsLkOI9CAA': [], 'KfxPrJ5PzgFRm2XltnbBLQ': [], 'xKtiqBEmHT4TGzyL0SMgGA': [], 'Wq_BQBy777zuCtm6KyDEyw': [], '-rMJrY16eFTQd4I035G1oQ': [], 'poOnGeQlHEnWRAH9t_0KMg': [], '6VZ4T_BnTl8swN-g06ZVYg': [], 'TCCiuifeDJqXXxjtOT7JuA': [], 'jMpewaaXFr3VeadFBplF0w': [], 'FAQN5XZk4ElntDNYIvdOEg': [], '6ct1xkNQsp2OjPMI9cTJSw': [], 'lkjgZcgbpbYR_mXoGXWmQw': [], 'xAg2w4pxJURbB2edAg2wMQ': [], 'Yea_hg7GjYfOOzMeBSUNjg': [], 'c79drEBxcX3LsiK6AFgGew': [], 'U3qe9h6I0zL2_C5m3-p1gw': [], 'Jx5h4nIbANB4KDrb5l_v4w': [], 'm4_qthbDlYptibVQ1SCvNA': [], 'zLsgXEuw0jaiQgZmLWUtFA': [], 'uDVqGUA1sE2YU1PIMg8xZA': [], 'eVv6cnwhabK8ig5Di2hXQQ': [], 'rCijkoXaqx3DwL-Qp_Vy7A': [], 'R0gfUYIiC5MlLxGjRcYifw': [], 'V48sDS4bUB1H31NEXU1nZg': [], 'lO45Mq7hCm8ci-dg6h6-hg': [], 'I8Su4WuSRuItIyVL-u4Lig': [], '7_582HYkh5Ki9n5aWK8dmQ': [], 'rXceWs_H4PLmY99rGcbk6w': [], 'SvoIBKec8s1kOARX_3EKXw': [], '6t7mlTVjDA9fhuFAZmVzAQ': [], 'MedWQ7ljpXnfyNnXPZaBmA': [], 'C2BR0TjNacoNzItPLUHTAA': [], 'kh3TssJEjg9_ACJvom5RzQ': [], 'JTNdV6u3DK-wcqX7ZXl5hw': [], '-9eNGMp8XiygI8t8QFuFWw': [], 'xvWNuKzFoZTWpznbxYM1SA': [], 'LWqhTRCZW7amUTa_JYHtQA': [], 'u22akZ9o7DPQ3En_9AQ1lg': [], 'anhk98859Rmo3mL6X41jbg': [], 'aRFQvXxX6_DLVEbPk5WfZQ': [], 'aNclt-yBXEOUg2WK0DweKw': [], 'mc71c4vlkwhqYSPTg9XJGQ': [], 'maLlY0JVsUfHNK6-RUrG4g': [], '1DswS8btQKkWFyTUZlcgCQ': [], 'OahmnL5wwImsaMY5y0a--Q': [], 'EpcgpVK_x47y5q5WXGOoEg': [], 'cxlxJpw_vTzw7bXJq6Dbsg': [], '8Zt7XWfuE8Yd0S0A-0V11g': [], 'FAX_Nom3Dj-EQIxEgMZMXw': [], 'k9vesqNHKEoXo7itaWfruw': [], 'lbo8gncBXedeeogWD1JDag': [], 'UWuB3vikQmf0-x2ZXjxdmg': [], 'B198jEItQSF7xQhRADUW6Q': [], 'u_vSbtOYpfnzhFRfEhqfyg': [], 'XDRWtl3p4EfCxAMNYEOqeg': [], 'akhMwlK3WO74eYFlw6f4oA': [], 'aw5U64Q_mCs7e13AqRhuww': [], 'ccKg3MyxxeDsdVFe6EXSMA': [], 's1apC6r9pnVGBR8Mfe0czQ': [], 'hAzKMMBx7r7cxLs0Vka_dw': [], '5A_sjC9ULLt4UkDNtr9dkw': [], '_8c3Ky90nE50rN4Mb_Sxtw': [], 'AWJhMTYsIYzCIYAIUA-waA': [], 'JZKefaX9VXvmkcfMmbyrEg': [], 'tV5PcOIFlB12dpcbCy78VA': [], 'As87wJFbHjM0VvnO_Hf2FQ': [], 'aKFA85Miwb96A0IAS3mRgQ': [], 'D3E-h3moTngDIoNHeHAjOg': [], 'DvY_J2gFxudK9HC8kjI3NA': [], 'TRjwF89-pi0g9glNyxk1zQ': [], 'k-l6JMana-km5ngr9Cz7mA': [], '7N3q70C_mwEYQ2QcGfjvgA': [], 'cq6SQkWKVT3TH-6YzGFn4g': [], '7DBu4i4sN9I8HWS3YaxArA': [], 'JqMjfqxTffrHMabizYbVPA': [], '4zsGtAFbuDi30O43O4JWmg': [], 'NHzdf87ObSNIXrT5axTubQ': [], 'qB15WElGAlI_eGWjn0kT2w': [], '_9LZl0rVu89UOt5a6_J4wQ': [], 'Gkhi0IkGAIls6YgXBSdZqQ': [], 'ZARxy5Orzk9Ocay0IkU_-Q': [], 'VCeI7ezMSSvkv7it0SvWfA': [], 'riM-pBsdqRRVXtAVbLfsxQ': [], 'Ycqaz47uwQj6IbOLxlfszA': [], '-gcS8S7aiHTwYROMC5QP5A': [], 'hj51jL4sSg4EBzg1PliDWQ': [], 'EjQOE5UZgqC0O9KSErZXIw': [], 'rXQDax55NadyxAJXIaBv4w': [], 'rdE0AFMaRAJHqRWVCoNweg': [], 'btQ1XQgCcRudMyJUUGvHKg': [], 'OQggqcQglU-lHY3rY-8Lhw': [], '5PwYiNSkeiwmrnyOBj5IMQ': [], '0bF6jv97Z6VbruRpepUOcw': [], 'SDhXmtnSIDgoYZNf10xc2A': [], 'syQBNfPzUKGnZE6w8cLuYA': [], 'QYrmi0cdh0I00UWxwZBPMg': [], 'LlTWbY-8zAbiyn58oIGtGg': [], 'yDqqBuU-UZeEjZJ60YYhyw': [], 'KsNZgnE0tFblW4Rfu72mZg': [], 'jRbMGUG7OPicNg8-6NYyTQ': [], 'dc6sPg9kNliz_Cy2yX19tw': [], 'ISgQ4us3LMZ78l1LOG_14A': [], 'jC2AF31_Zba7yb0ZKWnfpA': [], 'kx9PsQuEXIuIpS_uoKlYHw': [], '6xLwHi5IQMjTMDAfOCBt1g': [], 'zcgCOV4AYAHG8LkC0ticSA': [], 'hlDcfzRGfmSmL5LpYcRqKA': [], 'Nmn41HshQw5fyzqlGryzyw': [], 'KgahwRLqzCcpfoFhppfYuw': [], 'HKoPaMZc1iG8XYzYRhwBKw': [], 'YpnvKqeVD7dqZ9Mr0SGw6A': [], 'VsHhy9ixEze-AxNYt6UxLA': [], 'pWAMkYw-bE5hcVaMGvr2Xg': [], 'V11krhiPeyOnsUmhboP6_A': [], 'CXNioV5b1zCS04EcENhdbQ': [], '-o082vExIs0VVNSuZmiTQA': [], '8wB4n2OnINpfN8I5LaMGJw': [], 'MFvJC0IiJwRcRCEXwlWUfg': [], '9pvJiPUzB5JTqhNTloKjvA': [], 'ud4410hDak6LxcXzCOy1kw': [], 'aM4pb4teV2Tr0Z-ZRt4icg': [], 'tq2B9UpvdLNUW7tdVm-FrA': [], 'cO3m54wXVDJW8ryy_2wpBQ': [], 'Mgvk_jOcpmE7OWbLQRGx9Q': [], 'wa8QgXQu1ZxwPgdRl9lYlg': [], 'F7vD6BGJQ3nDdzlHTd_FIQ': [], 'AUHtMlJ04pzmB9X_fn0Vtg': [], 'GW2_gqOhKQ7sI4oem6yP9w': [], 'oseX6Ih5B7e4IPqofpmIZw': [], 'Gf-LNRph_6DML9SB7nkjtw': [], 'Cy46zHlSVkCGZRpaHwlkVA': [], 'GAKFx4jFUtTOTpp_jDJnuA': [], '-9nai28tnoylwViuJVrYEQ': [], 'oP-BaOnIq1GYVl8kgTnsPg': [], 'wB2mrl_xHyj55UObucaVRA': [], 'jiOREht1_iH8BPDBe9kerw': [], 'INuaxyGB7eE_6xMtYUersg': [], 'fi-SzL6uKzsprqsvo7MMnA': [], 'A-apTF3JfkUPR_oeazZC1Q': [], 'p9v9Sl2g_ibaajWvO0NjkQ': [], 'epyhvtf5JH5sAJggINVglg': [], 'oWxiT2PasutHFyZp8Yh2mA': [], '9drKTpV8X2zziidDPXCZGw': [], 'aPSRMtV2V7MPXi6DU_UlRA': [], 'sy5w0Survgx_-uGeARvAOw': [], 'L2iT7pipc455Tgpbo35_mw': [], '7SBa8bkHyHV3ZqSxTOYiew': [], 'LwENhk9uo2P3rLRlX_CGfQ': [], 'w059owye0VLzpRRW6np74Q': [], 'pvpS3RkO8Qsl759-Xz7YZg': [], '47JJtwt6vhyYa5Z-mAFv7A': [], 'DBZi_5z5hx69AI7YPhs49Q': [], 'kqZwCJyVXZl9OHDbr2a4Fg': [], 'cLUoCKZGS8IJDStYsAA3Xw': [], 'tj3YzWsjMbPU_ivDkyOE3w': [], 'arE1U-g2vKkGSpi-sz-DeA': [], 'MHDmbGEMu5Tv69UqOgIDSQ': [], 'CtI7MMRF-arzGJxA1nJccQ': [], '1OxSzNUssdRohY5dC-kWVg': [], '1F6imE4hNPEEcsb9VHRUoA': [], 'vp77iQDlV1OkbjNhmD-R3Q': [], 'NJ0RzuWd5xDqfJejYQZ65g': [], 'rMOUs1ln684QPT5IIe-VHA': [], 'qdd1DHfeKHE72_djJxCJdQ': [], 'bkZVphD4miecxL2PalLi8w': [], 'PlIeEj0LRr3p1rX5Svujgw': [], '-u0rjFgBL33tgSl-zTn85g': [], '-raUM9T-1dKPiB5_vRmFYA': [], 'm1BRMnrel42nz_qIPSBO9w': [], 'OgJ0KxwJcJ9R5bUK0ixCbg': [], 'qUjmBRkodunHj1Vzeh6PQg': [], 'h4U3h1RbgLvHl0fKSSUhPA': [], '4K5NUsinIgtq-yuxdp2HdA': [], 'liHzxDlSAdJQNKjOs-jKvQ': [], 'F9cXFXk60E2sz_YTSCFp_Q': [], 'b5bkY8fj3Q8LL2jdMFDUBg': [], 'dIqMQYs6tmowQUygS8sQ6A': [], 'EyF0Rvfh6H_V5A-bacbaKg': [], '9GUWNQ98sQN7k2UFbsBNng': [], '6f3n-LQy8O64J2hfbA40tg': [], '0Buxoc0cRqjpvkezo3bqog': [], '6hfvVrOMmYapWGS1PN0b2w': [], 'mJHoOJH10A-cjtRdQCV6ow': [], 'eC7g6wsBeHDz_RWmOWk01A': [], 'AqKWtFTREQ_PFSYiIWnBgw': [], '_imnJaX4EG_BaoXMCyxFig': [], '4NpySSkznGaRVye30Pvdzg': [], 'OAWBoum2byFC-GfARO2bfQ': [], 'Auky7_gMsUdB91V0EAgbhA': [], '3bZXoLpjE5nqKk-m8ikgrw': [], 'yXj1P-pc6CGDFSta-45L5Q': [], '5j2ugUALtjsa2nkV1YGq5Q': [], 'JkzqS4JDOpoHrj534rzvAA': [], 'ysaGG0hm7-ug-IuRd-8_ew': [], 'zv89ihIoUTzHo1eTAAwgvA': [], 'nKcAkb0sKbAyDqu3Qgh_mA': [], 'vktE49ff0xOhB2Lz1BI2Pg': [], '0OvM4_xU5cJYCo0bsbVEQw': [], '9g_M8wrG7-XFlJxIVYV4hw': [], '0k_Ax1rXz2lq6p2OThlOUQ': [], 'A7gVn077Eb2B-yIKunLVpw': [], 'MBekdd_f7S1ezEzZb3o_ZA': [], 'IRpZS7EmmBeSM7oBnDd5iw': [], '0h-6IpJvApd2i97_KwCR4g': [], 'qeQDbldV5n-wUu9zflp01w': [], 'ZhO6_8Vc-zfRxvDDvDBynA': [], '0aSvr56wz4gRAA5TtV7_Tw': [], 'VzSUgIOcyO7JmTwYDnyivQ': [], 'WfLSfwsw6iuXxpm4U6nVZQ': [], '1BCTS8QRO-g1FH_TaP2tBA': [], '67X6JB3kvZ2B_p8pucgNXA': [], 'gP3N1gZlgxBMVcrG1ZTP2g': [], 'OsuBqr2L0-5W8LGAsg-p8g': [], 'xzj6q131hJE59tBkhe3Gag': [], 'rQtQbCcRPyoVR8-Qrti6pA': [], '_pJU90C24bdOq19qNvTp7A': [], '6yv8X9ayXUwGtsXtIE5OOg': [], 'len2nrEtgD9bjnoYSyLPjA': [], 'ZrGmqa0L68xR_Xq8_vJNcA': [], 'etylBefPKEMjm9nS9c1qiw': [], 'PMH637woNo9ojZWxPLVULw': [], 'AzYkEcENi7I1DsR2iushEg': [], 'YSdYX5yxpnae7Fb1HGMlOw': [], 'Q7Wwjcwq5ux8EbLb8-X6iQ': [], 'hJuyi_Sx9FCxvSoguR1wsA': [], 'CNRXPwmj5EvSNdXnOXcpJg': [], 'kBJfBVaXJtPEKLTov1hJdQ': [], 'AuWFn084piPDQS3T_THJIw': [], 'P_ilOWgHj2DMSSZSDtvzbg': [], '_4MFq9_5cXWJpj8TDZkt9A': [], 'yYfgg3sbg_9U2A0w72jLHA': [], 'WyPN1ZsvxOIHvetxPet4Nw': [], '-sAfscV-SWC278qqCNxraQ': [], 'VVeEiDBnfekolbs8FzAD7w': [], 'jZ_3vs_RtMrkZbol1U_U7Q': [], 'Yhgs5zewpFuCDpc96CBa5w': [], 'FKNvQvsknpNSG26hVtzJ0w': [], 'sJOeBS2lZQ4TDfT7y8WlwA': [], 'SP8jN1vcAyS5Y-hZb3h-MQ': [], 'EOdsWTj2jtrPshsnth3Y_g': [], '8ciT6qjI18x9EPtOb-gqYQ': [], 'ocXPQsWEpC0KF6tZezEBpA': [], 'gONNfEoNaRLNtgaAcxwsLQ': [], 'iNwd-OTTWHLaW1pPMXUq6w': [], '0hp3WtPSxvmJVk3BNTfhHQ': [], 'CUivTcULsu5MJIYYNVm1zw': [], 'TEaBolNAkOdRm2gvIYz4OQ': [], '3AR0coEEReWxcbMxgS2DQg': [], 'hTe5SavBjp3zRulupZSJew': [], 'fRKqHIt0H0uLlD8deiY44Q': [], 'x6uV0hh4aUtp48BFL8DklQ': [], 'hYl2qT0fSae2EkLVcvBoSg': [], '8Zq11pzOup3-iwOjdMMwDQ': [], '10Ft6GZPvoZyRWi1bVo3Rw': [], 'pxv5jBUOgsg6Rf6Z88e4mg': [], '-YR7K3rw6VAQ1-MjslvsoQ': [], 'zxXOXs5v6EAbUhMTF9mxew': [], 'Upy7hkpIACL8-GvBGa2FSg': [], 'G8k2E3oYHHl2o4lNJQwR-g': [], 'O2sEX86f6B4GROghjUkr0A': [], 'eLTPBSiovhvWPMhnGK1ndQ': [], 'ttfKDjCYxEieETpk9TvkXA': [], 'VdiDt65oIS7yikJPUNSNgQ': [], '0J_ihN4wvSElzlFilMhKtQ': [], 'N5F_GgezZEPL-45BxO6FKQ': [], 'jPQxZTuFhuVHsu-DI4hm2A': [], 'GA_Nx4xA3Z4pn9i5XKF1Wg': [], 'EC7NrIHKk6i3US_XJlDWDA': [], 'xN-HyvdrZiWOWK4_sj6Evw': [], 'Po2JOQBfoFwlOAYDpo5oGA': [], 'JcsZvx-4yovFgCXOfd6KMg': [], 'k7poeVYt_3RIgaCW8zOxCw': [], 'ByKX_MDDwg0OKrG9Nuh65w': [], 'O694V2x8GL6Ff-BMezRb8A': [], '1_v_fooGLY3FQkO5tH3m-A': [], 'anX0QuyMSedPGGuC2K26uw': [], 'dbOsbFXBQLuhGRrfeJpfoQ': [], 'noJWctLz41PYiQWJXmhvLg': [], 'K-GaYlV5d3TMwsOOraoC5Q': [], '99YJMvaaYwDry-SQuC63zw': [], 'hvOE0XwbC4UPfuHHiC_frg': [], 'w4LTZaO7mNbjkNxqJmmH3Q': [], '9Cv6nCZ8v2jFMx-pbCwkzQ': [], 'd9-cB0XbM6NGW_-7DxDE3g': [], '5eK_pgro9_LxPYDoRVJnEA': [], 'YAE258i_wX21UEJ1L1BvEA': [], 'aOAqs5leMNiPSbszvE-_Cw': [], '2WWCzglCp0leZ6p_kt7q5Q': [], 'KE3jpynolXq36VmhH6Zn7w': [], 'lIFjn05i1kYq4q5cDKURBw': [], 'hk9xmxnVl-AObpXbKTVYJg': [], 's_ozG9Jg9j3eqHX-1bpTTA': [], 'l8gyfK0w0lrQqbPReObf5w': [], 'I3s2O5sWde89hTK5wLEsUw': [], 'veUZ0PzegME87yvicpAWuw': [], 'E_DXCeVllZtHV93hsAIZvw': [], 'cFU3FfBKkzDsB-ZAKbJC_A': [], 'XVN0Mg7oABOWAWO3t9tXpw': [], 'QcV8KIPKbGRnWQPql55bKQ': [], 'xceERetY6Q9Pu_BQ32xpeA': [], '3jy3CXO6gVEat4uB-E2msA': [], 'VdwNUcgsLkdu5pEY7ovcwg': [], 'dv2LfEn4p3ncG_1jYIoZ7g': [], 'tI7dXg2UboJozj28v7sjLw': [], 'Qk49X8OrbzbG5Qa7VXhV2w': [], 'fT6Uwl6abRQfiNgxre_qbg': [], '7IVaamfpMdyVQVkhO9ntEA': [], '0npO65UyjyjM0ZjKawvTbw': [], '_B-LJC1Aj50Cdxd9p9uBaA': [], 'AwmLDzqJ0aMGZTYYoZnxWg': [], 'sAEFh7e7fY-W2gMWSbIAWQ': [], 'XdcRr8R5H8psvf-QxtuLMg': [], '_lD9Y_0OfzZjfz5s-FVwqQ': [], 'iikAHVLZrZn7Zy1aEPD25A': [], '9gPQvgpJTIt0yaYbCUOnHA': [], 'YvXUrRD3Rjj4SpFuqbmUfg': [], 'Ffzhzidm9OesdEzR-MLuwg': [], '2KS_UunFuefCdniRrrxIkg': [], 'VtgFuz3LXsrGB-SzPSQbDg': [], 'Cdywb13_07M1_g3U85VKTA': [], 'BHuvNbEh9VsaPPBnk4CosQ': [], '0Rjgq0tHv3enQW8lNbrrVg': [], 'Zto7klfy9Opk65ABzZS1qw': [], '_6bUHdOaxoVPa1IlEMV8Gw': [], 'CvGfyePXPjKt3btUj1h9uQ': [], 'zjQwbwGCxXSlt__t1voGUA': [], 'wfS-UneyghH8vd_C1kH2Kw': [], 'AW66lAeZQW3ss38HjB9ZaA': [], 'NRtd6t9J4ipB_q737xvyow': [], 'zWKpPyzm0W9N5OEPDuwgMA': [], 'fthyk7ubWbwIQtRHUXOAYw': [], '-OOVJcc1-qOUqI9131u0gw': [], '4K3EHSn_DHjdxUEoYos95Q': [], 'Be8nEZH7rDqnWcM-dirsNA': [], 'U6eg7zI-0TosgVvmrOtlZg': [], '00si1kZUFDcYGdTljEWurw': [], 'eq-SNqLqUP5rAc_PZAHuEA': [], 'pShTQXGREXpq5RgvYGcFww': [], '46F4FywjDlqMiHG57NF7eg': [], 'Ade8mPSOeEw2OodsN9DadA': [], 'n_n0aT_W10GOPglpzH5atg': [], 'xAxdrUpIVOvxl0wjp45w6A': [], '3nzK3K-Dfo1L6mpB8FTKkw': [], '3Ru1_F8GoUcV-QwhX378hA': [], 'vhKUBKcOm8zOLxeS3XM9iA': [], 'ANHCo9X7zu0LdYecc9fk3Q': [], 'DYnFGGYU3SkrKT_G4djpYQ': [], '3rWRNL9sFX4YiWPqaUvUzw': [], 'umrDQGRNied77aVg29_fVw': [], 'NtP9zu-UWq2f7nS6xGuwZQ': [], 'QyFciCaAJkniP506PP43ng': [], '-JuHqV9ZIfc0U5JVsicYDw': [], 'QtnByPwbb50VsacwD4D1kA': [], 'OyhA7XXkLirCnFPZ95ou2w': [], '62HlThvB9Rm2QFu_OdXe7w': [], '9CkeCB1VzP2VZ221VnWK_A': [], 'kPi1prVK54oQcUp1qKcSKw': [], 'Ibd9jfvPecU18-7ocb-1yA': [], 'XnUb7yulkX8akT0A5RHI8g': [], 'G60mnTWpe1J13fWhIGlmxA': [], 'zqSfx9k2Pe33UDHmfa_fcg': [], 'fseN-tYwcbjtYm7DjjEjLw': [], 'uZkysgjMeC3UO03cPyBD2g': [], 'GmG6HhMZVw6t91l7V3VXlA': [], 'JcKFpwVx4gjUELEdxyWsEg': [], 'VIDVASjenNoR2UHEo9oQug': [], 'ds5AgxCSFLIecoZfPiuvtg': [], 'manv27dcWwK7reqL-PLDKA': [], 'ck8kvKV33VvPrv_E4kbh1w': [], 'pzwojvXN9wnsNKDkKhrCGg': [], 'Uz1ZV1J-zF7VqH8QKUUNOw': [], 'NsPR0AJUbs3WyPVgBOxggg': [], 'HVzH8CO3e1-tjr97cF_8LA': [], 'cKIbCC5OVmrHIh8PawlI6g': [], '-vhMpPLW6Epcwd47gldrjA': [], 'SO6Do3X3hVFXkNAIl5izzg': [], '69X9rJ3s2q4YiQhrrWh16g': [], '-ktGd4cMY0V91Ihq4VQPJQ': [], '0gObuTScxhqgNVkNySxkAw': [], 'Sjvq8el5UkA0A60hh3NVUQ': [], 'jlF81N1Hr9tANTfMSRWsLA': [], 'ZfPcpbZssIMrYBSg9jXNdw': [], 'y71PxwJpV6dZXGo1p7zCcg': [], 'Dqzkdf0sz8lm9AFjfsDmIw': [], 'I5CKfLZ-hxriv5IzHLvNGQ': [], 'vF4AGRpWuN9n9AeF4Vf1gg': [], 'Bs8AvNO3xWoURWpqiGd_4w': [], 'otlnxBQqCEmUmRONAB5elA': [], 'CaF9FC8GEBfDDbptPgkgBw': [], 'OU5RFlwAoNaG32P-ZTlgYQ': [], '4sn2a0QzxTmAO3-mxi1s7g': [], 'q1R2R9i3TkH94x-CwP-l4w': [], 'Kf4srX3Jgk-2LE9LKYhwhQ': [], 'HH26SnOm2Ab7UfkNhQU66A': [], 'LelAlfuj5oVRF9CQdWLsNQ': [], 'KGMyW-_eq4Errzp7AA8s0Q': [], 'fr6ojHDZYrpUQl7kVGuVJQ': [], 'vhImhRvHgAsUnBvVcRYRkQ': [], 'uBUA42DfGdmaqgZObR_lDA': [], 'gZGsReG0VeX4uKViHTB9EQ': [], 'QssWqY44im2rA8hGmicv_A': [], 'FyKefsWq62xeXpje0Flcig': [], 'A2J7d9UxD40rVgjaKflVhw': [], '4qpHOC34mwzE5aJnGm1_BA': [], 'VvYRWkQ7u1vVHJYjLhkRlQ': [], '0PFaDqDinxlLhGk4D522AA': [], '591UZJIUNgPwxXRvQMIUkw': [], 'Jgo9tQ0mCTYa-bRRoXSKNg': [], 'ogW-9p7lcXQYTPymXy9KXw': [], 'VGBSw_36OQLh1b9SwUyW1g': [], 'Y7XwHistdaHtxPIMzLi8_g': [], '-jghjupgk9DVw5M-dCr3mw': [], '2vDJJVAy43Zq9Que0kaxeg': [], 'XfS525L1pBhkFNQ7rPCY7g': [], 'e1i5mbYpFV8rQtfqtVwq3w': [], 'Il21_URvlkQ89uUeGPGmaw': [], 'X-ZAD3eMkThGL9hrKdQooQ': [], '9nlQLMA8W08dFAkXFSQOyA': [], 'YWwYOCbXkIxEohzURIuMhw': [], 'uxmL96QngoslrtMXaQ80nA': [], 'S_bG5WWbtNXhhY9Y0GTcSg': [], 'cqZc-BjTWIwUHqTs36yXVA': [], '32utfLQ5CnaRxGXtEJ0aZA': [], 'ZZxgrXYDC6RIPrWCl9kdjA': [], 'XrHXxf9IGiZY9qnqpefgQA': [], '881g37CP278kPIXeyiIgIA': [], 'JUWeWe5W2LuY_cp2mHRTIQ': [], '9WuE4W8bEcVX9ZDn1PygfA': [], 'L8QqIzyE3X5c6W0wy9vOmw': [], 'uNYBY0-josscxkihdfovYA': [], '8-pTN6SzXw3_R-Uo43GOAg': [], 'fSmIQUcriQNu6hKkEoGgOQ': [], 'EeSTRZ2F3ZSlRpm1AT4YtQ': [], 'mW97sJ9JVjs_REfp6XjRhQ': [], '35ACJdT8mJVtkJeFTbVsdQ': [], 'BYQXVyuarIvLi32JzMLSVg': [], '6LVadHqqjWlVnd-T7gAZyA': [], 'v0TT3dcZ8OdTtaJEKxIcuA': [], 'lLBxP1GjWrT2xApcttyXDA': [], 'rp5RXEpoAj-k3c4_QP6LMQ': [], '48xqixi2cGozhxSiisOGiw': [], 'xkcyHkhggPQlHDhflb8QBQ': [], 'PIUKGVv9h3DHB1UFpSEq2w': [], 'Wsb_rH2xNmMOdmzyb7eB7w': [], 'AMxxi7jyxhcdNF7FIRbUVA': [], 'rUwIlMN5wD2Kga5sx5skWQ': [], 'n8KZA9G4FvGqDBWIscpz9Q': [], 'XXhKj-sK2afmMaz7gdaA1Q': [], 'Ynm7H4c2ll5vZEX3iLdxmw': [], 'LW5f9ojFfRCqIYlqpyx1cA': [], 'ybO3Ogbk-cOdq21YuU7gRQ': [], 'bNNF6Z91L7Omfdi8QSo2_w': [], 'A6HfWbmTpJRlwl_-SxwFUg': [], 'H7YafAZvgNkdLPZI0G_cIw': [], 'tU90S8KAgeg_2dZQeYfg0w': [], 'R9GAVn80ARPm0oMOTSa8WA': [], '2aNbZrFzXBzSirexFDrs5A': [], 'VcJUwtuimI07KQwOc1wEcQ': [], '6kbj9mAWX4gCig-Y4WCdHA': [], 'EBCuO36WpwDNhf37YIhklg': [], 'ZtdbaK4cOrxJrDEONwW7hw': [], 'YM0N9957U2rFDsNYXUqE1g': [], '7b7Hj8hdcObDoBcBqL4MVg': [], 'bR5Pwh9sgTqThaHwpFXdaQ': [], '0xso8uriixDURNmHy3x42A': [], 'ez8H1m2C7v2FEiOQGRp44w': [], 'HkcdGu9tQ1ZkxDIrt-hsxA': [], 'Ns4tjgLfqR1qawGlNFROBA': [], 'TBai-x2Cl5ByfctML7q08g': [], 'p6TeBT1T_VWcdnhRr-Jrlw': [], 'lORlFMAvKJKBaWefOfUrEg': [], 'diBAUQ27LZ-lay2HD5_mjg': [], 'c_R1tQdHRbjBkNOAobBajA': [], 'KMwv6qK14VZvC-We6l9LCg': [], 'f8UI8X50UbxVjYccMfI1Vw': [], '4Hqp9pTPa8j2M4wK0l249A': [], 'drOg_1itB7YGuMH-Ks-tvg': [], 'j7LCI60GYN1KxXRiy_LMkA': [], 'd07DDzo4um5dqS7_og8Hig': [], 'MN9RMoV35ReHFIHpRv3WZQ': [], 'qdUCIK49pCS7BfDEClpdhQ': [], 'aMF8cG445ONPRKBsBYqofg': [], '0W_pPAiTXgazY2mtX6o0_w': [], 'kLWWS2n4X8J8Szy_xVTPHQ': [], 'UYl1E89YKycpAKSDqLso_g': [], '2pzfPQ6-A3OL9yHhgWhuNg': [], '_fTBHNW58xuw0MMbgZTz9w': [], '4jm-et6RMcjOkmrC_IcuCg': [], 'XqRY9T8s0JhdehfSmXhCxw': [], '8vA1d9_w4hBjOcrM7mNWFg': [], 'zhVrl8N_zMW8f9NuoluG6Q': [], '_7mfgepDzTjzUcZqQE26Cg': [], 'oz-U184llqjVIt398hLntQ': [], 'K8Y6VomlTyMBZP-lEfI6qQ': [], 'osDf5vkpammUvYca4P5z2g': [], 'mXYVVcDVxifAFU9oXQ3mXg': [], 'VuCrxI61nT30OndMcrPgkA': [], 'VB-Cw7YKC9SWlzR4KUyGlA': [], 'dGFrCnwIUEdi-zxkwDoezQ': [], 'oX7lSVsg4j7-SrSZVGWVnA': [], 'B0XmPmiqhTx75cvZgpyonQ': [], 'gc78dwGe4EP6resjJHJEbA': [], 'fwYtVfx-RbpZkph9BxOVFA': [], 't24NEAmx2PBVvC84lQmXwA': [], 'f97ok_VaMvWYxsZv7iconA': [], 'ApHiz1xxENwjkp8MKrE4Dg': [], '8WwGP-B3Zxh_03FxZ3gC-g': [], 'BcaA9jvHhuPoTJXz0RMZ6A': [], 'w9gi2HA5a7asCwEF65GEWA': [], 'doNFUrUKx99ajM5NI-XdsQ': [], 'tcbWzBewr3QZ303w_ph0iQ': [], 'vUl0QJNtI-Q70eUsQEKlbg': [], '6FGfOWph7YG1JUGl7B7ooA': [], 'nzxU5rmmObcj0eAR_0Vqew': [], 'sDJwRKmvlox1d1U8oWRBlQ': [], '6Cl15LapBVhw4ZfBIeVJJA': [], 'pHd7QUYFmIt4E4irprwbuw': [], 'nFR7dDedxRuBeZz_6Cdalg': [], 'LfhE5AugCirEYhBRjHdr7Q': [], 'fXzMs__3HjTYwKPMAb4jYA': [], 'LKeKUAHG-efbhckXsV8iKw': [], 'teTQU7TIPE0O_B1zN_239w': [], 'XvTBQotmJpVPjPNaMM7qLA': [], 'wKbdS9JDsk2-GgaTOYD4GA': [], '2OkYkQRItlqbKw9Mz7flCA': [], 'cSymYaaNEmOmv6QLO3Yptw': [], 'jvwzhzA9vsfJHCdlbLkHZw': [], 'I6MRD0JkDDa74TbVOJ1ykw': [], '6xHAfmlqlpjm9retP20woQ': [], 'qwrQC1fN06wVEm3kXmn1ig': [], '9RpuH7YhormBCST9q3DADw': [], '2zBCxn7_jHcfxoSjBdHJ3A': [], '8ynZEW4coGpglgWaTI5kiw': [], 'fBxDUu5ftmNHbbX5qD_FcA': [], 'H45fQ69_8DpWz-yB9oPhhw': [], 'RmTjXHc2wF645_XlCo2ofw': [], 'Swhv4VIfKYm2lvKVlHQK4A': [], 'GMriYorKj1v-dhhJ1om-Sg': [], '4rGj1j9jApydjk8_ALHDWA': [], 'sYx7UnIj_iP3QwqJoVq-Pg': [], '0MVUQtakauK3qKqfIcQWiQ': [], 'ZQCu2fgGoatxA6aAm82axQ': [], 'FcEpsffXdHAr7_D8V5kCGw': [], 'mIlwCZYr8uQH0mHJEhuf4g': [], '-IZvuqxekWEvJqDw308daQ': [], 'T7Z309DN9kbkhFTCCXt1Ag': [], 'PzHbUm6bSG2mYcEnpj5WXA': [], 'km-AyFIDjsg0_7uabSqClg': [], 'TkoyGi8J7YFjA6SbaRzrxg': [], 'w7KLpuYL1yySgln6c6ZxNw': [], 'GqWBT6OcQ9FXTyQ3eegpZg': [], 'sFg3G8-oMGeiHYsVqKN7PQ': [], '3C5Z9homtzkWHouH2BHXYQ': [], 'zfVX06OXuGM74MK2Cwducg': [], 'cNpFyw7i7iLOCFkdeQGUWQ': [], 'D7ihF-r44rB2aT8k6oGQww': [], 'CopCF0_RumhBLIIB7eNyxA': [], 'DVqWNCFofSzB5Cfv_y_vUA': [], 'bwppXavJTJr1R83LhCQ3sQ': [], 'ynYEgNimJOyb8dvyr9x0sA': [], 'qyOALwyMLbXKSt38glZ7yg': [], '6kRi4YScqY1iK37Xmy2FpQ': [], 'C3gx8Qe3G8ZdUC6B4rdDmQ': [], 'RbGsqfcW1f8MFo_aKvT8Vw': [], 'wyVYljjqF2SW3QiXHuVmbQ': [], 'pfygJDwNjQyL9ZbC7OT7Fw': [], '2ZFg3dKc_EHcUPgYrl5iRg': [], 'szeG61Jn4dFrLqhZy0m_ug': [], '81XqABPROlu8WIER-soVmA': [], 'ZjfsjIgEA5QWhYwydMC2HA': [], 'VRudmL7x4ONGXyyrYVXHVw': [], 'gCY17N6YBR8gTMveklFktA': [], 'lVIJHys4dHCNGyzg_v0sNQ': [], 'wmdGWkmA8Rb5ibGTPER_uQ': [], 'O7XvKvc1JQqfl4Z-T28yJA': [], 'zNGDYEaw4zHODUq1AikTMA': [], 'nztjmkY4LZp18kviHIO7ow': [], 'Ov1eQzHyKymlwLNDYcltWw': [], 'StnWWcLsXBAhEqsbQkZgiw': [], 'FsCujpVh9Za2Dl5MIYLCxA': [], 'zS3-CKZVVvUYvasJnAg-aA': [], 'dqGR-R3_40MoTxGpeZovSA': [], '9EiglrqhnBGBNIG2Eo1hog': [], '_sNcfFBWvMOwOSUzZPDHNw': [], 'J38kYZWsoYpeXBZB37lnKQ': [], 'e55f_t6nVzsgvBjLldAMtw': [], '1C2SZ3IljVQj1tJim1wCVg': [], 'UKUiJtXl0kXIUgK5tjReIA': [], 'QsJ6orXv_VB7xz-MpqHzSQ': [], '_sOni_t0FvAQuUDBEGe3Gg': [], '5zk3LxFzijmY2JipVZ7Xdg': [], 'oAznEqsk1Q14lbHMenE4vw': [], 'EgJ1bvAqnHrepFBMYoaAeg': [], 'A4zKbHT1udV4gcd37HEuZQ': [], 'v0FdDAXvEYieRWcngbCe1Q': [], 'BgQ5ob0QiZfO5YbgI7VyFw': [], 'CfHBbrDzVpRxnPp2QkqW9w': [], 'ufKEWP_6GYUwkupXsybmNw': [], 'hrooCfjOz1_fItNVbCiYPg': [], 'a8OWfQTA1TqoMEu8Qk9owA': [], 'FtW8cRwh_mRT6efsjtWABA': [], 'lrpFsnd4LhK5rUEsKlZrsA': [], '8XZ4X5WUyM1sWscObramwQ': [], 'xTBhu4RsILyo82lVPBMG8A': [], 'eJ-bDf7E1ph07vF7WbF8dA': [], 'HSoKTWnsu7f3yvywWvBQ4w': [], 'uQG9riB-sOJ9n9nng6Huow': [], 'EyLNJf2lTa1VCOyJQC_5TA': [], 'FEd2WWHGWu21FYOXgt1YjQ': [], 'MldtbULi0uqWxduSyE663w': [], '7mFNJCgmZCiSjv2mzoP1Cg': [], 'PRUtZy3DUl4sPOisYfOAuw': [], '-0Sgh0QlUKVsWosCWJzGqQ': [], 'IsGsZ95WHORUYy7vM_JYAw': [], '355zerURpj4IMs2no238_A': [], 'Dk3H2CPh_yb6CaN11XEFMA': [], 'QLU34OSLDiCG7wu6OrjqCw': [], 'xVP6vpI-LGJ4Y61gIb4LQA': [], 'DPctcoetAT5l34G3uB0CTg': [], '15-7ccie0lFEbdsnwFXNZw': [], '366FaRQ1MWEHBhaEKTcriQ': [], '7cScZ3ZqVjK2VEyyUxzpiw': [], 'kkEqZmVvVkgmCaOqE13mDg': [], 'swX3Vj3dQsz1YlCRmwNQEQ': [], 'cKgUCzMGuRgkbKXUsgeXUw': [], '7Lbfc0bZYtQ_81ieAc2ppw': [], '6wxfzVfke6iXRhP8yeMTeA': [], 'ZCC2rUvs2ydCzR6MjwnOQg': [], 'IR21NrXBSkOXSntPKtgEZg': [], 'Flb_4M6b0sFBWuyowetoag': [], 'napimcgem1KAu8d5tILkww': [], 'uGgFD2_ttgRIH52X3I3VOw': [], 'm42E4F24DMzaJJ7d5_qr6g': [], 'KK7-mHecrlhTIXxW1eATEw': [], 'VWR1zQYVyHAFRcF1acKczA': [], '0URIvKxCNT-AVgtdYFAX8w': [], '80gdzmn-E3IaXK7Z6qzC6A': [], 'ClSEvxBoZM2F8qUqIX2nDw': [], 'K0hEFxUJiwsiLOnIm4tHOw': [], 'KyYUnAEoFaTfIICmA_n1Iw': [], 'v7GshnmUytEe3tm-HOgpsw': [], 'EF8PHciQ68dOPhgXyxefAg': [], '4rwjCzSygI6batiXRGctrg': [], '0lU-evKNGHWDOF27V6dU9w': [], 'Kds-HA1rPUqXhMuoZfRMqw': [], 'Yk8WiriuHOkAXufUqGZMyg': [], 'Do72DKBclgkSPt6jZ9-c4Q': [], 'go7g1fwoeg4a8JATkGzW0w': [], 'xQkYCap-n_ZB5c-1BvUnuw': [], 'qArjNgZbqgosg5zpguhrgg': [], 'hSVaGIZzNCReeua-nDHLiw': [], 'sahppzQJ0HtvMC7L8ILTVg': [], 'mPBUVLUB9rUymXbGLi7j3A': [], 'I6pcjUH1IZSaCLDb5C8jrQ': [], '3ur_Am8M_dqqXEQKRhm_1w': [], 'LVkILnI-bXtlCJggb3hfkg': [], 'YZGAUc8CaWWc6ICSfeecoA': [], 'ApG7b6SZpHTTsX3q6NcXgg': [], 'AwrmySGcx7_3piUNRLDf3A': [], '97w3hi6ngScJquXakwTWuA': [], 'Y-omMxOCDSYd7jbo1PSCig': [], 'BxwUDCVbBH0supUQ1wNslw': [], '-jCh1266UulWxTtUpUiDFw': [], 'jspgVJaiyobeUq6EMhmO-w': [], 'ydqbNz2sHENV9XOElwyAYA': [], '--Rsj71PBe31h5YljVseKA': [], 'prGGdpeqi6DU4t_RfdO0Dw': [], 'IycHntUVv2kyIo7w9FJWlA': [], 'rGGAPMFcBf-Z4fotG_MlXQ': [], 'GVVf7BZ-4HiuKKbHaFTBsg': [], 'GPJAacvrxZpbJvJiYvWitQ': [], 'vWHKGoI4YnH1_Bju6Fm1OA': [], '4jPerp3OfFiWgBPQi8SOUw': [], 'nDSNoz5PBwn0djGqrppj2g': [], 'ekU_rOucAP9RPJ1yrCUcFQ': [], 'UNfiku8qEyvGYjPK7w_gxQ': [], 'ixY17QjABqz6AnhVOdjKQg': [], 'CQokoa1vN8j6OP7dyizJDw': [], '9tKSEjLCJowSkxze0NiFig': [], 'HbLNib13kdNkvq_A9O_waw': [], 'OVQNm56wO1n68Fq5m4ruIw': [], '9jWUmisHRkO08m7pnuBbfQ': [], 'emMNb3q6cbEDZyc_JAgoww': [], 'UmfpoTxp4QdgQvswf8YxXw': [], '4qQVf2lt-47VcQ4v54PEXQ': [], 'yvwK4MO2qnSZE5ggYGyk1A': [], 'iEsNloJgy-MyA-_wqeB6jg': [], '-Wxje8_M3S-0wIwdub9Kug': [], 'w4IjZkYJ4b7nGvO57TTQnw': [], '_guNmxJd4Ep6S3pBZdAjGA': [], 'DQXz0VTP6n14gKrop8xVvw': [], 'MjfgD6Okt4_PaOeYNZ-prQ': [], 'MVUal1Dl-sUjFUJt7SDeDg': [], '11bhfBbcFypczdz3N_w6iw': [], 'BMdCgB4vllbBac0vVWj-ZQ': [], 'Sqhue_kRrNXmp0gw_Kjy3A': [], 'jghGSTNS_CNfQzMSJDaySA': [], 'DI5lVpHe3xf-IPr_mgzxyg': [], 'Lm5xXugCGxDqxD8ZE2MSEA': [], 'hXPUQ_LixjhuUiD33mN6Vg': [], '0wKOp9CBQbiByRn8Qp7NIg': [], 'dZh_YnKaX41cPHg1nTOx-g': [], 'xTVH9u9vuub_v_YHFveDoQ': [], 'l4SRHKV2XLdUR_QpvVxI1g': [], 'Hy0jGDoUwcudX2IbDGWWEA': [], 'tCJGEQVqjELLYv3fPNX5Rw': [], 'JGlfMP4mjH_gi8UaosjkUg': [], 'TkgEHV_4Qmamb_wUvkgdTg': [], 'tcPVY5QCFL_roeouCY5SXQ': [], 'm3ENrv6bKW8h44bMyBAOOQ': [], '_HVZ1V8IDa49MWdejx9BbA': [], 'EFwq5JJarr2NaqMmIIjxmQ': [], 'onhURB5hb6tKukQNPcBADw': [], 'GWv_NfJzBlpEbCTthrWa9Q': [], 'y_aqDIAW9Nv0E7OI8tnPZQ': [], 'l_B0JtF2UraFqhDpp5go0Q': [], '0dJk3zwmjO_0WXPgNqtoaw': [], 'DNak1tDJbYWX-iMq-tBToQ': [], 'i7V49GGSogJQit7wync_ag': [], 'v4YmJDtKzG2Dlh-vGB241w': [], '-LVpf-mKjrWT51JgCY3gRQ': [], 'M18hT6GFwcU7nPLPEwab2A': [], 'J_EQxmmNjgUi_kKScNJhvQ': [], 'WR2J_AufGGdPrJobNb5GHw': [], 'Y4CtjXlx7Tc44MCRSdPo7A': [], 'FG06iyLvLPuf4beHhxUyeQ': [], '3aJqrnY4u86F5-Fn_vAy-g': [], 'P0Pu_JmIDguHzLXXTeWOpw': [], 'YwLZ6RDKKhPAoAOP5m_elA': [], 'Uxyc9jyxZ_h2awnz5bAVMA': [], 'EOUDjT34xPixuxEcEr7sNA': [], 'Ks2vZq0qCpPQfTnXrZWVBw': [], '67zCgILB2h6JoSvFabVe7g': [], 'z_dSEPKwDL9Vtw1LrAAHWQ': [], 'g8dhp6OvPOZb3GZDp-Eohw': [], 'dWAeacCm6mpR_fQ5qb8ohA': [], '1ZUszwN0CVPMcLuGe0UAMg': [], 'a58ItFHWoVwVWDqSH_9bEw': [], 'AcgtsEyOco2WVJLgCGVwQA': [], '656XUeBmMzyvU62yYHptxQ': [], 'JQwMRgCMZJhIDxec1z7URQ': [], 'PYjJeED722hC6jOaSIiTBw': [], 'tnG4_L5bZiffTbaFru9EBg': [], 'bFdXX34Ql59hmeuApRBmLg': [], 'W7fgRvyxdjr9v4YXLinZtQ': [], 'XvhSYgpJx6mc5MycXac-Iw': [], 'NwDoIga1BfKAsw-0xq62iQ': [], '4zNvBpxABIbXR4GUbwO3Ow': [], 'QfsynccyHxrvv8bVF-Pp3A': [], 'YWjfWHizWgHSsAPGfQChXw': [], '19LQmaLOi22V5RrI3eB5lA': [], 'uXCofx04rfF7CC7lj9TIsA': [], 'K4LhdoEPzTdN-xghwG-HmQ': [], 'wl0QZqAzr1DelslQ02JGCQ': [], 'sW3oXGgDbbOC3YkiFKZNMQ': [], 'db12Hn9hdoE-Ne4_NsVKSw': [], 'OwYpVa-JnVjfEz4iVZk3ZQ': [], 'rCiHu1nHXc0dqymEvKqSfw': [], '6Zk5F7fsTr8n2CJTlaxHlw': [], '3kVThNUM1mzz1lBtxdSJxw': [], 'tuv-XKXejzGNzkRqNFCKiQ': [], 'dg5cg298SXZVMo4ZEwSUtg': [], 'Oj6W90G1ZVay9cRl6_uKXg': [], 'ZRItzVveq5E4-wjJ0hq_Ag': [], 'TBYVqlm4hYwJeqmAdBqGaA': [], '8a9Fyvqyk1ovoojnP_pvRQ': [], 'daqYMX3Y4QR8xl-BUlYBPw': [], 'WGQpjj6eA6mRBxp4XST6Ig': [], 'ePkouyI6uFc9ifEzvxD4jw': [], 'GDnbt3isfhd57T1QqU6flg': [], 'A2hT97lhkUN817adEcKWjw': [], 'yX0pOWG_Be9TjGnm0aihVA': [], 'roXz-d4ma5vtnVj1Z88AFA': [], '8cVpaT_erfXalFv3-IWWsw': [], 'reb_K9E81SIsxZeg26kVFg': [], 'IUacTdoWEWEODMVFlUOOlw': [], 'bH3xVTnb_5w6k7ILK82Kaw': [], 'NUoQdhhoGY2KvuutPbQ8GA': [], 'fjapWp89YVCeKvW51KUDQw': [], 'qXKGW5hvNMRVb3J0Z3cSRw': [], 'stPpU3S-OCLZOoxOwgJb4A': [], 'OqDtFvYZYFNhxaKsFB0zfg': [], '-FrgepJj0h-OWU1CupUrOQ': [], 'EvDUi_H6-JG3QfGWiInAlw': [], 'NdRJzLnVLV4ia09F2rWK4A': [], 'jUQUrsSpnIA2SN59aPIL0A': [], 'Y_UdgWtGdmetumEcS3C8bQ': [], 'n4q9ocOlUw6YqGl7oGgQ-A': [], 'wYVHHnA3ttwpbeyjNXopDQ': [], 'a6asAPtLHfWG871UBizACw': [], 'HOev_2CifUcfIm9xDL_uaw': [], '4byJn6eBAZmkPO8A8Vtxlw': [], 'WzrMNz9eUF78RgZGDTS8xg': [], '2W7ATgSmo2hnTM3e8081VA': [], '7F8s6PE4O7nV6pF1RpdbtQ': [], '9E_-MgxyfWNq-kWmjxSDkA': [], 'tVVFXukrk_rzLhv00jhKDQ': [], 'M-lS6AzGfoVB76at4c0Z7A': [], 'DC7cbTCfkNmAaTmYDpV38w': [], 'tgDUi6vtF1cI3DQe5sqQBw': [], '2Zeh89IUg7T4dUFjRfqtdg': [], 'dR3HS1tLVo53KO7F8BF6og': [], 'wyMxoVU-FtkC5TosQcIIEA': [], '4fbH3Yr1D5r5-QD-HReDlg': [], 'l683preTG0GIk9XMaHAUNA': [], 'tnZ_qZtKcrCWXA8XUMRF-Q': [], 'yVgNu6ZTTMbx69vOtdyHfg': [], 'V4grJe-q0xBiU2PBrxk96Q': [], 'qRAtdHUPhNda2p4l9e5S5Q': [], '1xgrNNPsLvtnlQpwFRutZw': [], 'VLdY7MkqtVF_biDP9GRQLA': [], 'QzrtN3EjGp-kSCzg8uj1oA': [], 'o5ftMib2dp12c2vqgA5LUg': [], 'ZuNVijvXJmWCQG7xoV6nFA': [], 'lkpoSg7xf60BsrOjdm0CBA': [], 'CTCD7noPctNFWROCL8ppSQ': [], '_wwtLgX4n0jpyVP8jiJ40Q': [], 'PZv-i2kxrueX1uK2qaM5tw': [], 'b5kC2XepQ1-6qCDpvtoxxA': [], '-8JaNeG3etLgOVyg2gOIiA': [], '66MT1BxbarD_0CzkwQ1--A': [], 'ZNEWe4GHVevLh-Tb339hHQ': [], 'nEBzvoOrYm_uPbC5IvVRJA': [], 'nGqj3Hjx_daTMzFke7g6aQ': [], 'EYB3LarwcnLKeXqbWVPvRA': [], 'JlMTixvNQ5bUGSxF12TLdw': [], 'lqESOVZ2EcQWMBpoMGHLZQ': [], 'VEM9ddboePvhvucd3jAbVQ': [], 'TxvTNCvCx8mn1E4DCojErQ': [], '6Wc5DPXGudcNi2XK7QfQtA': [], 'JL42sdCzD5WV_gkNWublxA': [], 'AN98dekZtXDplAzmzKS8Yw': [], 'MFbyWskON6pqRp5-K4hIKw': [], 'WZIKjz9Pq50xOZUBfAebhw': [], 'st9MruZ-ETZyg9InSo5B2Q': [], 'HkLoNKk2aYhuUKgKCNU0tw': [], 'ul5VvYrimRigosgHQUi-ww': [], 'eSFGdCMFVQYx-tZKrGMPMw': [], '4QxMC7fS5tiO1nQ6zmbBYw': [], 'OK7sQsW9IkaRUOcdPaew9A': [], 'nist6UGz0213A9kTrwHJ3A': [], 'RQdKieW9hqg898d_S2WwRA': [], 'fgxW2Eww2MzMHd8eWT58Ig': [], 'DLcgZ180-gdPsHoU78xQDw': [], '45bWSZtniwPRiqlivpS8Og': [], 'WBt2pa7k_K2LKW2OJuXG9Q': [], 'tAEKCC7h9h9A79SfYx0Prg': [], 'zxVw9U56heInhfyprhkxIg': [], 'ald-hREpkEdh_0b5TCFRmg': [], 'Dd99oGPGdOiXUeGqXyOgwA': [], '9ibMbke1qYbmhJ2Qf3tWfA': [], 'biPAbciX6zfsfmTDozFrIA': [], '7ifAX5goGB2L18Nht6161A': [], '_myTPlWa8QRN5eavs-hNPg': [], 'ExDYoLUru6wMcAmcSYwM3w': [], 'npFreYuGvPtNbHo0x74zcA': [], 'M0AXzGZolLWprqtR0tPy5A': [], 'pbSFMktF1XLd0LX_wIiRLw': [], 'E54AvEdLfCFFkCvXmXJ7GA': [], 'DQ7zqboYC_pBfsaau8rFdQ': [], 'YQFcxE9UXrKc-QuTUu7twQ': [], 'oxv2UyI5yF6yawPU20tOxA': [], '-KIdCJnkt5N8rnnmWR5MQg': [], 'Jsfag1tWh3I408hDTcA7EQ': [], 'pYMvH35_h47NnNTqjav56A': [], 'LCFyS6XdPR0BNgmjT5M_dw': [], 'ubR4Ox0PTBFSPXzOc06p4g': [], 'fJmg_GwsLMXXS26zKTITiQ': [], 'ASeXpAtDBSuRLFIwOl6rsg': [], 'muX4qU5C3EgKIHdXjy0UsQ': [], 'mcOcXfVL89fSLoxvc55C-w': [], '8JNXHzuV9FKr4iTDQDc01g': [], 'NJLcn5fACNVzEu3jUpsgOA': [], 'nn4ZkIZTCd7jJhxs-P9tHA': [], 'doQmNo45vF3f3zMXjVG8ew': [], '4RSJzjaxYJ9CRTfrk1sHZg': [], 'C8IQB4dtunyDa6Emo3cFPQ': [], '_LNVUUb8bTvOxfUNABf0xA': [], '46lVk6SLKb4OyUaIN_FVNw': [], 'I_a74zmgR-X03LsKISWPcg': [], 'kUnHgSjIWOeCzacpSFhyjw': [], 'tGLz8WfLwSi221wgNh-0qw': [], 'WpzRURptZ2FIxBmJMl4MXA': [], 'Tc1ly-0VLk3AaoMb7CrlVA': [], 'PtQsrkpKmRBVRmWjax6eKQ': [], 'iPDraG9gpzlOQpQhJdPsfg': [], '6HLyI1VHjBOaxhF-wFVBVQ': [], 'kEc9uZmCXyM_XbdQyYBeEw': [], 'MgzGvq5VKDqXKigty36xRw': [], 'L7os7OGSQ2_evJRLvQg9dw': [], 'itJyz-FOH2Mygl-5nZPgbg': [], '0jv1aUWkZfoJumErj3JCFQ': [], 'fIcHJP6iJH15vIzV6JUROQ': [], 'OTkJUl-RyZ7eMi43spg5-g': [], 'NxZt-j74NpvIU5hdb2KJTA': [], 'sKrlmbrZWCyLIgiMihCPqw': [], 'xsGKT-NyrYji7wi-1yuoxQ': [], 'a4Zz_I5PE0DySszhIkB1Zw': [], 'rBQ-xYc0GFAV2hqYKTQe6w': [], 'sCXAcEGUqjxjNb-gWLSlvg': [], 'dNuWjWeEBmPS4xmt2iI-EQ': [], 'loeW2G8tSIp1cLD3zB1NoQ': [], 'L-_-9JNAb6UDyq7waykX2A': [], 'jwwB8ODJoos5vW11kAoaKw': [], '0o_JtYrz5FRVMcAEVmf42w': [], 'uP21QeqzU5E3azBk2_GDsw': [], '617wOC5iiA17lw4t_W9Saw': [], 'TrqCUT9150lXfgN8JXRP7g': [], '78kS-E6N50pwm-Cq5--Ecg': [], 'ToFm2DhhTdr0Kv0A7Sdj6g': [], 'm1LOUjVzAAoCS61BTL5i5g': [], 'sHm0QpNekzdyKO-HPcWjYQ': [], 'CEuIS35iAlIDsx4uVRohXA': [], 'Kj8rXSpMQlFOP2iWN0fXYA': [], 'XFhnPpO2x0nS-lVkqZSf_Q': [], 'i50k1Gkg3Y_2TG-9CAPHjg': [], '4gxzgaLRMq2adG20JGdYkA': [], 'LpdW1vh1AVm5QznEL5j03g': [], 'hpvHHl_f4PHk0gc1qcg5qQ': [], 'O8sBSjxL8hQbA41lKtcoJg': [], 'YXdR7AR-9rFGvTt5pkO5pg': [], 'I8TOosBLYKxZMAYNNyGEyg': [], 'eMnCAvoCsZ3L1UuI4A0Vtw': [], 'e4NQLZynhSmvwl38hC4m-A': [], 'ZrucPqD_AGAZM53BwtsdTw': [], 'Oh_mShbdmaoRX8iZVdE0vw': [], 'GETVAz5SCk8rFziexV54Aw': [], 'zOvZaiuzxUBzQE0Uecg-aw': [], 'RW5PbDH5kJf7SF3JkMebag': [], 'kvqULv65K7Zie2cYv6e6RQ': [], 'pLoiSZMnLD612xK8opkHhg': [], 'LuWemt7wUsVU90-VwHwgyA': [], 'zK_8IIKiSXZUapswCEvsPg': [], 'pl0KAXaQbYN6B2CV_Y3vnw': [], 'gY5vlvTMshiqhGi0rkPc0Q': [], 'EkVknA09dX93AX30-_Ew_A': [], 'TSReAmFxNVCZggcx49Gf3A': [], 't8YhDctOEB2WsG88z12DIw': [], 'Ch0Y0E-QHxFOgcU-GDeNzg': [], 'k6pWX0v60LIRS2guzkpxqQ': [], 'rydwhaJPcQhxHlHO0PMZMQ': [], 'bHwopWobREQ3ivnIRm7uOA': [], 'xQLfpn1qaXt_j3osW86Iwg': [], '42w2bo36vUGVyZOrsXPzGQ': [], '8FtVVxG4ovmIlvOCtKziZw': [], 'TvOE5wiluPOzf7kbQthVjg': [], 'uovqgCcWIqTwUeH_A54t2A': [], 'gKqzpzg2MmINROrgWqalOg': [], 'DNbyiQ7BGqh8yXxrT2kO9g': [], '2UoGhBq-YrtsTSeBhCvuFQ': [], '24IRm_qaeKN5gFVdPb_s8g': [], 'k_SfP93Tmlpmx-5OL1JmTg': [], 'fEqbLLqRw0fQrHM1xB070A': [], 'P9boIWvSKg3xX00xFPV-lA': [], 'SOXnSVsLHsZf2LYp3kT9-g': [], 'DwIbLWmv6oWksXKXeHkWyA': [], 'UR6LHlvUn_A2BYbIr3Xs9Q': [], '0BbRoMwVTZgYV1oqgtsHOw': [], 'Vz5xew24OMNVadfGDOCEdw': [], 'CO8MpD1bSkBPArXKBKkIfA': [], 'u12UCVo-zyFTX2Nxf_n63A': [], 'XcWlBj5oQgzKhR7Cxovj3w': [], 'aL6HK8EBNMPUWm3zi8xtew': [], 'y1VInN5m3RbHU59kiQbmxA': [], 'mqPbUTDoIiT8GFp-sw0GPQ': [], 'nsBB2mARy56ZZyovilil7A': [], 'mPfdYJj4d5KBPINDkaZY-Q': [], 'VMXqRzR3-SSVDVcP6VY4ag': [], 'p7FBqdHN2nzS0S4wGlqanQ': [], 'oVurdXPgthA5geFUqI9Wdg': [], 'Y-tgvb9Bh-Od-sPa1PRILA': [], 'blUgghIdsUG7pNqxCphk9w': [], 'ytRF7qtkd55knqgm8oE4tA': [], 'DzVexh7EGld_2ziA1lRq9w': [], 'xm6OKOUnvpn58ejuY6-yQQ': [], 'sfGYIlU3ji6V3c0aWyny5A': [], '6g0knzKWOR9XYLroAow5-Q': [], '1kUjJHO_Kwthd7jCDozuYg': [], 'Wprh8yeHGJH7E36YX0PNPw': [], '62HZvu4RyAnhRswWn3e7qA': [], 'kR4NBNFf5SLpeAtZ-uPoPg': [], 'EE_CKAAq7_oL7jfxmUKhuw': [], 'F5YzrBnOUDpgJkp9BK8cmQ': [], 'CRLvROAjgX-aKI7VIfPLFg': [], 'hIgGkG1JnHX4xmVuOgegDw': [], 'cSsrBz9JOJTk89K6OXaY2g': [], '2THWm-2RT0MtkH-BKN6-FQ': [], 'HW4kqDcjMf1z1DJRtJkzfA': [], 'U05TASwKPZ-BWe5GWekUlw': [], '6xzOn_fxkIaHVxjtb_n4RQ': [], 'f3K2hJ2sJBCtyc1M6O2jpw': [], 'Oh1s-LpxUF9HswZ0zhGPPA': [], 'x2zNQhp--YNQDnEEHVZtsQ': [], 'AkxbEOc5fz89ra9LLijJcw': [], 'TqFqZBdad2N0Kgf-NRKL9g': [], 'H1Mp8I2YuyBe8lFHnRk3iA': [], 'mUVAMNN7BCQ9HGA9w_7C1g': [], 'Kdl4vRpAHTfA4iBWlu15NQ': [], 'PepLYiTk-2j6Nb8JFVT9gQ': [], 'uLtLJ9sbSYak2WwCb4jjDQ': [], '2m-On_cnqBeX-KjfbPN78A': [], 'S_o2Sizjs7xfsEaDfyFm8g': [], '64dfRmMmUsOdLnkBOtzp4w': [], 'IsoLzudHC50oJLiEWpwV-w': [], 'btyZdQtebHDMbv5zg6Y--g': [], 'cTJjTKz2huGZ-ElScC2pSw': [], 'UcVAkJIpGKnha1dzszep8g': [], 'MApmO7XKMkmHMvBrbrnuYQ': [], 'bLRjPq9-pAdXirAWWTuZzg': [], 'QK9Sy16uWUqEwTPdoKSiEA': [], 'NpUR0C_W-gbMcp0TL4lVKg': [], 'SLOk1JpV0JQK-MXYroDKYQ': [], 'Ycn-l-X6joxbVQzgxjXpRQ': [], 'BEc3HRXw8xSEL2C6e47jRQ': [], 'LcYrqMhUO_TITSXFk_SjJA': [], 'VEe-_Yc1fbEtUjkACEjLpA': [], 'prh-RlduJU3z3ynA5lU3Wg': [], 'tMJzW_ziCt7ITPJaVb18cA': [], 'OJ_b4OTsC3Gc6PAfnaWtkg': [], 'jUd8qjDHq_zLAXVNQ3eeAQ': [], 'YdRSx-i6uidsAO04GRMQVw': [], 'OGRB__fguKfGpPdH7FvBDA': [], 'q2PUogtjncgsNn-pLzw5HQ': [], 'nZL3HK70R-WABMoS1T8quA': [], 'rDMptJYWtnMhpQu_rRXHng': [], 'GzntFqQ7H0o-T1eVUa3YZg': [], 'j7SlrVRgfYG5CyKgrLwrFA': [], 'axZSFXdaJ0KE5auPwBllRQ': [], 'XWfpcqwNl2Op8CrDhCE8pQ': [], 'N-fNRYsykhK6ECfivAvIhw': [], 'WDIlSjqtRZdFkE3Sv2v0Iw': [], 'T-Wp-KUYA5pieXl7q6oRqg': [], 'AECN4Vg8mQJ8enFrnoZtqQ': [], 'UNzUbq9rGMQh3tcPmmxLyA': [], 'd4pXR8yVuJIm6Q3HuRYBfw': [], 'V9bs-9SqhlryOCLy6vk6gg': [], 'fHzw48oryXqdKSBqX9QnRQ': [], '_gnSt_cqn5XMmLuAhTdC4A': [], 'S6BixeT6xkktY3keKSyYrQ': [], 'C8NpFLiHQftMKMPk1y0dCg': [], 'rb9B9v8TJk-sjpJe3BbkBQ': [], 'Ui9-tluBhW5KGkmPJ6QiWA': [], 'ewvBhAgfJi43aZmWCd3Zag': [], 'ohEnmKpF7i2_ujme1p_vUQ': [], 'VyaeuVCRetU_Gq3oJKze0A': [], 'tmT12wo4Z37gUv-ZQTjXDA': [], 'OXbq2xrAN7W15brSAAjqEw': [], 'scj1FBV05NVe0iQxplNNYw': [], 'uanXiHUBGq-6e6n5XwhzhA': [], 'wMCpQoNfwX3B3KfJUfdwAg': [], 'eWVgtAQ3Z-bFRBat8nICLg': [], 'OLqtlmCXMxYBoaz4XOSovA': [], '6yZCL8hSPeKzV0NOLUSOOw': [], 'in2mIbyc9WvsZcROSw0bWQ': [], 'nn8RDkUz0cWLcEhuga4f7Q': [], '1zl-ElImzoUYFExUdCrpmw': [], 'IYnwyLHhMtd1fqMQMJiSZA': [], 's_7ALFRcm-tOYM0oH9kaWw': [], '-MUn9i6htSMJUFXxToaBVg': [], '0qOI8lOZvvhrbtxqjaBQMg': [], 'd2D09qs6bVs6Bjb9WnTIdA': [], 'TqTbwybBsgSVPdLWRcdtpw': [], '4PRIMlOVtl8yvAjNcNzw3w': [], 'BdzCN71GMGGKlpW6nC1Z-g': [], 'i631pRlq0u29VvaMshW67A': [], 'rBWAm5Um6wvCg8b-CyZwgw': [], '2JUDgnmoLDxD97gqmand9Q': [], 'QDvUdj36I_oAzXoFzCQnNA': [], 'UozyHLgexaM6yQJvR1BQJg': [], 'R7Zh-nQfq6RjKnKdV_j2xw': [], '9nTWLlUEn7oyduAYZcw2RQ': [], '1tq2OxLMv-yxhdKLa2f8QQ': [], 'C5bmtDRAtl5iMGmBCF5prw': [], 'a-1KiIXBVx8NsPhXFk3nrg': [], 'sPofLIXU9Ifot1n3iAOZHQ': [], 'YTbKmjGTdn4YzoJXTC1u7g': [], 'kpv7LVLJrbawoXOJNAnd0w': [], 'Xx5iZEAEJOcQi7zaYVC4sA': [], '7DcmitV_vJlP_v_bUKINaA': [], 'Sx2pqHFFerBjzHQSLcxBAQ': [], '9A1s0QM5K-Afv8UlI-6Ifg': [], 'cQUjVqp8GkfCHWvMoHVzUA': [], 'PfSW2cTJyx2-q6T39sevow': [], 'njiPpJhy94Ojq91Bev6ckA': [], 'wEc4JE2NYQr1RnGjGr4q7w': [], 'lftU8muKVhL7mu1U6ik1LQ': [], 'oXB06WbOJJau7MFoF6UjAA': [], 'q4CjxLPsMCAPeST0lcQlOg': [], 'BhB_WwI0TUdacBefXxhGgA': [], 'MkKMmLQGtuZnjw-5GqLwqQ': [], 'X8Lt-PITw7MhSngoy9IxVw': [], 'GqlcI-T5pK17Q932PimsAg': [], 'pEFO_hU3DNA61XnIpVGkJQ': [], '2iLeiQ4OCJVwfodR9egMag': [], 'qD_JdN9HpuuXtJv4C6jmCw': [], 'w3-INmhtrrRQUTsNUshyDw': [], 'DwpG-OUCu9Oj0tk3P445Bw': [], 'Tg3PIM1Ye471KHirDZ0JjA': [], 'HWWARoGgepcjQswLGHdRFg': [], 'xhrHNTlcOadsoBV7d22wwQ': [], 'cg3hmwyf2yP4iA1B67XkyA': [], 'u7vELsRgenHSJaJ4kSr4qw': [], 'hVcnr0TMi500pJvghwnSOQ': [], 'd7S0CLqE_v4fVJLPhY1IDA': [], 'm9aFZk1f8tSv248YErbpQA': [], 'of4V8nfW7GwJ03tLDdrOlA': [], 'SZxNQQiFzvS9qgodVWNcog': [], 'Qx7E8KidXMhsFdm7-8nvoQ': [], 'vMh4madPU3qhNX7P7d8WGA': [], 'YalmY--dRI7hWdKutyyrlA': [], '7D7rEiSc4fWwUZC9q086Ww': [], '7ge2DIxgQAl20_wr4yUgsA': [], 'vUDqNV3RhI3FmZRwS7039g': [], 'p81LV6y6Jxz_q_3HL06jOw': [], '89uU51kOiQXbJHVA3C6XMQ': [], '2taEpRhS7uh7xGZIiLI73g': [], 'rN-YjZLZifa6lIfcaWrulA': [], 'WtmNaLkPsJTuDoW-kieY9w': [], 'Mf8D439Y1JPMawYR7c1caQ': [], 'Oe2ao3ZRRMHJhYcSmkQMmA': [], 'e4iYJVyoUAKlitSnxjgwbg': [], 'OPFoX64eLMA9QZDjOLLVQg': [], 'BNzcfz3jmBo_1wUB5YIsXg': [], 'HdlbsjC-7uQTars7399TrQ': [], 'Yl05MqCs9xRzrJFkGWLpgA': [], 'bVPTxKhjj4qyTF7_43nY-g': [], '1Q812VI7asWrVxtq3BxJiw': [], 'kkXTjzgAOL93TFtz9waTPw': [], '7EtiFdHnoWwvC-8m8ixC1g': [], 'RFj91Y9mk2d824QyD9JTzA': [], 'h3dgByW8kZF3ylAmdLTzBg': [], 'fP8JqPAVh9MQ2OIlfvsKnw': [], '3l5TusofKjr8rk6-DDtuoQ': [], 'qEhTuDSCCMdI8Jj6sD6rRQ': [], 'eDlgbI0Qg_mmI-Osvci0gw': [], 'Z8I0zGeV6hHgZ1fOXmDv5g': [], 'Ko1VahSCJYqdGs-ElvA_BA': [], 'J5lgLvoKPzNqGCGPbznh-Q': [], '0QiXMQroT9V6ByBLehufgw': [], '2pMT5SBfn4oGr_Ae1tp8vQ': [], 'Ue4wtaeyhPKvdkXlULimCw': [], '1_XieTGcu829D7eN_cHiow': [], 'GTuAPBRsM5dVPqPy9oe14Q': [], 'SWhHaWFuijy_KDs0zVCJog': [], 'T9jiR3AoWW0p1wuG1oJZ4g': [], 'Yoc9_4sv6AT1AIohPPiGbA': [], 'JQRXbJ0Z9mvgu8OF4L5GbQ': [], 'BzgeGVOPetKDcgv9FCbpkw': [], 'uzbljimvzaw2IaSMnQHxhA': [], 'lgIa0COVEmsiFI_ZWXn6_g': [], 'GdgGAINCqMXqcuKd2nKEBg': [], 'arFyWH26WkKjGEnh3FNXww': [], 'wJYFQrlx-uRmujWM_IDFtw': [], 'XiHEGZlZGF8xrjxC6iM3sg': [], 'w_w2b_GRcy_R-bGWXZwKdQ': [], 'tK-BU9V_xg4hVGQIrQeLSQ': [], 'eTPKPzuA46lFpiU1wB7fVg': [], 'oSpCbTguOIcpi-kg6xstUg': [], 'Gq3OgSd5KflKuwNJmuWt7Q': [], '9d7N-I00hu-VkXFry4Da-g': [], 'pC_gud_re5rP8CSxOvXdvA': [], 'uZ0C261kg1YgvTMTEmIL0Q': [], 'KOdR30Z-A4Qk46YgC9eKyQ': [], 'PTbnuJ1QqeFpRZfPlwY9wQ': [], 'pr4ZaLR1Zxi7InMCPYMm-A': [], 'Aev0VbDs6LvcQiq_K8EIKw': [], 'fPmq8cfJv5MLp4RESiOnGQ': [], 'y0GZCNHDbFYr6Rjk3OzgYg': [], 'm_72eIu-gFJI8s17AJrsWQ': [], 'uRLjJ_HlvsAKPV6Glrzejw': [], 'aJR1iUWwNVBM692gq7adBA': [], 'dl6IKCo1ON7EVJ54EkIwgw': [], 'hI9DmHuE-hYF383FukhWXg': [], 'BOoEeUitM6gn9t_t8TY3Aw': [], 'SZOvVtg0mGOQcNzzcH6Qow': [], 'DV7ayUlg1YMJTcV6giVwHw': [], 'ul-88RX3uJyMSbLYGHkNKA': [], 'NTfoeDZFyorjhuUXIYkYQw': [], '4P3XUYimkDf8eAfsdVDh7g': [], 'KwMe8zC9UoMXqxKcPYm5xw': [], 'KNm74uAtWpemDnlBLkiU-Q': [], 'aghfBZ62pMGTjgJvLa2YvQ': [], 'nK4PaQEpSXW6-2F_hID6pg': [], 'N5B7OBTyNGgwU_Y2fwNcyw': [], '0Zb-kM0JZ08WCBiCEHixSw': [], 'vrGwjE59kp6Yh_ZlkflD-w': [], 'ROMFVEFKEYi7qhyITX6jfA': [], '8ApG8Oe9-Yh9g_7iB9Nw7Q': [], 'cdPnRYnfKrbeEUAoSJONtw': [], '6P4ZzCdd_YQqncnQv1jplQ': [], 'kCWXBlEURZkBCAYAB5O3kQ': [], '5cFGfnrVgmK-jqQWlq1Xrg': [], 'xP2amtgZImIWoz7zraP52g': [], 'U0gLcUFv-zhll1sxQvokvg': [], '19rzu0wtv24oe7ffxVmh_A': [], 'lwpQQflP1CGJPV7QLybzOg': [], 'Kcgsted5GPA9QZXwtIfdQQ': [], 'pyOHNzoMBJjZyihZPWYtFA': [], 'F8lic8uN9nhbRjEtAn-cqQ': [], 'AI5xizIh3X5yHzM8EvXb0w': [], 'a9KwOmnTDB0tG720lOUn6w': [], '3i1RdbJmqLJOxc5uucarVg': [], '7jVmybJ28CKa3QeZBph2iA': [], 'v44bpuCu4vM4AmD0_2K1QQ': [], 'j_prxgHnMvuRdrGjAI9qXQ': [], 'jOeOyvSpQYZmaTDmBCyEkA': [], '5DT2qxCkXxUKW7z_4kOXmA': [], '4EO19pZecHc3cF7kiEkdJA': [], 'llQfDCKPXBW1-hSb_qUC-g': [], '3ZNKTN4QC5Evf7JYFhWvww': [], 'lhwIw2i5JNUlUBmWRAYSDg': [], 'adTbcC7JgvzYg7AD_Ga-rg': [], 'e_BiI4ej1CW1F0EyVLr-FQ': [], 'sJ7Z2pgCtm6Uz0ddFAiLlw': [], 'eVNio5bnzrLPuebbgnKVzw': [], 'gojqK2LbOCCQhGACXeTAsA': [], 'XOCB-LqFry0n9MC9Tper8Q': [], 'eVsO9Bx4-fty-uTzWdZKHg': [], '-bMZCfTK7fxFaURynKpBMA': [], 'qMJyOW1FdPOf8sli8DIq_A': [], 'h6Y1-KfN2XBkcrV85CS8yg': [], 'QXZ3FZpF_yyEQJieszLaYQ': [], 'Tcpyt6DynUBE0KjY0mMM-w': [], 'gU8H-yYJEByT7b8ZvHs16g': [], '_epxHMZUc0sNH9W8mUCIBQ': [], 'FogTa-wmjhVnJCoTiaxvZA': [], 'kcvA7Dw8dp0XI7xLcwElYg': [], 'wQHfqN3hEMKPg-Z-LArHRQ': [], '0QBFtNNj9RIggZGeivcbEg': [], 'HoRfE-2ry_RKR_b2DZNAWQ': [], '2OVuHRbdb5GTHUqrCqV-Fg': [], '6cf70OiTGqhn5JtHV4Y0bQ': [], 'FqLAZEPEb4HWU_4tP_7mtg': [], 'Qjk0BHgRBslKxV0vxozXAg': [], 'uAgmJQyhsj__iXLriNCWYw': [], 'sWtltZRuYgnINItStEesGg': [], 'k_TFJp2S1W1l1Op6v5uUYQ': [], '_XmJ3Y-yGxG2BENWBnYWVQ': [], 'lB28x7MkztHZ_o-Ip3GTwg': [], 'JMQDqoJHyCCguklrhPQEPw': [], 'v3z_rK2cFteZrLSh5zSqTg': [], 'EGzsR_Tyd0QOaZ6g7wPl-w': [], '_pUKBIOrTPUp7AOr6FitdQ': [], 'h1VTkQnZ7CSb3jl_MdsFhg': [], 'G_mqw9nNYDFkwtCe5Jd8QA': [], 'yZAGhlsrmupLbrgdKm6reg': [], 'XGp0pViQXgtZXpsx6ofTyQ': [], 'XXxscMkHPEdsZtzjesk5zg': [], '9wsNIvDNr2xUZWTy29Wsbg': [], 'q__NSE0cc3bGARv_BUkHYg': [], 'pEW4vERzojY2zMk1hvp5kQ': [], '63CqyrozV7hC0yjufTRtuA': [], 'oMBNvB6tHlwW3UwGBYqljw': [], 'Y4ND9sfc6ZLxRsNIG9PJOg': [], 'OaCjJLSklg-YJ_WEqgCqRw': [], 'WK6uBV2eSqb2wwEwXoFfNg': [], 'tJyXQ8xziSqK7dtB0Md3mw': [], '9E9bnEWYgbnJrJCCAAdWkw': [], '-v8Z3mdbbPs1ljLziHr2DA': [], 'B9rn4K_nDnNiIUF-6_0-qA': [], '67ebdi7bAH6YDfnNHL8xYw': [], 'Td-BWJz63qIsyxWO97Kwug': [], '2v-8QQfMLX2PCz-0S6gISQ': [], 'vwz_Fe6CbA-e4h6IBWBL8Q': [], '7YcBdVbetYRWr33xbVbwVw': [], 'uiXwLz4An0sDK63WnoGwlw': [], '9JyyXlFBHCdoP6TRQ3cqbA': [], 'YCpAc3NdkS4AK2pETcxU_w': [], 's1zfzxSH0ms6ZjpB01FA3Q': [], '0dEUND3rVLjp50rczLIaeA': [], 'QnZ7YUoAJNP99oFkS9IpXw': [], 'HpRj2Lv27EUQql0POE5sQw': [], 'gQMAcDm8kv8ev7x2BshMwg': [], 'eKEGG0UNGwd8AKdEo30t6g': [], '-OjKVujPWqfbQJRg_WcZTg': [], 'chacuCR7OVWrg98KalrwMg': [], 'u0jzS6QgwHQILSVeTlqjgA': [], 'YrtAT1B8aFp5dKNss1ICbw': [], 'KXLjOJbl9VYXFxKT4YK99Q': [], '04YqYgoW2ZztLpxmhEJ43Q': [], 'bsbU2Pk-aacIULmRDU8y_Q': [], 'F32DomX99ciCXRoxJ6poyw': [], 'p50v2vZMfRblLeFbdVcASA': [], '-jqNUkUmbymugmXpkskvEg': [], 'uu43Pccls6kXgIonnRMoBA': [], 'Wc9UpJhOcdSj7olZkz7SJA': [], 'orMlHMLyHSldYgzfFTaeoA': [], 'EoC3ynQcib5NjadaF7_GnQ': [], 'JWsq_5AX1vDi-cG7iMJQCA': [], 'cWjHc-Fs0yXT7q5gCzAeTA': [], 'r2TAVzLLDYT4XgZrFrPZ1A': [], 'G1VB3lFBe99GkC5NKA8qVw': [], 'Gw-ozqLSHoP3BQPKaiXJGg': [], 'adan4r7tHmO0qprpiLrCLg': [], '6ON9B6DsL5cUnPmIy8A06w': [], 'GiDPLKtTfNHTb0koEWIz2g': [], 'uhqn0nTtzcZOe_t2ORwYBQ': [], 'yet0Pww_ouW49T7V41ecSw': [], 'utc3FUSX4mPErcRcoTkFYg': [], 'EYLT-7qniN0WGrfgVwmwnQ': [], '1z2LH6CeT13o1GD_VkK01g': [], 'JX7SfuAc3a56g8LT-tlYxQ': [], 'YPeS5trWlQi_PGNwAQG-WQ': [], 'iQAwmfMPmOaCr5aeahV1ug': [], '3BZIZF3O3QQmfjTYy5wDOg': [], 'uxSL4FHWiO-fr2iae_d3Bw': [], 'R3B_ibZvlrgzch_UkYQkrg': [], 'jOseCpGmgbQWEfX2Wn_TGQ': [], 'TvDsoVbGEGtXBCaVcICKVA': [], 'zf3g45VCTZ8rG79qKu4U2w': [], 'Zuq--l5rl9mI193fC8N1SQ': [], 'G3dMzC98ZiTdPGpynfCJTg': [], 'poslVllAL3wvn6PdNYU5dQ': [], '0I0hxOcOLjKGIBUTG-G-dQ': [], 'rOVuZJfFVDI7rDjzkT-WNA': [], 'wd-pzPYNehT6QTsc1qr7pA': [], 'Jv20j88XllCv1brAnImfSg': [], 'dGb8W42bi3ecRGK_I7pk0Q': [], '8796vXaydw2aY_zER0n9uA': [], 'qutQLFutEyHy440jpADnxA': [], 'Ee_8iRc8jBq3rZunj6_1fg': [], 'lN3hRo_vDVTRGwMXHh0V6A': [], 'bjrPt4DN1r4HpiR0Y8ofvg': [], '-aqb_GgAbEIOdhbY0UDKog': [], 'DKrGFydT_4CrxM7iM2qm7A': [], 'G1hRBgNP116ET-a2TBF3rw': [], 'TnxIkW1evmcKJ4ZBzp6K0w': [], '7BPZTyrureyPA32rnHFUNQ': [], '_PFsCgNBqZJSdSI7gXxw4w': [], 'nB0SDknanRBT0b9HDqJv8g': [], '9kQSV2i8v_MBVN0jKh9bMQ': [], 'krAgdtJ-2CcNGpuwKCbt9A': [], 'xR7srTzHPLGqhAxKwVAyYw': [], 'Qyg-cSYZyMQhSlS8vEz1bQ': [], 'x5iQFVJkFl7fSXC6uVjwPw': [], 'ndXuzuD4BpNIrm1I0nTsww': [], 'iqdZu1PBn9TpAPkHnePDNA': [], 'omKjpmCjeuby5VSkndApPQ': [], '1CqDdPrrb0xvQpgu7fhI5w': [], 'PS2rc8tUFrzKjMxuW-HBjQ': [], '7xp3zCEMWtGKQUD_YNbUhw': [], 'kQVdmKJ7yASvbcDvoNiWFA': [], 'HyzHidtQXC4JIULtSbk3NA': [], 'Xg7gOJjwtzmFGBxtSfOBlA': [], 'qMJCVx6-ZYvZQHlfrZ_cug': [], 'lmfyEVKm3CDGWg18LeRhgA': [], 'S62zTCqdqd8SE02zMdstbw': [], '0e04p30NZeOi1dBKwpXc-Q': [], '6tLL1P8k9drb7MJEVwmRhg': [], 'ylxqmxh2gO1yCpQkIk6o3A': [], 'eZAbJKjEt-siFM8em1l9mQ': [], 'IY09uHwNvznCUDoFZ_su3A': [], 'KeI955jJ81rY2WyaC4lq2w': [], 'y6Daer5X-Uv11AZL0SuyHg': [], 'quBpp-CIt-XWF_4rIsM_jQ': [], 'N3GQ4GhQviglogQR1dPNgg': [], 'uudgwwFZhdWG8CVvmNsGdg': [], '2TZl160uaMAg1cr8KFbk8Q': [], 'HpIiNQwjz6ZAFyf96u9WZA': [], 'I-vvqRaszKlLjn3Wicyw6w': [], 'X6iU1PGjoztDwFdhV4RumA': [], 'L192hPeosT4Z1qRO8jQbfQ': [], 'ZetjAH_4OCEkAlgEjQJdqg': [], '9o-DUVGYaoKkqnCP5BT_NA': [], 'sV0jRnJW3FiWIknm2QhXIw': [], 'K5lajhnoiTXNSkFxjh2Etg': [], 'duHFBe87uNSXImQmvBh87Q': [], 'qQP2bCj8H8ddp9QG-zRZ-w': [], 'qjcxNsGEcFn8Eh4IPjURoQ': [], 'Jo3zRBvir1jpcgD7ZWBLvg': [], '4EZWXsiUxcUNf8QQT2AQBA': [], 'TluU3vUwl5bIiAtFBJI9Hw': [], 'VGmru4jWWUf9ZiwvZBWbdw': [], '-gTX7XKGOntF2FQ1EDxHpA': [], 'IEZRcxLrnMkc7W3q1i7d9g': [], 'hnCd1VSLYdb2-eHO7iB9xQ': [], 'TgjB-wlAVzol6HoDpE8KYg': [], 'Z0ukPkDOC7GqgS8xAMuI6Q': [], '22so15K1aqikL9FHt37CSQ': [], 'hJTjv6Q5JpcsvHaX8Ze59A': [], 'aAIKXfz-86Vki8ValH94JA': [], 'ZaL3mKpmt1dopkq7bdetbQ': [], 'j-NE_pYsRf7UXCevLc5ugQ': [], 'O3fzOdRgcd5UFjymimyJjQ': [], 'j2h42nxjduhAlQBFPMNROw': [], '_yxPEM0oxih1H0SoHJ-k5w': [], 'XgRDG9E_WLEbl8S-QUqQkQ': [], 'EphJxfsA3cZh1SQLrBJkRA': [], 'tbZ-vAxGDlRIp3FWiT4JRw': [], '2g4ZTD3ePNSbDAvh6qAOKQ': [], 'kacZeom987POja3RwNUJpA': [], '8zVmINHYdaAjW_ED3vdFhQ': [], '655WnFHtnVeC1jj3wsREVA': [], 'fziDaaN8xBqCorGNiNGPTQ': [], 'lv8UKx6WzqCAdIakvFZNPQ': [], 'MACOet93JxwhGvlmdojg0A': [], 'a7GomHLPBvkDzmH1D3e8vA': [], 'HpcB3ucrI2kecd7mOVFYNg': [], 'UC8SLfl2dpMd7ZXWvFYAUg': [], 'D3tXmFzqLD3mGzYnp5vp7w': [], '8mqVlRPYzmQ7r4NOPgrFPA': [], 'THyomCEEq4W9pJvXy6YoNw': [], 'KLzY7jmq6tnqN1E_JBkyLw': [], 'DmLGiQ4zR1-FTS52K9_rbw': [], 'I3SNxHwSCuIrUMzCZJy0bQ': [], 'xdg1FeuIFk2XN4Nw-DF60A': [], 'h9ReOyMihmTLg3Z5HbapTQ': [], 'ux6FCssPmLx5LrWzTHvxWg': [], 'UHPjDgiEHnTe7-MP-b2kyQ': [], 'hkmaUwfNQtFAJFpxYOHBkg': [], 'moZpwq1hNxC-uJRpfupOTA': [], 'h301hAHfIGqVYIlBzs5EgA': [], 'KcbFFh7xfBLl2YeXQRhUNg': [], 'OoiYEfty1ikUISbO8ICaLQ': [], 'K-uQkfSUTwu5LIwPB4b_vg': [], 'tOUFYUVuhdvtHVSrYu2hwA': [], 'iAVTUm0uB5Np_IM9vXdKOw': [], 'jvnMR2D-YVtnQWCP4PN_kw': [], 'hgrbo2EvuhDiKvFObqe1wA': [], 'DNfQHjQ5K6XPFXEke9Frxw': [], 'v9EqcuA6eUvriLRwxbxQNw': [], 'dHTGzM4_3kKEiQvab9mi9A': [], 'LHyj66waFlDcw9UToo27JQ': [], 'KYkUtRB1QKrI6Twov98leA': [], '-d1xHUrLRbfJNqd5A_uP6A': [], 'gKcZz5C32N7llrQst4B7_A': [], 'IXUwuNjy707wJNW2U4sRVg': [], 'OvG9pbudLhmLkjrttGvhAQ': [], 'vltL2SreTEeAiI4qLWUdnQ': [], 'vsafIOqyblej4784tqbUhQ': [], 'qVQGfHphxolps16v6g5X-g': [], 'FXey1ApX0199E5TmNqQjxw': [], 'W4LRU508M_TRjShk8lqVyw': [], '4Ej5FiDtDluJlz4O6pZkDQ': [], 'o9IvrLWtTt5lCYqO-uiJLg': [], 'uWTTj8q4FVRkXgGHOnfVSg': [], 'lnOM8PJcdJ2QSI2jZJtyQA': [], 'Hr5h_LG9TMBLlFz_Oici0A': [], 'UPoM5nmUiklwqBV5pLuK7Q': [], 'sVHAdRWYLXlnsNw2TsdwxQ': [], 'hbQ32n6zK2NHraMh2yIFLw': [], 'coAdjIJ7Xomwq7sfHFzxKQ': [], 'qRUEQowj9yuV-HFwm9wZXw': [], 't_J_ykCkOkZPlmlJuDnkzg': [], '4Bh5OYkvIlnv8dxNOgI5LQ': [], 'e4-Clr5QT4l3Rf9R7tQ5aQ': [], 'vULqJE7EG-k2I2tvXljLNA': [], 'o-MrT-9kRK23zWyfLo2EXg': [], 'ARWLV46iIa3Dvt1y8-SPpA': [], 'DHwG62oZACWX80Y74m1cyw': [], 'Rf5v-eaPnIklcRellQ7TVA': [], 'ylC-mQfL-eAiuLmAGZrqKw': [], 'epWUSVMy4iBNoIyoymTt_g': [], 'OMV-pNZWEh9BkoYB2KNNVA': [], 'GoMlPsj-w62P58ZjUPYKmw': [], 'uUKkVTCN5_qzNo1YVXMnZA': [], 'dqeUvrlMxTAk0VL2n1ukaw': [], 'H8rjk0XlGSaTGBNLrBLhXw': [], 'Lfo8OEUIcswnMLIAXpFWYg': [], 'bXp7wcwzfH1B-BMdT8hwPQ': [], 'Ct4daXJf_1yzJukZJeq33Q': [], 'GGdRtmvI2CbRRlk93ZbO7Q': [], '6pQ1DpZo6zygNc3qTch-iA': [], 'qxNKPJfuklMxwPbkHLHeWQ': [], 'neO0lOx9YE3r7SvVkmpS8w': [], '8xyRFdmF_9boBaPx0jBhHQ': [], 'SAlsmull2aSqBC9JGyuqIw': [], 'A9aksp-YGK8FsCN9bXFLrg': [], 'p_-fGCrpUQZXSO6sGAs6Tg': [], '9g0JuC-_vx35T0m3lidwBw': [], 'H7kB4p-1BsbvL522cqASOQ': [], 'czhels9QL_TAAtLbBtnkow': [], 'OeY-NjAa4qkGYNixR7XEqg': [], 'ZaXZQtOwrN5BSoydoiInaQ': [], '8oVyhkGvcFd_pXwvxOzOxQ': [], 'NcUKtTqTVwxDxQV7lbHNMw': [], 'eG1qXGgn0g9clJsfT054Eg': [], 'yJWM768xijAw-MmlROktGA': [], 'cjxPOPcFkpq0cspQ2cHL8w': [], 'sZhUzhhj_83lgZFYzMsSfA': [], '2V5ZcFDQzv1MN-31eMVhZQ': [], 'jMPPJmQBBa3iRuWbYbj1Gg': [], 'AFgPDQm_pczo5uV3yQBgwg': [], '8dSKEPQn0pmZEmWTKZI81Q': [], 'BvrG8XMpTtlJYWhOCbnpaQ': [], 'O5jWRmilHqaW54ChJh1oFg': [], 'zLC9OtK3SKAW_g6SXijr4w': [], 'itZvl5FsQrusADIKnktD4w': [], 'Hv_F1yErD0slkYCI1V9SPw': [], '70WDApYtMcLlrnb1EUW6fg': [], 'gWw-RBW_xWyGxwf2_D53Yw': [], 'lsKv0IDdj3c6Y8bT6taxSA': [], 'FJDfjRKQU4vLOrZhtFz62A': [], 'BngaEGNRonNnd-Q9PiSjPw': [], 'NDnRT8QPfDUq35fyhvOvCw': [], 'kA16kUvlhuZNY0QofQoV6A': [], 'fB8bcO-lu6Nx2SyqSbDTvA': [], 'A61Ra3kaLyL6EW2eErEprA': [], 'vp-8nf4e6UdJBMDL3THuKQ': [], 'mfQlXkeNhW1vz_1iq63mNQ': [], 'MrJm9UOEVOVzMHuxNyh0vg': [], '3QQEc5QUP-h6LCkUZQEYQw': [], 'i4lr0CSppvtjZAqqlEKekw': [], 'G1bWHeqr1nkFuEpT91B5zQ': [], '7pGWy3mR7gjMSE6x2njqPA': [], '1rebduwtmrHQhl32djRS7A': [], 'UywPvignjHoj8ipT7l2OFw': [], 'OIalqVuYn_VHFt3pVEsQFA': [], 'fckUjXz1GKpafT4x7-MVJA': [], 'sSpZSUMEbg9uj-Fkyw3Tog': [], 'eS8OuIk6_fMNNslFnj8noA': [], 'Y_SIpYwL2VqsCZ4AqmCitQ': [], 'ey3i64kDG-91Zqz6LCH14Q': [], 'Mx8NzQJYOCA74eO3Jveknw': [], 'VPI3wxA8O2ITnt43BbhNUg': [], '6nmlclYyyLyH5EGLUpsmjw': [], 'Nl8ph70io2a8VD6R14dIag': [], 'rgTcICdtCXoNXc71Z7-t5g': [], '8C4R3FLXERdrMtiD5YdLYA': [], 'IsyO4wTJWY9dy-Iq0l1EiA': [], '_qKen2vDGWw11k71ibJ1Yw': [], 'EE4nfMjmbE5PIG12UsustA': [], '65r0LP3I5sWH-1HXM6eQAg': [], 'Pg-KfFD3GcWDtJv5J3yvmw': [], '4LB4xtFAwfvJRachr6Eaxw': [], 's0UcfGpvOwoGERpvMGSi8w': [], 'mwN2qe93QNCCD9fE7S4BzQ': [], 'UtllsEfocRVLB36mR2pTzg': [], 'ftBEUG9M2x0j4Pm7APaXBw': [], '89Tgq6_T1m8CQ-8l_VPcDQ': [], '5KFXU_1XOmuCs0IuA2lTeQ': [], 'MTH-AcNyWfsBa9sXp04HcQ': [], 'YFqlMM1tFn0C4b9aHdzOgg': [], '3Ou9p4zIJg4utQh7MDgKFg': [], 'odVKlMYqb4FHJXManv-VRA': [], 'sgyc0SN3pWJWTYc9w-PVmQ': [], 'frCxZS7lPhEnQRJ3UY6m7A': [], 'rca1HN4qRsZfmpxmlFWNDQ': [], '_fN2KAvWGIu54iuKMT6neg': [], '34VuBMNaG9nJiyqsnoEgPg': [], 'WSmOu-JNHfVxvisIWAvL9Q': [], 'PBEUEK39haiJhQzuW4tnYQ': [], 'ZynSNEGuPvGCj3eYIaLPlQ': [], '5o6qOFzZ4NrJ6bJ39ohCtA': [], 'OY0-hYJ2q6WiAqhYnCZZ0w': [], '63bHLJUomC22Xdm3IjgBtw': [], 'mVihMz8zC-MdRPEgnMso2A': [], 'E3Me0W-WFP7HuZ3MAV-Hdg': [], 'mFmmOKdcwFrDqXKaew0ahw': [], 'g5GmGz3ijQOvuAJhbi2-Dg': [], 'qzPTUBluPVzpWTqqTLGwjQ': [], 'v8tPv4yFiZMGot4m9_EefQ': [], 'l2VC3UR7XnIwJwfIj1OPJg': [], 'mLj1xf3Za6PAoEYsddOOOQ': [], 'QfG4JZvFoFpRbAxU2Fn-UQ': [], '2xMKHQP1TVGB-_62gDOzDg': [], 'Gmh2SLoBqRfGd-DbFdYiLA': [], 'hfuuuwuwqe30kbZCZH2s7w': [], '1r9lpt5r9l4uJxLLyt6QBw': [], '70GtD32xaw1_Rd_sVaOEnQ': [], 'vk-H15Ags7RQo0HiohTUfw': [], 'UHD-Mpx3hAl4ZRaU1E6-hg': [], 'N_vTAGopSKo9YceOyJJC-g': [], 'jo1lQFFrqWS5HgOiyP6_sA': [], '1LG6qcTXLCCaZmIEHwSDeg': [], 'wzKapkcKZRz209RI5LZyRg': [], 'xiRwveSh0L087aiQvB8uiA': [], 'ac81NKKaA0Wda9TjOQbjkA': [], '8Vpfy_WtcVvZS8Wfz7JQJA': [], 'jgmKcZsgKYkTFyYIabL3Sg': [], '4dw7ev_MWCgIlK3S2xJi-g': [], '_7FdoBvlZH64Zx52ISc59Q': [], 'wZ3MABp8WcSHfZrlEQa5dw': [], 'wiAZ-GXNPCD2LcCQbysSNg': [], 'RUJymwuG7ICtEZpXLqJpUg': [], 'RG8487-T5dZii3f7APO64w': [], '1JpfQCgLnmz6VU00O1XIPw': [], '1exA6nxqk8hN_mkLqUrmlQ': [], 'UXlEtuFrMu4YZKH9M2DRIw': [], 'G4XcXQhdS9Pt39bVDdfVCg': [], 'ObVh93IU4txSi9LJXFo2eA': [], '9ekvSQibalBglJH0ekuGlA': [], 'cZgN81lyVLT-Lc-Tm0Jf2g': [], 'KYb1uDE-knfgYf_u7mofaA': [], 'CzGHuG34OdBugbMLAqi9Sg': [], '-LCqocTepgGRPcWkVYYSYQ': [], 'DgZ-pZUo3drzpiCDlDr9IQ': [], 'hTsZSiftorNUFb1VaHCHHg': [], '1mevg35inXfWjQKNbBQGKg': [], 'gHutuGMMMH-5Qv9DbemLFw': [], 'v_6nTF9bTkDcsh1dLnELMA': [], 'lvyavq4ujrUVMG1pbBCi4Q': [], 'H6UYKqj0iO_hvvlM76nh0A': [], 'VSX3ixrqQFwwGBUf15s0EQ': [], 'mKf7pIkOYpEhJTqjw4_Fxg': [], '5oeiMlQFtJFZV6H8qatznw': [], 'uhRr9pd4G92YSb0panmmww': [], 'bHqJQxPF-VL95tjAUYtK6w': [], 'Dc7zk2Vi-55PNAX5KRoFRg': [], '4dj_57joI0-R9RbJNOTEpw': [], 'ZW1ckLKGJqoBM5fuoBf1bw': [], 'hjt03bqflKByrRczYDjVFQ': [], '_DPJ_PHJnXsuhYhsgBA0Xw': [], 'ix10sks4hVvv-3Jb6sKjvw': [], '5cE4IXLzN4-MmQ4NH4ubRw': [], 'AkKZ8bK9KoRUlAU08X9xrA': [], 'VuEDZE6b_ed_iHL-dCwzmw': [], 'DbvgZm5ZKNqqTFsjCEPHmg': [], 'fK9J1uzCHtmMjSHDkSKh6w': [], 'JEQaPs7jNT1M2os9lJDlUA': [], 'aNYunG3j5zNJ4F0dQcZMyQ': [], '1tFY0vj7pT-r2wVBBBrOOA': [], '67Dl9MQcSUNU0OqgsaFs_w': [], 'teo01Ceud4v4BcaJcJ_67A': [], 'pup46G8qFBG8695RtbQNwA': [], '-uzKpTQrUQMKpNsAk24adg': [], 'rxU6LyoSNK6Oc9IFhKFWHg': [], 'fq6O53rLxzjUjaYNhx_95g': [], 'fZVkbNNWjMxuWzNi4Uvufg': [], 'Euyps8inh2sGzit7_JHZgQ': [], 'UurE194rrdpdSllt0cVZxQ': [], 'JRo3APL5f4-TEkuI-SoDcA': [], 'k_RzVXWifPMHPMkLcJc0nw': [], 'M3T27BG0Ykwn9ILLSWUZwQ': [], 'AIBdaw0EJ3B7wZLb4Wz5HA': [], 'zqXHlfyxIeF67Ah5bXfUCQ': [], 'gZYt10Kn-eHpo3n4lx3iBg': [], 'zKRAIVLNmtLsiqjYT2XAQw': [], 'oCuuZyXaEiS8lgQETaTUfQ': [], 'HI56ArpYEbhEUeRx9Curpw': [], 't5nyOtnEv455rShOS_g3RA': [], '14O6gNqpd3bcnIAHPFT58g': [], 'xez_14jNgYFla6ihTxw4-A': [], 'vVzS_gSggsr7JgciYyZqrg': [], 'Sy75QB18Sv-xNp8FoA8KvQ': [], 'pQSn1vvdiZ3oumWjE1XUKQ': [], 'a6nZdebWiAZ97jync-vnGA': [], 'u9u-E8blEuyEGmtfeLA6Tg': [], 'nxM6jNyKDgAOh7MAG-VJ_g': [], 'mzvOKS2QFKGIMFdLusbjQg': [], 'CIU0NCEOof6qF6AasxUvTA': [], '0zTLMQOZhiCp9GFtegiFsw': [], '7qgKHElL4ISmeXGtnUk-6Q': [], '7fOZVdXQfEhZkZ9ZOcHOjA': [], '2EOVGOtbLpkZB2tdRg9yvA': [], '2_jWcWOew5DA6wR7_eH36Q': [], 'CKIGXGlSweovWDljQyhSHA': [], 'D2rMh87OABk4D6ciXyg48A': [], 'jsRZ2d7kH6dYe-o4Tey3lA': [], 'ZMgBp4XmiEHYAuXKbe1hUw': [], 'xjjxHavx4RIiW6zS6rasGA': [], '0TBTV3q6QXCn9vNhy3Xi2w': [], 'juuueB_U4flmDep3HJru-Q': [], '6c4AW8WTpTA_xZYOrJx3Eg': [], '6ySrrRnMB_vb1oTroNFD4A': [], 'LIjLOrzL6Lbb_axlF2-9Iw': [], 'FVgHb9w4pnkRBV5bZYJaZA': [], 'UCqWJWovgeelP1OUI_L90w': [], 'qL7oHKdDd4eM2NIE4SFYAg': [], 'edVx0QuREJXwkSrodkpszQ': [], 'l8k4gOEkfoLKq0mPVWHWGg': [], 'QDe6_ZK1AfEVT_bnLY_X3A': [], 'zB4TOI3Ci9BOidw55TREbA': [], 'Wb6Q0YVcNghQ2w20hUYRoA': [], 'e7ii4a_E8lm2uIU2AQrNAg': [], 'sm_GANEfgouoVPsNKXNzDA': [], 'rYI_Dvw8ixOE-Hud-PWzbQ': [], 'Z-graJvcYCSOGWRs3bDzLQ': [], '9RSgLa87uZTZKdTvxy2qyg': [], 'Hliq9wrI1BcR-xcG_C9_Qg': [], 'yNBVOKSZN_AIjSJdhF_rqA': [], 'dQZOCI_IIxrUKPnRa56yog': [], 'PcEh92PK4vmbcDpPcGrsWw': [], 'l8tSrCIwIyRMBHUiZ9By4A': [], 'AS0DHJWaQTw2C6M1u6nuuA': [], '1HnYxHZw2icWQ7-T4AmQ0Q': [], 'iEDH9iSMA-VBA2QKN-RvFA': [], 'sJItc3LbW4Edp5dK7T-QHA': [], 'QBLOdeMk7pd9IiH2zu79Ig': [], 'JJJA-y6eUQZn55hmEONo5A': [], 'dNDAdeE8olF4eZaslNtBZw': [], 'lpYFsXFrojiBZ1kbWR2lZw': [], '46wGC_Xek4bWxx9dQvtlDQ': [], 'p6EUf6c9GCfG7seS_wfFyA': [], 'urkODQ1jX0qQzgbqsQjWVQ': [], 'GUsYtGG557XKlHaMH87erg': [], 'be9rKxQpRBAARdlEqd2YQQ': [], 'kzuQsq0KPWLeKFtnLXXyHg': [], 'BQHbrLQVB6l1GqX93JIQ2w': [], 'SScFUJimsNJebOA8zYZjXg': [], '-_hk47bgWLbX0SfvBUkoPQ': [], '5Aa43lrbSNCuXHz1Vpt-Ag': [], '9eCMqkVa3E6yCiTmX21KqA': [], 'uwDyxK92ae5kNjeZE8uCgA': [], 'mfBTgkK84bsYTC8xEkuBMw': [], 'lk-UF5MrrRt-nKCN7et60A': [], 'rUgLG2CzPi26e6cMUjk4kA': [], 'ZO2-nQjKZBoZUSOzJb4CUQ': [], 'V_jxQeTY-HU0KnSp2zmHtQ': [], 'AfN3Z1U6QPEgAb5F2CQm8w': [], 'bS9FdoDvInQe9J48wNFCcA': [], 'yfOZQbWGYX2BaGa3VLkdZw': [], 'H9ZYzsVPmjeV7lnQYx0MGg': [], '7Gn0NmZIagfY7JlfwuEJnw': [], '6025fo4V8Iw4e3x91HnXaQ': [], '2F2xrnxCJ_WdXfWGxJcn_g': [], 'yjUgQXvycpnH9-lfBA2sgA': [], 'S4rayoybNSbkmUBpozG_2A': [], 'W9y-Bl9030-rmfxSTmUD_g': [], 'N0XLFVLBqOhRAOMjTVlpzQ': [], '2Gh1Etnpn_BDy72hOXmCtg': [], 'UOJzdIik4wgcy5N96RWtiQ': [], 'XO28ajVNjXt7MLgWuaDLDQ': [], 'QjZQHKP5l_CfX_hM6dh0mA': [], 'iUaxM9t-ZcdTjI2Zx_3vEQ': [], 'atFz8sqG_9ZxRa475tYhIA': [], 'ESQoAgfEMZFE7PQN-OKLMg': [], 'EmK3X8lMqX9MXQVjLenk8g': [], 'UjuoOwDbUlzLGXefnRv67g': [], 'dDfkHPMICXOaBXQ9RhZgBg': [], 'kM-wUXUrcsTHToIbK0JBzA': [], '1ZgqJjtb91E9tOKhKrzsuw': [], 'LIxNfkk9vgPikLh1W-5f8w': [], 's2gjJKptpkmwSXYRtfptZQ': [], 'MvVCSyFIpmKKV8URk0HWIQ': [], 'jVXa8Qzn5BehtN2iEVJNHw': [], 'XDoS2eETLrG53caNkchd3g': [], 'mz48xdVWcCu463U3Lm7lhA': [], '-HfeXGN4O83x8P4rZc-_kQ': [], '6kbYT0iLV6ykrIgFTmhxWg': [], 'jCg6MSfu3fgXxO2QrpDV7w': [], 'vOyZkFAknjVg-Fwye3TKaQ': [], 'gHXnmtEZjQYQlRPsIlB1QQ': [], 'RckeGBEPQpGv00ivf6tcgw': [], 'BWgVrMV20K2o3pIH2Ff-Iw': [], 'UnSMKhKjMzq69-B16feY6A': [], 'EUhjQecCVsyxPXE20DFsaw': [], '63dCBZQILHR-QogyKXnvXw': [], 'X719x5ADLJt6NaohjjLauQ': [], '1kfUwCNufdkEtxOOo6CDLA': [], 'dq36AQPI2QsydKLXTnzb1A': [], 'DSi6Hs-S6PEqc4FYtZjsPA': [], '5OWwRvNovyRg26J4aP4DTw': [], 'zZJlMZ4yXuZ8K9XC4x7SVQ': [], 'x_4gEfC25uiX21NyYdohgQ': [], 'JlNeaOymdVbE6_bubqjohg': [], '8WA2kwCm7AEcDPTJaJjVuQ': [], 'ElWzx5_fU8S2G45OnM-HpA': [], 'Aw-Fkzq0uDEHJJZ0xBdOwQ': [], 'onqVz9FhdZCCwCMrnxd7Sw': [], 'WScGH9XsG8-XF_HLqviAgw': [], 'u6xb2aUAvX6i1WhsQWqgWg': [], '4P6hZh7aieaZJXShzP3JQg': [], 'BA2tYMpTHR3i7X-6qtcWaw': [], '_1K0byFFTj56xtSm94qLpA': [], 'Q17zQBhfq9AKmvSmhDhjlA': [], 'adnAevmPxjh9MtS6e4aSbw': [], 'N7lORuPBMf8tDWqKBeNZ-Q': [], 'pYCL6rjrQ6_PRLaE5NmKNQ': [], 'x60RbvQEFlvImnqzuBVk3Q': [], 'kVXq3urVLGynJiWOiDyNWw': [], 'iT1iYGZz16ZPuuiolYT0yA': [], 'KtQk3PNQnTWCLj3t2b8Heg': [], 'KZvG9gUOMnbCFjzN1JTREQ': [], 'ZOpiqtjJlcC8-VctNHE8xg': [], 'f2Wy4u_OpFcfjjHA-8PErw': [], 'npVGM0e3IxTn_pILRA_JQg': [], 'h2ibhoNQP4kLssMp2OuzLA': [], 'wJKTZXmoSO_4oGwbKfF4JQ': [], 'f48ilIDSfNyIJFuTIayBhQ': [], 'Re4lbcGNpkWduWDDsCXUbg': [], 'g7EXpsDsd-xLQVajvEUnrg': [], 'KXGkJy-s9W1re2sXqSqoiA': [], '3fBafEQ1GPpfF2nT6euefg': [], 'gkIyPrNGpF4EGqoYWe2KBQ': [], '2nbibYLTR96Nr2nk-1spdw': [], 'JO_hCJISMK3sz_RWhg2e0A': [], 'R6cWq0FkVfV_Ee-YttlPyA': [], 'kpsi3RgqZ7D54M5T2hINJA': [], 'KcU5W_kkyigHHsUO0xiFSA': [], 'vMK3AyqdutemhwujSTY87g': [], '0jAexNHRHhkQv4zNYqenBA': [], 'mJYzopHZZEXVJJrsue34aQ': [], 'ndl3BQSqCnf16YC3CaIQUQ': [], '6yweSyPYdBMJd93_pGA2ng': [], 'UZJGHaZ26JQJxuU4u-sVMQ': [], 'TB7bScfRFBJehXSu_1MMSw': [], 'CtgkC2uKfncBLlCPBeUKvw': [], '2IHmggMLM-hDq4dFmwgzDw': [], 'XTUFys7dzAA3sO4HXWJavw': [], '1FeFPuj5Q1FQb7sFs1q6zA': [], 'p3JG2He3UptGY0eqc2YX8g': [], 'waAH29UlzfG1qcWNNBGDrA': [], '66EYUS3iichq-Gn6KjgX2A': [], '6syNyecOEcdrp1Q7gv4XhQ': [], 'lAHMg3pbNUqkHbvclEZ0Zg': [], 'zJGtD3y-pAIGNId4codEEg': [], 'gPc4tXMS_wt4g2yVUmco8w': [], 'PRbIMseOwPCCRv5C4SfTDQ': [], 'fg69aogbeD-GKjmr_4cN4w': [], '5Eay1KNn13hP4GHz7ATKEw': [], 'Zt4ljpwfmBufatNM1zPNcQ': [], 'cywRh4EC7mly3jrBjK9zjg': [], 'o8uCIT_YDDDr9KExfSjsUw': [], '0Rni7ocMC_Lg2UH0lDeKMQ': [], '0APoSOeTTSLl5QXZWBlFxQ': [], '7N3MyhBXZxT7vK9bvH0lfg': [], 'nWbYvXpikLfAh4S6AkG45A': [], 'ScZ6USN3-uw9Rb9Jl97_MQ': [], 'Rpdq7PHGvpSWQcYwuHlgUA': [], 'w0LeOKb-m5ugU-XFhQN9zg': [], 'eyU4hQOMAG--PUFK-lihDA': [], 'fXqlzAM6PTXUGrU4y33LzQ': [], 'N8ytddhgHRxdUoVhP-lrsQ': [], 'jyZqmlaziZKtPv8AVTzciw': [], 'd1g99-npBycSRnz9ZiKhrQ': [], 'yP1TBPIe1iRFzdKFJUTUsw': [], 'Fll5sCBsLpwpss87z9ikQg': [], 'S6TMBqrsi4PLRFoQFPScjQ': [], 'JpXZEnGYnJQpfwkxy7sMlQ': [], 'JOGxap8yWFhyvai88YVezg': [], 'zo8hCKJPpVTFnhqj08KInQ': [], '_MGHIRcj3NBE5esngtHz4Q': [], 'MhPYEJxc12CcQ4VdBCnyiQ': [], 'iAm8n7B4Z-EGpCEFw2UlEw': [], 'm45sH6c22jlIS-a3ZjckwQ': [], 'Nv1PVoMJjKSutxCnGRYbnA': [], '0oSWfLMJZnl2HhOc2lQb2g': [], 'cAVBWqSJt08hAz1W5I-d2w': [], 'sWeVNiPulXsD8PWhEtn9Ew': [], 'whTqmbE6OzlJUhm_vMtKqw': [], 'uVxckFsBlewiDoQgpOafqA': [], '5_PpFtjeLq1seO84SapJWw': [], 'o6G4oW_FnL1pgC7fu4TDiQ': [], 'k3usuzYs_UVBkSgUbmthdQ': [], 'wonQ-ZsUKzCMF9Er3uGF8A': [], 'x1KYj6p88WAcBxNlj8Ky7A': [], 'jziUCL-ivgSk_taMqGcGPg': [], 'In1B_y225-bJw3jfbk1uAA': [], 'XhdshlTyqiLVMpCYt4H2QQ': [], 'xdD3EXvF_p9WUiwwKpol_w': [], 'd6CDmV1xLFN_Jd9o_rZrKg': [], 'RwlaFHBbtXbwBkt8Ro3Vag': [], 'XN2F8TWEEf_ZV_lpAuP7tA': [], 'Q4JSuYfgE7JdbFe1yG1FLQ': [], 'mJFdBXviC-1YRtY51XnS6A': [], 'sLoiCCLqIkYeOguHGf0opQ': [], 'eyy4s1k5hne3UC8cF_xwXw': [], 'b_8jCti0vuouJ_fjZpdmZw': [], '8ilPpIx-0NvIv1GdDw2Naw': [], 'ZP7U4qUCMjIvasWV7a_mgg': [], 'lVN1516THpVQ7NtU7f-eNw': [], 'S0DRkPCiMRmMtIPVM54FRw': [], 'QE-4mqpyu662SKtWJcn0WQ': [], 'WvmdokJcitBUM9GBZxIlGA': [], 'o6s39LHk5pxz9KM9ySgHjA': [], 'yem1oUuZGl073Dlq_dMKIQ': [], 'X1S8u_cFfBpdWfvQBo_BqA': [], 'GGBMDHJGwkuVrkYcedJpmg': [], 'duGlnlkRM1lGcyDTwNxtjQ': [], 'CKDgpu4nnyeRb5DRYC_bPg': [], '5JifhqP87SsQwS2HTukMFA': [], 'dyEYOzQmtIcP4hXvqrvtdg': [], 'fkfVkLnoPNgVddCy0A41yA': [], '-L9JOKcJw81Rxy5n03yqZw': [], 'aIZQF2UCLv6ru-zsPK4H2Q': [], 't7qvPH0G30w6xX5Q4lf8Jw': [], 'BWS7gSVFPTbQw_FQXzO4og': [], '8J55FMsOXei4Xh1jHSpElw': [], 'TzxDUzUFigMZ5FQGeqraDA': [], 'DymZ5vpm7vkSsR__-4sflw': [], 'EwldVuxL-KJaIxxi2FApNw': [], 'HAcRdfqNaIu1Gujz08gCaQ': [], 'WrkOKBHkRxhBVpX8qu7zDA': [], 'Xfod0UWr_9B-TOM6qxVIwQ': [], '-ubMwuskT2uS0GPSZpxaxA': [], 'kImf4ivgHInr7kTTJWaVhg': [], '7sh1qDlGo_80zpJfFrnb4Q': [], 'qCOaN9Tussltr_CQlv3lQA': [], 'g8IjY7yHdhlsFiT0VZbpVw': [], 'XPgurhZwZgNAwHcrpoe3Zg': [], '3aKmNE2coy5YLBCIu676og': [], 'lHIUPJMTyHyA1EV5_GRRXw': [], 'aGcakkiWYvtuGunL1YOGew': [], '76u0BfurPWxXTEUdkRTefA': [], 'You1TBLV0vNLzYddTR_9Ew': [], 'Zps5RW0brl-s43OvlCgZAQ': [], 'Px4jJPkR56noH67rTku8aQ': [], 'E98oEva2zB3IOTQJOontHg': [], 'ZaMY0vMwnpx-kbAK5ROhHg': [], 'V7NoWFOcVZAipxVa6bMTaw': [], 'SLshpwfoPleOAwBZuN6n7g': [], 'BngVzrOVcYoCTmPT7CpIlg': [], '9mLpkJISzg5G1ImVqqe2QA': [], 'l_Rb8er2wpk4_TZ1R_3sHg': [], 'jOMEYEJPjoGez8o4HliG_g': [], 'e1E_lrNhLP9RGLmMa-KIog': [], 'YST448LplxH6SMLNq2vsOw': [], 'AAmOaEiOsUXwLyQOYowUxw': [], 'ewAu6BzXCKEcT4304F36vQ': [], 'xpmlQcgvRcIdBch7GbMu6w': [], 'vM92DKxz5XJGm6Q5brHuGA': [], '93E1eOQ2bQG0OyIMqdcTvg': [], 'aeYMUiOTCwHA6xDsZgUmcg': [], 'IUTU_8qM7M8j9A1TbmMjYA': [], 'Ytj0gEttgc_Hi910HjY4Iw': [], 'k8a_k5Soh4HV4g8ZswSFpA': [], 'ahMTpabuoVzSpZhQjKfzMA': [], 'vCRgJTNdWcKuN8rxjvo8Xw': [], 'zHAGfBguJRgwEiAQG8B50g': [], '3qYAQycES_m9m6B_tr3j2Q': [], 'oJCQD8oga5XL3V8wCZh-nA': [], 'IJzt5dKeeYbHcHeJU3vjJQ': [], 'L3GembWftrl1czLA0xsthQ': [], 'zCUxL3tpQmhMla8zSAOgYg': [], 'ZQ0CBGI50UsOq2BZe1WIHQ': [], 'Dkg_c9Z7XiCztec5L8mpdg': [], 'QdvROupQvDDQIaHrTGNgKA': [], 'dhFkEczL05Z2kbrNAPRViA': [], 'f-7sTbx8u7c9t1-r_Fdoow': [], 'b1m_PK-ggGR3CmBjdIyqkQ': [], '8N5A5jW8sTG7ozGmZ_uj0Q': [], '9a3DrZvpYxVs3k_qwlCNSw': [], 'wk49hcW-f1VZG1CeWBzCMg': [], 'jD7tkMdKp5lwGSuHSChx_w': [], 'AM1zdle5q0H1ocIGt7S5Dw': [], 'sGZg_8t5I5WopNwsW7riAQ': [], 'EU83r5yrRw3zRictM5eO6Q': [], 'gSPqD1DR3lzgoaifIhdF_w': [], 'Dz1mxhxMp3qP5lnOKwY_RQ': [], '-K3kqmykKlhlB4arCsLHOw': [], 'WzVFBhckDWtyFUfC9o9bGA': [], '1AzdVNJXfHRSSaOIGTQhVg': [], 'xlz4aHKAPT_jHMIUpxXmUg': [], 'cD9Unn6ELSONeCR2Y6Rgxw': [], 'vYeSTLvRuTuWoZV6tmvAxw': [], 'bezKOzBPzlnjkni03UMBXg': [], 'ILZfAtetYvpp0r0Xs8SoHQ': [], 'yoHRFCn5y9_rn9n_BQr__A': [], 'VoF-J3_6u2E1YSZD03CtmQ': [], 'umxki_So2--o08q9bkXK6Q': [], 'IgZT2YjWt7GAu-oIMSMrVw': [], '0cjSdDntuRKGqt5ek_QzCA': [], 'E76_mqFt-ckhIDFvQghf4Q': [], 'FOQVf-2qDonHgsmbLrADUQ': [], 'qwt9fL28iSpaWyF5pgNd8w': [], '8hsbbZQLP1Ru7DceBxLi4A': [], 'RZNqyKU9b0DWohU50w9LZg': [], 'kj1p6NwUGROOoqNySf0I1Q': [], '9K4WIS_4L94vkExuHcc17Q': [], 'nj2_W-KPIerjE5M7aRL2-A': [], 'h8ZB8cLiPo3x2f1fZr7e-A': [], 'Je3Vs7edFgXpXeVag73p2g': [], 'FWlvgWQVsPrd8dFp6oBbsQ': [], '4STzP1q1uM8ONkKookifsw': [], 'Iq7NqQD-sESu3vr9iEGuTA': [], 'SSFI9syOoz84W9UnptYEPg': [], 'UC2J3v00-n8WE34BGs2HEw': [], 'AhPmh0NaRDbEYyhd9egzLA': [], 'AMkZ0TvxfVZfTOHuWTUaTw': [], 'V6X1T1DdfUVNIk3AmispDg': [], 'lpG4o7jM0YcLCRvqDBJcxA': [], 'jBPjP6mDHrPR3hUVdIs2Ug': [], '1dX0u7zsjizDvatHEutHdQ': [], '5sqC0kX6lBvKR983T_EBcg': [], 'i1dyYv69qmZkV3-ZvyZ_cg': [], '8EvgKu_VpVXJ0KUvrxS7BA': [], 'oZnXZHrRAOzVfdopPp8KCQ': [], 'O00LTi6SV8vCVND_8k1YVw': [], 'TkXbFJtFCdM_WTLkHa6Erw': [], 'PWsaOG8AMhW9tJMLi7u_sA': [], '9XkK3G5juzkCeiQn_99V2g': [], 'khxjYMwb_V8UovvwPVhysw': [], 'DZsA7BXUnQyi0f7HXYcuiA': [], 'kTOkG7nkc_mIEzGqyPoFlA': [], '57dbqYYLpyvTH5RRKkIWrg': [], 'GOE47b3LYDpjKpFRAUsVNg': [], '1-EjdZhVZFuNG6ReBS0rvQ': [], 'FIr6iGroJz6OP1m9vo3f9w': [], 'JRZS6COIpVkuXLf0VayFWA': [], 'OyKnPzSQUB_s_qET9ul1qA': [], '3fs1mnE8iZJGgpezaFHaIg': [], 'KtByU3UDMR19himevLdzqg': [], '_OAtYMzu_oOf2-HGVhrHVQ': [], '1BzP4ECa0WRDbeVTn321vA': [], 'xHb5_BHXg9ix6gYDZMY6cw': [], '7VYFL_s1HK1vOU-dzyW1Ew': [], 'uWYzS46xqA_YA1D1INgbEQ': [], 'jhH0sC6hOOg99v-GsfeGOA': [], 'S9RoY_Smsh0a2JPo90bkdg': [], 'eznFPTK8qoFLfDr_FZhBpg': [], 'Kx_lrGQDNXT0owqBgs2how': [], 'c7lAaz-pW58i1h1rSlyqcw': [], '-uYAkAplo7a4WM7c6lDrWQ': [], 'to2cGMKdaw7ZHbXMzpfhlA': [], 'OdViVhR2ayppzkN2WtIScw': [], '4CdqGdbYBjRCyvUDx7ppYQ': [], '0obhg2Jv22z6Mkvl3zGaiQ': [], 'xlhpQvk4BsiQgn8T-KQKDw': [], '62C_hjU5GnsTyGTa_AxhrA': [], 'DD4d-8-DjnnXBE7lJ6w92A': [], 'Kf4V2oBzw0tVvsSxnHDApg': [], 'FmZMn8-sjyTpOX7orjnt-g': [], 'WiyDF68fkwvghBBvpBaIGw': [], 'Y8LQ_1VLlA9y4zXuKq6B3w': [], 'ivYI5FZ7ULlfaqsc-wIVSQ': [], 'ghVWzVyEUW1BA_WBX-P5aQ': [], 'fxzHBF9AOkVbbHwsHjVorA': [], 'hBilPpw8kU0Q0MokOjOw3w': [], 'ck3CClkhb9lOyVsO_5nJPA': [], 'ZojKxVZmp2GVv1negJCOrQ': [], 'U8CnzJzi54gkveXx9xnVYQ': [], 'NwVj3tbEcR2F8fbrcOEV0Q': [], 'xglSTInE2lpMKcdKf3bzJg': [], 'v8QuF4YX9Bb-qEtKLVPrmA': [], 'QRSuHZnzHeuS4lHw8RHWWw': [], 'reSALswA3ZPYVO-6DXF5qg': [], 'G96S9vZ0zzZrp0yrdpGctQ': [], 'orGCyrtYZl9JOV5XIgxJEg': [], 'RkXZ4Gx6SHmSMe_R9c1Dcw': [], '_aYYRuwTXItHvrc19cNqZg': [], 'emDKRy7zU0pqISwM71wbKQ': [], 'xsM4tE7cQxpAcXIWn0AtXA': [], 'URFhSrJPk7JM2pUtsuWsAg': [], 'CdpBVSkL2Pljj-yP0ihb_w': [], 'cz0p92H17pHM7Dp1xcOU2A': [], '9RBH808zVqoMZ-NBSouzjw': [], 'IzBOJTnKQkanSViAn8FX_w': [], '0HRNeFrQt31b-lD9kVdHog': [], 'hw1g0S9HtNKSH4dJl8-oPw': [], 'pbUsYtULpwmhZXlzeTfcww': [], 'F6hmPPx5M6gSD_m8GMNX-A': [], 'LR1JNvpNrx2N4HNAyhHvrg': [], 'Rg43a31sV7gNLZMjy-ZdCg': [], 'p_V8gH43zZx0Gh_EA__hdg': [], '8jNrbT0weOHH43Lf3Bzyig': [], 'Qk36E2wRexicmtcUrEyWsQ': [], 'qPWVh0rLs2sdIqD40Mq-nw': [], 'LAiBt7LobYM_0_EQrSvK4A': [], 'Pb5AfEWAB8GWlHyy-p-l1g': [], 'i_qG7XpQw2ngHa7OdNJoOQ': [], 'DZpUH96f1Uomk7N8FlZLjg': [], '5zva2MTtB5IX6TaoVLL-NA': [], 'XKulwXWzC_C1Q4k3qlvi6w': [], 'EFKx9EkhhcNCigMN9Cr05g': [], 'AOEjA6yCT2htzQCfbPy7vA': [], 'ZkEapemTcLOFMBvV9J2iwQ': [], 'xEpIUFKBHgnq3pXVaxNg3g': [], '40Uq6tuEvCJg0Ph6bAN2bA': [], '4r2wSkriq1yVVVvRQew1Wg': [], 'yTTEhnUOirRjGjxkObQTVw': [], 'GEjAMm_6lj0oam2IJQfEPg': [], 'EDa7_YfEB2HDOyxDMbipQA': [], 'WWXUd1MyKCmIQzbvllV5ow': [], '9ngsYyYQ1er6jYu8tkdeCA': [], 'T_O6vtc1z2LZAQaeHBdZHg': [], 'hiMdQmnVXgp7DTCCj3pwdA': [], 'YOD9dXrnpu8HTRILpF0onw': [], 'WuUvgtGQW2TNk5lCstq6xQ': [], 'oz3qUheIcLrafydpAEK8AQ': [], '9VMAIC2JCKDPpqBx534W6Q': [], '5Je2-6KDxPQJZdItfo1ngg': [], 'CI6gEOiOQ5ps0oMUhgmKRg': [], 'eggiaEDKJqrrHlDZqlOSow': [], 'Qng9lEqWA9uTtm6oq2rZuw': [], 'IsN0qEzgAXBjbT3qn6lokA': [], '_-j3yamOlHAL1b13zICDhA': [], 'roCxdzue-nME2akdIRPTfA': [], 's6KEoNC-rR79704_1ObFuw': [], 'WxNGCzvx10GwJchaeHNfpA': [], 'YRCPmwsdyshc2EOOT8MhvA': [], 'I_WWH2vYccjz-QxW3u1zJA': [], 'w0f2Hpn1Yf2TwoykTMoOXA': [], 'WZIJMB9FWI7jSBtBlKOh_w': [], 'fX9YhRoymPu5H65sgm52Ow': [], 'kJlP5bSpVFaITDf7W9q3jA': [], 'I2LcbNXGsMb6zxh4-gmVHw': [], 'vGQhSTsbHTTly4G3sQoGow': [], 'P8IsTiHq5Hesa6UPL604ww': [], 'AdCgMYmXzD1DJsx_02DvmA': [], '-yWvniZVC6TjhnnptXRVrA': [], 'euxQLuOeFIfsZWj6PmHp7g': [], 'Sn4P9faQE6wZvK-WI4fRHg': [], 'ERgk7HxDbMHtvGV85FDDiQ': [], 'Quayv4ZFz7z9xKQHnXbQQg': [], 'ExLXL_oQvI7oPB7TrVpGhg': [], 'PpAgIlnktwbA0CE0gX8Qtw': [], 'iB8BLK67u6JDCqpHAiCMGw': [], '_263Hi0kMpEGg6dtBXB3ag': [], 'O1iooQB4W8uHKvnyl3ILHw': [], 'OSEHZpihF2RqEk6U4BGd6A': [], 'tz30FR-yQi-jNHPb7B-gBw': [], 'ftia7qU_2jo3dpYvvXDrpw': [], 'sKa6kQ77I6empnNirIuOVg': [], 'o_W4cyIyPMZT4aNXbDT_uw': [], '12JsTr2m9Y66nGvTB6Knqw': [], '0kyhbUW6NkpYjJzFBZ64vQ': [], 'KsvJoqJ4aRqv0XYoNdbXXw': [], 'AYQbwuZ0tM620mrAw2JTcA': [], 'ZEkJ9E0WlvJmh1X0KxhXww': [], '4wQWc6N0VfwVqCNxrurrSQ': [], '5RZt_9lrBSNDuzCyV1zPMw': [], 'XwIogGlA4Fh0Z8YoVboPVA': [], 'ghPeRAr7st98vc2Qsv_T0Q': [], '6nRbHreAZzP_RDqUyD1FPg': [], 'nDfN1RkA40anfzjFGRO8qQ': [], '2aLyQgYUNQDc33U0ZxTT3A': [], 'BjbokieOGk2CCq2t8wV6MA': [], '7sv4L6ZV35rqF9-rH5R_3w': [], 'bEZalv7kVGhiCd0WK4uFSw': [], 'aFqPf3gy0C7SvkB3iklE7g': [], '9hPqmpOpH-POC0D0nlix3A': [], 'XAILRNmf0p-P_KRqdc0S7w': [], 'WB_lzC2LExQAgV6JmZWyuQ': [], 'CFyPbqZaxoBTjOmVjSn_8Q': [], 'Un-n51GNA0xx0mDOpGKUXA': [], 'lsTDUrYbsLHrEEkwOEZanA': [], '6F9cnQ1fN8u8hNuMu9Ds9w': [], 'BU67sB_pedm_QsNhISvYIQ': [], 'lA4bWd0prl1huLmiHTQHpw': [], 'RyVF3eJDJl6S4SFGSRU6Ow': [], 'T7Ooz3M4PVhbaFs0Qspj4w': [], '6QH_LPrn4CrCjtiVwGDoEQ': [], 'vsdc5yC1kJ29CCjCMjD4Vg': [], 'C2OrJwFnulmIRYuqvzBKdg': [], 'kG9vs2Ks-MqV78cnjqKUGQ': [], 'hNsRj2nXuALlJS4Op-8MmA': [], 'VoWWwSxOe7DwlWOrTIoM1g': [], '-FWhwGTP9YsV_5ONgdQ4hg': [], 'QeNiUXHqUgiJJnM--UMNNg': [], 'dbXBd0qjy7Fnvn5FDNsVow': [], 'W537pidoTVQmn9x1GPpxgA': [], 'k-fLKf1Qbq08jDrOuNn5ZA': [], 'Q7bAF6MrZ8wWfLsxaPl2Yw': [], 'MAUTYES01tZGlZzAOCSnng': [], 'JzOp695tclcNCNMuBl7oxA': [], 'odnZ-l-Ab5KjKN3eSAWe4w': [], 'BUdPHseUBhZ_3wGW-GX7Mg': [], 'IfUBaH9VA-YOzJ8_rsfzhw': [], 'RPO5ISR18Xllgk9ahdPepA': [], 'E3ODMVUoz27BJ17r58E-5g': [], 'ecn5dq7bFA6wCeeNnXxSzw': [], 'kdpMYLkQjrSr6k-51zW28Q': [], 'x9p1WdRz7FSRy0Q38PiGlA': [], 'P6LIEfSGlGCAJNMDWxhsIw': [], 'vYn0gishV27DpfM_loZITQ': [], 'rBTlmcEEQka-7cdU6ByrYg': [], 'r-5cAhdyWgJ-ZFrtYsLfKA': [], 'EzUypdlXXX75D_Cj14DnuA': [], 'QoctVTbQG0OfjLHqdC5Pnw': [], 'aX2yKumIlyMLbDvA4dVbHA': [], 'ZN8EHmoe4Xjy4q4Y8ROEfw': [], 'o8AZ7uHNU8tS-KLwCdPICw': [], 'j4zRUehhRT0atvDzcgsx2g': [], '_58OWmDQ7IUFe8WnKvwzhw': [], '6AgvdkMHPvAGpxs7gdx38Q': [], '_jGyZz4v9dedx_LIdJHulw': [], 'vf-OLMuP-EB1vlqVGUx4CQ': [], 'swi7mi1ixWpu5-tZO2mtsg': [], 'ypIzqbkJli_75hgFz98WiQ': [], '2anooSIsfz_h3yVcsEz5Bw': [], '2q2gGuigGrCFmx3juLAVww': [], 'xFuyA5is_lLo28-fTUQjPA': [], 'QZ-BhQotj-mSpTyse35udA': [], 'px5RbIZm3rxRzi-g2f83KQ': [], 'ffd-VdnMtiKtWsfWYHZ9TQ': [], 'FkR-QfbmFeHVxU3A6Oehaw': [], 'wV41hS6VVrpNbAlAaMFX1A': [], 'I_yUsLg-txo6U_-_AWZKEQ': [], '3o4YMzMd8kGy2JnhCy3Gvg': [], 'uD7ninjOe7UxI_7-JVQ3dg': [], 'fwNr_6LawnOGByoh97t2qg': [], 'p9JD02WiV5uzVNITH2qvpw': [], 'B-m7esq0IkhaWAtcH8hHBw': [], 'U21YaTK4PVlfNHQSyBkJUg': [], 'ycx58j9LCHDUp-boy0-y2w': [], 'mYZth87kJbyWwmTmVsvKcw': [], 'tSJTbxhAO1tJMSdeTCiZwg': [], 'sRcoxrxl8TGSgxHoiplH-Q': [], 'SMXmELJ8jFBPDq3VWRlLeQ': [], '32RDYS1pxMytL1rBSF__UA': [], '_8HzIslOdrED7JQF2DU2fg': [], 'kf3iHoF_pQ4TXRfNYpHTOQ': [], 'VF-LwjutNE-1pwMyKvYWvw': [], 'LBg8fqw9z6uCdTrVq8rihA': [], 'bltn4FTcuRJY5IfiIIDINw': [], 'nhOCUUgFa1izAiWVKAxhCQ': [], 'Eb_k0Ut7ScXlNEv2QFZujA': [], 'mxVSkKiX2eQ6NVdtXyNL_w': [], 'C2od1RCSQjTqxNyImReEBQ': [], 'TWSKXlz2niDh9Pyuj90Dng': [], 'lZUCbZkCpS6bvgcxAuYS5Q': [], 'z_m9GstWrDagyZv9lNSKjQ': [], 'z1FS59YTE0GoOu1UCPKoKA': [], 'Y5CTA3S9TVkpr3Yvwaki-A': [], 'qJf61TR4Jq9Xph5RiXPS9A': [], 'ZKiLqSj-99xy5oeKY96DuQ': [], 'yjP7NqUR7qQqZuYXqRcaog': [], '1IbrFRdTTdPUG0Ne1pEXJA': [], 'aUDVRC_ttauSflpYSIt2TQ': [], 'rfmXVYoFnxRUPvOqPMkiLg': [], 'tYYJYqbw1zasFUCqrkawKQ': [], 'j4PI9fjIV3BKYJAHHi8NoQ': [], 'wP8gL4KNYQQktelE-PSeFw': [], '8e8LV0UPMkGnPaGueJ19fg': [], 'QZJpXx1TbOXqzLx6u6xmaQ': [], 'a-uvQrruzDQ9E2SVIPOAHg': [], '34S8AsI7BQBDuTK147Pz_Q': [], 'GPVHfoDjSOivqgIDjIOA-Q': [], 'K7jOJ3ddscDeQHDHhU_r4g': [], '_oKvRJPi7rQViDeCwXF8qw': [], 'VJz2DcvX47i-wqlQ0mQEzQ': [], 'Zj5ogdJ1ci-J0xNxMiTRQw': [], 'rbywwnfMjFjJwLQkgpdIEw': [], 'pnh86QLP4XpUiSkYRMkR-w': [], 'l9eqiZXVxZInW0HexFBpfA': [], '0hQIVAQNkvAKIK9MQTNAHA': [], 'NZP9oypyQCy-IXlzqQWvWQ': [], 'id2yO15SnTEDMxNWtZXmFQ': [], 'AzXrAHkynCzlZVKF7-1uXw': [], 'HV_TRGJdMurmJkqkdRGaww': [], 'VRTF9PAHgczBeOfuiUkBRw': [], '5rFXq7AGqJJeNn48PHfEtA': [], '7LIxuMlLsQp_znezKPBRaA': [], '3HJJ3Y1_7aXuVEjTMUgcfg': [], 'TZl7YBuzo5awZP8QJDLg_w': [], 'etGW0g4oIABVeC4Sk5YBDQ': [], 'r2kR5vViJEa-on-wIN_r4w': [], 'jIDnLUpdKQCYtvT7wT7mJg': [], 'D0VxKGcR19vKkoycyrNrHQ': [], 'IqPKmryXXra66NdsPoqi9g': [], 'PkTs6P-jCeX3IfAyk9OcYw': [], '-34vSRcMz_RjN00dWIiQ3Q': [], 'CR7bdhiXN7I7E2ExoRR_sA': [], '9cYYusmNE0qdfT7pqfdc5w': [], 'wIMhHjK6LuGsvpXWR4ntPg': [], 'PnUIxpOR7eEY6NYOYQdY9g': [], 'CGd8erq6Ojn834pQ0gpRqA': [], 'JOUZELoB9gj-2T5n-BrlSg': [], 'TEQmudCV5Hn1Vj_NeXsWzQ': [], 'i2hPnUeiCzDyyyzLtIWqgw': [], 'oNptGQ-jHp4NG1HzO8I4_A': [], 'zusXbyXnJfS1Q-pZE9elmQ': [], 'caHv7LRXKNTYLK_Ay7RB2w': [], 'moe9q72WXhXJ1E7xpbJecA': [], 'pG2pvHbze5O1yYj4u88mZQ': [], 'XC06xxb7FFYsXcI2E38IIw': [], 'NyjKkq7uGFoGvgleNOlybA': [], 'CV0knwCFA-x-8jJHot6Few': [], 'JoRw6o4ud6hkpX3IOo_l-Q': [], 'rgZjPYSdZtS4xSTrx45PLQ': [], 'M1rJDgwkCy7uaPyzi2Y-lQ': [], 'w31zHo_nneHsYLa0iEPZJw': [], 'PyIa-6fGY2IzCtwNDe0k8w': [], '5h2DIYpfzc7KDTFg18uuew': [], 'sAu9UJ5tvY6sc9Q_gcVV7Q': [], 'WK0uzfMvBVRtZY5--12d5g': [], '1VQJyXwDakcHa-RZUCUe9w': [], '3K-niBF_GCeMRrYI9RlT5w': [], 'wOfoU-QWGudP8kmBDNwQnA': [], 'F4zvnOsgjEV9aVbKqBYRng': [], 'S1jjDv8mwJ4psGQA4b8RjA': [], 'X92XkmKWt5TjNiD2m6tadg': [], 'thBWpIcP6vclsHS6GfI1dw': [], 'jhdrw0UTPtvNbcltt85Lcw': [], 'ETTzxqOcPuxMqV37y1uhdg': [], 'vZdGhVPSJpX_w7U7WugBMA': [], 'UWCTp_AJ2jnCNy37c05I1Q': [], '3w22LbUT5fwHLT9-ytIXhw': [], '3CBLxydJU6CFRMGhu9b-sw': [], 'gAJVjc0VUUtuBm_TSzanNA': [], 'rs4R0P6VW4rcQlCaukjjOw': [], 'RHOMlCOwON4Uq-xvShRFWw': [], 'yz3JQk5Lqbin8mtNfDcy_w': [], 'QIIDaciwj6U0CCzccADM_Q': [], 'ioY-a1TntpsAGJAG5_1Zyw': [], 'ycAmQ9kRi5iB9OyJONacBQ': [], 'eOFefwsbETgo2gR3LQXcJw': [], 'Kz7xk9J3YltU-ubNSqm8Tg': [], 's5TJlFtdXcx_tXC4tlttlw': [], 'DVvPQv1t08kusnnoMVhW-g': [], '1nhPU1FP-yrI_9UufQQcQg': [], '06-CFHS1kbVMMxCP6koctw': [], 'wRnHhHISzEjB3jxwGtTpXg': [], 'tFcmrGLZNEymSnijoTPmqw': [], '2teTh-s_j_5JxXdn70T8XA': [], 'RFR5eqQxOmhyI1Xtm0xUDA': [], 'nLU-Dhs6ATughOfmBArpGw': [], 'ruUkbv80Vo0USaw3eFDjqA': [], 'OWll9a5nBADV25pAFh7wPw': [], 'momjERcb6G6ienrfPuNArw': [], '00so-3NuawQ98XKLPMVFLg': [], 'm-KkjBgtiRhtXA10_jwh2Q': [], 'GSwncKipCuXVBIYQM2Pfag': [], '_WtxQbDK7B-ExGdeG-2j6Q': [], '5CeizAHfOQJOI6sSh0kJmw': [], 'ITjc4ng0BYGuNKx-LodG4A': [], 'JhqMKce3SOAptRoYHP3Tqw': [], 'zxWWB54SvtRMa0XcKAhe5g': [], '5eLBA2XJVEcAiT9s5TzhbQ': [], 'v91eTDokcNCHzRvmamWVog': [], 'yWZcHlDnXTF_MpMWwP1SQA': [], 'WyH93nP0qrMSfD0NrLk_wg': [], '1iDBWrwjfk4w_ThhL_qTYQ': [], 'iRa-394URsOWGfcFqvm1vw': [], 'IQLnLQYcTwCjwt_ri9dqhA': [], 'ivAe-BA1y3DOyRUKHdPnQA': [], 'DUAKXNEh7c2v8mu8nWKYOg': [], '-rCIoxp7pqN3xY7E3-v56Q': [], 'KTjJjYNVj7z-BUOiz_5hlw': [], 'MKvRBwtfIcH9206rzBeVxg': [], 'EWo5usxVpjAs25NFBbsITQ': [], 'L_9g6y_EJqJ7A7nJMV9rmA': [], 'PZORJb_3EcrehlsjgqawVA': [], 'DkHFktLYFrV1WylpRQiK_A': [], 'EEGajOchS2BIZNvJcPK3uw': [], '4jK6jBV8rzX0dhm6dYQl_Q': [], 'zZLC1NfOQMfkqCHRWEq69w': [], 'rCoAHVl3tXXAE_Kl4MVgWg': [], 'JtNyktz4APWSzkHyq6FTig': [], 'OoYwJANV9zD-_OA4Atu-gg': [], 'phslBiJbYRg0xxXUkk1baQ': [], '3Ny02AEnuUa4D4MovjQfbw': [], 'g-Q3rLkyGT-TtiRgE-PvgA': [], 'UBj-25LU5dxJ9meb-TPc9w': [], 'YSYDJTCt5kzY2kKnLNGRiA': [], '9PBfeIO-4_oNTJ_pfyesUQ': [], 'lplg8YB0HrOLHYaf77a83g': [], 'BUzhRt0vN85YX-v3I9ueew': [], '1N6_FgS6nq5eT_3x4MXm4A': [], '5nZVVPO_cYH9aQeClTP9zA': [], '4r0Ho5rbAZ_BhXvpQmxbag': [], '3L8D5tGJ4FzQQo6ZMvbVYg': [], 'rsi6QZS49aMKQJT3chIhHQ': [], 'KE5Yuow3o3dKGCgppZFplQ': [], 'M_JZsxuSquWmqcETqz3bNg': [], 'WmHRxbW3m8cngS4e6T8Cnw': [], '7WySgBzVyMrexRya2TSfgQ': [], 'gogO5RF4Rqz2THF1ATcCew': [], 'XpyYSWF-8xi_aZ67RUuk2Q': [], 'OfITr0B8bZU3vukSQJIrWQ': [], 'GFsZyatl9BFg9F3rDtR9aQ': [], 'dlMPxeNY3sECW8DeBPm55Q': [], 'ySkrz264l39YRcZ2-48C1g': [], 'GUxp7_u7ik3XF8l-Z7Xphw': [], 'HFyMS_9yLaYN7GIcXzcboA': [], '0l8vLLjY1kDzFzkDaDAfWw': [], 't7G5dq2Z0iUk6YHXHj3Hjg': [], 'XUlQ4BVoZH6rnAT40cYGOQ': [], 'mZsvMd5RCat1d3KMSD5tsg': [], 'XuxKpCqnjpW_VPxSho4djQ': [], 'GHs7grPeyVPwmiVKhhfMvg': [], 'JqSdd1Jj6UDjgPtYSPdsVQ': [], 'TShoU62Hm-4wH2EzwkJbrg': [], 'eZPWdlXNOKLNK0ElYFz39w': [], 'v9ZRK2k85eFlZ6rLYVbMqQ': [], '9IaomgzTHXsNkZHnZGv8fg': [], 'F-ULgBFmiSqG9udQmu6CCw': [], 'LjCrhp_Rys2bCIJHz5EGBA': [], 'l0aaLW6ZdDXWjUegUECSxg': [], 'udrIB4tIAtZQOGAiukQ2Rg': [], 'b0vBgpjF77rItksUl3wEhg': [], 'OW8ZTM0Bd6R0BH6u-6Wkag': [], '5_MYcQWzKLiFYh0cUPrgNA': [], 'B_M-U9KIbBka6eMyTvhzAA': [], 'x3AwaRjFi7oWH_EDrIZzZw': [], 'xRhO5lLaKbxG0IRHwYIc5w': [], 'R1k-z3Mauqk4v-7ZeEVsHQ': [], 'Bx8ans3AywDJ-DN-nCKGeA': [], '9D7h2xfVJrGkkwXDsnfV_Q': [], 'Mj9msHM8Dncb94VV3TdbTA': [], 'hvivjrvw6Ceq26PM10t6iQ': [], 'RGGOEmgtKXXZI91IXHEuIA': [], 'gQDVBIPvUp-nV1qYz9NndQ': [], 'pCFazBS7GS62fOf08NaUUw': [], '3DgPtOe-FKRH0bFE3ptzxA': [], '65kCKrnO3SulNYEen0itGg': [], 'm8Cbph-0tlMaYyXDwvKc3A': [], 'ijrYGyXY_BNQLb3nNMQvPw': [], 'QDQM2DH2gKGig8LJ3LiFiA': [], 'g3w01guDiTLszguA3vUrSg': [], 'OLrcJhNki2C-XzPYNB-BaQ': [], 'BJRh7_SnU9zK9YzyO6FlHQ': [], '3S8PTPt2K-Md7cxiq3T-dw': [], 'lJJbxFNv1MwTx_52Kna9kg': [], 'zOL260xaXDYZZPBItzALxQ': [], 'luM8KQ2hMsD2r_4WlluUbA': [], 'MFEFshl-YZ1lsbtOd8xA-Q': [], 'PvAOQjUxoWlWqNbiO2tthQ': [], 'L8xcyoyugR6xK1QmBkyfyg': [], 'zzwicjPC9g246MK2M1ZFBA': [], '-HbTh_spJOeyEbdj4geK2Q': [], '0KKxkAvHc0cCfnYVHymnIw': [], '8Wf7aCIszfVY-TZOdAKyBA': [], 'zRK93KUNUSLWckxU611QNQ': [], 'R5XT8xzuDuwteKdhB43uFg': [], 'z-m0Dj_ea_SQra2kYds1Dw': [], 'oUFPFbvts1U1kgbTm_jJzA': [], 'fKlr9qNoV37WQJwQ826POg': [], '_3A2Rhz996JPvxQ9vBAbJQ': [], 'E-LZ0Xl1ETDeMrtM9H3-PQ': [], '5GoBfhIyEN-BMzVjO5QLeA': [], 'APXWKd1N-COyUdncd_FdyQ': [], 'f-HUO_-VWmHFXSlwcPSXpg': [], 'ZmDWTk8Qf5vFaVJStBh7-g': [], 'gc8GFcdG_QZSCNhN2SzBww': [], 'dVPKgxHQP85Eg46FodZ5dg': [], '8IahspYyGR7A0sgvIJyeiw': [], '2WeyxjZsqouST729NWu8Fw': [], 'KK_ovCevQ9pHRoYazSSsUg': [], '9IgxEic-y5kHJncICOYjnw': [], 'wltfqot_Et0r-DYaZDxWFA': [], '9P0uMEOiEIP6V4e9ARycSQ': [], 'aNs7wSLFBu5JtCU4OH5RXw': [], 'r0byBoB7y_IH8uicEvyCqQ': [], 'vg1dqjH8F6DrPNVkX8wLpg': [], '02EYqwh47uVxOaOKrnx8SQ': [], '1wU_10DtV6aJbGT26kATuw': [], 'RtnTbhWYw4QjKhoTBV37OA': [], '6nbmlMVmbifIjrEEbCaA6w': [], 'd3FAxA8Su34pGHjaIcl5lw': [], 'Lz6QUlFkVKtnzSISk0WUPw': [], 'ccgQnsz2AtP9934OdxHe-A': [], 'lpD3xIYuVaQA8xRSlKwn-Q': [], 'X33BIVfxrbNa5l_53w2FpQ': [], 'R67i1c41zZZ3QMYDPmNClw': [], 'U5ZlFP1kBFzlmnaIn1f9sQ': [], 'tcgmfbWugkHI3FRrjlH6lQ': [], 'Af7BsyzsJi_2qPFu_5tsJg': [], 'SSg2JXBC-H3-9I_sWW6MQA': [], 'dQOGlYoyj4FvqshZ8DNfMA': [], '8ZhTEANRxKQ3KAW1wY9r6Q': [], '2OKh-3ToognFAccCFAFJVg': [], '5XejqzaFmtkZMstJS5Iy-w': [], 'VaIznFqVDDNKpxvbffOexw': [], 'AN9sX6Dh8-QAoJssdyno8A': [], 'oDxvrLYe5SiQKdJlGhheoA': [], '70umoFq_Wa24Nr78UOsilQ': [], 'xed6AtBRqx0BpeHLOiEzBg': [], 'irz64oYL4VYgHWyzvO6_FA': [], 'LH8S1sUwxg2_TotePOFLvg': [], 'E9aC5bLfXdQVZ5csvLuLJg': [], 'Vb0zUnz2Ifzj8TQpVEgwcg': [], 'Kz4-pm0IS_UplI6Ii6PEfg': [], '5ZkBnLjuedyk5rRRT6W5cg': [], '_Mt217a3ia0TDuNRDFY6Tw': [], 'Fg1vquZqY9CC7oc-TYqGgw': [], 'vUgCHg2pWUrbg_xrJZz6Lg': [], 'o6SDNH5hfpO1R3T21VGsSw': [], 'YIXuqhe1ViZ85ptLeB6kdQ': [], 't5Ip9ggWaam6qAUH0WPKVg': [], 'cKRMmytHxaSt8F0SMEzKqg': [], '5xCeuEI7Einoi5xYsNuDCQ': [], 'YRy8FX66W5htql2pKL-o6Q': [], 'bRs0ejlkGV3K4b-PaBROuQ': [], 'FUTubibqsEEMapUlo1OFpg': [], 'nCIcVDlT2K5TBRFkAUlhDA': [], 'VuCZEIRXIh82TuKezSZKoA': [], 'H4AvltDM9QY8Up8z-ybUyQ': [], 'QtLjlLDBLHN52WXQjN_-WA': [], 'wkMAYHXHj_vuVJFcSHBt3w': [], 'JVYtwesjVNYNJvAruBOB6A': [], 'w4uc4nDwm-C-93G0BOV2pQ': [], 'j8j0IV_eemJpFuRRvdNobQ': [], 'sLa4_i63uBy05DJNbaOPgw': [], 'vE4WR05o_c0pL_l4Aq2BlQ': [], 'RYzJr_ZeSCLaAW6TBR86zQ': [], '0sojfj-hw2WeXjkFwG-bVA': [], 'HumV0E5AE0MmyusDpd0b7w': [], 'GzK0oXjFHmjyJDMIEJCFKg': [], 'E_eIph8IT10Uo06ZdWwoUw': [], '3qlqzQrwh8hjBltlgFgsJQ': [], 'eVNKGHD1H5vFYPqT9QjoHQ': [], '3Jg5iFVFm9PxRpGJWLR6ng': [], 'sw3uJ-R5u8_VnJ_RrC15bg': [], '_MHUEErH3KW_KvVSOjyYhg': [], 'FqcrwHbK3gUUg0Jn_5b3JA': [], '9yH1SL2paauMMuxHnV6cBA': [], 'UhCSu92r2XVPmhQET1c2Bw': [], 'ss3Fb0UCBkOZtq7D4c4Q_A': [], 'PJVjfGtVc71M0XlUr83teQ': [], 'RAxetR8cu3UXNC6Hf-XGgg': [], 'NxK9QTPyjeG2vjs2yODh7Q': [], 'AF-N6i0XCJRPFFOZKp1Pnw': [], '1PnhX9SNMX71LPFD7-IqXg': [], 'JUh_FgXX1Ft0bvrq_8-aMw': [], 'Ybxl-MdPl4BUQ7Fc4xaj7A': [], 'h7As2jB8bhfFxCMCvdssWA': [], 'sUAJOwb1yFaSDreFADEO5Q': [], 'SJslQXs9j3K6wDixajyp-g': [], '-QIQLK8RR6rl7v19cAQQHg': [], 'ILsriVciEvq9FGwyK9a6Bg': [], 'UELnOgcu9BBUcHv8cqEq_A': [], 'tsdWFlpD-UypNWUZ2wND_A': [], 'Tw3miGKZHtmxmaQZIYFRrA': [], 'LGEIsxeJQATo9J1IA-TEdA': [], '5TXQxcwEfqzBDbMq2zmBPQ': [], 'ycd3DfIYG-oAiyHXPPZjBA': [], 'IhZe5wnt49PDyVhfHz8sQQ': [], 'Sb17eJkjHLjcPKSbpmRxWQ': [], 'irje9nJnDy6GbfU84v0N4Q': [], 'F3u1ddC-zP56MVUHoIr0KQ': [], '18FDlJmk4d4UnMir8KbYjg': [], 'sGC8F-DzJdL1x-pFBnLcvQ': [], '_S1vq2OmS5YL5pdb-EF8vw': [], 'jAAZYEfAJJjyZwyEBqgrGg': [], 'eal1BQiHt9DO9t-LsAtWWQ': [], 'QBN_TcWQ1mZrzekFM4p0LA': [], 'K3amluqDzi8pugiGdcT3Lg': [], 'bc-ODWDxA-CViK8Sho8-Og': [], 'KTon9_ClD6O6eOLqA-tIUA': [], 'eBM0sIlZSaMkpQLxkVgrjg': [], 'D42-sxkmZy2fn4BkZaEkbA': [], 'QcTTRBfrd0rMzzuCDec_Cw': [], 'VSh9c3BdX75LXWWrElASuA': [], 'S5o2kplwZtc9XWdktq_GcQ': [], 'Q9ZyTPQN7zzTk8MJ5J8TFQ': [], 'S09OE4EMl5e7JwkKZ5Hlaw': [], '09psTuUYhUMA2ZRzQlm30Q': [], 'ztk25JYxDZ9_9e2v6uHJAA': [], 'Llm_iXzE0-8_XKwI2e4JdA': [], 'vK1_qKEG7zHvjiTOsN0CRg': [], 'GWaS_XugSFzw1g8SEbpmHQ': [], 'cTkya76AXsXylIyl5bFn4w': [], 'HV3Q2JYwK9AvMHPYXcxzag': [], 'FqmjFD5UvXz3a_cjm8Unsw': [], '-Vk9BMbpL2hcv4SZTuk4TA': [], 'M9fOuiesoUSaouOqNQ3U2w': [], 'E6CKPADfLBk5Lg6ABxLFMw': [], 'sVmInwzg3gukTsClRFBbTw': [], '1bxJcRAF-2wDY-QbiTCqPQ': [], 'NpgOB1s1qnWBfVykqe5zpQ': [], '7m1Oa1VYV98UUuo_6i0EZg': [], 'LfHUUOyJXWzUbyDrYfHHkw': [], '85eHX5kIIE3crn54eeeWog': [], 'VqutAZTwEgFj7FNoTjk3CA': [], 'Ly2ShApiomYZwKehwb7eRA': [], 'GozNbjSI1bdpPqqP_LMSBg': [], 'VwdnJPb5WG8lM_whsZasHw': [], 'o_uE7kjmI2K7dnKZkQoHTQ': [], '9GPWnFfwL3teZFax-CPD_A': [], 'zhsivc2EDrmKB7L7zlAObw': [], 'DpSuDR5AT7DF0QZhNUD2Aw': [], 'Gz9SlLqxS6wnxPvgdOQNrA': [], 'in3zjiaLpNzr9G3K35gAJQ': [], 'NigZ3jcwQ5dMqIhcLDD2vw': [], 'k3Rgx5dG5pj1c3hbuniQ1g': [], 'smIOUyPwm3Nu8vxH66La9A': [], 'wOJ3NMhumJDs9FKDADa0AQ': [], 'xnh9h25zHwaWj8b2Ur6IaA': [], 'MhNNEKWZjawa9MHpGyhw3w': [], '6bXoyIgBNe9WuDSRZGWfag': [], 'tLZ_pvZaFlsIy18ssrm-7g': [], 'RhSi82sDhswGF3MyxCpkUg': [], '5Pw4p6Ium2hhqZpkNlT2ZA': [], 'KyHAu6tuFqdpQEy-Bo95AA': [], 'SKdKt0QS16YsFCpun-Qp0A': [], 'pz-kBcEvUGwJViPdJzYfhw': [], 'raVyoZbWWuN7JcFUdT7k2g': [], 'LchwVhFppQjB9OYrh3_3oQ': [], 'AufuW5dGP551XURgXaogQQ': [], '_k3PJI3mSS3eIpV8FZ6Tqg': [], 'EjvEx16YADqjpP3MyO9Hfg': [], 'VeBNqe1pI5QBxVbquv0uoQ': [], '0jaD7X39dXE8DxJYIaxSDg': [], 'xIbtbAJLWLNZcqfqF4f-Nw': [], 'C9b6Gnu_ZtF2_5758EQH7w': [], 'ZQqiZAC4H4SI82W3RmaTKA': [], 'zYXHQK5UwozIuqMk1RLgXA': [], 'vNwj8u1KbnKPQFMTd3TDWw': [], 'vBV5IbpTgUKuu2HlneE2NA': [], 'mm0qwYzOilFNVV2us5_8Rg': [], 'Kh8Ctqf7z4S6OJ9F7EsVpA': [], 'CcTvk2-unBwmAZmU3PlKww': [], 'bawlqVxxnTbdYLuAtI8CJA': [], '4_Ye_9x3dyMK-cfCBZrBRg': [], 'esjdjH7itdsJuH3Yddg4rg': [], 'mGRUkg7YO1fWpfYCqNcR-g': [], 'Lvr6DdVkFI8IMGfRvUcXQA': [], 'NcgN_lnQ4vgZAllc_1Ro2g': [], 'VLDFjeqpUgWhnVuB_8GuEg': [], 'ZNfmAHWxq6BddtPGgEgKIA': [], 'fz3JQdD_SYBbkmfSeLGdFg': [], '8PBq-MHyLDrhkaTf72Foww': [], 'LpHi2ooFxVn5Ntttw_IcaQ': [], 'frwKRRIIR0QMv25IKVDIMA': [], 'pxWIaIlAsDWk6Rk-EQczrw': [], 'YuxKSOAIYhuqFdMUW_xVsA': [], '2G0HygTn-dihzj49cqHygQ': [], 'mBdm6in8L0UvtAN-Gv7dcg': [], 'wojojx51l1oBfMVVqUvWAg': [], '04u-szAykldu-caSDHQaKA': [], 'Mkb7dYT-tBGQPy6tUpWMKA': [], 'lm9gDpvhJcZ-m2Y0feYtkA': [], '7WW0eu1kNgKODLowyhZfSw': [], 'UT9KnZ288uwsz4pxzUVzIQ': [], 'AJ8DDFm6QaihAPZI3wFBHw': [], 'euL4wrPoczkOBkS93pxv5A': [], 'mecL8UGi_Qm5be2t1L4B3w': [], '-cBQKodqi77Q0vk-9iDvQA': [], 'B5gvashBTJegCwLMdb9J2A': [], 'HmRtRrxieDpk2ANibPFPSA': [], 'IpJZjoW1_Ry4KPyXGzlcYQ': [], 'a6fYAeP1VOBVUeY2SrHaDw': [], '5Pd6YEGn-iAcJf9BM484UQ': [], 'DGXbfl2cE8MjkjTac2r3xA': [], 'LQ-gMAQLbPVxjrBYCJ1ApQ': [], 'SFwOkS8pe25qpaSRZ_gGsA': [], 'mJJ8TSciSt-UXWsq6tfEXg': [], 'ypQOqmkR3bl1kZI0C8H-Zg': [], 'DZbMvBWb3OjC9045XLHmVg': [], '0IPTFesIRB3VQs3cRz_SnA': [], '4b63NPxgSNjZS5zXaDJ-MA': [], '_SQvOdb33mhlNJZYEYUKxA': [], '2z7xERz1Nonyw8Kjr4SffA': [], 'YHWjW9GLcuNtnh_xdCSOeA': [], 'X6YpIqhaP_qoSZJRBcivGw': [], 'PZqLTvbh9IV10Q8Efhv2Vw': [], 'j2X3hMTiwLhhAMlDUyasXQ': [], 'RNZGs3g7nJzGG-SiQFEBog': [], 'LtNgP4FqXp5nMFOHErK8cw': [], 'HESW9RuZLvRAGZEfBOy0zA': [], 'rQIlFlBGQfmhpm6Tbti9aw': [], 'Jj8ubiwwuCR-rrhrrjcryw': [], 'xCL38K0oPgK3ydzg4CrvKg': [], '45JwLE2ol0WozeHtzPToXg': [], 'x99-QiHEUN13aMZEZ4RQKw': [], 'QNx8JaWjmMUaKDY-tQrXhQ': [], 'I2gsUx1W5-gQzBFbhIxcRQ': [], '2Yq-Y-tDroP7mdDfcWJLCQ': [], 'ydt5yifyYhF5s430llv_Hw': [], 'UJewG9UgVXQ7fyP4UHwnxw': [], 'dNuaZmTY7qqRN4glp7AVdA': [], 'Rj3wnYT1QAxpJlRT5mMc-g': [], 'F9mUvrYYjrUn3IGXan1ogA': [], 'KCD4AuLXNhbG87fJaX9_gw': [], 'LCvHBQBxcFm9dyW2uxTO9Q': [], 'jR5I8274KDF-5JC42jLyXQ': [], '9xKnjGQ9Bckozqf8gSlWWA': [], 'fZzgTEHDElm_R6gsYxmeBw': [], '9VKXdVbyHM5CyGmMffWKnQ': [], 'lfyg98UFNYMVk18p6LIlkw': [], 'FztBiWmBNWv_BTQccYw-hA': [], 'OHlxS7JDt2DDU5EsOr7Ebw': [], 'd3C5QTYpZCdp2pV1Cq5G_g': [], 'Dd1w7xR7Xs3bthwusgy33Q': [], 'q7zN2YFdNvi5mtg3uJ7tLg': [], 'KRXZdBmh0PQhLKjhlzEsFQ': [], 'WqHpTx3gHTx8ud8RxSyYOw': [], 'sEvsx89wie9oSU5AlvCBGg': [], 'PJVVjbmwNbxqfvFi3f3hVA': [], 'YZiCwmtJT5V5LnO8NMaJFg': [], '08dHPmiLmCOn0ikddLGv6A': [], 'LUDX--wfStrKavGyitk4nA': [], 'hH36Av7cncv499KS3kjcXg': [], 'Lv2V5KqRlCl7_S6LKWkGlg': [], 'Ga2Bt7xfqoggTypWD5VpoQ': [], 'SHOeL3VN_hIL9RGgqDhLgA': [], 'Y2yWvcEBs6ESnmOQMBKkeQ': [], 'PpN4wDnmMxA2vQoSyj1yKw': [], '_KzB1RHRvRL0G-cTmvffwg': [], 'CzqYP9VKJBzGLnp14naScA': [], '5pMNyj77S1P3rrT69y1pkQ': [], 'A_vo-3ZKB2hFmoARMxBoxw': [], 'rIcEm0o8Xk413HWD4-f2QA': [], 'Tl7V8AztDY8s6Jr8yJNKcw': [], 'oCwcUUkW2oEo7s6YsMkmcQ': [], 'eUSEDA0FpFMAjsyQFKHEGg': [], '_3Gev_tV3WUKGMjccBACfA': [], 'YKImxc9VimLbDl2sQN1BBQ': [], 'EhKUsUJK73P1dMlTHJFUvA': [], 'naY7HcWB4kkHBmxOcOl0ag': [], 'k7WkgwjSWoOc79OUMDKywA': [], 'LypV5tUYSDurg_VMHVLpDw': [], 'P28agvrsm3OARbV3tFQbUg': [], 'nkHaix6KenApS8M-liZsCQ': [], 'TT9u-iVu9mtq7tdCTJWwnw': [], 'RF8OASm57WJtWG3tk69qVA': [], 'R1ZZk5dR-INpaHw7imNLHg': [], 'j9JiNl86XCk4BLqIo1OI8A': [], '7dKIMvsTQI6zO-NYdRmrwA': [], '30PzafMyWvh5fYZ8yV_qBg': [], 'Io1pjTIy4ukUC6GpzRntPQ': [], 'He6g31ZW88yPsCE-Ikr7Og': [], 'd5ko_-joff2Gig7xws7adQ': [], 'PlGJHngGV7f6ZxOA-lG1lQ': [], 'DwP10iEz5LGf3fhcVQZm0Q': [], 'rWvn5iE53sHqRXPyzWc0TQ': [], 'n8fGqb4CCheGyWtr9KM6qw': [], '3KTY5XZfavc85u0_rLFHrw': [], 'A2pHOVp0zh7grb1bbZxoBQ': [], 'BG_l5Fp-aBOAxudpl6wStQ': [], '_MI20v3QRDrCVXgpzje-Ag': [], '2uRM8Et0uJVl8u1jSnmuKw': [], 'CmnezL_cKtzlgE3AWkgSwQ': [], 'yUh85ZlAq_zZ9-rRlvCgcA': [], 'D0pOQq__SzBet7MyZ7Zd7g': [], 'ItVrKVvZneLMWbmS8nn4Qg': [], 'biVQDp3K_vNP1eK5wGZOJg': [], 'mqqpu_OBoaQmtA4wFfG-Yg': [], 'KkVkroVMA2rBLJz529nZVw': [], '9IZX6ctv4ea6mc9gzu1flQ': [], 'LUrdDBRqkV2tPj2xnEoG4A': [], 'A0ZTQtESSHaPvNMxt2jLrg': [], '-F5mm0-YeCI7viSiOwVAAw': [], 'AZQ6eiVqhMalpVL9Bbq6Iw': [], 'flJBj0OtRrCXo5JbLkDtHg': [], 'U99Zvi9LLv67TZ2z6ddsWQ': [], 'UddEGVfbnmXxK6t2mXyicQ': [], 'iM-sH2Ey0IWbk9Y_FY5rwg': [], '1GG8G4aWXKSV4oQr2E8f3w': [], 'gFwTn0arRsgFh6ldTPlKMA': [], '5YTUIWa0JoEOWUh83hRbdQ': [], 'd6kfTFKpKJX93qAEPhBGAg': [], 'v9u0NgjA4iQeKGevFnYSCA': [], 'qLnFX5tyX6PUT9uW8z9t0g': [], 'BBiHfu0tFmJki_1h1bqHag': [], 'aVvMVhCSNT3d4W37Ue1aUw': [], '8lyBCij_sojtwWAlB40n8w': [], 'KrCYn8fK6zg5JYu4O6kE2g': [], 'cDAaBYERHyhOoX7EovtZMw': [], 'AOWP-Th_u8C3qLfOlaC0ng': [], 'HzV-HumF0lauBXlxUh-YDQ': [], 'msthZRIAlaAAFzAaS7KkHQ': [], 'hVC6E29dg5Rx4ADSxt3kTA': [], '6We2O5X62J_gduXU7jvf8w': [], 'EosF_LUsz19yvqkAMYLltA': [], '19f_Hyq38r6ycACRw-JG6w': [], 'JgpxDNLvfnSEnhf4Dzh4vA': [], 'SYa2j1boLF8DcGVOYfHPcA': [], 'jEdBVThIOKJ5rVHy_0nbnA': [], 'EiWOgRl-v7KLV09VaBt1RA': [], 'KfWRe_yMC0tDDGBgoPB37g': [], 'YorfCHa1phmnIQhEkrOmLA': [], '1kDS1homhHy0gr5N95oGzw': [], 'xyzzHABOymqZWiCAy4bCNw': [], '2bXyG9i01EjS9ttdnXToDw': [], 'WPkUWu5Ja_lAx0XljgPF7A': [], '3Hu-IPhq5I_jyb3YfeHpGQ': [], 'BqnxN4hHahZ-zZGXDDGLsg': [], 'jacf-rpKO4HbytY4KS_A1Q': [], 'BnWDUUnDGYK0tIKvtmBP0g': [], 'CGXBp1FJQCSrAtiKVlAVsA': [], 'hmUkDAjKxB1et3hVjhw9jg': [], 'FQhe0AuYA-XuJUCuOiWhUQ': [], 'BB7Zk7p76N029MoOkO4FZQ': [], '3vOWSanFt56CwRJOE9Kj_g': [], '7kH3cdKFaanW_m5vURWeWw': [], 'pAvGcgYhnU1RjnV-xy5SmQ': [], 'VAQfgzGZi34u4Bm5dEe0IQ': [], 'g0rTFoLeIR9-xj9bOUWQDQ': [], 'DV-tubtrEPacLsTms4CgZA': [], 'Rud4J5Hsjn_jjU9IaQ0Dpw': [], 'oBWcHgBk7qVj33LUdQa-rg': [], '0i3oD3DqaxaHS22NbmGeCw': [], 'waVXnh1aPKddtREw5Pe_QA': [], 'ZB6Tvc8rhTbWvniKRpe9Fg': [], '4oKjxCUVzCUmhHoSQHzajg': [], '5U4u8I0nSbHrL5eagLvktA': [], 'risc0GgR2JajoRUx6u8QJw': [], 'LRtMYHzPuKMmHjy96VifBQ': [], 'KeAF7rzL68OeCMaNqGRyew': [], 'VbuqVOVUT4HYXKI6B_S59A': [], 'JQLUWnceJyKuMDqV0HHRUg': [], '10d6PDujQkQmrvQMK6V0xA': [], 'l0rbgnvy2jSeUUEBUK4B8A': [], 'Q1LrCiy0D6uqliWKe-BxtQ': [], 'iBCMaNm_hv9IlCDa7AWPig': [], 'a8hu06rFnwILU4Y6sgqW_A': [], 'OuRmSRMJMgbKWkB0IcUveA': [], 'lgLgU37YOwKBUQp43s9P-A': [], 'Jhz-8IqPf_2YUWsbGFyDNA': [], 'wP6LlW5h6YQsU4wcabLEFw': [], 'pbZ2N1b7qxmzEWXtyZrk0Q': [], '_nmOWqgx_KdLrj5pehDQmg': [], '0_Yc6blfiI9A6Q8bKjYLSQ': [], 'kGWj7RgrVBmDzAHz78rwwA': [], 'ZxO1vuGoiCzir1r9Ma3BfQ': [], 'A3KOvIWGMVq1ChqIXMEklA': [], 'HVyxN-G8NOfUHo2cEnilVw': [], 'WO4tA4U3XNYSxxrkJ6W9hQ': [], 'LVyoW7-2XMnb1avqWNZ3yw': [], 'PJgNZN4UYLxP47cy_1c-DQ': [], 'EYwmKq1hT8qYAF9hBlqjKw': [], '75u8X_saAIETRHgpECi8YA': [], 'F_bksEGb8A9edatg_tBjbQ': [], 'PB5bWNbrI4VIg7NrJxFuMg': [], 'mmMar7dpgndzbCj5uTm_QA': [], '6SwdqYrQSASONmrgG4mBjA': [], 'opKWjqkJH2_cq_9t3r1RSw': [], 'bFfWZ4TEyejefj4yk41M5Q': [], 'wERcL1KznuTgfltSKQt_jg': [], '0J-QM0fIxBNNiSK_n19y9g': [], 'A0dOr_yTQO0PyKPNzfz52Q': [], 'bRj5r9xr56CvwL7-RmB2dw': [], 'egyVdQEsFzwPlbj6v5Ih2A': [], 'dtW_ewHWypM5ZF3CqyUQmA': [], 'VRhFa6FzRUaPSayVfdLs4Q': [], 'AZTww7wN7EnKuAvKB9pE3g': [], '3Mc-LxcqeguOXOVT_2ZtCg': [], 'GbyqNbUnlJ_ZvWzPB8AqpA': [], 'aqrTv6QiU0J9Sxm_T--c5g': [], 'PDKq1UQQG1UjVRJ12weQ8A': [], 'xjT7ZajXAITENyJgftjbcg': [], '00liP5s4IKsq97EH4Cc0Tw': [], '8CYVg6GtuVb4yo0_V2_bQA': [], 'pUUb-AOxcwHJutHnsHwPsg': [], '-0WegMt6Cy966qlDKhu6jA': [], 'beqqBCKM_4aRPmRzCfk2xA': [], 'RWMiAe2Pi-7KTMjREoyxdg': [], 'NCc227GObIORVxUXs-KWvw': [], '82I9SSilxh3zL8F1UQ45Xw': [], '-DUbOEoenPbeJu35e9Ukrg': [], '07cX3Rkj85kDQ1drMMczaw': [], 's1500k_u6yScouzQ-RUb6A': [], 'IT0IODInyhKbG4a_ka71MQ': [], '3JnO3AEqRD8DbXkWP-gTFw': [], 'MbAsfN3wwV22K7GZsgcBqA': [], 'vrP4jcLcZ-qhYHaFj7YTKQ': [], '22sPntmWV-xqWdotZgSp8A': [], 'SFyQhFEbmRMCJO_Sc_pyXA': [], 'Im49KBfHINebC0ptNz8srg': [], 'fNgiXLC1eyVnxIVbFV9uFA': [], 'FxxXlegMzUymnCdx4jmnWQ': [], '_33-XWJONocBnsQZX3JGFQ': [], 'nfdNvM0HFCDmnJ5eHMnuNg': [], '5q3KXqawYgu5hd11mCXlVQ': [], 'AE80fzfVnsyeHiiVhwSGMw': [], '_VaA-tbZ7hmARwAll3qOBQ': [], 'KTOwBIPPIjTckBc4654B6A': [], 'ChyhR2xZrpy8DcWCqKhVQQ': [], 'tfebREoi6yDNNna4TGUQVA': [], '9iy6scMRbs5ue41XRLGEkw': [], 'nRneXPAFRMc9x8DrpgF3Yw': [], 'u73j2VQ3TGWdMO-AG7MABw': [], 'v04EmZIqReWVD_Ri3rofUA': [], 'eEPTTvCV5iHfoacwa43lBQ': [], 'nYDrvo3gTC3iXrK5mMbqGw': [], 'bCp4qpBzL_chlJtHbiVF5Q': [], 'IdLzooqPyvEtP_rv2eR6pQ': [], 'SOwXfqwUr6NWmbBS0tx_GA': [], 'jFVcpqn1Q85AEDGQDv91mg': [], 'xQtCOQIwrGIiDeHWVHdkBw': [], 'W-p6Tx6Wfj0hseH80JgDpA': [], 'g2Y2lnMmnOouvivEie9myw': [], 'qUPUCcBbn-ugXFSItXLmGw': [], '96Vw0PWQGP0WWrtcn8OPMw': [], 'Nz9Tk-YjE6RHQBOExYbNng': [], 'wTKMQD3nOwEKGZmtiiiGXA': [], 'Qa28KVKttuch8opQfVRUAQ': [], 'ZBe8UUQOgA43fz1M8jJ-4Q': [], 'UW-i_Pqv4HX1NVWC4yShHA': [], 'cUGFEQOu3_VsOpbvHGx8ZQ': [], 'Znh1IeGT1EbiQsZqg2Acpg': [], 'RlPiIdIdZWZXTWfSxCKrww': [], 'WN5ON423ZCOy3_4F6XYikA': [], 'ZGHynQJk7RagG2uNNAMynw': [], 'BgTFsq79xmnRkX0gA1za1Q': [], 'tWUN42qR7df6PLS9OPqPnQ': [], 'vrpW_ZIjHvsAX3ByyeHjCA': [], 'ArmAaGCdCVAlkhdtaT6RzQ': [], 'LRWNY71pO1KVOK3P6kam8A': [], 'MXI3o5dhAV5LA-N9WIABOA': [], 'VwwwBUwayQOi6tc3ATeKlA': [], 'sI9elMzIGVjqPEz9299nqw': [], 'P4atiaghQt2lnMUtO-SLwQ': [], 'SsxIZZtR_fgw5eyGquRvig': [], 's6oqPVuLpDRoKnrfFdRIxQ': [], 'p_22wrx3GmAzlbrGA6LyYg': [], 'IQVka-wzJmN3jw2W70aCzw': [], 'xJ8KByAD9p-laEmW1to_vQ': [], 'I8QpDTJUZ6Mk5IQuQSG2pA': [], 'c0exbGNQvCDJZLorPeYY7Q': [], 'OUSHMxGGyGXpah3qVPyBdw': [], 'KZaebYmt1Ewa6HDUuYbQpQ': [], 'EtZacHzJ2gw0V9Sdm2rLQA': [], 'RZdrNayqoUjovdoJ4GWe-Q': [], 'wWDNwNb6ygJorKujOuifhA': [], 'Lo_Bq5iTWHBiotOSkssIlw': [], 'yRLEsYBSKfBpCQgcPsatCw': [], 'vX5ma5Nwrzqwdz949AmVVg': [], 'X3qrbOkhdCjm0NTBX7T80Q': [], 'bjvjXLLAUIIvUrMb6aU3EQ': [], 'GboHJSE9PcqcAc5V3veS-w': [], 'e-gVqGEtnjEkunvQ5J3uyA': [], 'BUcyHikUyo4U12-3RvDKlg': [], 'jRfQX8enRhWHf7V5zP5U8g': [], 'kne4oWWLq0FFHLA-gWuqoQ': [], 'sdCdpWUKM7OnbqIBEYpkcg': [], 'wY89ma0V0g8U0G51_i_LZA': [], '1zsM7weLS8fNHomDAqCh4Q': [], '6epbU1SVzUleAVi_sYRw1Q': [], '9d3xGYst3o4KhDwhF2dFMg': [], 'SmvbMiF0CX7EFveYPAhowQ': [], '4aF5GfnVkJPj9IwJ2yxPtQ': [], 'ASg9gG8x4IaaYnePCBa2Kg': [], 'xpHrwe2X-X9K81TEz_W9Cw': [], 'CElwRv4CtK56NljAuCwepw': [], 'qC0Di2wDeUBMSMbz6fdYBw': [], 'XFzbArKwgdKYtG5VvT8oDA': [], 'hz2auCaURcLk13UHOBlm3g': [], 'VMr8sgoQOW0fo0qVJENajA': [], '3BGzRYh6GQbZz3LGAGb-sQ': [], 'LRnzpnNQWwpN3Bu24W53CA': [], 'MZ8KNacVO4HDUxVdFkfhpw': [], 'yUAwR_aC6QtSyjuJUhOEKQ': [], 'DYi6jJYhK3kTfaYn81tORQ': [], 'Ca3SuyPX1NI6SXuHQ6zUVg': [], 'X0Sr6o_Tx1s6d-o0vRAwHA': [], '7Fzb0bZbln6daltKa726iA': [], 'FoKx_RP4kUM-aiGo3wlUUw': [], '-RN70NJDP02wVcrg5yPO8Q': [], 'NgvsZvgNdi_qgQHG5p2_ng': [], '2Fcw-oZpfuktTURLfbkMmQ': [], 'IR_Cyp59Eby30Y_OhCTouQ': [], 'fQS7El2z1GGlZACkQZY0Uw': [], '2NICrHy0I5rlEJmlt0ao9A': [], 'X18dAu9D2Ca8ywNo_8NTuQ': [], 'GmYOYKLbwOcfI2mUcfOFdQ': [], 'sm0stXMEmnR4fjAAVbCYtw': [], 'M9gwHW1oIiIqjdT76yOBDA': [], '0vL4NTxLWXvKDXpILJPcPQ': [], '9PZViPPXgOrk7rY1-K1tZg': [], 'aFa-wfwfQ1rI3Zt9GZWA_A': [], 'yHBnxN8-kY6stmTUPXJDTw': [], 'ibrlrh9OpFNXktPhyO-EFg': [], 'puPY7gVy7RCz8bK1zkzdoQ': [], 'L_7sOj-PgMpUR4jTvEYFgw': [], 'Un4RxOR8r_7uQVuQWZJGeA': [], 'WFhyXqN6VwKJElj-BrRp_Q': [], 'ejYx7kPD_tNprORTvKmUKg': [], 'oHvWn9Xmg7mfzzj9ROS-8A': [], 'uytrX0s6etYPCcMVC07KJw': [], 'pmjwA8fI0scEBA7HRtbI3w': [], 'yydyoWCY3LJYlPwVLKbJ3Q': [], 'G4X5w5vRQNEFUmrJo6JakA': [], 'letRlza38L86aafEaugsGA': [], 'qvBkj8tcLwv2QMF9jhH12A': [], 'Wh0XHTqFMPdjAXEf8WdBrw': [], 'fhLa0bM7PaEmxDElpqySlw': [], 'IQ3wDfQYvE7B5Dsq7NArjQ': [], 'INvxViyj-cwOVqHMEM6jvQ': [], '6nQeNWD7ZRTGb85U7iE31w': [], '6WlXmH4A3xi3c5gXu6XR7g': [], 'pSQFynH1VxkfSmehRXlZWw': [], 'mKybTX2TTB_f_q9gj0s85Q': [], '4BZ7jlzQBAP94FZNyHr2dA': [], 'RiBGaJb2mdNdI49MobktEg': [], '2IBupUvfmmPBrUupMuBETA': [], '_iVzL7-3c7ilixsY4Ox_9w': [], 'hgo0jDweUcHMHqNDnQQm9A': [], 'D2Gv-cZ1IYVuOH8f51-cDQ': [], '-oSII3bw90cvyLmgsHgmpg': [], '48ka6XH8WWANuHwqL2mZUA': [], 'TT68Q6iHmIe3zdETNKRC6A': [], 'Lz-NaIgM3wrufIkDna7Siw': [], 'x__C_UceKF4bWSRZilWWzw': [], 'cwJtI1JyX06CU_mxqCU2rw': [], 'UPCGUE7IW-sXriyEvyinVQ': [], 'fLfBoxoqgDxRzPMJIr3izw': [], '7zplUDSAqZEU172XUENjYA': [], 'xC4PkiUNX4MJJSzEcQGgiA': [], 'i7fjQN6oMHwWdIv_V-26gg': [], 'K4isdrdwV3GbI52Bv2Wq6g': [], 'E7wKP-BVnWlxnbQM3StOxg': [], 'jca2NWkvTI3cuqT6P486Hg': [], 'ehMxdQ9FfF4uOcGPKNWNOg': [], 'OKhn76bvFP7fQWiFAvmZ3Q': [], '8gAVn_59kS2IYl0-zH-zJQ': [], '0kag5JGemji05P3oxx4lpg': [], 'Tm2DFUUmtgGDqTbrlI--tA': [], 'idwwA8MR1e3tmuOwOnoBuw': [], '2YDCiSR77FZV5_L0UcaGbA': [], 'b83NNHvvWQk-DTTzs-3WLA': [], 'wcNvlrB5xSxzXex2M3UyvQ': [], 'n3WPGjxOOEp1qYgOS9mRSw': [], 'QBh70QudGmFswwhIRCsS2w': [], 'JBt8jji9QioGD3UkT0a2Hg': [], 's3qlN2qXGusJAN9yM80Y2Q': [], 'XWafv9_J7TUOO4PbEcIFJA': [], 'n2tiSHECXkFv47aIkxvSDA': [], 'VVxf_sOaHqLzFLDMDYUpVA': [], 'B-gmkfNy3SEvAZSxXtWACg': [], 'jUQmWbY3KSCyxvsKJmPJPQ': [], 'xRfVC9qEuftrZFyd-D4BHg': [], '4MY7GU5wLY1MSN24OoXI6w': [], '2GEr8-FpENQQPdmCrIWMYw': [], 'Vd9XJZ6A9PXS8S8hDPByHQ': [], 'c03VRRVMplkYyUQJSfT03A': [], 'L89gTBsMuEUzSex9Hcpdng': [], '15YuEFO59yXd7BTO5NZgYw': [], 'zqNgwQjj0_XAll-neGikIw': [], 'omU26JKzbqXhugm0O2U1mA': [], 'vW9YnwjRU2NetuVSlYaDSQ': [], 'jAhLbtc8rKgSW38NbohvWg': [], 'SKpg4zgr83YPZ14uzhmn9g': [], 'JrEMvvNR1rUVkAMvPPZYkg': [], 'dD6JQo5tCNtOtauaLaT0sg': [], 'knyRhFaM4Bwa8AldEbOiqw': [], 'HXdPqrO27tANiLpbCe9BVA': [], 'u4bJ9h73caE4NFSs3OYHrQ': [], 'fK6Y7qF0ek4iR_Dt46nxuA': [], 'j0_gBQTGWhhYAYhK4D83Cw': [], 'DAq138vjtzNGJ13xwLpbvA': [], 'uNBNM5Z2eb-oE93jEfQSvQ': [], 'KhEAQiTeJDvBsXHe-fm0TQ': [], 'e-Hw1QkvwM2wN5Wm7p_msw': [], '9vij1n-WqXnnEsgzmwnoXg': [], '5diHqpk_JSC4p8tIo4APow': [], 'UW0ZvqEj7laMZVHjcwwc1w': [], 'FTP0ftOVhhWmCFR01aDf4g': [], 'SMkMBsGy6oAkv4r1boTCKQ': [], 'q-QMaTNJOC5xoLQF2QBdVw': [], '9kk7eaffUzXwh-KLmKLxzw': [], 'xFN8mRubo3G0oIzJwc8XBA': [], 'bcYfyI515Ji9RcMecDCl5A': [], 'w4CqCGPubjKRpNsBsW7W9g': [], 'k0mc788reYpFQ_jjcFLFQw': [], '5l8S70308R_Osh3hm2zj3Q': [], 'mdUjJFZaQoydAGadzFuFtg': [], 'KUq5PFdHvbvVj6ubJ311rg': [], 'LXKVQdkTXW--JcB3ahZ9AQ': [], 'KINwOxtH1i1cosVlCQR-sw': [], 'EQZHjgxpepRMnzo3hGdLMA': [], 'bVTWcZWhtJc4IjWy_74CYQ': [], 'B_gb0gTg1lzWZ9RcIiXNFw': [], 'RJKbewB0SzRZpIvQmiF-dQ': [], 'eZQbDYQTZk0_cBroVxnPWg': [], 'eUw1rm2UBbpMQ3Vi5okzPg': [], 'vyHckzyE5FNJxqt2QMFnqA': [], 'o9uXSzwBHK-BHu3JDe3q_g': [], '5YVuL6DRVzW-b8mBsJr93w': [], 'GjT8ZitwOVdP2ttJIam-ug': [], 'MGiam1wVe77_L7tLHPCyBg': [], 'KCVnCb6TvTzoDp4t-Qf4wQ': [], 'GS6_G2gW3-OKUV-IItPxJg': [], 'yhdhklGlRsoeW-x7A_pVmw': [], 'V2yFOyq-4cj7dUvEXyMiGQ': [], 'rIzfzSK7MWuixRbhLgN5Ww': [], '3G4oBmMbsljuOydzmUhOuA': [], 'y67pseEFUKGgb3TGfS-7Ag': [], 'v_V9CHAMxtVO7LoWjvdR0Q': [], '7bn0TeKgKB0dT-5HwT8Lcw': [], 'PiSHKXidMvVMGpTkWO7qiQ': [], '-7HB0UjguXW8csOH9svG4Q': [], 'FSRo44VhHZpkyQ_uht1AMA': [], 'OMxgLbrSCEU12265nz9JVA': [], 'cRuShqUPD_QD5faU6S45sQ': [], '8QfDxSuHkXA-sv5wcfP4Zg': [], 'j0baDQfMAGDm_QGdFMmb-Q': [], '_2zteKyb7si8VxMpGNYpxQ': [], 'gCQscFW3aVBNE-PehZ13ew': [], 'Hb8pO9jpr4IeB6cFcVZxxA': [], 'xTMkZYKEsPwuDvsjyl3BFQ': [], 'EuPaczO6rMpDMrn-GtE_eA': [], '-Bdw-5H5C4AYSMGnAvmnzw': [], 'VasgFCcYS8JUIdqb5KsPAQ': [], '-fbn41vLse9LoEj72x_BTA': [], 'Sr-DO1Nt8X4I4Pjxapwz-g': [], 'ILxRQHFrE-DJbNegVjM4Rg': [], 'dbMaHYwlEzLXRuaGc0jXrA': [], '9SNebKqP9jtwM7ebzsu3nA': [], 'jlFXBqjNIJFHOTpE3tLgjA': [], 'OnX2tH8ocYCVbMgsSOBXxw': [], 'f5UraqUh4mRlBkykq3Dj0A': [], 'iY-qwquw8Wd4yphXnhnFqQ': [], 'TH_Vr8_LCnAXFDUqSkF-HA': [], 'zIKVlRqz6NeK_zDvTbtX4A': [], 'if2ljIFY32LEgRJZxRsgrQ': [], 'TaRpPKpoANfKd7av6KBMlw': [], 'XHidP878N9QMg5V-v7QrkQ': [], 'ftz3D_j4h_bEKcqwr9hEpg': [], '6D4L8YpkhAh_YwaLmhoMNg': [], 'PzdI7yM9GrufH6oavO6odg': [], '51o5zY_7CEX9l1oNhFP-ow': [], 'iIjVO7cLD1UEmIO7G05Ujw': [], 'fDqRqsEHHb2njcFZ17CfVQ': [], 'IWOQNyRqWrnqQA5K49eK5g': [], 'aEs7Qle2Ah49dwaf3QNU1w': [], 'BcrTHaJULDlB1XuW4RIb_Q': [], 'w1S46TdjMdQj-zCZoXPd4Q': [], 'V-Yz9Z1wSBcZtRcd-bnIeQ': [], 'uhyDNWYRSsom3VrFgOgP_w': [], 'jBnI6d_T78im3PQLHQI_Lw': [], '6kDFBie1nkwa6GgpgUpKZw': [], 'xTW5PkLEdMBs2f2W8RGy0g': [], 'c3ukNv4GHicrT6K9G2IW3w': [], 'tSvVaNbF7SIRrtOgPVOXqA': [], 'VyVIneSU7XAWgMBllI6LnQ': [], 'D-EUh2YgvWGNyhg4mJQcHg': [], 'Id9B3nyNBtdQvJeZ4D2ZUg': [], 'vOK_dCDl39hd1IhNH4TDUg': [], 'JQYkVnUzS5vgFxZgCuW7ag': [], 'pneBBrIzd3SCbbglYRTBZA': [], '1CONjsPUXzIqAvhD57U4dg': [], 'v80Rx2UVjIkOhh0hg7lerw': [], 'SqL19z7A7LB91RkWWwWvnQ': [], 'BOSRH5BwLs97xgtfgu4Plg': [], 'UhSMiTT66glIIoiL9UI-fA': [], 'ZUO2WHmrYaorjPvf2D26iQ': [], 'ywH06bIFXJ5q-H5BGHGh8A': [], 'Szcr-yMxq76zRaSTUapAcw': [], 'moMLPfZhhhmJpJYZHeManw': [], 'cA2ZGg41C-KEuHLwXxoB1Q': [], 'O7R1GSR7FXQ2tlqESut0Yg': [], 'bVwFqYiz9acU1W24ZmYofQ': [], '89Eqssb01O4-3-btGyvXoQ': [], '4qqkgaOXoIgniMqbEiqqKA': [], 'leJo2p90gVq1JQzR-QP-hA': [], 'kplbTXzOaUJqP2BwanoYjw': [], '-Exy3mLCqzh-MMIqeuJ4Tg': [], 'aoJQfrlu2btOR8GNpm8N8A': [], 's9pNf8FxAsaRUUJHOt2Lxw': [], 'rFjc-gZHi19hNX478Gh1IA': [], 'U3TUTWRqbW9WeLeWMxi2tw': [], '-X9QS8l7u5R3CswmfZtn-Q': [], 'n2sA7raIheUCgBq14Vlt5w': [], 'JRz64jQDDMe9BjkRM2l98A': [], 'B7G_2Hx8Rx8l6oQ6K3n5Uw': [], '2KIlQsIHwYMkuwA0T4OKrw': [], '2UQESr5pUBW5hHf6Y0XCIQ': [], 'zfiSQ1dl3vTJ-og96eqXGA': [], 'zrDi4gEaUi64lAMfJU51dw': [], 'oXr-wAuiMpxdltTbFz0T7g': [], 'IG8nu82ybIyAuf8pZHcV5w': [], 'nIsfnwlnS_9TieULU4Z6JA': [], 'L0efPRMk5nO99cJ3yj7Pvw': [], 'CFpgYPIuY-gSMdW1Bl_v0A': [], 'TulmRC5V0--dnXYd_GOSvA': [], 'dunZ7E-LwPvkAS6ERVa8gw': [], 'tSZRVSP6xazrh2CjmDU3VA': [], '5mcKhJwQVjZcVncUGl2how': [], '0CZ4opKkec9yAS8qmXoWdA': [], 'l9B72QwKjUhEA-pLumCa5w': [], 'a_ai1uMhAqQSYaO_QNmnSw': [], 'sk6Llx6o8PTsokVOpb0aAA': [], 'prcrTVScKNTfSu0wcle0DA': [], 'Jm8q8_hOH8VPmLSTMqF9vA': [], 'WHdLGsP90V1qElgGYwoDDA': [], 'tCkd8eAx2mR0oioQcqkxPw': [], '-Gy0BAMgRN4sGlY7theqxQ': [], '8eYenhtCw6cNcy4PYmiSzg': [], '6eCbK0Fg9N_DbdluVQx-pA': [], 'm6NqXv33v6d0r5YUx_RYJA': [], 'yyOuY5jf_O-BNtLGPnV0gw': [], 'ObaUu9g-ZKprCl2XmYL5iQ': [], 'rW5N-fiNhqb-fR3bGqyPdg': [], 'lHgr2wxDiOcEt3n40BcKmg': [], 'vgOzBujwf-bnvlG03WHBvA': [], 'du9_QFb75sxzKnLLQwSkMw': [], 'meLoeZ7sXUNVPxmKkyMI7w': [], '5Ckj7YURoNqFrsFQTJVVHQ': [], 'No4J94dnQdk33zE8rBfuIA': [], 'GES2syJEgm9ZT-KMwqiYYg': [], '5Ks4F3IOvSLi0KePlhr-sw': [], 'lCI3S_Tb16uW3TOk-wMizA': [], 'CKoDbOpF_CSyy6_lttqjKg': [], 'utIA0LyQmwP-9DRyxUe6qQ': [], 'auB5N35tEmkczfiv915FbQ': [], 'h96UFhWMM6k2xGgvmMoszg': [], 'yzjQvTWiinB8pmbCMu8vuQ': [], 'cXgXRqB40CGHEMKQgxLDTg': [], 'JBrBsKpw0bbXK5nlrXVOYQ': [], 'SBDq5PMLK0-gPVl-lsLQYw': [], '4f5-QS54R7zEqzKfF4Wfkw': [], '_xgDiYr60BZiXaFmSYGgKw': [], 'HVsQftDkmNsI2GGyy0mjig': [], 'P5HtZBRfwsOWIVkCrGqGyw': [], 'dmLMOm9mXO-Hd41UxihOqQ': [], 'G4PqbK9aigbAynfrjs38Tw': [], '3nEtb-rn9yW0ocC90geMKg': [], 'si0aURvXxdwP04oJqkr_zA': [], 'pcreu_9klIorF3DTguh1Rg': [], 'pg-_MUt7sSCsBqPS2Y4nxQ': [], 't1XAck4oVs41zQ1gtgRGAw': [], 'futvxFkM42RYxXr8ROogBQ': [], 'cQNGkOyCvnIqs78vO8SGJQ': [], 'Y441_3bKYom62PQWhG_5Gg': [], 'htNS19kbvYpQ5FfW0_-f8g': [], 'oXnI_pIh9byJI-41kukUlg': [], '9GpUmUTIbQOviFytRbajZw': [], 'b3zsV44_SBz5JLwyfiHsRA': [], '25c15dEPrBrWr4tR1r6sTg': [], '9u7knPXVCUOwnsz8sTTT_w': [], 'BNTERBvasuHNDSnUOe1aSw': [], 'lqIgEf9grwRWbjH9_ny0tg': [], 'VeA8qnAFhYk15Ypyawu_EA': [], 'D3ehpx1uKG5aLuaJgztYDg': [], '_jJXl83yK0RiKsvVgAzXTg': [], '7JYjXxB9tnAeSn6-NNSq8Q': [], 'FNx0eeGlerLuwXVnncD93w': [], 'VZkIgQTE4M2wePpHUs2XHg': [], 'qablZKWgueQ4UF_QRT46mA': [], '6GCbZASjMnAPYBWLc_z30g': [], 'y3otpml08iLWdX5RCrWnbA': [], 'RpGtEg5zv8MtbIVPxMRj-Q': [], '7A6eDE4E3GzFao8BjeM9yA': [], '83WxQY0j17oZBleXUIBeAQ': [], 'fjw5xebe39HCAxChUmR1hg': [], '1_5fQbRHciJUinP27yWBww': [], 'oT-6H7Tp6ZNbOx9-P5e8xg': [], '0XMOCF8omuTYfhkNRz1xMw': [], 'UijRV_R2aU8-V3aAx2ffxQ': [], 'lMvPJEzcPoHdeQLu6_LHKw': [], 'VBoyqq5lO_H-EJO6MTwIPA': [], 'a5--WEPUdH7smreNuqj4aQ': [], 'WibVrVwJAD5gZC3DqAGauQ': [], 'z0vzCyS3qD9fBMbFSJBXJA': [], 'BzChPcJYsg1guEhyDMgVxg': [], 'wxqx3Jxlfo9qTtIQ782fdQ': [], 'oyChBi-c_z_fYeP6aBXgVg': [], '6rN_wreWNCl3wLNZYZCYOA': [], 'WBxR9IC6E9-4szNzq7_Y3Q': [], 'UUtWoDyREiy9MPdtTRFUYQ': [], '5KAy9aeb4z2hSrPcMg3K0g': [], 'BiRYJM5VhpHTwACXjiFRwA': [], 'OWMCp8jmbjouogxcKarQFg': [], 'k4qx8DacgRbM9vpVbWc3zA': [], 'm506zjQ67j0msTfANwB6RA': [], 'HMifRnUrqrMoQXKCOXYfPA': [], 'gF_kjG2RU3lKZ7hg6wkVbw': [], 'RN0PTeMSF_eaeXN6VV7RwA': [], 'nPTvNrnvL6IuBbYnGOaDSg': [], 'xrnkqTUsYJyogfinamb3UQ': [], 'IP-wtj3oAlz4uy-foRFEqQ': [], 'zdaiDiJrAkmsZ-eOxBfCfA': [], 'ULixVwbmLi2OL_CyGrh6vg': [], 'MsMe7gI4WZf6DjmQKqNweg': [], 'HiKmHjKVMK6gPqHwQ9BDYQ': [], 'BiB2s3QNpzNJmGOqtNO-xA': [], 'K0ijOKoV3wTlgFZKlRMrhg': [], '8F9C5vhDlYphBWELUgLkvQ': [], '5ViysgPio0TAs7LAa1nT_w': [], 'EnDm1TQPMrVvq0nAZqeWaA': [], 'sVSDmXjrKr-uhhVFes9HCw': [], 'auDjameQ8PKA2cIwyI5uQA': [], 'ocpUkvTKGS2q_etzVAydaA': [], 'yo1G0hD855DYmU-YVlIKcw': [], '0xfVubbU3z8O2NcuEYSQNg': [], 'Z890syqhhoShqFnIyIu9EA': [], 'J1gvlBxU7_YqgYDHTQIgbA': [], 'rNNVuA-xq1SVEQaLzrK4bw': [], '9u73kkPRSOpIfZ-J2RvTlw': [], '5ltISbdTqooJBhlbzaJgFA': [], '2pWFsnqMlYSPFGUF4Vv38Q': [], 'I5Xxk3yWjCJdJb74iWFZzg': [], 'ESfsx53IbXxAfML8sTEe_w': [], 'edAsnlS8eKoPKe5bDVfIZQ': [], 'NdXVQ6-36v68UnwtLPjx7Q': [], 'MKT77UstJ5PAWyLNTuWujQ': [], 'RzTnVmiDPChwkPnQAIGUUw': [], 'TPvVGmT4AY1mloktV-2Dpw': [], 'lwPLBi3U3HKC0fpXSkyUwQ': [], 'OZqAZkjhV_nyHsbnKaD1WQ': [], 'jz4lgoy76EUsLvhcFYgHAw': [], 'Jl1gb9MFxSotVa_MuWSH5g': [], 'enFKEYgnUg7Lq4nQ5VaFLQ': [], '7fMHy9zYXk7ygd3-KOYcig': [], 'pRVZcwZ-6uhfqRjZyTdCqg': [], 'Q12kZ1lCYGLYYkSvZl1Wtg': [], 'Q95GX4nSJlniB9t2uyWCnQ': [], 'T8o6QqNkPoGoxBEwW_jv_A': [], 'tt9Jy2HBhkKpEG3KxFX0fQ': [], 'paWti26uib0RmBJIn6xL9w': [], 'NxjUiGBNgyDErKXnmQ3s3w': [], 'K0Odlnc5zKdDPwHwvQvEAA': [], 'X4umyF5BPas6qgMXm2XKmA': [], 'dQ8kST_dfWcZVcLlIk7yRA': [], 'mFTSdfJOv4X5t8LeeY4nJw': [], 'zy6Hzao6lTmuJMZo4BemIg': [], 'ff5aIBso7giWH15qOZiLYg': [], 'ohDvHtWVpCJ_6b1UrjGRPg': [], 'FTJnAmU9XKJFAYsBjvYAJQ': [], 'GF-Xv-NyAXh-xCC-PJq6Ng': [], '2YZTrnj6XdSUz51KT7yo9A': [], 'IgXg0S7UlTY1SXPED_WCRQ': [], 'hRL_qCrcu9UL773su0QabQ': [], 'O6rGW7A7l_125-xzTZkRLQ': [], 'i3tQsfpdKoXttqp4CFLA-Q': [], 'e7bcP2P8WO0NFe1DjjoYQA': [], 'LAXd3Y4XSy4X9iaHFwqK_A': [], 'Sz33V_SCMJw9fhnIOpZrmQ': [], '24YIAXzArY1w2GXzoUbcmw': [], 'T0JJDyxV7sSk3kuSWGKvcg': [], 'Iur8bZ-qKXWl_tvQnaxVzg': [], 'OicSihRji2HmUlv7_4YEBg': [], 'BgAV4IwXkd8gpuyUJX2wnQ': [], 'OoKNxTMu5YAaNgQKQ4SrzA': [], 'OIsL6LNFoIfwjGlRCrp4KQ': [], 'fclGOiV9Y12ZVlfudWH3Aw': [], 'Yuml4M6_FKQNaLlOEt1udw': [], 'ms7cmWkPiSBDTnz-1sv2kQ': [], 'vDEmA4KkKgP5htnp9qMHbA': [], 'mVDXeHkpWK-GNqdi7fN4MQ': [], 'DDB1Uas9WaomMOlANDL56A': [], '3sOS8wKatd_Uoa9VEJHhrw': [], '_HGz-BfLYJlShdz_eg3BOw': [], '06lCNuSrCnaU6eq0EV4PYg': [], 'fCJrZIzz85_8Uhf072QVnA': [], '6QaJkNUxgAfLeQ8hrKAC5Q': [], 'D5H_unBtIAOlnnUXo-GxyA': [], 'OJRXr9t2dJujJF6PzcnYvA': [], 'joTw5858fDh3Y_rF0NDOsg': [], 'u0Gx6NbiLTDkK5UQqYfOYg': [], 'qhXwFR1kCJW23ShXCbBAhw': [], 'h8HgbmRmLc934RMgCOQVzg': [], 'GUW9GAZyU9MpgkYsPbarow': [], '4_yC0H9EVUFDmEj4sNaMiQ': [], 'Edq3REDbBfss0WQu2Ta93w': [], 'nA3DdgIQVROeQg98YCyeZw': [], 'pEKjzT2jcUhAplOg0Ahyyg': [], 'pOtdsa2yiFeNs4VdoAGGqA': [], 'SxelcKtJlN6X2Vlak0wXHw': [], 'cezXueCCEUYphNJ_jl9PhQ': [], 'HGLMe4y0y_VsBkDLdpfBLA': [], 'XOKeMAuRsVkZARAnv2k7Aw': [], 'GC6p25n0QNhRWZw6YMuMcw': [], 'xZhNZb01n9b4e2X7bZdoVQ': [], 'hAZxhVoGC8kAxg0F_k7DqA': [], 'cAeaXtAQrbRGVcNTdjFg7A': [], 'WHQA1tr0dztKcCQUtTT3sg': [], 'Chv2JIBZ4nxz19u9A5BZ8w': [], 'OfqTPtPSQfCVxaSlY4qAxg': [], '4CjwUcaxJXGJ5foqZC-yXw': [], 'uHmOKM2jZXhah8BiRP5ebA': [], 'Q4p5JuoP3VeekuK798oY6Q': [], '3YR3V1fuYu7UEzDyTVb0lw': [], 'RGy6tvBcs0J62bNpVNqcoQ': [], 'zoOxUVpuoar5_9KU61CLFw': [], 'RhleYhdR670avsJTp7MMUw': [], 'r4_r7Cu0weNzNU6LBGKqqA': [], 'CiGvnoHtvvzra2RB23lNpQ': [], '2zB-y-kobzrMXs0XMjavgw': [], '0PjS72Gpftbndc_56QYtUg': [], 'hy5bDUPEODQ4ESiHHMu9aQ': [], '6rYnfSWSkyXnlD3Fjep3PQ': [], '0H9bomdciJmcqfojkxLnsA': [], 'ri1zdmUyuVxouWwSmSFDCw': [], 'EDhyjUhc1ECLRs8ej4iggw': [], 'wRx4bvyRc7-jHhs2NmrocQ': [], '6R_g0Lrr-dOwSx5qxR2vHQ': [], 'dUkyIdP5j4vPE0uFnDfaWg': [], 'oN8LWCHqpLguNYW6_Fk9Cg': [], 'ErHMVkPstNyefb3ZU_z1Cw': [], 'WKWxHzaMC2ZXCaGBscLppA': [], 'qgAZPDQStZP_Y5XTiQ6UqA': [], 'IKpVBsOTixsnoU4r0Sc42A': [], 'LNIS8rtFFwSvhgYlMc542g': [], '1kytABjYhj3naF4vLQEbYQ': [], '6hRbVaaHX0DIKbxy2PFiiw': [], 'VhttkQtK6wjs1HG_hhTEQg': [], '8CRXSMiyTR9DOMOdrTDRUw': [], 'wfmYCzluRmE2bZMOrityUw': [], 'Ax6BS5f88QI7q33zBhrjEw': [], '0AUdqRDyqxOB8TZ8HFettg': [], 'qhH96bvvVKUZhZUMrzGaYw': [], 'YnG_jzhS3is9BhxbupcQkQ': [], 'w3XZf4qnRUE3cSQZVcaSMw': [], 'RqjvlWbx0LScWVZnG_P6SQ': [], 'Q_jyWN0oQPaAWO5PYC-8PA': [], '2HD3Y6jP3NBdZa9ub23KLA': [], '7vPI7feAokYh3ZN9a0drOg': [], 'ppwYJPfE0tpSJA9X8l54cQ': [], 'SNJi8rgm_YUX2_iOcfDycw': [], 'llCxryWr8j1S39tusYCWxg': [], 'xZtKQ6AFLh9P7rfmjvVjhw': [], '1BvWaR-5EcODm59zRmNKkQ': [], 'dGhxlcnDVihFBaqJ3yrfMw': [], '7k-d8CKK6LAiWlHLpx7uIQ': [], 'fkT5dB6DuX9k2FFvKRNOzw': [], 'YJ_nOxPvADRDVRpNi3WSCw': [], '15yP8OOhUcESzYbLcm6s3g': [], '9yESUcIVarhYEabIMj844Q': [], 'Zx4CreRji7Dxgl8iqa1DXw': [], 'GQAvKHDfuBws7312iIqX6Q': [], '0ebavvJVXAzKKQ8C9cOt6g': [], 'VoayviMR2sm4C0CSh_I8Nw': [], 'zEkDP9LpHKiy8AQcHECc4w': [], '0N2y8rNxbet6p4UIBWTOrw': [], 'r_kycu2UsKLFHsckgAeg6A': [], 'NyuhzRo0wp5ItCxv7MBGNQ': [], 'NDCbgCi60N1eU1CnyhiSHg': [], 'mUW2zgEcGVV0ISM2X208Yg': [], 'NoVhmZpDGk41i4tQgApKHA': [], 'fYLCKglfKHjgzcOeo4ZDaw': [], 'DTvcpHf2gGKgSujUVXA7sA': [], 'D4xv7_wwYpZEZar4DwwYYQ': [], 'rIaO14rf3RQ4H98K9I15-Q': [], 'or4UVDjXEEjze3wNPjoAZA': [], 'NdXgEnEpHrP74L1oZtdsBQ': [], 'PeAVCjePbJ54UYZ5l4iV7Q': [], 't8uMbYL3qcuD8AkwqNprPw': [], 'ng8vj7q4kFt7d4Ud4lBhHQ': [], 'Wpd_2mn5d792KgPZUOOMHQ': [], 'c5vNPZlxyfxIC8l44SGmXg': [], '9meJA6ap0hf9pjmJPweaTA': [], 'bP2TCP9CFqIdM0fCsqxHow': [], 'z4IWpQjYbu48FoUMDcHMBw': [], 'acUEny04AjPiKC3zRbDYYw': [], '_9VQUKCkYWHfUTnxbn4O_A': [], 'BMknWMDDgwdDtPOc7K4fAw': [], '-3oxnPPPU3YoxO9M1I2idg': [], '9ULcHyUTN1O16Vr8KUMQew': [], '1O4E4Ott6nnwcpRo-m5Utw': [], 'GhWMl0J2gOOH61BhBMTAAA': [], '9gLFnkwRiSppOBu3Snxkgw': [], 'LIHuRVXlR_MPZTJZJQMQGA': [], 'cKBLWGiEe0qtyzhuLTCVHg': [], 'cwg-vryx4GaLO3VJgj80nA': [], 'nvVPoeJYeaQ6QThnT14rcw': [], 'CE6nIZJVgxhpX7oL1cbrzg': [], 'I_0Zb8Y6PKBGpZ192X8r8Q': [], 'qvWi5xK0IUaMpHSe8QVXxA': [], 'dh9pDbRaBl13yVzgFIJp3Q': [], 'gsh-kcWxR7JHWxYEDXmS8Q': [], 'xD4rcgDRH6dVtAa8iPevlg': [], 'piHJq_NDrOh5SYk3AyQVOg': [], 'ZfljcnbWKkRvS4RXjdPc-Q': [], 'okkgZzoJip30F50mTUc2Rw': [], 'cm5pya6toFXn6sJT4FVGyg': [], '8dyjXedDmgqze9AJm8onKQ': [], 'my-7Vuyb0_e-ciCjtacOIA': [], 'kRgP3LxO2ugBrC1YpWLncA': [], 'yA6dKNm_zl1ucZCnwW8ZCg': [], '5XCunhx5uGIdzOSCAjEEWg': [], 'y5bQlEMCMnYba9I5XRzlzA': [], 'tUrzToG0DOOO9gJqoWSRnA': [], 'HqVOhNqZxv0XdgrMBPaRCA': [], '7n-7QXQUx5bVDU--WImWIw': [], 'HNds4Vobccxa0U4m6XhGvg': [], 's2xpXws-b-bSIpWIssvH8w': [], 'GjjSC7aAXdff8jERc3URYw': [], 'sByhyN_S2FgNnPl5pqY0Ow': [], 'EQcnE5CSswBFgOQS5L0ldw': [], 'e_EiegtyrgL5TdcEjEHuQg': [], 'RWAgNm7kFVhr69XEZsccYw': [], '0BlfvOIiqur_kp3ba3dpFw': [], 'h_aDhTBNXzMeVpe9DnSTVw': [], 'XT8oPoBfwqm6vz7MoJ0OzA': [], '9uyPRXK7NGVXpMKpbOhw0A': [], 'qcZvV6eWhOJ97LtArnk7SQ': [], '-faYl3ejjjm7ciR_j1ke7A': [], 'C-XK1u2zybUaMODcPOd5mA': [], 'zrTGcb83AsfyVTMrsCa65A': [], 'QvHybsk5_SnyEMD15izeeQ': [], 'BK36XTi5YkfjAaPyWhMS0Q': [], 'U0lLR_RvvsdgGeaIKkKPlw': [], 'YaqRTRPCHShfs3_I0KiAZA': [], 'Br1LFHRSjRTdBwE69I3xCQ': [], 'a2ZBDIXmwBm7IWnXR6LK-g': [], '7RQtKXBWw9DFK1mFZPIjKw': [], 'H2RgkjPs3W-CxbyygCJJew': [], 'r4HkiC71nB9k8Fe8zIORFQ': [], 'HhFsbbmmEg6vgjXnRJ70HQ': [], 'hncn_z4TKAHPhdofrGV1Ag': [], 'frX-b80axwh3FMEPGA5bJA': [], 'TXU6j2y9Nem41SxxUUgA6A': [], 'rSasUpdyJO0sSC-UoOj38A': [], '7pFvRwpwxRc8qf6eTWY6kQ': [], 'LZi4Lp09bKdyXOCAvwF9BQ': [], 'GGecutXeoEVlYKoxVo2WPA': [], 'ziTL7YYUZykEWzGEvO5Gsw': [], 'wkmyYAEOLAXz3J66Fqu3Kw': [], 'b5OTjiOjEg_UkmObTVnf2A': [], 'p0Rp4bJBeOLP10KBRmjK2g': [], '-CU5HV4sYkBuwdfyOWZEDA': [], 'TVYJx5iUkLJFiuiXc8rxEQ': [], 'WoID56FDDVQVmFpLa-3UvQ': [], '-_5dPMqd2-dZh8xSSmw3Ag': [], '_MzJncLDDFC7-0QLt1KQcg': [], 'lu3eprrEXNLQFDlzmQ7OfQ': [], 'mRxUCEoUUe-XsEYS1SlrTA': [], 'KRsANC7TzP97KMFRA1JqiQ': [], 'HrXrd_S6cDbSjpsRxIGsog': [], 'QabkJge40HuVZGrlGr8W_g': [], 'oD0jiSMgsQkAxScxOIQRRg': [], 'A8y3yc_-_cDrHiApqJlx-w': [], 'GHLCTktW4li1QpWJMoDyEw': [], 'GANLF0zuStnmsB01tvL-oQ': [], '5pDKcvD6atcPJmbcm1AL2w': [], 'HwDU5q6Q5Wm2iF5p7Xx-Og': [], '7s43BalhWiHze8ckwZpegA': [], 'JznTpiPQVpfnV7mEw6PpOQ': [], 'aqONNC5onqX6EqHHUO1CJA': [], '7-p1-QG4a1-kWoPFI2mUYg': [], 'tBI3XM0RWcgbrRm7vSVeSg': [], 'i8nem7_isYgxPgEs1UV_xg': [], 'uZ2zuwOUwJ63ETKlHkdijQ': [], 'vyEetoXzGq9vBTWpOu85pQ': [], 'wGlqQMJA6zlOydoDc12wGg': [], 'IrXlXhmSHlIllxZSAARjLA': [], 'TxaUpMtBLqXBe8wIJ4x6oQ': [], 'fKm6mfATDJRDDQH0PtZeeQ': [], 'yipHhPQlCBmQnmoe-J3rlQ': [], 'DdlJsYusOm6iudcm77CPxA': [], 'DgHXVoAZ4XzbcQMahuJCbw': [], '5sTFevXhGx01eLT4wF7Urg': [], 'd-OBaAzzmDLXBOj1EQYgbg': [], 'Ha3a9AAVZSQYm0zIzAItCA': [], 'xywadi1Prn2yEolyVoss6w': [], 'SMjW5PwE-ipj4zrRmR2oQA': [], 'pdr6U7qSa9jIivVy_glF-w': [], 'ooZQt0jRqrJ_ejhjP8C4Mg': [], 'JT9krwpag1O4YRjJy_ZA6Q': [], 'F6981E_sIQLhPzImbBagAQ': [], 'WB7346WSdkTHvtHfWPilaA': [], 'R-sEoZXf37pGzLnid7s6wA': [], '0U-1Wkl7y-wv39qM6WKL_w': [], 'jWe6JS8hnECIHWt9tUsnfw': [], 't2oeG8yZHvogZOHzOE867w': [], 'B1jlDEUrVyPgR4vOMnaiKQ': [], 'ano2kjGRGh4rSWMrM5gqDQ': [], 'iiz0wom947D0Cl6Z2hxgRA': [], 'niqIaJy9UXu-DS7BIUvUoA': [], 'mj_E2SThbggt-FyUaE1DQg': [], 'g8ohH7aReWLSUtbLtxnxLw': [], 'iPa__LOhse-hobC2Xmp-Kw': [], 'L2YYajGiMs1j1UXZpcj4Qw': [], 'UAIOtVjJrzz-LGCg7eZvTQ': [], 'JIETwXSEGIHMNyxZVEnNKQ': [], '9OwoNe9ksUeU6zYasGhrPA': [], 'qXoVYptJRQg6Jt7NLvGv-A': [], 'HwjhWHbNp56t-dRiv3-wPA': [], 'pHpU8lnnxMuPWRHOysuMIQ': [], 'DS0E9qEyVTyV_BGWoPgjGQ': [], 'M3tvxyxkgSuZD3vVjlKW-Q': [], 'x2Ckn6HgwUP4loclkSyhuw': [], 'xEBor41OFpeeKdcCZ2sfMg': [], 'A_mXYtarKK_N2XbyU52k_A': [], 'szhJLmdLDVFTevm8fu0T4A': [], 'gDOuHjntsN37XEjROoQ2Aw': [], 'fiu8-TwN0ZwhtRCbrLE5oA': [], 'wAsbg9iF8f1DFNu7x9YCzQ': [], 'kQwmLb0IWGTkay3_DuSNfw': [], 'awPIH7K4WA5BKJfiQlZcow': [], 'PXVNlCbNocp-EJ-RJRQoIw': [], 'tTktEIk4Z9O6ZNEfk1ASlA': [], 'EdPpsG0GujcVefs3ANGEGA': [], 'BW-DoJNzsrbOHJNNXlPi9A': [], 'bZaVMkkaXFc0xpnOkacWsg': [], 'C3gKBIsZKR3bp43BbOu8qA': [], 'ePCa7c2zvroyiwECOek5wA': [], 'Cp7JVPbO5Vv_huCBxLtXWQ': [], 'iBihgoxc6Ot7m2D4D3z0QA': [], 'Dj8MfG5-UGbjp9GxaNnGxQ': [], 'qdyYXsF7UzmU6s8vszs0tQ': [], '3BWt6MX0KicK5YgV_6iJYg': [], 'piwrorOBUYQ0n0rNI0OKsw': [], 'F32Z-kI7ZJyGbjT8Vu3WOA': [], '-sNi7U9seVfCr8T8nkWd_w': [], 'bREXSPzdzBOXmLWX0aevEA': [], '_mP3joVxUnr1sCMvoNNkig': [], '8bWS1Sp2m3fa9cDcuBTOag': [], 'By3eFOzWO9Mo0HivLhN8Sg': [], '22nrsY44lxUMaByDUuLSGw': [], 'oEpjnZFBOQJNPpTegjgVtQ': [], 'QTkI3UFW0rXvOnrU9k9HQw': [], 'OugQjN04sQNahWzYEdTExQ': [], '8-_jXGGDFPFAPB4r1x-81w': [], 'vwUzePEuGsLXLDfuRjzOXg': [], 'dN1mIYbhGYdO68Ic0eTSUw': [], 'w95B_YptshIE_y68NTyylQ': [], 'Mul_BVwcnhqmp2h_7QFepQ': [], '1YQaI6yyWa8jSzP0jJX0tw': [], 'GHeMMidcUpmU6SZwF1wfDw': [], 'tYRXT7VdchMAvOUU01emMA': [], 'zpaXQga1MIqPc5nAWZXtdQ': [], 'YQN-0qhQnC920iXF_0UimQ': [], '2X07EuED0jY5C5hKQovfBA': [], '4yGrrjIS0gu5gYAUIFU3fA': [], 'XMMLRvV4IMxIGyc4H37LxA': [], 'xYdhpC7fPowmzJnKJY_4FA': [], '358UeNvBBE03JKX3u2FtLQ': [], 'Epbz99DxchTtP2Fpb4Kf-g': [], 'nGuhjKrZjqvB2xodGo7m7Q': [], 'K2B30usIV4eKPhznibr-UA': [], 'jJDKPJLzkoPeytWIzstJrA': [], 'XtyVW7s4Q_hwluJ-wdv79g': [], 'Q4FQs4EUKH7iPGAAgSeWQw': [], 'HaNUXh5nYR0r7FrbFJSHXw': [], 'pehIhPluVUAOuOdML6rFRA': [], 'mYRCBBbtlcCDPsveuXqGWg': [], 'mnwRtuVQEsIUomBchu0gwg': [], 'jtev1zmWMj3M33zpyadhdg': [], '1b8d2CqGcfF3Hz0vixQSUQ': [], 'bBM6OguT_lLYSlq4NaMuzw': [], '5leoFV0AZZgCDbCs0G5yfQ': [], 'ZxRPEXU2e6yRePE4wVYsXw': [], 'VDMRlQXba3OiCSCpKKTIrg': [], 'LoCnjxSpQBoFLNWAmbmTqw': [], 'Xb41n6zWsNik5g7JGmU2uw': [], 'Xs2iTWxbczvfEapAFH3cyw': [], '_VbFQBRa1qus4u9uaTCAHA': [], '86Z0QNkCIZwZdPbs_S0USQ': [], '_n3w5BK4-k7iXCWifCjUZg': [], '_7u6Cdgoo65xqUNOuRX4Ew': [], 'urWkq22ug6ppT4a6aSPwhA': [], 'I7eqTdTmRTWYwF9HNZAHxw': [], 'jIzygnVmajEXYmfsBNY_Gw': [], 'cFyeqi2ClsEE9W6AqoWXow': [], 'YaEPtPnEqh3WSsGq7cL44Q': [], 'uIE9H0cz2AvxorEqy5cZ0w': [], 'aR15xY3bYZ86b69b6xoOMg': [], 'eDHI182_jkKnJSFDjUlK-g': [], '21fK0m8sQFbRQv3RlskE2w': [], 'evJqdQF2KWX_nEI6I65akg': [], '3dP3Kv4U7Oo7gvVySSQqyQ': [], '8un5h1h8NXs0hzeVraaPbA': [], 'pEAK3gldYMwpuJfdn8y2Ew': [], 'saojSJ2tJn04PLHDbOT6qg': [], 'j-JE8jELAHBbg6MKeAGanw': [], 'gU8u0sczhS0nXQuGqJ12tw': [], '9uhQx8mHK-C1h-cPoDnStA': [], '3U__XOTBFptjhBeHrPGqrg': [], 'RSPwUnX0iOJMu5ScQemLnw': [], 'Md_TTNUkO7U47b3cass4gw': [], 'rXVD3dQEf4Q36TJanYczJw': [], 'TfcQhrjJco0C_x0KVK7LwA': [], 'ohMpNug5zWNxOlL6ShG7Ig': [], 'EV6EWk4rc9XUIGQDj5YElA': [], 'NEinRS0q-WZeSSVoTI7avQ': [], 'LrBDBaGfONR7Kmg8sG38dA': [], 'UhP-yXtTi8HsQ6_7aQ7UlA': [], '3GfJStOagIxhx1jbqCpt_A': [], '4sfof0u2L7_ryXQusDM-aA': [], 'Suqo-sO2n3oDBC8ahVIzyw': [], 'mYlNFkIiFY3SyDl-nPWR5g': [], 'x2lISX5DrWk4EvU9dspbJw': [], 'kEzNEDiKN4ZvONYbfS8G7w': [], 'K64Uw3a2Enh2MznpwRHWKQ': [], '1rr5GmTTcnAPl6uKLVLWQA': [], 'CWlQcOcpSMRrHeaZkWoeJA': [], 'bXuZ1bg1SdJWIqaGfionWQ': [], 'PVTfzxu7of57zo1jZwEzkg': [], 'iUYAqWKoBdHqYNMDzOXb9w': [], 'HpRsWkYHu-pumsZ4O_Linw': [], '04Iq42i8lm50Lvdj1j3DCQ': [], 'JSG1qGBg_O07NuX1hwSIVw': [], 'gaVbK3SlRnOAWWVyyu3SVA': [], '81e1OAYxYZt7XNdUFTKNwQ': [], 'dKasl2XZJPWTMzqNCoNUKQ': [], 'rhT_1TbKu_gsFL-WCUUujQ': [], '9kjk05G50XWnmJQBz_wcnw': [], 'e8wPL-2r2F6-7ucb_VOilA': [], '5sUp6kl5qyRnA_0pRRAyqQ': [], 'EAnZ6uWNNB7E8dZe-a_3PA': [], 't4qsuJVhJCtbFGKxPtyuig': [], 'SZrrRRpbUgeJ1y5oe0jjlw': [], 'vyiIeaO7F58Cns9LWVIEHw': [], 'o9oLU2HGZtfRCowoPmqBNQ': [], 'DZfFFSVFVJVxs3vfFVVf0w': [], 'tM_MMrMFwf5rJv9rbu4NQQ': [], '02ooNKJDjsE50KfmL0Rqdw': [], 'KySn_B1woRIaD5c8_OqHfQ': [], '3vta1BSPwdSulcCFMpBjDw': [], 'MM572Htt9k_e96IKNyCEtA': [], 'yTKJW4g7o41wIi961WgYPA': [], 'wqfoHSoMYvANu9_Vz7GJzg': [], 'GqGVAE3kbEW46FU1LydVUg': [], 'rK6eGfWIlURp255E4VkJNA': [], 'CNXAVovX19R5GUNVO4_GzA': [], 'p3cBYY8Tov5TOaXV2aY-wA': [], 'kP2wC0luve3mT5fcdrA3nQ': [], 'VaEqjAeKAm_iUnOpaktyMg': [], 'z4ZaBiHsVsxiF8SAv1Asag': [], '2CNaSduqZIsCRuNvdO_TAQ': [], '1cwYKUoOGbgnq-wRfO2PIQ': [], 'lVMsHJHxZKI1Wl6izAfJug': [], 'XGceA6cfprg5G7CnUCiADQ': [], 'hT-jqfoH7hJXNyfshIWLJw': [], 'hT8M1sbCVZMmkDxtrHliCg': [], 'tuYk6HQgY3eYliiOUgNFqg': [], '4XEIN-KPGAMugwJdhgjfGQ': [], 'guNknKyJQUBSph216CukYg': [], 'ebr2iNKWBDd8X1eT_0_6Dg': [], '67sq73gTdgHN0atGtIgDtA': [], 'CdqDmKlSVrTBigSZnpQYug': [], '7ZAQHYwS4SlY2nDkQF54tQ': [], 'mRubgo8WfjraJkE5Bvbf6w': [], 'nZZaLSXkCBYRri9ZfVOgyw': [], 'invcm-tJDiT_tbUcn4C-lQ': [], 'WZNcffmtdhCRcM8ikUMfPg': [], 'E8vu8qm6r5NuuO_Cw-jzyQ': [], '0S3x-ERLaR-ce1sJtS_OUA': [], 'DBhvq_yJYv2OC6Z3BtWFkQ': [], 'LsDqrzoRi4pmSuEX8EhsUA': [], 'rT8DwZu7pvuWKRM1nwVuug': [], 'lQAGjzAA_D5d3i93xndl9w': [], '-UM5wXw2scKFW6QHchBL4Q': [], 'ps7N38HdTeqRnWxNYcaYWw': [], 'bSbo_LTI2HR9wXyosRCIvQ': [], 'U7rDYiB8jyjtb0qYPRIWaw': [], 'tTR9GQbdC-rEHNsECmSWRw': [], 'rTicAE1mbLnyMuUrUFD6WA': [], '1d6c6Q2j2jwVzBfX_dLHlg': [], '3HZAVQyr_9MfwGYilSYHsQ': [], '8jm_9vT-tGT-rFe-XckCqA': [], 'A7yGXEuT7U__r5YAs6aLaw': [], 'jj7zJSRfS3lb49zQ94ysGg': [], 'MRcEgErE7xBqccPwAYWhEA': [], 'vW1P-SytRsF20a3ka9mBtw': [], 'PdPZsubjDVRDqAiKeh1CpA': [], '6H78unzSy1z4AafKHIsmTQ': [], 'FpNnsxD37wBfLGk6rHAO1A': [], 'PUBa8BIIgkfhgE1aucXl3w': [], 'D3SI5laInjyu2539v4gTnQ': [], 'nYpxA8exNB1VPuM7XYS7fg': [], 'l0WauZ92kRg9bu2oxHj4TQ': [], '9iJa370SdefztNplnESMoQ': [], '-FLnsWAa4AGEW4NgE8Fqew': [], '9MJDPVeLqAWLqdWF4Heqvg': [], 'w6JuMJTyLB7vwDqBvtMiTQ': [], 'QY4bF2vwXm3TPWYpiYKOeg': [], '30PeUfYV_Jd4jcQNQxfTKA': [], 'TQxMhEar6--Wj4Du8nRQsw': [], 'pBwOqgpkaDmFUDYX8cbnNQ': [], 'zTfvBAuW8IxvUChotPJ61Q': [], 'DjvpsmdtEvnyMk2vXxpc-w': [], 'XcDdBiRTD1XEJPTJ2Uphjw': [], 'rXskMt3Y_Bs1PiGKN3N3sg': [], 'rdgMBpMVzjgpdZNazZlfJQ': [], 'R8ior7Wkm44dBRlFIhUVsg': [], 'IhBiHpjqJP01qX1dCxG9-A': [], '4YKU46PNs-wCi3TAafrRaQ': [], 'oXIYs7rxT-bdgpeYzBfrzA': [], '-rhH9sL3XGFpoJXcxUpEWA': [], 'kCCJqGGHVKAKujvbCOgqbQ': [], 'i4Jb_b28YAphS9_jPPzwkQ': [], 'IqsQRoiVE535Z2JR-7xoWQ': [], 'm1Y47fK3vWCJXV3TdCn_Xw': [], 'Cv3NIg9Ahl-x86riaalXSA': [], '-PJgh1XoQBMnnSgg6MhmMA': [], '3qrotwyf69IpNqwsZN8U7A': [], 'qv41uNpcTUIwePP4H8zyEg': [], 'H7_yu7MgzSXB0vb959yXdA': [], 'b7jbFflnGJba6zpw9GqOoQ': [], 'maJvbTIlMjOoZTcsGUqHOQ': [], 'j2tHMM_6Mrq2qqiAlcPfzA': [], 'UHMnvEITSspCVWTGRIKRaQ': [], 'g-aAe8SqZlZTnN3oA8mNlw': [], 'dZ4haBsXeESSij53suTQ2w': [], 'sKy8HkP6X-8dCKq_SzeIpw': [], 'ZAfrdSLNrJOe2fMPJuHJPw': [], 'Z_STyihrgVp6c1LYTyyx8w': [], 'aBGT2NQ9fSesoB93-eVj5w': [], 'jKndHanZV4fygbNHWK5Xnw': [], 'oMNM6btYR7huP33J8pLNPg': [], 'M3imbOYGTvZTJzeJVvexPg': [], '1E1Qp9HWSZmqruir3sTeKw': [], '-hq09PjRpGcx4XXhrqh5xw': [], 'iPPzDL_oY8SJCjmycuXcVg': [], '5MNYCmCtpBboglFmrjU6yw': [], 'havUcqU5tH0zorHxCxGj8A': [], 'BNLFEPZTyhNObVzXsTT0iw': [], 'tvwDuDypJDl16icfZDpULg': [], 'dYv_CRbiWPhSG_V4ZlTIQg': [], 'YjAo1DBb0YuPE_RWmhNyrA': [], '7y8wJmvouRJSXgpUw94wYA': [], 'ofDRDXvwPSp_7t9wVU6igA': [], 'fbUKZMGNdzQbb3zksGlQXg': [], 'ayIEhEslqxsADGM_tgZFIg': [], 'BteFoOWR-onj3Wh9hN_76A': [], 'UXmCprxqIu918lIAmi8P0g': [], '0NHEjJyesmHHNZx9qciU7A': [], 'do1mqM3vTV6FAPqq8Z8wAA': [], 'WuqxWXHS9hQx-lOcNlVVTg': [], 'xAl2BxNhlimcXZZQzdNRzw': [], '5TFiZOGlhyYdZ5U67QWReA': [], 'dDg3KTDzaizX-X3xtXJjvQ': [], 'VgfqjXetLMxn5X5_uomBkg': [], '90bL34o2KEes9pUnCOm7pQ': [], 'siXCBrVFOXicbM2R-33-8w': [], 'k90yE_IQ4gjcZFNK5t18Qw': [], 'L98yev_7So-Tgx82IsjVeA': [], 'RhcWq78faX-jmmKwVE35ow': [], 'JllRgkIBXyRZQOLTjM5n8Q': [], 'max_MNcqrTvtvOzxfabJdg': [], 'Qx7t712f6ymsWsY2G9D6Zg': [], '91FlIjn-FabJYjJ819gwbQ': [], 'S4j7Fw2xK_Z4HnCLlQFVVA': [], '3ByGQOVgds2YEu6kzl-XEQ': [], '3qZsY2LiLyKwGkOq_hrnzQ': [], 'v8-d4GjT_sFiC2RXb3UJSg': [], '4LPrdCK0L7GFF6vLP5cGTw': [], 'K93OMEcUCqgPdxqOCofBwQ': [], '2ADoawEfSAZpnQSwVEo5Ig': [], 'pPNcs_59jNiQSs0Yq13bGw': [], 'qgrHmYCDo6OxNNF-hKGJRQ': [], 'CRVtzesMuwHK-phmS_ojaA': [], 'dj4eotH4cBqbeIH2CgSmYg': [], 'Nyn84dOn--QHdZMo0wrvSg': [], 'w0ILJ3DokhvBOevp_zNnDQ': [], 'EFTYg_jOPf3abjWIPO92Cg': [], 'U2W22Vy1oSs4G7W-2vdQ4w': [], '4z2evNWOBm7b4-7Td0392A': [], 'NfnidMkIIb4OcDpP6jrsgw': [], 'kv1oXw3lvuoXxIjjgd7CDg': [], 'ayvdoDcFZg9a9sQqN7VPhQ': [], 'UD-MGa52sWJLeElUZDTRPA': [], 'iq50qr2p5d68f2TO3OA9BA': [], 'w_oHOIV4YS_Cldvse8LBXA': [], '6W20fKnjqPTSU2irnSVmSQ': [], '1rbb8ntTOpSolQv60CGcsQ': [], 'HvsTnw0GhhQaBuB45FJJag': [], 'wqLpOPzjtXHXSNWu8yi_rA': [], 'ltWlvxGu8iKjyYxLIZAYXw': [], 'yk8hg2Q6_m5Rviqq_eAaGA': [], 'bCrMHwCLZzyKsAUOiAL0OA': [], 'G4LzA_UqrzcZ5gAyWWP2sw': [], 'sPb0wqy6GbOo0VjqtoNwjg': [], 'Ogdm8WERpk5ew4Yxk9sqdQ': [], '2r6UD7ExSMrK0LGeglquDA': [], '_C4aavWm8G6DvkdB_lvGgg': [], 'sU1sSEOHvd4ex72miOKMEQ': [], 'goi1r30_CjH9TymbMs9OwQ': [], 'NLG_QzHVE5inmZE-nph5wg': [], '8NMf2dCmEGGKYR3SbMcnNA': [], 't_YLVHvWU7OB223l82U9KQ': [], 'MtxfrJwF-OTvJGyWV1PfzQ': [], 'mlc5N9qL6UYbtcwzVqgmzw': [], 'lap6PTY8pyckPSMgvCuIbA': [], 'AEYNihHmGIjmUciRFo3qwA': [], 'Xe8QSh7dV8HwgtCxdxO9vg': [], '1fhYyEILdhKz_WVfjnijVw': [], 'MI6lN3k763LxTuy8or3YFA': [], 'e880MGw6C6PJL-n3EJoY_g': [], '4Ed3F19uxlXg4gNNFAuojw': [], 'etHpVlLpnePJnJPrH5j4RA': [], 'JPOkPpsH9NaX3hC2vMrn-A': [], 'jYF7PNnYcn3fWejv0ZE1-w': [], 'g_5Vc87LzE40nfhFpMOrtA': [], 'qvQ-i1HgSloSJLkGnXsfhw': [], 'BgYJ1Jdejkwchp8K24Pn_g': [], '8RnOU6PLyOk3qHV1kZ4hcg': [], 'soLU5qCw1otTHge9J2MQ1A': [], 'OASX1Yrgq_7R1PsYpixRcw': [], 'EIvHIqxB1n7lfECTt8Ssuw': [], 's_LBvWoe1Vsfhw3vdmiLuw': [], 'nXNv6jvbj7sl50w7NL6KlQ': [], 'Qb1tuREKTsyVKO6DiDQXgg': [], 'Rgc-qiwjKqxi_au8NibW9A': [], 'gcNC4k7TZJVX_1YHdIkDNQ': [], 'ndQTAJzhhkrl1i5ToEGSZw': [], 'DBWK-MI63iKYYkfuxpMeeg': [], 'JSNc3GdNH3LpE3HdTQl17w': [], '2JV0xGXsszojof2BuEt_hw': [], '-sYbz2nZY6iVFPd957E7dw': [], 'LIw4HP5XwJ1nSlcSxIiXKg': [], 'WnrK19zBdW3ATWRc9RjYMA': [], 'N-5j18ODfZKH_Q5p__MoSw': [], 'hmYnzs8-aHbltaOOGDgmbA': [], 'pbIWelv-9YJEpQ7LxE0FOw': [], 'WIT9QNiSIFqoLbP1mKfVFg': [], 'PnLnEHM89cwJwS8MPVI2wQ': [], 'thYC66m1cYM-uQSkMQePZQ': [], 'gh07-uAHqmDZkj_u9rQHZQ': [], 'J3H6VSIgUTlACkb_HPFA8w': [], 'ub4JnrvtBi0nTTBiSJY8aA': [], 'tc0BL1PsdlIL-KHhfIqzbQ': [], 's-26LoWzHdmX2woBEKuQvA': [], 'ICrUihrSJeqKKkdqsf14KQ': [], 'eX00ZA6B2fCULK1qdP7yhA': [], '925GiWzJ_cxQaUT870xW7A': [], '_FSuj1Xrlu37MdbA5D7y0Q': [], 'CHPejaXetPgA2PaAJStxHQ': [], 'EulFlbKaXT_DXG_xL6-mQQ': [], '58r0y-4rDHtyCW4t8HfUsQ': [], 'Rfc30hJKENjPnjqGiYKsjQ': [], 'EzVynXDiDW4mhd64ssiIig': [], 'jlcnzJ_0Sr2w3l7Z9HaVow': [], 'PaYHG4FkH4-tUX_wfYEbcg': [], '-J-d5x84RuyLNiUzOhO_6A': [], 'iVjdx8diR4cKvtqjcINQ7A': [], 'L9qDnDHSnINNjePwrJz-uQ': [], '69mAdGoaaYkuXym1U-4DFA': [], '__aKnGBedQ51_hEc3D9ARw': [], 'SUqL4AYJB5mssBxBN2boww': [], 'SurnOSM2bVVN4-Js3G23RQ': [], 'idotH1un0AYxoEWTQP_bRg': [], '9i7m5zn2ky8Z63dth11UWg': [], '4Fylkp8eS2FD9-53eycqLw': [], 'nCJMgK00U7J3MyjLqZOSeQ': [], 'n9mxpYKigTM6llGAChlAng': [], 'QAuQV01Yz2Gl89ZN6c1F4w': [], 'WyeENX8AdrERdFZtVy7uzQ': [], 'rb7dPdJLiDa8HFUACAf5_Q': [], '-vw3-EFSXYuNcRSr9SzwoA': [], 'Q6F59ID2Js8Sop2vRcVz-w': [], 'MT14X3-S3hUGVwIGI6WIYQ': [], 'EUQoB_ph7_xIyj7JZGI3bg': [], 'SAae44V24aD7y_HpgxjhPA': [], 'CIdGsPSUgrLBzSaI72qisQ': [], 'zuVvDYJkKAbXQTTBauAqJQ': [], 'oeK3WcI-648Tt8prR_OpSg': [], 'Y26ixQb6rpJzdky0WdTjrA': [], 'P7qYTvWR9X_CBn4vVvuTpA': [], 'WWqdy9PKOSyhLgHIGaNFrA': [], '0oaeKi-s-tg830_F8nnRwQ': [], '1zH3_Agw8CTgSmKgg4JNmg': [], '3Ll-F55gm-tDXy3I37beJA': [], 'gDjHnPJDx9ZVse0i9mp5hQ': [], '_IZyyv0dFfpIy_rI_-nwTQ': [], '8IblwilNlenDVwBbEzQEVg': [], 'bZ3-_GQZkHv5YI_zzqLNWA': [], '7bIL2coPKQn0ynEjA32aOQ': [], '6CpAWkTcqqNtGAfOsPeFUw': [], 'IBYExgJ6jURNJOk_5uSrKg': [], 'edskUGX_9FHCFnDG2ETKIw': [], 'D6RDpCS1lfgZdPuLHlpsHA': [], 'QMaaLfedGzNhHz6PZKAUkw': [], 'CR-gLUcudD0AQr7dzASgLA': [], 'Tl0_JsPz8B3I-opvSZXRGg': [], 'Ma_2882_U02XfMGN19L0pw': [], 'kuRBSlWaAJkzxlDRW4FjZA': [], 'rCD-XFLBhscylZdg1OkCSQ': [], 'QVSYsRNfggg4WGOn9TtBzA': [], 'VO-p1uczeMbzH8bEAv-RgA': [], '-ITj6Pu8Gdw8MmLf0XBEKQ': [], 'nl_gkvVXtsIlhGE0sP0qFw': [], 'woloTrsGyM5BK23ZryIZvQ': [], 'nXKaLgLuLs2-S8_O-V09-A': [], 'DGOWO87MQmA4-2swRLK2DA': [], 'k-771ytdXmdz7xvqyemI2Q': [], '3lnfKVlzB7tbAtQsEvMQbQ': [], 'o2Qh4SiGYJ7BK4hP7dfkrw': [], 'NSKiLZls0KbA_MxY-wIc-Q': [], 'Jzth-y32SyvOhJNgbIPTqQ': [], 'bVXGCxKYvylArU9JkPkkRQ': [], '3RHgRaCRPuLdJ6PLZL6MGA': [], 'HxWDCU-kKido3ErM31msGQ': [], '68O06rHoYy-7IH04I2OEXg': [], 'tDYcVluqZwieulc1iqxGXg': [], 'nQVPgOqVrNIWhY3F5kS79g': [], 'HVlDheU0-Vqrv9bhNqyIyw': [], '02d6s2cnDKLllR4f3ykPug': [], '_JZ7hXqOZ_MngjPWFgER0w': [], '5E_1xb3o97ZWQJiZJMVRmQ': [], '3RgLNenKXCGGMLs5U5kVIQ': [], 'JdtJ3jmMukLXU-gDjVTEgg': [], '3SLDrXzPmKF0iCY8WriLsA': [], 'BvTU8s3v-qfTtsSKV6Y16A': [], 'k3zrItO4l9hwfLRwHBDc9w': [], 'aBfqMhfrog3SWOcEmUabmQ': [], '3wGsvZj5-_YtM-4D4JndDQ': [], 'kWNdx7NBa5Kx2NDKWYzUWA': [], '_tW-1Z-GEdQHhkXZ5tiW-Q': [], 'qO_nFskODvrG9O8SNdUY7g': [], 'wzfQBvE_VAApYqvi_Zrt4g': [], 'wcbue65w2R8UYF5t1W9_dA': [], 'XqSN1PtZkJ6QorOUa9AAdA': [], 'VLzlbpiKMbTC0iRN6RP72Q': [], 'ghpFh6XpH1TYZhjAGdx-xw': [], 'hJ0dp9thAOX8Ok1vJuaNmQ': [], 'EzDB473FaSTyRisDW1Q7FQ': [], '7fPMKpEOH-uNnUd0OoSwdg': [], 'GTg3VwPRaXMHxkxM2ntMTw': [], 'EnOCjP3wBpoICvEZXil4Cg': [], 'qjO0FtFXalKSVZLVq-XewQ': [], 'yTur95e-pqQCYGGyVp6rAw': [], 'uBZq-ny6OgE2_J4ejH6OUg': [], 'ltvN7zy0XmSAEKFaMChWTQ': [], 'i4hvmTd4RH9HvOyG8ndYGw': [], 'ISk87T1Va8tV2HlpgWQ8mA': [], 'ZwmHWcscwVcWkhZJoxbvUQ': [], 'A8UtlAQem2hPDe-UfsvndQ': [], '5UgchDhfWwhenu3qCl4VQQ': [], 'UZgcAS2pyjVWBdD6FpvSIw': [], '75vRgse6O3P4GL_vi3Xr9Q': [], 'hFvQisNsIo6E26o04W6u3Q': [], 'jQns9IPjS2O2SPe9d0vOtg': [], 'EfmP_Rn43N0XbqbiBShG9A': [], 'FgMi8tSOvRs1Wcq2I4Q0Kg': [], '8F-CalsRSKiPjjsx8ql8Lg': [], 'NM3iiGNrwoyNKWXiRT-nKA': [], 'aw0H9O1yysoHB0JanT0Ubw': [], 'J2ps9nJdXE9Uw4cxitTMEA': [], 's3AG8m6Pzq-vON729pf0gw': [], '-tcJmqzfaeEnpFMAelB7bA': [], 'gRVzsZh-QuvIkXH8OK4vJQ': [], 'GmLkyWb_zYrTEp1SpWxHIA': [], 'cVETjwDQeK0SeHLZG8XXqw': [], '1Nq7GxjvEDgAJxBeOjR_9Q': [], '_VIIuz9CAt68Hb54hQmpXA': [], '9BIpjY9ue1IDN9ZCZS8EyQ': [], 't1P_vLIyJCIoEaUVcwHdTw': [], 'muzZW1AqlfdWGMND0jf_kw': [], 'KOEBBp2PhiV_4PkW9eo9Sg': [], '3oFwIIZ3bGMdchfCszMtfQ': [], 'ZsjmdtVDm42BVAGqmuoJ-g': [], 'Qc4pE4s12BuEHOJB662GFg': [], '8mCyUZqYuThisW0YmvLG-w': [], 'CUn59grUqyROxhSyfjjhHw': [], 'gL1ySg2KyzD4TymLzICJ5Q': [], 'pGqIAjF_Ss2-yGznqg03_w': [], 'H_aBIaJqCx5o4mvIx5XK5A': [], '3xI0ToitrAJkrUSH4gbmCA': [], 'cILk7PnJBxNsMmGhQU2cyA': [], 'mk_OXeS7_zcfYlaEEFYWvA': [], 'I3dQmMkfqMsThMAuqIkooA': [], '7KlpgRjjAmVabPzxcExs0g': []}\n"
          ],
          "name": "stdout"
        }
      ]
    },
    {
      "cell_type": "code",
      "metadata": {
        "id": "6nJsEdmIFp4z",
        "colab_type": "code",
        "colab": {}
      },
      "source": [
        "for i in range(len(reviewdfcopy)):\n",
        "  if(reviewdfcopy['business_id'][i] in myDict):\n",
        "    myDict[reviewdfcopy['business_id'][i]].append(reviewdfcopy['text'][i])\n",
        "#print(myDict)"
      ],
      "execution_count": 0,
      "outputs": []
    },
    {
      "cell_type": "code",
      "metadata": {
        "id": "tAdUkcLGMrT8",
        "colab_type": "code",
        "outputId": "1e8e68c0-5e71-4b6a-b93e-0b096989117a",
        "colab": {
          "base_uri": "https://localhost:8080/",
          "height": 419
        }
      },
      "source": [
        "business_to_review1 = business_to_review.copy()\n",
        "business_to_review1"
      ],
      "execution_count": 0,
      "outputs": [
        {
          "output_type": "execute_result",
          "data": {
            "text/html": [
              "<div>\n",
              "<style scoped>\n",
              "    .dataframe tbody tr th:only-of-type {\n",
              "        vertical-align: middle;\n",
              "    }\n",
              "\n",
              "    .dataframe tbody tr th {\n",
              "        vertical-align: top;\n",
              "    }\n",
              "\n",
              "    .dataframe thead th {\n",
              "        text-align: right;\n",
              "    }\n",
              "</style>\n",
              "<table border=\"1\" class=\"dataframe\">\n",
              "  <thead>\n",
              "    <tr style=\"text-align: right;\">\n",
              "      <th></th>\n",
              "      <th>business_id</th>\n",
              "    </tr>\n",
              "  </thead>\n",
              "  <tbody>\n",
              "    <tr>\n",
              "      <th>0</th>\n",
              "      <td>1Dfx3zM-rW4n-31KeC8sJg</td>\n",
              "    </tr>\n",
              "    <tr>\n",
              "      <th>1</th>\n",
              "      <td>q2KtxnPa6rPSpAlMbg9l8g</td>\n",
              "    </tr>\n",
              "    <tr>\n",
              "      <th>2</th>\n",
              "      <td>44YFU284Z3KDEy25QyVoUw</td>\n",
              "    </tr>\n",
              "    <tr>\n",
              "      <th>3</th>\n",
              "      <td>ysfeDcLAYk_MVzfBmyiSTg</td>\n",
              "    </tr>\n",
              "    <tr>\n",
              "      <th>4</th>\n",
              "      <td>nsNONDHbV7Vudqh21uicqw</td>\n",
              "    </tr>\n",
              "    <tr>\n",
              "      <th>...</th>\n",
              "      <td>...</td>\n",
              "    </tr>\n",
              "    <tr>\n",
              "      <th>7977</th>\n",
              "      <td>3xI0ToitrAJkrUSH4gbmCA</td>\n",
              "    </tr>\n",
              "    <tr>\n",
              "      <th>7978</th>\n",
              "      <td>cILk7PnJBxNsMmGhQU2cyA</td>\n",
              "    </tr>\n",
              "    <tr>\n",
              "      <th>7979</th>\n",
              "      <td>mk_OXeS7_zcfYlaEEFYWvA</td>\n",
              "    </tr>\n",
              "    <tr>\n",
              "      <th>7980</th>\n",
              "      <td>I3dQmMkfqMsThMAuqIkooA</td>\n",
              "    </tr>\n",
              "    <tr>\n",
              "      <th>7981</th>\n",
              "      <td>7KlpgRjjAmVabPzxcExs0g</td>\n",
              "    </tr>\n",
              "  </tbody>\n",
              "</table>\n",
              "<p>7982 rows × 1 columns</p>\n",
              "</div>"
            ],
            "text/plain": [
              "                 business_id\n",
              "0     1Dfx3zM-rW4n-31KeC8sJg\n",
              "1     q2KtxnPa6rPSpAlMbg9l8g\n",
              "2     44YFU284Z3KDEy25QyVoUw\n",
              "3     ysfeDcLAYk_MVzfBmyiSTg\n",
              "4     nsNONDHbV7Vudqh21uicqw\n",
              "...                      ...\n",
              "7977  3xI0ToitrAJkrUSH4gbmCA\n",
              "7978  cILk7PnJBxNsMmGhQU2cyA\n",
              "7979  mk_OXeS7_zcfYlaEEFYWvA\n",
              "7980  I3dQmMkfqMsThMAuqIkooA\n",
              "7981  7KlpgRjjAmVabPzxcExs0g\n",
              "\n",
              "[7982 rows x 1 columns]"
            ]
          },
          "metadata": {
            "tags": []
          },
          "execution_count": 24
        }
      ]
    },
    {
      "cell_type": "code",
      "metadata": {
        "id": "t8A9WKi0NL-u",
        "colab_type": "code",
        "outputId": "01d02080-1d8f-4555-8e4d-bba61877250b",
        "colab": {
          "base_uri": "https://localhost:8080/",
          "height": 419
        }
      },
      "source": [
        "business_to_review1['reviews']=''\n",
        "business_to_review1"
      ],
      "execution_count": 0,
      "outputs": [
        {
          "output_type": "execute_result",
          "data": {
            "text/html": [
              "<div>\n",
              "<style scoped>\n",
              "    .dataframe tbody tr th:only-of-type {\n",
              "        vertical-align: middle;\n",
              "    }\n",
              "\n",
              "    .dataframe tbody tr th {\n",
              "        vertical-align: top;\n",
              "    }\n",
              "\n",
              "    .dataframe thead th {\n",
              "        text-align: right;\n",
              "    }\n",
              "</style>\n",
              "<table border=\"1\" class=\"dataframe\">\n",
              "  <thead>\n",
              "    <tr style=\"text-align: right;\">\n",
              "      <th></th>\n",
              "      <th>business_id</th>\n",
              "      <th>reviews</th>\n",
              "    </tr>\n",
              "  </thead>\n",
              "  <tbody>\n",
              "    <tr>\n",
              "      <th>0</th>\n",
              "      <td>1Dfx3zM-rW4n-31KeC8sJg</td>\n",
              "      <td></td>\n",
              "    </tr>\n",
              "    <tr>\n",
              "      <th>1</th>\n",
              "      <td>q2KtxnPa6rPSpAlMbg9l8g</td>\n",
              "      <td></td>\n",
              "    </tr>\n",
              "    <tr>\n",
              "      <th>2</th>\n",
              "      <td>44YFU284Z3KDEy25QyVoUw</td>\n",
              "      <td></td>\n",
              "    </tr>\n",
              "    <tr>\n",
              "      <th>3</th>\n",
              "      <td>ysfeDcLAYk_MVzfBmyiSTg</td>\n",
              "      <td></td>\n",
              "    </tr>\n",
              "    <tr>\n",
              "      <th>4</th>\n",
              "      <td>nsNONDHbV7Vudqh21uicqw</td>\n",
              "      <td></td>\n",
              "    </tr>\n",
              "    <tr>\n",
              "      <th>...</th>\n",
              "      <td>...</td>\n",
              "      <td>...</td>\n",
              "    </tr>\n",
              "    <tr>\n",
              "      <th>7977</th>\n",
              "      <td>3xI0ToitrAJkrUSH4gbmCA</td>\n",
              "      <td></td>\n",
              "    </tr>\n",
              "    <tr>\n",
              "      <th>7978</th>\n",
              "      <td>cILk7PnJBxNsMmGhQU2cyA</td>\n",
              "      <td></td>\n",
              "    </tr>\n",
              "    <tr>\n",
              "      <th>7979</th>\n",
              "      <td>mk_OXeS7_zcfYlaEEFYWvA</td>\n",
              "      <td></td>\n",
              "    </tr>\n",
              "    <tr>\n",
              "      <th>7980</th>\n",
              "      <td>I3dQmMkfqMsThMAuqIkooA</td>\n",
              "      <td></td>\n",
              "    </tr>\n",
              "    <tr>\n",
              "      <th>7981</th>\n",
              "      <td>7KlpgRjjAmVabPzxcExs0g</td>\n",
              "      <td></td>\n",
              "    </tr>\n",
              "  </tbody>\n",
              "</table>\n",
              "<p>7982 rows × 2 columns</p>\n",
              "</div>"
            ],
            "text/plain": [
              "                 business_id reviews\n",
              "0     1Dfx3zM-rW4n-31KeC8sJg        \n",
              "1     q2KtxnPa6rPSpAlMbg9l8g        \n",
              "2     44YFU284Z3KDEy25QyVoUw        \n",
              "3     ysfeDcLAYk_MVzfBmyiSTg        \n",
              "4     nsNONDHbV7Vudqh21uicqw        \n",
              "...                      ...     ...\n",
              "7977  3xI0ToitrAJkrUSH4gbmCA        \n",
              "7978  cILk7PnJBxNsMmGhQU2cyA        \n",
              "7979  mk_OXeS7_zcfYlaEEFYWvA        \n",
              "7980  I3dQmMkfqMsThMAuqIkooA        \n",
              "7981  7KlpgRjjAmVabPzxcExs0g        \n",
              "\n",
              "[7982 rows x 2 columns]"
            ]
          },
          "metadata": {
            "tags": []
          },
          "execution_count": 25
        }
      ]
    },
    {
      "cell_type": "code",
      "metadata": {
        "id": "SjgbsZffIf0B",
        "colab_type": "code",
        "colab": {}
      },
      "source": [
        "for i in range(len(business_to_review1)):\n",
        "  business_to_review1['reviews'][i] = myDict[business_to_review1['business_id'][i]]"
      ],
      "execution_count": 0,
      "outputs": []
    },
    {
      "cell_type": "code",
      "metadata": {
        "id": "Oq9tJF8HNUiJ",
        "colab_type": "code",
        "colab": {}
      },
      "source": [
        "business_to_review2 = business_to_review1.copy()"
      ],
      "execution_count": 0,
      "outputs": []
    },
    {
      "cell_type": "code",
      "metadata": {
        "id": "D5PV98g2NXwH",
        "colab_type": "code",
        "colab": {}
      },
      "source": [
        "business_to_review2 = business_to_review2[business_to_review2['reviews']!='']"
      ],
      "execution_count": 0,
      "outputs": []
    },
    {
      "cell_type": "code",
      "metadata": {
        "id": "COt4BPdjOGRR",
        "colab_type": "code",
        "outputId": "63254ee4-0ec0-4dce-d4a6-3061d8bd9b9b",
        "colab": {
          "base_uri": "https://localhost:8080/",
          "height": 34
        }
      },
      "source": [
        "len(business_to_review2)"
      ],
      "execution_count": 0,
      "outputs": [
        {
          "output_type": "execute_result",
          "data": {
            "text/plain": [
              "7982"
            ]
          },
          "metadata": {
            "tags": []
          },
          "execution_count": 29
        }
      ]
    },
    {
      "cell_type": "code",
      "metadata": {
        "id": "3Hva-egyOOCl",
        "colab_type": "code",
        "colab": {}
      },
      "source": [
        "#business_to_review2.to_csv('allcities_business_mappedto_review.csv',header=True,index=True)"
      ],
      "execution_count": 0,
      "outputs": []
    },
    {
      "cell_type": "code",
      "metadata": {
        "id": "R9YEKYdaS2Qu",
        "colab_type": "code",
        "colab": {}
      },
      "source": [
        "top5df_copy = top5df.copy()"
      ],
      "execution_count": 0,
      "outputs": []
    },
    {
      "cell_type": "code",
      "metadata": {
        "id": "0BcF7R1vmMgO",
        "colab_type": "code",
        "outputId": "626eb0c0-6714-4ee3-bf44-92509690ca5f",
        "colab": {
          "base_uri": "https://localhost:8080/",
          "height": 34
        }
      },
      "source": [
        "len(top5df_copy)"
      ],
      "execution_count": 0,
      "outputs": [
        {
          "output_type": "execute_result",
          "data": {
            "text/plain": [
              "7982"
            ]
          },
          "metadata": {
            "tags": []
          },
          "execution_count": 54
        }
      ]
    },
    {
      "cell_type": "code",
      "metadata": {
        "id": "UZCbt2SqTDWx",
        "colab_type": "code",
        "colab": {}
      },
      "source": [
        "top5df_copy = top5df_copy.join(business_to_review2.set_index('business_id'),'business_id')"
      ],
      "execution_count": 0,
      "outputs": []
    },
    {
      "cell_type": "code",
      "metadata": {
        "id": "FCY2DR6JlxIG",
        "colab_type": "code",
        "outputId": "82227d3c-6dd0-4247-a8f5-ff006287e636",
        "colab": {
          "base_uri": "https://localhost:8080/",
          "height": 1000
        }
      },
      "source": [
        "top5df_copy"
      ],
      "execution_count": 0,
      "outputs": [
        {
          "output_type": "execute_result",
          "data": {
            "text/html": [
              "<div>\n",
              "<style scoped>\n",
              "    .dataframe tbody tr th:only-of-type {\n",
              "        vertical-align: middle;\n",
              "    }\n",
              "\n",
              "    .dataframe tbody tr th {\n",
              "        vertical-align: top;\n",
              "    }\n",
              "\n",
              "    .dataframe thead th {\n",
              "        text-align: right;\n",
              "    }\n",
              "</style>\n",
              "<table border=\"1\" class=\"dataframe\">\n",
              "  <thead>\n",
              "    <tr style=\"text-align: right;\">\n",
              "      <th></th>\n",
              "      <th>business_id</th>\n",
              "      <th>name</th>\n",
              "      <th>stars</th>\n",
              "      <th>review_count</th>\n",
              "      <th>is_open</th>\n",
              "      <th>attributes</th>\n",
              "      <th>categories</th>\n",
              "      <th>hours</th>\n",
              "      <th>date</th>\n",
              "      <th>processed_city</th>\n",
              "      <th>reviews</th>\n",
              "    </tr>\n",
              "  </thead>\n",
              "  <tbody>\n",
              "    <tr>\n",
              "      <th>0</th>\n",
              "      <td>1Dfx3zM-rW4n-31KeC8sJg</td>\n",
              "      <td>Taco Bell</td>\n",
              "      <td>3.0</td>\n",
              "      <td>18</td>\n",
              "      <td>1</td>\n",
              "      <td>{'RestaurantsTakeOut': 'True', 'BusinessParkin...</td>\n",
              "      <td>Restaurants, Breakfast &amp; Brunch, Mexican, Taco...</td>\n",
              "      <td>{'Monday': '7:0-0:0', 'Tuesday': '7:0-0:0', 'W...</td>\n",
              "      <td>['2014-02-15 04:00:43', '2014-02-15 05:10:03',...</td>\n",
              "      <td>Phoenix</td>\n",
              "      <td>[I mean it's Taco Bell, so it is what it is. H...</td>\n",
              "    </tr>\n",
              "    <tr>\n",
              "      <th>1</th>\n",
              "      <td>q2KtxnPa6rPSpAlMbg9l8g</td>\n",
              "      <td>Nothing Bundt Cakes</td>\n",
              "      <td>4.0</td>\n",
              "      <td>174</td>\n",
              "      <td>1</td>\n",
              "      <td>{'BikeParking': 'True', 'BusinessParking': \"{'...</td>\n",
              "      <td>Desserts, Food, Cupcakes, Bakeries</td>\n",
              "      <td>{'Monday': '9:0-18:0', 'Tuesday': '9:0-18:0', ...</td>\n",
              "      <td>['2014-01-10 23:56:06', '2014-01-22 16:00:52',...</td>\n",
              "      <td>Scottsdale</td>\n",
              "      <td>[I loved my little cake, but the owner is her ...</td>\n",
              "    </tr>\n",
              "    <tr>\n",
              "      <th>2</th>\n",
              "      <td>44YFU284Z3KDEy25QyVoUw</td>\n",
              "      <td>Nee House Chinese Restaurant</td>\n",
              "      <td>3.5</td>\n",
              "      <td>269</td>\n",
              "      <td>1</td>\n",
              "      <td>{'Caters': 'True', 'GoodForKids': 'True', 'Noi...</td>\n",
              "      <td>Chinese, Restaurants</td>\n",
              "      <td>{'Monday': '11:0-21:0', 'Tuesday': '11:0-21:0'...</td>\n",
              "      <td>['2014-01-05 02:57:53', '2014-01-19 00:26:30',...</td>\n",
              "      <td>Phoenix</td>\n",
              "      <td>[Enjoyed Nee House immensely. No service issue...</td>\n",
              "    </tr>\n",
              "    <tr>\n",
              "      <th>3</th>\n",
              "      <td>ysfeDcLAYk_MVzfBmyiSTg</td>\n",
              "      <td>Vals Getaway DES Cafeteria</td>\n",
              "      <td>3.0</td>\n",
              "      <td>14</td>\n",
              "      <td>1</td>\n",
              "      <td>{'RestaurantsDelivery': 'False', 'BusinessAcce...</td>\n",
              "      <td>Restaurants, Food, Cafes</td>\n",
              "      <td>NaN</td>\n",
              "      <td>['2014-03-12 22:42:46', '2014-06-18 20:29:32',...</td>\n",
              "      <td>Phoenix</td>\n",
              "      <td>[The employees are nice and accommodating and ...</td>\n",
              "    </tr>\n",
              "    <tr>\n",
              "      <th>4</th>\n",
              "      <td>nsNONDHbV7Vudqh21uicqw</td>\n",
              "      <td>Salt Cellar</td>\n",
              "      <td>3.5</td>\n",
              "      <td>526</td>\n",
              "      <td>1</td>\n",
              "      <td>{'BusinessAcceptsCreditCards': 'True', 'Restau...</td>\n",
              "      <td>Seafood, Restaurants</td>\n",
              "      <td>{'Monday': '16:0-0:0', 'Tuesday': '16:0-0:0', ...</td>\n",
              "      <td>['2014-01-12 05:24:43', '2014-01-20 00:59:21',...</td>\n",
              "      <td>Scottsdale</td>\n",
              "      <td>[Was very excited for happy hour and heard gre...</td>\n",
              "    </tr>\n",
              "    <tr>\n",
              "      <th>...</th>\n",
              "      <td>...</td>\n",
              "      <td>...</td>\n",
              "      <td>...</td>\n",
              "      <td>...</td>\n",
              "      <td>...</td>\n",
              "      <td>...</td>\n",
              "      <td>...</td>\n",
              "      <td>...</td>\n",
              "      <td>...</td>\n",
              "      <td>...</td>\n",
              "      <td>...</td>\n",
              "    </tr>\n",
              "    <tr>\n",
              "      <th>7977</th>\n",
              "      <td>3xI0ToitrAJkrUSH4gbmCA</td>\n",
              "      <td>Subway</td>\n",
              "      <td>2.0</td>\n",
              "      <td>14</td>\n",
              "      <td>1</td>\n",
              "      <td>{'RestaurantsDelivery': 'False', 'GoodForKids'...</td>\n",
              "      <td>Restaurants, Sandwiches, Fast Food</td>\n",
              "      <td>NaN</td>\n",
              "      <td>['2014-01-12 00:43:08', '2014-02-21 16:31:06',...</td>\n",
              "      <td>Phoenix</td>\n",
              "      <td>[The staff is attentive and the place is clean...</td>\n",
              "    </tr>\n",
              "    <tr>\n",
              "      <th>7978</th>\n",
              "      <td>cILk7PnJBxNsMmGhQU2cyA</td>\n",
              "      <td>Lola's</td>\n",
              "      <td>3.5</td>\n",
              "      <td>28</td>\n",
              "      <td>0</td>\n",
              "      <td>{'HasTV': 'True', 'BusinessAcceptsCreditCards'...</td>\n",
              "      <td>Coffee &amp; Tea, Restaurants, Food, Tapas Bars</td>\n",
              "      <td>{'Monday': '6:0-22:0', 'Tuesday': '6:0-22:0', ...</td>\n",
              "      <td>['2014-03-30 15:03:14', '2014-04-01 19:39:41',...</td>\n",
              "      <td>Phoenix</td>\n",
              "      <td>[I learned about something new today. I was at...</td>\n",
              "    </tr>\n",
              "    <tr>\n",
              "      <th>7979</th>\n",
              "      <td>mk_OXeS7_zcfYlaEEFYWvA</td>\n",
              "      <td>Safeway</td>\n",
              "      <td>3.5</td>\n",
              "      <td>23</td>\n",
              "      <td>1</td>\n",
              "      <td>{'RestaurantsPriceRange2': '2', 'BusinessParki...</td>\n",
              "      <td>Grocery, Food</td>\n",
              "      <td>{'Monday': '5:0-0:0', 'Tuesday': '5:0-0:0', 'W...</td>\n",
              "      <td>['2014-01-01 16:36:11', '2014-01-03 17:52:17',...</td>\n",
              "      <td>Phoenix</td>\n",
              "      <td>[Better selection than most, but annoying dela...</td>\n",
              "    </tr>\n",
              "    <tr>\n",
              "      <th>7980</th>\n",
              "      <td>I3dQmMkfqMsThMAuqIkooA</td>\n",
              "      <td>Smashburger</td>\n",
              "      <td>3.0</td>\n",
              "      <td>151</td>\n",
              "      <td>1</td>\n",
              "      <td>{'BusinessAcceptsCreditCards': 'True', 'Restau...</td>\n",
              "      <td>Salad, Restaurants, Hot Dogs, American (Tradit...</td>\n",
              "      <td>{'Monday': '10:0-21:30', 'Tuesday': '10:0-21:3...</td>\n",
              "      <td>['2014-01-09 01:04:39', '2014-01-09 01:04:59',...</td>\n",
              "      <td>Mesa</td>\n",
              "      <td>[Good Food, but Disgusting Environment. My fam...</td>\n",
              "    </tr>\n",
              "    <tr>\n",
              "      <th>7981</th>\n",
              "      <td>7KlpgRjjAmVabPzxcExs0g</td>\n",
              "      <td>Taco Mex</td>\n",
              "      <td>4.0</td>\n",
              "      <td>11</td>\n",
              "      <td>0</td>\n",
              "      <td>{'RestaurantsGoodForGroups': 'True', 'Restaura...</td>\n",
              "      <td>Mexican, Restaurants</td>\n",
              "      <td>NaN</td>\n",
              "      <td>['2014-01-18 22:42:15', '2014-01-22 01:53:03',...</td>\n",
              "      <td>Phoenix</td>\n",
              "      <td>[I have been to quite a few Mexican places in ...</td>\n",
              "    </tr>\n",
              "  </tbody>\n",
              "</table>\n",
              "<p>7982 rows × 11 columns</p>\n",
              "</div>"
            ],
            "text/plain": [
              "                 business_id  ...                                            reviews\n",
              "0     1Dfx3zM-rW4n-31KeC8sJg  ...  [I mean it's Taco Bell, so it is what it is. H...\n",
              "1     q2KtxnPa6rPSpAlMbg9l8g  ...  [I loved my little cake, but the owner is her ...\n",
              "2     44YFU284Z3KDEy25QyVoUw  ...  [Enjoyed Nee House immensely. No service issue...\n",
              "3     ysfeDcLAYk_MVzfBmyiSTg  ...  [The employees are nice and accommodating and ...\n",
              "4     nsNONDHbV7Vudqh21uicqw  ...  [Was very excited for happy hour and heard gre...\n",
              "...                      ...  ...                                                ...\n",
              "7977  3xI0ToitrAJkrUSH4gbmCA  ...  [The staff is attentive and the place is clean...\n",
              "7978  cILk7PnJBxNsMmGhQU2cyA  ...  [I learned about something new today. I was at...\n",
              "7979  mk_OXeS7_zcfYlaEEFYWvA  ...  [Better selection than most, but annoying dela...\n",
              "7980  I3dQmMkfqMsThMAuqIkooA  ...  [Good Food, but Disgusting Environment. My fam...\n",
              "7981  7KlpgRjjAmVabPzxcExs0g  ...  [I have been to quite a few Mexican places in ...\n",
              "\n",
              "[7982 rows x 11 columns]"
            ]
          },
          "metadata": {
            "tags": []
          },
          "execution_count": 56
        }
      ]
    },
    {
      "cell_type": "code",
      "metadata": {
        "id": "Sj5qQwJFTP2C",
        "colab_type": "code",
        "colab": {}
      },
      "source": [
        "#top5df_copy.to_csv('top5cities_restaurants_with_review.csv',header=True,index=True)\n"
      ],
      "execution_count": 0,
      "outputs": []
    },
    {
      "cell_type": "markdown",
      "metadata": {
        "id": "EbRnc69WT49q",
        "colab_type": "text"
      },
      "source": [
        "# User.json"
      ]
    },
    {
      "cell_type": "code",
      "metadata": {
        "id": "i77DfvHCT7j3",
        "colab_type": "code",
        "colab": {}
      },
      "source": [
        "with open('../user.json') as json_file:      \n",
        "    data = json_file.readlines()\n",
        "    data = list(map(json.loads, data)) \n",
        "\n",
        "userdf = pd.DataFrame(data)"
      ],
      "execution_count": 0,
      "outputs": []
    },
    {
      "cell_type": "code",
      "metadata": {
        "id": "TITF_NdCUefx",
        "colab_type": "code",
        "colab": {}
      },
      "source": [
        "userdf2 = userdf.copy()"
      ],
      "execution_count": 0,
      "outputs": []
    },
    {
      "cell_type": "code",
      "metadata": {
        "id": "p_shuCudUmp7",
        "colab_type": "code",
        "outputId": "c17c8c84-801b-4adb-8af4-0dbb8b401f90",
        "colab": {
          "base_uri": "https://localhost:8080/",
          "height": 136
        }
      },
      "source": [
        "userdf2.columns"
      ],
      "execution_count": 0,
      "outputs": [
        {
          "output_type": "execute_result",
          "data": {
            "text/plain": [
              "Index(['user_id', 'name', 'review_count', 'yelping_since', 'useful', 'funny',\n",
              "       'cool', 'elite', 'friends', 'fans', 'average_stars', 'compliment_hot',\n",
              "       'compliment_more', 'compliment_profile', 'compliment_cute',\n",
              "       'compliment_list', 'compliment_note', 'compliment_plain',\n",
              "       'compliment_cool', 'compliment_funny', 'compliment_writer',\n",
              "       'compliment_photos'],\n",
              "      dtype='object')"
            ]
          },
          "metadata": {
            "tags": []
          },
          "execution_count": 65
        }
      ]
    },
    {
      "cell_type": "code",
      "metadata": {
        "id": "VXacKD76Ufle",
        "colab_type": "code",
        "colab": {}
      },
      "source": [
        "userdf2 = userdf2.drop(['name', 'yelping_since','friends','useful', 'funny',\n",
        "       'cool', 'elite', 'compliment_hot',\n",
        "       'compliment_more', 'compliment_profile', 'compliment_cute',\n",
        "       'compliment_list', 'compliment_note', 'compliment_plain',\n",
        "       'compliment_cool', 'compliment_funny', 'compliment_writer',\n",
        "       'compliment_photos'],axis=1)"
      ],
      "execution_count": 0,
      "outputs": []
    },
    {
      "cell_type": "code",
      "metadata": {
        "id": "6roukfnlVEU-",
        "colab_type": "code",
        "colab": {}
      },
      "source": [
        "reviewdfcopy1 = reviewdf.copy()"
      ],
      "execution_count": 0,
      "outputs": []
    },
    {
      "cell_type": "code",
      "metadata": {
        "id": "i3Cs5F63V-0J",
        "colab_type": "code",
        "colab": {}
      },
      "source": [
        "reviewdfcopy1 = reviewdfcopy1.join(userdf2.set_index('user_id'),'user_id')"
      ],
      "execution_count": 0,
      "outputs": []
    },
    {
      "cell_type": "code",
      "metadata": {
        "id": "Z1S3urt3Wujr",
        "colab_type": "code",
        "colab": {}
      },
      "source": [
        "reviewdfcopy1 = reviewdfcopy1.drop(['review_id','review_count','user_id', 'stars', 'useful', 'funny',\n",
        "       'cool', 'text', 'date'], axis=1)"
      ],
      "execution_count": 0,
      "outputs": []
    },
    {
      "cell_type": "code",
      "metadata": {
        "id": "vD44SKSDYAWE",
        "colab_type": "code",
        "colab": {}
      },
      "source": [
        "top5df_copy1 =top5df_copy.copy()"
      ],
      "execution_count": 0,
      "outputs": []
    },
    {
      "cell_type": "code",
      "metadata": {
        "id": "dvkon8JSYWS3",
        "colab_type": "code",
        "outputId": "55b759a5-c765-420f-d3fd-cb130716d343",
        "colab": {
          "base_uri": "https://localhost:8080/",
          "height": 34
        }
      },
      "source": [
        "reviewdfcopy1.columns"
      ],
      "execution_count": 0,
      "outputs": [
        {
          "output_type": "execute_result",
          "data": {
            "text/plain": [
              "Index(['business_id', 'fans', 'average_stars'], dtype='object')"
            ]
          },
          "metadata": {
            "tags": []
          },
          "execution_count": 72
        }
      ]
    },
    {
      "cell_type": "code",
      "metadata": {
        "id": "GQQAAV6yp0-q",
        "colab_type": "code",
        "colab": {}
      },
      "source": [
        "fans = {}\n",
        "avg_stars = {}\n",
        "\n",
        "top5df_copy1['user_stars'] = ''\n",
        "top5df_copy1['user_fans'] = ''\n",
        "for i in range(len(top5df_copy1)):\n",
        "  fans[top5df_copy1['business_id'][i]] = []\n",
        "  avg_stars[top5df_copy1['business_id'][i]] = []\n",
        "#print(myDict)"
      ],
      "execution_count": 0,
      "outputs": []
    },
    {
      "cell_type": "code",
      "metadata": {
        "id": "H6nw8FkqqW_I",
        "colab_type": "code",
        "colab": {}
      },
      "source": [
        "for i in range(len(reviewdfcopy1)):\n",
        "  if(reviewdfcopy1['business_id'][i] in fans):\n",
        "    fans[reviewdfcopy1['business_id'][i]].append(reviewdfcopy1['fans'][i])\n",
        "  if(reviewdfcopy1['business_id'][i] in avg_stars):\n",
        "    avg_stars[reviewdfcopy1['business_id'][i]].append(reviewdfcopy1['average_stars'][i])"
      ],
      "execution_count": 0,
      "outputs": []
    },
    {
      "cell_type": "code",
      "metadata": {
        "id": "17-8j0EwrZiU",
        "colab_type": "code",
        "outputId": "fb4ed2ed-33be-49f0-9084-46a3e80c2487",
        "colab": {
          "base_uri": "https://localhost:8080/",
          "height": 207
        }
      },
      "source": [
        "for i in range(len(top5df_copy1)):\n",
        "  top5df_copy1['user_stars'][i] = avg_stars[top5df_copy1['business_id'][i]]\n",
        "  top5df_copy1['user_fans'][i] = fans[top5df_copy1['business_id'][i]]"
      ],
      "execution_count": 0,
      "outputs": [
        {
          "output_type": "stream",
          "text": [
            "/usr/local/lib/python3.6/dist-packages/ipykernel_launcher.py:2: SettingWithCopyWarning: \n",
            "A value is trying to be set on a copy of a slice from a DataFrame\n",
            "\n",
            "See the caveats in the documentation: https://pandas.pydata.org/pandas-docs/stable/user_guide/indexing.html#returning-a-view-versus-a-copy\n",
            "  \n",
            "/usr/local/lib/python3.6/dist-packages/ipykernel_launcher.py:3: SettingWithCopyWarning: \n",
            "A value is trying to be set on a copy of a slice from a DataFrame\n",
            "\n",
            "See the caveats in the documentation: https://pandas.pydata.org/pandas-docs/stable/user_guide/indexing.html#returning-a-view-versus-a-copy\n",
            "  This is separate from the ipykernel package so we can avoid doing imports until\n"
          ],
          "name": "stderr"
        }
      ]
    },
    {
      "cell_type": "code",
      "metadata": {
        "id": "CBxMIXpQuREQ",
        "colab_type": "code",
        "outputId": "e8431223-c405-442a-fcd4-74f487bb56f3",
        "colab": {
          "base_uri": "https://localhost:8080/",
          "height": 1000
        }
      },
      "source": [
        "top5df_copy1"
      ],
      "execution_count": 0,
      "outputs": [
        {
          "output_type": "execute_result",
          "data": {
            "text/html": [
              "<div>\n",
              "<style scoped>\n",
              "    .dataframe tbody tr th:only-of-type {\n",
              "        vertical-align: middle;\n",
              "    }\n",
              "\n",
              "    .dataframe tbody tr th {\n",
              "        vertical-align: top;\n",
              "    }\n",
              "\n",
              "    .dataframe thead th {\n",
              "        text-align: right;\n",
              "    }\n",
              "</style>\n",
              "<table border=\"1\" class=\"dataframe\">\n",
              "  <thead>\n",
              "    <tr style=\"text-align: right;\">\n",
              "      <th></th>\n",
              "      <th>business_id</th>\n",
              "      <th>name</th>\n",
              "      <th>stars</th>\n",
              "      <th>review_count</th>\n",
              "      <th>is_open</th>\n",
              "      <th>attributes</th>\n",
              "      <th>categories</th>\n",
              "      <th>hours</th>\n",
              "      <th>date</th>\n",
              "      <th>processed_city</th>\n",
              "      <th>reviews</th>\n",
              "      <th>user_stars</th>\n",
              "      <th>user_fans</th>\n",
              "    </tr>\n",
              "  </thead>\n",
              "  <tbody>\n",
              "    <tr>\n",
              "      <th>0</th>\n",
              "      <td>1Dfx3zM-rW4n-31KeC8sJg</td>\n",
              "      <td>Taco Bell</td>\n",
              "      <td>3.0</td>\n",
              "      <td>18</td>\n",
              "      <td>1</td>\n",
              "      <td>{'RestaurantsTakeOut': 'True', 'BusinessParkin...</td>\n",
              "      <td>Restaurants, Breakfast &amp; Brunch, Mexican, Taco...</td>\n",
              "      <td>{'Monday': '7:0-0:0', 'Tuesday': '7:0-0:0', 'W...</td>\n",
              "      <td>['2014-02-15 04:00:43', '2014-02-15 05:10:03',...</td>\n",
              "      <td>Phoenix</td>\n",
              "      <td>[I mean it's Taco Bell, so it is what it is. H...</td>\n",
              "      <td>[3.76, 2.55, 3.68, 3.17, 3.68, 3.68, 2.31, 3.6...</td>\n",
              "      <td>[0, 5, 29, 0, 2, 0, 0, 92, 26, 0, 3, 0, 17, 17...</td>\n",
              "    </tr>\n",
              "    <tr>\n",
              "      <th>1</th>\n",
              "      <td>q2KtxnPa6rPSpAlMbg9l8g</td>\n",
              "      <td>Nothing Bundt Cakes</td>\n",
              "      <td>4.0</td>\n",
              "      <td>174</td>\n",
              "      <td>1</td>\n",
              "      <td>{'BikeParking': 'True', 'BusinessParking': \"{'...</td>\n",
              "      <td>Desserts, Food, Cupcakes, Bakeries</td>\n",
              "      <td>{'Monday': '9:0-18:0', 'Tuesday': '9:0-18:0', ...</td>\n",
              "      <td>['2014-01-10 23:56:06', '2014-01-22 16:00:52',...</td>\n",
              "      <td>Scottsdale</td>\n",
              "      <td>[I loved my little cake, but the owner is her ...</td>\n",
              "      <td>[3.82, 3.55, 4.13, 5.0, 3.63, 5.0, 4.11, 4.75,...</td>\n",
              "      <td>[4, 1, 18, 0, 0, 0, 35, 0, 1, 43, 0, 10, 2, 7,...</td>\n",
              "    </tr>\n",
              "    <tr>\n",
              "      <th>2</th>\n",
              "      <td>44YFU284Z3KDEy25QyVoUw</td>\n",
              "      <td>Nee House Chinese Restaurant</td>\n",
              "      <td>3.5</td>\n",
              "      <td>269</td>\n",
              "      <td>1</td>\n",
              "      <td>{'Caters': 'True', 'GoodForKids': 'True', 'Noi...</td>\n",
              "      <td>Chinese, Restaurants</td>\n",
              "      <td>{'Monday': '11:0-21:0', 'Tuesday': '11:0-21:0'...</td>\n",
              "      <td>['2014-01-05 02:57:53', '2014-01-19 00:26:30',...</td>\n",
              "      <td>Phoenix</td>\n",
              "      <td>[Enjoyed Nee House immensely. No service issue...</td>\n",
              "      <td>[4.7, 4.25, 3.93, 4.07, 3.57, 3.33, 4.13, 3.5,...</td>\n",
              "      <td>[0, 0, 111, 10, 4, 5, 0, 0, 11, 5, 3, 1, 1, 1,...</td>\n",
              "    </tr>\n",
              "    <tr>\n",
              "      <th>3</th>\n",
              "      <td>ysfeDcLAYk_MVzfBmyiSTg</td>\n",
              "      <td>Vals Getaway DES Cafeteria</td>\n",
              "      <td>3.0</td>\n",
              "      <td>14</td>\n",
              "      <td>1</td>\n",
              "      <td>{'RestaurantsDelivery': 'False', 'BusinessAcce...</td>\n",
              "      <td>Restaurants, Food, Cafes</td>\n",
              "      <td>NaN</td>\n",
              "      <td>['2014-03-12 22:42:46', '2014-06-18 20:29:32',...</td>\n",
              "      <td>Phoenix</td>\n",
              "      <td>[The employees are nice and accommodating and ...</td>\n",
              "      <td>[3.25, 2.75, 2.63, 4.18, 4.15, 4.41, 3.82, 4.5...</td>\n",
              "      <td>[0, 2, 9, 0, 0, 2, 0, 0, 9, 9, 0, 5, 2, 0]</td>\n",
              "    </tr>\n",
              "    <tr>\n",
              "      <th>4</th>\n",
              "      <td>nsNONDHbV7Vudqh21uicqw</td>\n",
              "      <td>Salt Cellar</td>\n",
              "      <td>3.5</td>\n",
              "      <td>526</td>\n",
              "      <td>1</td>\n",
              "      <td>{'BusinessAcceptsCreditCards': 'True', 'Restau...</td>\n",
              "      <td>Seafood, Restaurants</td>\n",
              "      <td>{'Monday': '16:0-0:0', 'Tuesday': '16:0-0:0', ...</td>\n",
              "      <td>['2014-01-12 05:24:43', '2014-01-20 00:59:21',...</td>\n",
              "      <td>Scottsdale</td>\n",
              "      <td>[Was very excited for happy hour and heard gre...</td>\n",
              "      <td>[1.5, 3.7, 1.0, 2.17, 3.76, 3.33, 4.0, 3.37, 4...</td>\n",
              "      <td>[0, 4, 0, 0, 1, 0, 1, 0, 3, 30, 0, 0, 2, 0, 0,...</td>\n",
              "    </tr>\n",
              "    <tr>\n",
              "      <th>...</th>\n",
              "      <td>...</td>\n",
              "      <td>...</td>\n",
              "      <td>...</td>\n",
              "      <td>...</td>\n",
              "      <td>...</td>\n",
              "      <td>...</td>\n",
              "      <td>...</td>\n",
              "      <td>...</td>\n",
              "      <td>...</td>\n",
              "      <td>...</td>\n",
              "      <td>...</td>\n",
              "      <td>...</td>\n",
              "      <td>...</td>\n",
              "    </tr>\n",
              "    <tr>\n",
              "      <th>7977</th>\n",
              "      <td>3xI0ToitrAJkrUSH4gbmCA</td>\n",
              "      <td>Subway</td>\n",
              "      <td>2.0</td>\n",
              "      <td>14</td>\n",
              "      <td>1</td>\n",
              "      <td>{'RestaurantsDelivery': 'False', 'GoodForKids'...</td>\n",
              "      <td>Restaurants, Sandwiches, Fast Food</td>\n",
              "      <td>NaN</td>\n",
              "      <td>['2014-01-12 00:43:08', '2014-02-21 16:31:06',...</td>\n",
              "      <td>Phoenix</td>\n",
              "      <td>[The staff is attentive and the place is clean...</td>\n",
              "      <td>[4.62, 4.57, 4.62, 2.76, 3.02, 1.0, 2.24, 3.96...</td>\n",
              "      <td>[0, 1, 5, 1, 7, 0, 0, 2, 0, 0, 0, 0, 0, 0]</td>\n",
              "    </tr>\n",
              "    <tr>\n",
              "      <th>7978</th>\n",
              "      <td>cILk7PnJBxNsMmGhQU2cyA</td>\n",
              "      <td>Lola's</td>\n",
              "      <td>3.5</td>\n",
              "      <td>28</td>\n",
              "      <td>0</td>\n",
              "      <td>{'HasTV': 'True', 'BusinessAcceptsCreditCards'...</td>\n",
              "      <td>Coffee &amp; Tea, Restaurants, Food, Tapas Bars</td>\n",
              "      <td>{'Monday': '6:0-22:0', 'Tuesday': '6:0-22:0', ...</td>\n",
              "      <td>['2014-03-30 15:03:14', '2014-04-01 19:39:41',...</td>\n",
              "      <td>Phoenix</td>\n",
              "      <td>[I learned about something new today. I was at...</td>\n",
              "      <td>[3.88, 4.04, 2.0, 4.04, 4.22, 2.75, 3.68, 3.63...</td>\n",
              "      <td>[0, 2, 0, 38, 0, 2, 1, 7, 0, 1, 4, 0, 1, 44, 2...</td>\n",
              "    </tr>\n",
              "    <tr>\n",
              "      <th>7979</th>\n",
              "      <td>mk_OXeS7_zcfYlaEEFYWvA</td>\n",
              "      <td>Safeway</td>\n",
              "      <td>3.5</td>\n",
              "      <td>23</td>\n",
              "      <td>1</td>\n",
              "      <td>{'RestaurantsPriceRange2': '2', 'BusinessParki...</td>\n",
              "      <td>Grocery, Food</td>\n",
              "      <td>{'Monday': '5:0-0:0', 'Tuesday': '5:0-0:0', 'W...</td>\n",
              "      <td>['2014-01-01 16:36:11', '2014-01-03 17:52:17',...</td>\n",
              "      <td>Phoenix</td>\n",
              "      <td>[Better selection than most, but annoying dela...</td>\n",
              "      <td>[2.69, 3.97, 2.87, 3.72, 3.48, 4.25, 3.92, 4.8...</td>\n",
              "      <td>[0, 33, 4, 1, 21, 0, 22, 8, 2, 4, 0, 23, 23, 8...</td>\n",
              "    </tr>\n",
              "    <tr>\n",
              "      <th>7980</th>\n",
              "      <td>I3dQmMkfqMsThMAuqIkooA</td>\n",
              "      <td>Smashburger</td>\n",
              "      <td>3.0</td>\n",
              "      <td>151</td>\n",
              "      <td>1</td>\n",
              "      <td>{'BusinessAcceptsCreditCards': 'True', 'Restau...</td>\n",
              "      <td>Salad, Restaurants, Hot Dogs, American (Tradit...</td>\n",
              "      <td>{'Monday': '10:0-21:30', 'Tuesday': '10:0-21:3...</td>\n",
              "      <td>['2014-01-09 01:04:39', '2014-01-09 01:04:59',...</td>\n",
              "      <td>Mesa</td>\n",
              "      <td>[Good Food, but Disgusting Environment. My fam...</td>\n",
              "      <td>[3.71, 3.3, 3.54, 2.6, 3.0, 3.32, 4.29, 3.26, ...</td>\n",
              "      <td>[0, 0, 3, 0, 0, 0, 0, 2, 1, 0, 1, 5, 2, 0, 1, ...</td>\n",
              "    </tr>\n",
              "    <tr>\n",
              "      <th>7981</th>\n",
              "      <td>7KlpgRjjAmVabPzxcExs0g</td>\n",
              "      <td>Taco Mex</td>\n",
              "      <td>4.0</td>\n",
              "      <td>11</td>\n",
              "      <td>0</td>\n",
              "      <td>{'RestaurantsGoodForGroups': 'True', 'Restaura...</td>\n",
              "      <td>Mexican, Restaurants</td>\n",
              "      <td>NaN</td>\n",
              "      <td>['2014-01-18 22:42:15', '2014-01-22 01:53:03',...</td>\n",
              "      <td>Phoenix</td>\n",
              "      <td>[I have been to quite a few Mexican places in ...</td>\n",
              "      <td>[3.3, 2.29, 4.68, 3.87, 5.0, 5.0, 3.13, 3.75, ...</td>\n",
              "      <td>[0, 0, 3, 1, 1, 0, 13, 50, 16, 2, 4]</td>\n",
              "    </tr>\n",
              "  </tbody>\n",
              "</table>\n",
              "<p>7982 rows × 13 columns</p>\n",
              "</div>"
            ],
            "text/plain": [
              "                 business_id  ...                                          user_fans\n",
              "0     1Dfx3zM-rW4n-31KeC8sJg  ...  [0, 5, 29, 0, 2, 0, 0, 92, 26, 0, 3, 0, 17, 17...\n",
              "1     q2KtxnPa6rPSpAlMbg9l8g  ...  [4, 1, 18, 0, 0, 0, 35, 0, 1, 43, 0, 10, 2, 7,...\n",
              "2     44YFU284Z3KDEy25QyVoUw  ...  [0, 0, 111, 10, 4, 5, 0, 0, 11, 5, 3, 1, 1, 1,...\n",
              "3     ysfeDcLAYk_MVzfBmyiSTg  ...         [0, 2, 9, 0, 0, 2, 0, 0, 9, 9, 0, 5, 2, 0]\n",
              "4     nsNONDHbV7Vudqh21uicqw  ...  [0, 4, 0, 0, 1, 0, 1, 0, 3, 30, 0, 0, 2, 0, 0,...\n",
              "...                      ...  ...                                                ...\n",
              "7977  3xI0ToitrAJkrUSH4gbmCA  ...         [0, 1, 5, 1, 7, 0, 0, 2, 0, 0, 0, 0, 0, 0]\n",
              "7978  cILk7PnJBxNsMmGhQU2cyA  ...  [0, 2, 0, 38, 0, 2, 1, 7, 0, 1, 4, 0, 1, 44, 2...\n",
              "7979  mk_OXeS7_zcfYlaEEFYWvA  ...  [0, 33, 4, 1, 21, 0, 22, 8, 2, 4, 0, 23, 23, 8...\n",
              "7980  I3dQmMkfqMsThMAuqIkooA  ...  [0, 0, 3, 0, 0, 0, 0, 2, 1, 0, 1, 5, 2, 0, 1, ...\n",
              "7981  7KlpgRjjAmVabPzxcExs0g  ...               [0, 0, 3, 1, 1, 0, 13, 50, 16, 2, 4]\n",
              "\n",
              "[7982 rows x 13 columns]"
            ]
          },
          "metadata": {
            "tags": []
          },
          "execution_count": 78
        }
      ]
    },
    {
      "cell_type": "code",
      "metadata": {
        "id": "4u1BTzN1Z7EH",
        "colab_type": "code",
        "colab": {}
      },
      "source": [
        "top5df_copy1.to_csv('all_cities_with_review_and_users.csv',index=True,header=True)"
      ],
      "execution_count": 0,
      "outputs": []
    }
  ]
}